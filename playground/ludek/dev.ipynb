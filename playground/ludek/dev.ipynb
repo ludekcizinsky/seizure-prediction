{
 "cells": [
  {
   "cell_type": "code",
   "execution_count": 1,
   "metadata": {},
   "outputs": [],
   "source": [
    "%load_ext autoreload\n",
    "%autoreload 2"
   ]
  },
  {
   "cell_type": "code",
   "execution_count": 12,
   "metadata": {},
   "outputs": [],
   "source": [
    "import sys\n",
    "sys.path.insert(0, \"../../\")\n",
    "\n",
    "from hydra import compose, initialize\n",
    "import pytorch_lightning as L\n",
    "import torch\n",
    "import numpy as np\n",
    "from torch.utils.data import WeightedRandomSampler\n",
    "\n",
    "from helpers.dataset import get_datasets"
   ]
  },
  {
   "cell_type": "markdown",
   "metadata": {},
   "source": [
    "### Obtain mean and std of the training set"
   ]
  },
  {
   "cell_type": "code",
   "execution_count": 3,
   "metadata": {},
   "outputs": [],
   "source": [
    "cfg_dir_path = \"../../configs\"\n",
    "\n",
    "with initialize(config_path=cfg_dir_path, version_base=\"1.1\"):\n",
    "    cfg = compose(config_name=\"train.yaml\", overrides=[\"username=cizinsky\"])"
   ]
  },
  {
   "cell_type": "code",
   "execution_count": 74,
   "metadata": {},
   "outputs": [
    {
     "name": "stderr",
     "output_type": "stream",
     "text": [
      "Seed set to 42\n"
     ]
    }
   ],
   "source": [
    "L.seed_everything(cfg.seed);"
   ]
  },
  {
   "cell_type": "code",
   "execution_count": 75,
   "metadata": {},
   "outputs": [
    {
     "name": "stdout",
     "output_type": "stream",
     "text": [
      "FYI: using the following signal transform: None\n"
     ]
    }
   ],
   "source": [
    "trn_dataset, val_dataset = get_datasets(cfg)"
   ]
  },
  {
   "cell_type": "code",
   "execution_count": 76,
   "metadata": {},
   "outputs": [
    {
     "data": {
      "text/plain": [
       "torch.Size([11693, 3000, 19])"
      ]
     },
     "execution_count": 76,
     "metadata": {},
     "output_type": "execute_result"
    }
   ],
   "source": [
    "all_trn_samples = []\n",
    "for i in range(len(trn_dataset)):\n",
    "    all_trn_samples.append(torch.tensor(trn_dataset[i][0]))\n",
    "\n",
    "trn_samples = torch.stack(all_trn_samples)\n",
    "trn_samples.shape"
   ]
  },
  {
   "cell_type": "code",
   "execution_count": 77,
   "metadata": {},
   "outputs": [],
   "source": [
    "mean = trn_samples.mean(dim=[0,1])\n",
    "std = trn_samples.std(dim=[0,1])"
   ]
  },
  {
   "cell_type": "code",
   "execution_count": 78,
   "metadata": {},
   "outputs": [
    {
     "data": {
      "text/plain": [
       "tensor([  5.5334,   8.1308,   3.1236,   3.1441,   0.6178,  -1.2991,  -1.3546,\n",
       "         -2.5935,   4.0302,   8.1645, -20.4061,  -0.3159,   0.1831,  -5.1402,\n",
       "         -3.1034,   2.0452,   0.2752,  -3.0503,   2.0152], dtype=torch.float64)"
      ]
     },
     "execution_count": 78,
     "metadata": {},
     "output_type": "execute_result"
    }
   ],
   "source": [
    "mean"
   ]
  },
  {
   "cell_type": "code",
   "execution_count": 79,
   "metadata": {},
   "outputs": [
    {
     "data": {
      "text/plain": [
       "tensor([111.0848, 164.8593, 126.1502,  89.6225,  77.4358, 145.0964, 122.0255,\n",
       "         83.0889, 151.1107, 143.5339, 335.1986, 100.2232, 141.4831,  93.8744,\n",
       "         73.3125,  74.9382, 135.6183,  67.7481, 339.8404], dtype=torch.float64)"
      ]
     },
     "execution_count": 79,
     "metadata": {},
     "output_type": "execute_result"
    }
   ],
   "source": [
    "std"
   ]
  },
  {
   "cell_type": "code",
   "execution_count": 80,
   "metadata": {},
   "outputs": [],
   "source": [
    "torch.save(mean, \"../../data/trn_mean.pt\")\n",
    "torch.save(std, \"../../data/trn_std.pt\")"
   ]
  },
  {
   "cell_type": "code",
   "execution_count": 81,
   "metadata": {},
   "outputs": [],
   "source": [
    "martins_mean = torch.tensor([ 1.9907e-03, -1.1654e-03,  2.0860e-03, -7.4935e-04,  4.5839e-03, 2.8718e-04, -4.0319e-04, -7.7969e-05, -4.2803e-03, -1.6963e-03, 1.2549e-03, -2.8467e-04,  2.5901e-04,  6.5623e-03, -3.3983e-03, 1.2480e-03,  1.3762e-03, -1.7694e-03, -5.8233e-03], dtype=torch.float64)\n",
    "martinss_std = torch.tensor([158.2415, 159.4878, 152.8925, 150.5167, 150.6428, 148.8908, 153.9944, 153.8446, 152.9122, 153.9926, 152.8411, 151.9071, 151.2794, 153.7461, 151.1686, 150.3015, 151.7241, 152.1091, 156.2211], dtype=torch.float64)"
   ]
  },
  {
   "cell_type": "markdown",
   "metadata": {},
   "source": [
    "### Weighted sampler"
   ]
  },
  {
   "cell_type": "code",
   "execution_count": null,
   "metadata": {},
   "outputs": [
    {
     "name": "stdout",
     "output_type": "stream",
     "text": [
      "FYI: using the following signal transform: fft_filtering\n"
     ]
    }
   ],
   "source": [
    "dataset_tr, dataset_val = get_datasets(cfg)"
   ]
  },
  {
   "cell_type": "code",
   "execution_count": 8,
   "metadata": {},
   "outputs": [
    {
     "name": "stdout",
     "output_type": "stream",
     "text": [
      "Positive percentage: 0.1947, Negative percentage: 0.8053\n"
     ]
    }
   ],
   "source": [
    "# 1) extract labels for each sample in train_dataset\n",
    "labels = [int(dataset_tr[i][1]) for i in range(len(dataset_tr))]\n",
    "labels = np.array(labels)\n",
    "\n",
    "# compute percentages\n",
    "pos_percentage = np.sum(labels) / len(labels)\n",
    "neg_percentage = 1 - pos_percentage\n",
    "print(f\"Positive percentage: {pos_percentage:.4f}, Negative percentage: {neg_percentage:.4f}\")"
   ]
  },
  {
   "cell_type": "code",
   "execution_count": 11,
   "metadata": {},
   "outputs": [
    {
     "data": {
      "text/plain": [
       "(array([0.0001062 , 0.00043917]),\n",
       " 11693,\n",
       " array([0.0001062, 0.0001062, 0.0001062, 0.0001062, 0.0001062, 0.0001062,\n",
       "        0.0001062, 0.0001062, 0.0001062, 0.0001062]))"
      ]
     },
     "execution_count": 11,
     "metadata": {},
     "output_type": "execute_result"
    }
   ],
   "source": [
    "# 2) compute class counts and weights\n",
    "class_counts = np.bincount(labels, minlength=2)          # [n_class0, n_class1]\n",
    "class_weights = 1.0 / (class_counts + 1e-8)              # invert frequency\n",
    "# e.g. if positives are rare, class_weights[1] >> class_weights[0]\n",
    "\n",
    "# 3) assign a sample-weight to each example\n",
    "sample_weights = class_weights[labels]                   # array of length len(dataset)\n",
    "class_weights, len(sample_weights), sample_weights[:10]"
   ]
  },
  {
   "cell_type": "code",
   "execution_count": 13,
   "metadata": {},
   "outputs": [],
   "source": [
    "# 4) create the sampler\n",
    "sampler = WeightedRandomSampler(\n",
    "    weights=torch.DoubleTensor(sample_weights),\n",
    "    num_samples=len(sample_weights),   # draw this many samples per epoch\n",
    "    replacement=True                   # sample with replacement\n",
    ")"
   ]
  }
 ],
 "metadata": {
  "language_info": {
   "name": "python"
  }
 },
 "nbformat": 4,
 "nbformat_minor": 2
}
