{
 "cells": [
  {
   "cell_type": "code",
   "execution_count": 1,
   "id": "72664494",
   "metadata": {},
   "outputs": [],
   "source": [
    "from pathlib import Path\n",
    "import pandas as pd\n",
    "from seiz_eeg.dataset import EEGDataset\n",
    "\n",
    "import torch\n",
    "import torch.nn as nn\n",
    "import torch.nn.functional as F\n",
    "import torch.optim as optim\n",
    "from torch.utils.data import DataLoader\n",
    "\n",
    "from training import train\n",
    "from utils import display_metrics, count_parameters, seed_everything\n",
    "from preprocessing import normalize_z_score, time_filtering\n",
    "\n",
    "import signatory"
   ]
  },
  {
   "cell_type": "code",
   "execution_count": 2,
   "id": "29e8691a",
   "metadata": {},
   "outputs": [],
   "source": [
    "# You might need to change this according to where you store the data folder\n",
    "# Inside your data folder, you should have the following structure:\n",
    "# data\n",
    "# ├── train\n",
    "# │   ├── signals/\n",
    "# │   ├── segments.parquet\n",
    "# │-- test\n",
    "#     ├── signals/\n",
    "#     ├── segments.parquet\n",
    "\n",
    "data_path = \"/home/ogut/data\"\n",
    "\n",
    "DATA_ROOT = Path(data_path)"
   ]
  },
  {
   "cell_type": "code",
   "execution_count": 3,
   "id": "3cd44b73",
   "metadata": {},
   "outputs": [],
   "source": [
    "seed_everything(1)"
   ]
  },
  {
   "cell_type": "code",
   "execution_count": 4,
   "id": "9a64950a",
   "metadata": {},
   "outputs": [],
   "source": [
    "clips_tr = pd.read_parquet(DATA_ROOT / \"train/segments.parquet\")\n",
    "clips_te = pd.read_parquet(DATA_ROOT / \"test/segments.parquet\")"
   ]
  },
  {
   "cell_type": "code",
   "execution_count": 5,
   "id": "4012e8eb",
   "metadata": {},
   "outputs": [],
   "source": [
    "\"\"\"\n",
    "Based on https://ieeexplore.ieee.org/document/10381774\n",
    "\"\"\"\n",
    "\n",
    "class SlidingWindowBatch(nn.Module):\n",
    "    def __init__(self, window_size=125):\n",
    "        super().__init__()\n",
    "        self.window_size = window_size\n",
    "\n",
    "    def forward(self, data):\n",
    "        batch_size, signal_len, channels = data.shape\n",
    "        num_windows = signal_len // self.window_size\n",
    "\n",
    "        windows = []\n",
    "        for i in range(num_windows):\n",
    "            start = i * self.window_size\n",
    "            end = start + self.window_size\n",
    "            window = data[:, start:end, :]  # shape: (batch_size, window_size, 19)\n",
    "            windows.append(window)\n",
    "\n",
    "        windows = torch.stack(windows, dim=1)  # shape: (batch_size, num_windows, window_size, 19)\n",
    "        return windows\n",
    "\n",
    "class SignatureEncoder(nn.Module):\n",
    "    def __init__(self, input_channels, depth=2, add_time=True):\n",
    "        \"\"\"\n",
    "        Args:\n",
    "            input_channels (int): number of input channels (without time).\n",
    "            depth (int): signature depth.\n",
    "            add_time (bool): whether to augment with time channel.\n",
    "        \"\"\"\n",
    "        super().__init__()\n",
    "        self.input_channels = input_channels\n",
    "        self.depth = depth\n",
    "        self.add_time = add_time\n",
    "        \n",
    "        self.total_channels = input_channels + 1 if add_time else input_channels\n",
    "        self.output_channels = signatory.signature_channels(self.total_channels, self.depth)\n",
    "\n",
    "    def forward(self, x):\n",
    "        \"\"\"\n",
    "        Args:\n",
    "            x (Tensor): shape (batch_size, windows, channels, time)\n",
    "\n",
    "        Returns:\n",
    "            Tensor: shape (batch_size, windows, output_channels)\n",
    "        \"\"\"\n",
    "        batch_size, n_windows, n_time, n_channels = x.shape\n",
    "\n",
    "        # Step 2: flatten batch and window dimensions\n",
    "        x = x.reshape(batch_size * n_windows, n_time, n_channels)\n",
    "\n",
    "        # Step 3: add time if needed\n",
    "        if self.add_time:\n",
    "            time = torch.linspace(0, 1, n_time, device=x.device).unsqueeze(0).unsqueeze(-1)\n",
    "            time = time.expand(x.size(0), -1, -1)  # (batch_size * windows, time, 1)\n",
    "            x = torch.cat([time, x], dim=-1)  # (batch_size * windows, time, channels+1)\n",
    "\n",
    "        # Step 4: compute signature\n",
    "        sig = signatory.signature(x, depth=self.depth)  # (batch_size * windows, output_channels)\n",
    "\n",
    "        # Step 5: reshape back to (batch_size, windows, output_channels)\n",
    "        sig = sig.view(batch_size, n_windows, self.output_channels)\n",
    "\n",
    "        return sig\n",
    "    \n",
    "class TemporalAttention(nn.Module):\n",
    "    def __init__(self, hidden_dim, attn_dim):\n",
    "        \"\"\"\n",
    "        Args:\n",
    "            hidden_dim: dimension of BiLSTM output (hidden_size * 2 if BiLSTM)\n",
    "            attn_dim: dimension of intermediate MLP hidden layer\n",
    "        \"\"\"\n",
    "        super().__init__()\n",
    "        self.attention_mlp = nn.Linear(hidden_dim, attn_dim)\n",
    "        self.context_vector = nn.Parameter(torch.randn(attn_dim))\n",
    "\n",
    "    def forward(self, h):\n",
    "        \"\"\"\n",
    "        Args:\n",
    "            h: Tensor of shape (batch_size, seq_len, hidden_dim)\n",
    "        \n",
    "        Returns:\n",
    "            s: Tensor of shape (batch_size, hidden_dim)\n",
    "        \"\"\"\n",
    "        # Step 1: compute ut = tanh(Wh + b)\n",
    "        u = torch.tanh(self.attention_mlp(h))  # (batch_size, seq_len, attn_dim)\n",
    "\n",
    "        # Step 2: compute scores: dot(u_t, u_w)\n",
    "        # context_vector: (attn_dim,)\n",
    "        scores = torch.matmul(u, self.context_vector)  # (batch_size, seq_len)\n",
    "\n",
    "        # Step 3: softmax over time\n",
    "        alpha = F.softmax(scores, dim=1)  # (batch_size, seq_len)\n",
    "\n",
    "        # Step 4: weighted sum of h\n",
    "        s = torch.bmm(alpha.unsqueeze(1), h)  # (batch_size, 1, hidden_dim)\n",
    "        s = s.squeeze(1)  # (batch_size, hidden_dim)\n",
    "\n",
    "        return s\n",
    "\n",
    "class CombinedModel(nn.Module):\n",
    "    def __init__(self, output_size=1, window_size=125, lstm_input_size=128, lstm_hidden_size=128, attention_dim=64):\n",
    "        super().__init__()\n",
    "\n",
    "        # Sliding window batch layer\n",
    "        self.sliding_window = SlidingWindowBatch(window_size=window_size)\n",
    "\n",
    "        # Path Signature feature extraction\n",
    "        self.signature_extraction = SignatureEncoder(input_channels=19, depth=2, add_time=True)\n",
    "\n",
    "        # Projection to the size of the BiLSTM input\n",
    "        self.projection = nn.Linear(self.signature_extraction.output_channels, lstm_input_size)\n",
    "\n",
    "        self.norm = nn.BatchNorm1d(num_features=lstm_input_size)\n",
    "        self.activation = nn.GELU()\n",
    "\n",
    "        # BiLSTM\n",
    "        self.bilstm = nn.LSTM(input_size=lstm_input_size, hidden_size=lstm_hidden_size, num_layers=3, batch_first=True, bidirectional=False, dropout=0.5)\n",
    "\n",
    "        # Attention\n",
    "        self.attention = TemporalAttention(lstm_hidden_size, attention_dim)\n",
    "\n",
    "        # Final output layer\n",
    "        self.output_layer = nn.Linear(lstm_hidden_size, output_size)  # *2 because of bidirectional\n",
    "\n",
    "    def forward(self, x):\n",
    "        # Apply sliding window on input\n",
    "        windows = self.sliding_window(x)  # shape: (batch_size, num_windows, window_size, 19)\n",
    "\n",
    "        # Apply signature extraction\n",
    "        windows = self.signature_extraction(windows) # shape: (batch_size, num_windows, output_dim)\n",
    "\n",
    "        # Projection layer\n",
    "        windows = self.projection(windows)  # shape: (batch_size, num_windows, lstm_input_dim)\n",
    "\n",
    "        windows = self.norm(windows.transpose(1,2)).transpose(1,2)\n",
    "        windows = self.activation(windows)\n",
    "\n",
    "        # Apply BiLSTM\n",
    "        lstm_out, _ = self.bilstm(windows)  # shape: (batch_size, num_windows, lstm_hidden_size * 2)\n",
    "\n",
    "        # Apply Attention\n",
    "        weighted_attention = self.attention(lstm_out) # shape: (batch_size, lstm_hidden_size * 2)\n",
    "\n",
    "        # Final output layer\n",
    "        out = self.output_layer(weighted_attention)  # shape: (batch_size, output_size)\n",
    "\n",
    "        return out\n"
   ]
  },
  {
   "cell_type": "code",
   "execution_count": 6,
   "id": "7faa8a69",
   "metadata": {},
   "outputs": [
    {
     "data": {
      "text/plain": [
       "CombinedModel(\n",
       "  (sliding_window): SlidingWindowBatch()\n",
       "  (signature_extraction): SignatureEncoder()\n",
       "  (projection): Linear(in_features=420, out_features=128, bias=True)\n",
       "  (norm): BatchNorm1d(128, eps=1e-05, momentum=0.1, affine=True, track_running_stats=True)\n",
       "  (activation): GELU(approximate='none')\n",
       "  (bilstm): LSTM(128, 128, num_layers=3, batch_first=True, dropout=0.5)\n",
       "  (attention): TemporalAttention(\n",
       "    (attention_mlp): Linear(in_features=128, out_features=64, bias=True)\n",
       "  )\n",
       "  (output_layer): Linear(in_features=128, out_features=1, bias=True)\n",
       ")"
      ]
     },
     "execution_count": 6,
     "metadata": {},
     "output_type": "execute_result"
    }
   ],
   "source": [
    "device = torch.device('cuda')\n",
    "NUM_EPOCHS = 400\n",
    "model = CombinedModel(output_size=1, window_size=125, lstm_input_size=128, lstm_hidden_size=128, attention_dim=64)\n",
    "model.to(device)"
   ]
  },
  {
   "cell_type": "code",
   "execution_count": 7,
   "id": "70b8b3f1",
   "metadata": {},
   "outputs": [
    {
     "data": {
      "text/plain": [
       "458881"
      ]
     },
     "execution_count": 7,
     "metadata": {},
     "output_type": "execute_result"
    }
   ],
   "source": [
    "count_parameters(model)"
   ]
  },
  {
   "cell_type": "code",
   "execution_count": 8,
   "id": "a2b36f2a",
   "metadata": {},
   "outputs": [],
   "source": [
    "# You can change the signal_transform, or remove it completely\n",
    "dataset_tr = EEGDataset(\n",
    "    clips_tr,\n",
    "    signals_root=DATA_ROOT / \"train\",\n",
    "    signal_transform=time_filtering,\n",
    "    prefetch=True,  # If your compute does not allow it, you can use `prefetch=False`\n",
    ")"
   ]
  },
  {
   "cell_type": "code",
   "execution_count": 9,
   "id": "dac48134",
   "metadata": {},
   "outputs": [],
   "source": [
    "device = torch.device('cuda')\n",
    "\n",
    "#train_set, test_set, val_set = torch.utils.data.random_split(dataset_tr,[0.7,0.2,0.1])\n",
    "train_set, val_set = torch.utils.data.random_split(dataset_tr,[0.9,0.1])\n",
    "\n",
    "#Check worker_init_fn\n",
    "loader_tr = DataLoader(train_set, batch_size=512, shuffle=True, num_workers=0)\n",
    "loader_val = DataLoader(val_set, batch_size=512, shuffle=True, num_workers=0)\n",
    "#loader_ts = DataLoader(test_set, batch_size=512, shuffle=True, num_workers=0)\n",
    "\n",
    "# positives = 0\n",
    "# negatives = 0\n",
    "# for idx, data in enumerate(loader_tr):\n",
    "#     positives += data[1].sum()\n",
    "#     negatives += len(data[1]) - data[1].sum()\n",
    "\n",
    "# pos_weight = negatives / positives\n",
    "# pos_weight_tensor = torch.tensor([pos_weight]).to(torch.float32).to(device)\n",
    "\n",
    "optimizer = optim.Adam(model.parameters(), lr=1e-3, weight_decay=0)\n",
    "\n",
    "# criterion = torch.nn.BCEWithLogitsLoss(pos_weight=pos_weight_tensor)\n",
    "criterion = torch.nn.BCEWithLogitsLoss()"
   ]
  },
  {
   "cell_type": "code",
   "execution_count": 10,
   "id": "328019ad",
   "metadata": {},
   "outputs": [
    {
     "name": "stderr",
     "output_type": "stream",
     "text": [
      "Epoch 1: 100%|██████████| 23/23 [00:03<00:00,  6.91it/s]\n",
      "Epoch 2: 100%|██████████| 23/23 [00:02<00:00,  8.80it/s]\n"
     ]
    },
    {
     "name": "stdout",
     "output_type": "stream",
     "text": [
      "✅ Best model saved with F1: 0.0508 as models/lstm_ps_att/best_model.pt\n"
     ]
    },
    {
     "name": "stderr",
     "output_type": "stream",
     "text": [
      "Epoch 3: 100%|██████████| 23/23 [00:02<00:00,  8.84it/s]\n"
     ]
    },
    {
     "name": "stdout",
     "output_type": "stream",
     "text": [
      "✅ Best model saved with F1: 0.3586 as models/lstm_ps_att/best_model.pt\n"
     ]
    },
    {
     "name": "stderr",
     "output_type": "stream",
     "text": [
      "Epoch 4: 100%|██████████| 23/23 [00:02<00:00,  8.95it/s]\n",
      "Epoch 5: 100%|██████████| 23/23 [00:02<00:00,  8.95it/s]\n"
     ]
    },
    {
     "name": "stdout",
     "output_type": "stream",
     "text": [
      "✅ Best model saved with F1: 0.3659 as models/lstm_ps_att/best_model.pt\n"
     ]
    },
    {
     "name": "stderr",
     "output_type": "stream",
     "text": [
      "Epoch 6: 100%|██████████| 23/23 [00:02<00:00,  8.93it/s]\n",
      "Epoch 7: 100%|██████████| 23/23 [00:02<00:00,  8.86it/s]\n"
     ]
    },
    {
     "name": "stdout",
     "output_type": "stream",
     "text": [
      "✅ Best model saved with F1: 0.4102 as models/lstm_ps_att/best_model.pt\n"
     ]
    },
    {
     "name": "stderr",
     "output_type": "stream",
     "text": [
      "Epoch 8: 100%|██████████| 23/23 [00:02<00:00,  8.85it/s]\n"
     ]
    },
    {
     "name": "stdout",
     "output_type": "stream",
     "text": [
      "✅ Best model saved with F1: 0.4426 as models/lstm_ps_att/best_model.pt\n"
     ]
    },
    {
     "name": "stderr",
     "output_type": "stream",
     "text": [
      "Epoch 9: 100%|██████████| 23/23 [00:02<00:00,  8.69it/s]\n",
      "Epoch 10: 100%|██████████| 23/23 [00:02<00:00,  8.69it/s]\n"
     ]
    },
    {
     "name": "stdout",
     "output_type": "stream",
     "text": [
      "✅ Best model saved with F1: 0.4507 as models/lstm_ps_att/best_model.pt\n"
     ]
    },
    {
     "name": "stderr",
     "output_type": "stream",
     "text": [
      "Epoch 11: 100%|██████████| 23/23 [00:02<00:00,  8.70it/s]\n",
      "Epoch 12: 100%|██████████| 23/23 [00:02<00:00,  8.69it/s]\n",
      "Epoch 13: 100%|██████████| 23/23 [00:02<00:00,  8.70it/s]\n",
      "Epoch 14: 100%|██████████| 23/23 [00:02<00:00,  8.57it/s]\n"
     ]
    },
    {
     "name": "stdout",
     "output_type": "stream",
     "text": [
      "✅ Best model saved with F1: 0.4857 as models/lstm_ps_att/best_model.pt\n"
     ]
    },
    {
     "name": "stderr",
     "output_type": "stream",
     "text": [
      "Epoch 15: 100%|██████████| 23/23 [00:02<00:00,  8.70it/s]\n",
      "Epoch 16: 100%|██████████| 23/23 [00:02<00:00,  8.76it/s]\n"
     ]
    },
    {
     "name": "stdout",
     "output_type": "stream",
     "text": [
      "✅ Best model saved with F1: 0.5060 as models/lstm_ps_att/best_model.pt\n"
     ]
    },
    {
     "name": "stderr",
     "output_type": "stream",
     "text": [
      "Epoch 17: 100%|██████████| 23/23 [00:02<00:00,  8.88it/s]\n",
      "Epoch 18: 100%|██████████| 23/23 [00:02<00:00,  8.85it/s]\n",
      "Epoch 19: 100%|██████████| 23/23 [00:02<00:00,  8.76it/s]\n",
      "Epoch 20: 100%|██████████| 23/23 [00:02<00:00,  8.69it/s]\n",
      "Epoch 21: 100%|██████████| 23/23 [00:02<00:00,  8.76it/s]\n",
      "Epoch 22: 100%|██████████| 23/23 [00:02<00:00,  8.76it/s]\n",
      "Epoch 23: 100%|██████████| 23/23 [00:02<00:00,  8.75it/s]\n",
      "Epoch 24: 100%|██████████| 23/23 [00:02<00:00,  8.79it/s]\n",
      "Epoch 25: 100%|██████████| 23/23 [00:02<00:00,  8.76it/s]\n"
     ]
    },
    {
     "name": "stdout",
     "output_type": "stream",
     "text": [
      "✅ Best model saved with F1: 0.5217 as models/lstm_ps_att/best_model.pt\n"
     ]
    },
    {
     "name": "stderr",
     "output_type": "stream",
     "text": [
      "Epoch 26: 100%|██████████| 23/23 [00:02<00:00,  8.73it/s]\n"
     ]
    },
    {
     "name": "stdout",
     "output_type": "stream",
     "text": [
      "✅ Best model saved with F1: 0.5327 as models/lstm_ps_att/best_model.pt\n"
     ]
    },
    {
     "name": "stderr",
     "output_type": "stream",
     "text": [
      "Epoch 27: 100%|██████████| 23/23 [00:02<00:00,  8.74it/s]\n",
      "Epoch 28: 100%|██████████| 23/23 [00:02<00:00,  8.78it/s]\n",
      "Epoch 29: 100%|██████████| 23/23 [00:02<00:00,  8.93it/s]\n",
      "Epoch 30: 100%|██████████| 23/23 [00:02<00:00,  8.93it/s]\n",
      "Epoch 31: 100%|██████████| 23/23 [00:02<00:00,  8.80it/s]\n"
     ]
    },
    {
     "name": "stdout",
     "output_type": "stream",
     "text": [
      "✅ Best model saved with F1: 0.5630 as models/lstm_ps_att/best_model.pt\n"
     ]
    },
    {
     "name": "stderr",
     "output_type": "stream",
     "text": [
      "Epoch 32: 100%|██████████| 23/23 [00:02<00:00,  8.79it/s]\n",
      "Epoch 33: 100%|██████████| 23/23 [00:02<00:00,  8.77it/s]\n",
      "Epoch 34: 100%|██████████| 23/23 [00:02<00:00,  8.81it/s]\n",
      "Epoch 35: 100%|██████████| 23/23 [00:02<00:00,  8.82it/s]\n",
      "Epoch 36: 100%|██████████| 23/23 [00:02<00:00,  8.80it/s]\n",
      "Epoch 37: 100%|██████████| 23/23 [00:02<00:00,  8.77it/s]\n",
      "Epoch 38: 100%|██████████| 23/23 [00:02<00:00,  8.81it/s]\n",
      "Epoch 39: 100%|██████████| 23/23 [00:02<00:00,  8.83it/s]\n",
      "Epoch 40: 100%|██████████| 23/23 [00:02<00:00,  8.85it/s]\n",
      "Epoch 41: 100%|██████████| 23/23 [00:02<00:00,  8.84it/s]\n",
      "Epoch 42: 100%|██████████| 23/23 [00:02<00:00,  8.88it/s]\n",
      "Epoch 43: 100%|██████████| 23/23 [00:02<00:00,  8.88it/s]\n",
      "Epoch 44: 100%|██████████| 23/23 [00:02<00:00,  8.90it/s]\n",
      "Epoch 45: 100%|██████████| 23/23 [00:02<00:00,  9.03it/s]\n",
      "Epoch 46: 100%|██████████| 23/23 [00:02<00:00,  8.99it/s]\n",
      "Epoch 47: 100%|██████████| 23/23 [00:02<00:00,  8.92it/s]\n",
      "Epoch 48: 100%|██████████| 23/23 [00:02<00:00,  8.75it/s]\n",
      "Epoch 49: 100%|██████████| 23/23 [00:02<00:00,  8.78it/s]\n"
     ]
    },
    {
     "name": "stdout",
     "output_type": "stream",
     "text": [
      "✅ Best model saved with F1: 0.5707 as models/lstm_ps_att/best_model.pt\n"
     ]
    },
    {
     "name": "stderr",
     "output_type": "stream",
     "text": [
      "Epoch 50: 100%|██████████| 23/23 [00:02<00:00,  8.78it/s]\n",
      "Epoch 51: 100%|██████████| 23/23 [00:02<00:00,  8.82it/s]\n",
      "Epoch 52: 100%|██████████| 23/23 [00:02<00:00,  8.85it/s]\n",
      "Epoch 53: 100%|██████████| 23/23 [00:02<00:00,  8.85it/s]\n",
      "Epoch 54: 100%|██████████| 23/23 [00:02<00:00,  8.85it/s]\n",
      "Epoch 55: 100%|██████████| 23/23 [00:02<00:00,  8.85it/s]\n",
      "Epoch 56: 100%|██████████| 23/23 [00:02<00:00,  8.77it/s]\n",
      "Epoch 57: 100%|██████████| 23/23 [00:02<00:00,  8.79it/s]\n",
      "Epoch 58: 100%|██████████| 23/23 [00:02<00:00,  8.86it/s]\n",
      "Epoch 59: 100%|██████████| 23/23 [00:02<00:00,  8.76it/s]\n",
      "Epoch 60: 100%|██████████| 23/23 [00:02<00:00,  8.91it/s]\n",
      "Epoch 61: 100%|██████████| 23/23 [00:02<00:00,  8.97it/s]\n",
      "Epoch 62: 100%|██████████| 23/23 [00:02<00:00,  8.93it/s]\n",
      "Epoch 63: 100%|██████████| 23/23 [00:02<00:00,  8.92it/s]\n",
      "Epoch 64: 100%|██████████| 23/23 [00:02<00:00,  8.80it/s]\n",
      "Epoch 65: 100%|██████████| 23/23 [00:02<00:00,  8.82it/s]\n",
      "Epoch 66: 100%|██████████| 23/23 [00:02<00:00,  8.85it/s]\n",
      "Epoch 67: 100%|██████████| 23/23 [00:02<00:00,  8.82it/s]\n",
      "Epoch 68: 100%|██████████| 23/23 [00:02<00:00,  8.81it/s]\n",
      "Epoch 69: 100%|██████████| 23/23 [00:02<00:00,  8.80it/s]\n",
      "Epoch 70: 100%|██████████| 23/23 [00:02<00:00,  8.76it/s]\n",
      "Epoch 71: 100%|██████████| 23/23 [00:02<00:00,  8.85it/s]\n",
      "Epoch 72: 100%|██████████| 23/23 [00:02<00:00,  8.83it/s]\n",
      "Epoch 73: 100%|██████████| 23/23 [00:02<00:00,  8.77it/s]\n",
      "Epoch 74: 100%|██████████| 23/23 [00:02<00:00,  8.76it/s]\n",
      "Epoch 75: 100%|██████████| 23/23 [00:02<00:00,  8.78it/s]\n",
      "Epoch 76: 100%|██████████| 23/23 [00:02<00:00,  8.88it/s]\n"
     ]
    },
    {
     "name": "stdout",
     "output_type": "stream",
     "text": [
      "✅ Best model saved with F1: 0.5733 as models/lstm_ps_att/best_model.pt\n"
     ]
    },
    {
     "name": "stderr",
     "output_type": "stream",
     "text": [
      "Epoch 77: 100%|██████████| 23/23 [00:02<00:00,  8.91it/s]\n",
      "Epoch 78: 100%|██████████| 23/23 [00:02<00:00,  8.86it/s]\n",
      "Epoch 79: 100%|██████████| 23/23 [00:02<00:00,  8.69it/s]\n",
      "Epoch 80: 100%|██████████| 23/23 [00:02<00:00,  8.72it/s]\n",
      "Epoch 81: 100%|██████████| 23/23 [00:02<00:00,  8.80it/s]\n",
      "Epoch 82: 100%|██████████| 23/23 [00:02<00:00,  8.78it/s]\n",
      "Epoch 83: 100%|██████████| 23/23 [00:02<00:00,  8.78it/s]\n",
      "Epoch 84: 100%|██████████| 23/23 [00:02<00:00,  8.81it/s]\n",
      "Epoch 85: 100%|██████████| 23/23 [00:02<00:00,  8.81it/s]\n",
      "Epoch 86: 100%|██████████| 23/23 [00:02<00:00,  8.82it/s]\n",
      "Epoch 87: 100%|██████████| 23/23 [00:02<00:00,  8.82it/s]\n",
      "Epoch 88: 100%|██████████| 23/23 [00:02<00:00,  8.80it/s]\n",
      "Epoch 89: 100%|██████████| 23/23 [00:02<00:00,  8.88it/s]\n",
      "Epoch 90: 100%|██████████| 23/23 [00:02<00:00,  8.87it/s]\n",
      "Epoch 91: 100%|██████████| 23/23 [00:02<00:00,  8.91it/s]\n",
      "Epoch 92: 100%|██████████| 23/23 [00:02<00:00,  9.00it/s]\n",
      "Epoch 93: 100%|██████████| 23/23 [00:02<00:00,  8.96it/s]\n"
     ]
    },
    {
     "name": "stdout",
     "output_type": "stream",
     "text": [
      "✅ Best model saved with F1: 0.5754 as models/lstm_ps_att/best_model.pt\n"
     ]
    },
    {
     "name": "stderr",
     "output_type": "stream",
     "text": [
      "Epoch 94: 100%|██████████| 23/23 [00:02<00:00,  8.83it/s]\n",
      "Epoch 95: 100%|██████████| 23/23 [00:02<00:00,  8.87it/s]\n",
      "Epoch 96: 100%|██████████| 23/23 [00:02<00:00,  8.84it/s]\n"
     ]
    },
    {
     "name": "stdout",
     "output_type": "stream",
     "text": [
      "✅ Best model saved with F1: 0.5809 as models/lstm_ps_att/best_model.pt\n"
     ]
    },
    {
     "name": "stderr",
     "output_type": "stream",
     "text": [
      "Epoch 97: 100%|██████████| 23/23 [00:02<00:00,  8.69it/s]\n",
      "Epoch 98: 100%|██████████| 23/23 [00:02<00:00,  8.86it/s]\n",
      "Epoch 99: 100%|██████████| 23/23 [00:02<00:00,  8.84it/s]\n",
      "Epoch 100: 100%|██████████| 23/23 [00:02<00:00,  8.72it/s]\n",
      "Epoch 101: 100%|██████████| 23/23 [00:02<00:00,  8.80it/s]\n",
      "Epoch 102: 100%|██████████| 23/23 [00:02<00:00,  8.77it/s]\n",
      "Epoch 103: 100%|██████████| 23/23 [00:02<00:00,  8.81it/s]\n"
     ]
    },
    {
     "name": "stdout",
     "output_type": "stream",
     "text": [
      "✅ Best model saved with F1: 0.5938 as models/lstm_ps_att/best_model.pt\n"
     ]
    },
    {
     "name": "stderr",
     "output_type": "stream",
     "text": [
      "Epoch 104: 100%|██████████| 23/23 [00:02<00:00,  8.79it/s]\n",
      "Epoch 105: 100%|██████████| 23/23 [00:02<00:00,  8.80it/s]\n",
      "Epoch 106: 100%|██████████| 23/23 [00:02<00:00,  8.86it/s]\n",
      "Epoch 107: 100%|██████████| 23/23 [00:02<00:00,  8.83it/s]\n",
      "Epoch 108: 100%|██████████| 23/23 [00:02<00:00,  8.93it/s]\n",
      "Epoch 109: 100%|██████████| 23/23 [00:02<00:00,  8.99it/s]\n",
      "Epoch 110: 100%|██████████| 23/23 [00:02<00:00,  8.86it/s]\n",
      "Epoch 111: 100%|██████████| 23/23 [00:02<00:00,  8.83it/s]\n",
      "Epoch 112: 100%|██████████| 23/23 [00:02<00:00,  8.73it/s]\n",
      "Epoch 113: 100%|██████████| 23/23 [00:02<00:00,  8.85it/s]\n",
      "Epoch 114: 100%|██████████| 23/23 [00:02<00:00,  8.80it/s]\n",
      "Epoch 115: 100%|██████████| 23/23 [00:02<00:00,  8.82it/s]\n"
     ]
    },
    {
     "name": "stdout",
     "output_type": "stream",
     "text": [
      "✅ Best model saved with F1: 0.6072 as models/lstm_ps_att/best_model.pt\n"
     ]
    },
    {
     "name": "stderr",
     "output_type": "stream",
     "text": [
      "Epoch 116: 100%|██████████| 23/23 [00:02<00:00,  8.80it/s]\n",
      "Epoch 117: 100%|██████████| 23/23 [00:02<00:00,  8.81it/s]\n",
      "Epoch 118: 100%|██████████| 23/23 [00:02<00:00,  8.76it/s]\n",
      "Epoch 119: 100%|██████████| 23/23 [00:02<00:00,  8.74it/s]\n",
      "Epoch 120: 100%|██████████| 23/23 [00:02<00:00,  8.74it/s]\n",
      "Epoch 121: 100%|██████████| 23/23 [00:02<00:00,  8.77it/s]\n",
      "Epoch 122: 100%|██████████| 23/23 [00:02<00:00,  8.78it/s]\n",
      "Epoch 123: 100%|██████████| 23/23 [00:02<00:00,  8.83it/s]\n",
      "Epoch 124: 100%|██████████| 23/23 [00:02<00:00,  8.91it/s]\n",
      "Epoch 125: 100%|██████████| 23/23 [00:02<00:00,  8.91it/s]\n",
      "Epoch 126: 100%|██████████| 23/23 [00:02<00:00,  8.91it/s]\n",
      "Epoch 127: 100%|██████████| 23/23 [00:02<00:00,  8.77it/s]\n",
      "Epoch 128: 100%|██████████| 23/23 [00:02<00:00,  8.74it/s]\n",
      "Epoch 129: 100%|██████████| 23/23 [00:02<00:00,  8.79it/s]\n",
      "Epoch 130: 100%|██████████| 23/23 [00:02<00:00,  8.81it/s]\n",
      "Epoch 131: 100%|██████████| 23/23 [00:02<00:00,  8.81it/s]\n",
      "Epoch 132: 100%|██████████| 23/23 [00:02<00:00,  8.83it/s]\n",
      "Epoch 133: 100%|██████████| 23/23 [00:02<00:00,  8.78it/s]\n",
      "Epoch 134: 100%|██████████| 23/23 [00:02<00:00,  8.77it/s]\n",
      "Epoch 135: 100%|██████████| 23/23 [00:02<00:00,  8.78it/s]\n",
      "Epoch 136: 100%|██████████| 23/23 [00:02<00:00,  8.77it/s]\n",
      "Epoch 137: 100%|██████████| 23/23 [00:02<00:00,  8.77it/s]\n",
      "Epoch 138: 100%|██████████| 23/23 [00:02<00:00,  8.78it/s]\n",
      "Epoch 139: 100%|██████████| 23/23 [00:02<00:00,  8.90it/s]\n"
     ]
    },
    {
     "name": "stdout",
     "output_type": "stream",
     "text": [
      "✅ Best model saved with F1: 0.6123 as models/lstm_ps_att/best_model.pt\n"
     ]
    },
    {
     "name": "stderr",
     "output_type": "stream",
     "text": [
      "Epoch 140: 100%|██████████| 23/23 [00:02<00:00,  8.94it/s]\n",
      "Epoch 141: 100%|██████████| 23/23 [00:02<00:00,  8.96it/s]\n",
      "Epoch 142: 100%|██████████| 23/23 [00:02<00:00,  8.86it/s]\n",
      "Epoch 143: 100%|██████████| 23/23 [00:02<00:00,  8.78it/s]\n",
      "Epoch 144: 100%|██████████| 23/23 [00:02<00:00,  8.79it/s]\n",
      "Epoch 145: 100%|██████████| 23/23 [00:02<00:00,  8.87it/s]\n"
     ]
    },
    {
     "name": "stdout",
     "output_type": "stream",
     "text": [
      "✅ Best model saved with F1: 0.6289 as models/lstm_ps_att/best_model.pt\n"
     ]
    },
    {
     "name": "stderr",
     "output_type": "stream",
     "text": [
      "Epoch 146: 100%|██████████| 23/23 [00:02<00:00,  8.83it/s]\n",
      "Epoch 147: 100%|██████████| 23/23 [00:02<00:00,  8.82it/s]\n",
      "Epoch 148: 100%|██████████| 23/23 [00:02<00:00,  8.89it/s]\n",
      "Epoch 149: 100%|██████████| 23/23 [00:02<00:00,  8.58it/s]\n",
      "Epoch 150: 100%|██████████| 23/23 [00:02<00:00,  8.82it/s]\n",
      "Epoch 151: 100%|██████████| 23/23 [00:02<00:00,  8.85it/s]\n",
      "Epoch 152: 100%|██████████| 23/23 [00:02<00:00,  8.83it/s]\n",
      "Epoch 153: 100%|██████████| 23/23 [00:02<00:00,  8.81it/s]\n",
      "Epoch 154: 100%|██████████| 23/23 [00:02<00:00,  8.87it/s]\n",
      "Epoch 155: 100%|██████████| 23/23 [00:02<00:00,  8.88it/s]\n",
      "Epoch 156: 100%|██████████| 23/23 [00:02<00:00,  8.89it/s]\n",
      "Epoch 157: 100%|██████████| 23/23 [00:02<00:00,  9.00it/s]\n",
      "Epoch 158: 100%|██████████| 23/23 [00:02<00:00,  8.90it/s]\n",
      "Epoch 159: 100%|██████████| 23/23 [00:02<00:00,  8.80it/s]\n",
      "Epoch 160: 100%|██████████| 23/23 [00:02<00:00,  8.79it/s]\n",
      "Epoch 161: 100%|██████████| 23/23 [00:02<00:00,  8.78it/s]\n"
     ]
    },
    {
     "name": "stdout",
     "output_type": "stream",
     "text": [
      "✅ Best model saved with F1: 0.6322 as models/lstm_ps_att/best_model.pt\n"
     ]
    },
    {
     "name": "stderr",
     "output_type": "stream",
     "text": [
      "Epoch 162: 100%|██████████| 23/23 [00:02<00:00,  8.84it/s]\n",
      "Epoch 163: 100%|██████████| 23/23 [00:02<00:00,  8.83it/s]\n",
      "Epoch 164: 100%|██████████| 23/23 [00:02<00:00,  8.80it/s]\n",
      "Epoch 165: 100%|██████████| 23/23 [00:02<00:00,  8.74it/s]\n",
      "Epoch 166: 100%|██████████| 23/23 [00:02<00:00,  8.78it/s]\n",
      "Epoch 167: 100%|██████████| 23/23 [00:02<00:00,  8.77it/s]\n",
      "Epoch 168: 100%|██████████| 23/23 [00:02<00:00,  8.81it/s]\n",
      "Epoch 169: 100%|██████████| 23/23 [00:02<00:00,  8.82it/s]\n",
      "Epoch 170: 100%|██████████| 23/23 [00:02<00:00,  8.77it/s]\n",
      "Epoch 171: 100%|██████████| 23/23 [00:02<00:00,  8.87it/s]\n",
      "Epoch 172: 100%|██████████| 23/23 [00:02<00:00,  8.97it/s]\n",
      "Epoch 173: 100%|██████████| 23/23 [00:02<00:00,  8.96it/s]\n",
      "Epoch 174: 100%|██████████| 23/23 [00:02<00:00,  8.89it/s]\n",
      "Epoch 175: 100%|██████████| 23/23 [00:02<00:00,  8.83it/s]\n",
      "Epoch 176: 100%|██████████| 23/23 [00:02<00:00,  8.82it/s]\n"
     ]
    },
    {
     "name": "stdout",
     "output_type": "stream",
     "text": [
      "✅ Best model saved with F1: 0.6459 as models/lstm_ps_att/best_model.pt\n"
     ]
    },
    {
     "name": "stderr",
     "output_type": "stream",
     "text": [
      "Epoch 177: 100%|██████████| 23/23 [00:02<00:00,  8.69it/s]\n",
      "Epoch 178: 100%|██████████| 23/23 [00:02<00:00,  8.86it/s]\n",
      "Epoch 179: 100%|██████████| 23/23 [00:02<00:00,  8.82it/s]\n",
      "Epoch 180: 100%|██████████| 23/23 [00:02<00:00,  8.84it/s]\n",
      "Epoch 181: 100%|██████████| 23/23 [00:02<00:00,  8.83it/s]\n",
      "Epoch 182: 100%|██████████| 23/23 [00:02<00:00,  8.82it/s]\n",
      "Epoch 183: 100%|██████████| 23/23 [00:02<00:00,  8.84it/s]\n",
      "Epoch 184: 100%|██████████| 23/23 [00:02<00:00,  8.75it/s]\n",
      "Epoch 185: 100%|██████████| 23/23 [00:02<00:00,  8.86it/s]\n",
      "Epoch 186: 100%|██████████| 23/23 [00:02<00:00,  8.84it/s]\n",
      "Epoch 187: 100%|██████████| 23/23 [00:02<00:00,  8.96it/s]\n",
      "Epoch 188: 100%|██████████| 23/23 [00:02<00:00,  8.93it/s]\n",
      "Epoch 189: 100%|██████████| 23/23 [00:02<00:00,  8.88it/s]\n",
      "Epoch 190: 100%|██████████| 23/23 [00:02<00:00,  8.84it/s]\n",
      "Epoch 191: 100%|██████████| 23/23 [00:02<00:00,  8.83it/s]\n",
      "Epoch 192: 100%|██████████| 23/23 [00:02<00:00,  8.86it/s]\n",
      "Epoch 193: 100%|██████████| 23/23 [00:02<00:00,  8.84it/s]\n",
      "Epoch 194: 100%|██████████| 23/23 [00:02<00:00,  8.83it/s]\n",
      "Epoch 195: 100%|██████████| 23/23 [00:02<00:00,  8.80it/s]\n",
      "Epoch 196: 100%|██████████| 23/23 [00:02<00:00,  8.78it/s]\n",
      "Epoch 197: 100%|██████████| 23/23 [00:02<00:00,  8.74it/s]\n",
      "Epoch 198: 100%|██████████| 23/23 [00:02<00:00,  8.72it/s]\n",
      "Epoch 199: 100%|██████████| 23/23 [00:02<00:00,  8.79it/s]\n",
      "Epoch 200: 100%|██████████| 23/23 [00:02<00:00,  8.79it/s]\n",
      "Epoch 201: 100%|██████████| 23/23 [00:02<00:00,  8.74it/s]\n",
      "Epoch 202: 100%|██████████| 23/23 [00:02<00:00,  8.77it/s]\n",
      "Epoch 203: 100%|██████████| 23/23 [00:02<00:00,  8.87it/s]\n",
      "Epoch 204: 100%|██████████| 23/23 [00:02<00:00,  8.84it/s]\n",
      "Epoch 205: 100%|██████████| 23/23 [00:02<00:00,  8.91it/s]\n",
      "Epoch 206: 100%|██████████| 23/23 [00:02<00:00,  8.72it/s]\n",
      "Epoch 207: 100%|██████████| 23/23 [00:02<00:00,  8.73it/s]\n",
      "Epoch 208: 100%|██████████| 23/23 [00:02<00:00,  8.72it/s]\n",
      "Epoch 209: 100%|██████████| 23/23 [00:02<00:00,  8.77it/s]\n",
      "Epoch 210: 100%|██████████| 23/23 [00:02<00:00,  8.73it/s]\n",
      "Epoch 211: 100%|██████████| 23/23 [00:02<00:00,  8.70it/s]\n",
      "Epoch 212: 100%|██████████| 23/23 [00:02<00:00,  8.80it/s]\n",
      "Epoch 213: 100%|██████████| 23/23 [00:02<00:00,  8.74it/s]\n",
      "Epoch 214: 100%|██████████| 23/23 [00:02<00:00,  8.72it/s]\n",
      "Epoch 215: 100%|██████████| 23/23 [00:02<00:00,  8.74it/s]\n",
      "Epoch 216: 100%|██████████| 23/23 [00:02<00:00,  8.78it/s]\n",
      "Epoch 217: 100%|██████████| 23/23 [00:02<00:00,  8.81it/s]\n",
      "Epoch 218: 100%|██████████| 23/23 [00:02<00:00,  8.86it/s]\n",
      "Epoch 219: 100%|██████████| 23/23 [00:02<00:00,  8.92it/s]\n",
      "Epoch 220: 100%|██████████| 23/23 [00:02<00:00,  8.97it/s]\n",
      "Epoch 221: 100%|██████████| 23/23 [00:02<00:00,  8.98it/s]\n",
      "Epoch 222: 100%|██████████| 23/23 [00:02<00:00,  8.88it/s]\n",
      "Epoch 223: 100%|██████████| 23/23 [00:02<00:00,  8.86it/s]\n",
      "Epoch 224: 100%|██████████| 23/23 [00:02<00:00,  8.85it/s]\n",
      "Epoch 225: 100%|██████████| 23/23 [00:02<00:00,  8.85it/s]\n",
      "Epoch 226: 100%|██████████| 23/23 [00:02<00:00,  8.85it/s]\n",
      "Epoch 227: 100%|██████████| 23/23 [00:02<00:00,  8.85it/s]\n",
      "Epoch 228: 100%|██████████| 23/23 [00:02<00:00,  8.84it/s]\n",
      "Epoch 229: 100%|██████████| 23/23 [00:02<00:00,  8.86it/s]\n",
      "Epoch 230: 100%|██████████| 23/23 [00:02<00:00,  8.85it/s]\n",
      "Epoch 231: 100%|██████████| 23/23 [00:02<00:00,  8.85it/s]\n",
      "Epoch 232: 100%|██████████| 23/23 [00:02<00:00,  8.84it/s]\n",
      "Epoch 233: 100%|██████████| 23/23 [00:02<00:00,  8.85it/s]\n",
      "Epoch 234: 100%|██████████| 23/23 [00:02<00:00,  8.88it/s]\n",
      "Epoch 235: 100%|██████████| 23/23 [00:02<00:00,  8.96it/s]\n",
      "Epoch 236: 100%|██████████| 23/23 [00:02<00:00,  8.91it/s]\n",
      "Epoch 237: 100%|██████████| 23/23 [00:02<00:00,  8.95it/s]\n",
      "Epoch 238: 100%|██████████| 23/23 [00:02<00:00,  8.86it/s]\n",
      "Epoch 239: 100%|██████████| 23/23 [00:02<00:00,  8.74it/s]\n",
      "Epoch 240: 100%|██████████| 23/23 [00:02<00:00,  8.82it/s]\n",
      "Epoch 241: 100%|██████████| 23/23 [00:02<00:00,  8.75it/s]\n",
      "Epoch 242: 100%|██████████| 23/23 [00:02<00:00,  8.82it/s]\n",
      "Epoch 243: 100%|██████████| 23/23 [00:02<00:00,  8.80it/s]\n",
      "Epoch 244: 100%|██████████| 23/23 [00:02<00:00,  8.82it/s]\n",
      "Epoch 245: 100%|██████████| 23/23 [00:02<00:00,  8.79it/s]\n",
      "Epoch 246: 100%|██████████| 23/23 [00:02<00:00,  8.81it/s]\n",
      "Epoch 247: 100%|██████████| 23/23 [00:02<00:00,  8.86it/s]\n",
      "Epoch 248: 100%|██████████| 23/23 [00:02<00:00,  8.79it/s]\n",
      "Epoch 249: 100%|██████████| 23/23 [00:02<00:00,  8.83it/s]\n",
      "Epoch 250: 100%|██████████| 23/23 [00:02<00:00,  8.90it/s]\n",
      "Epoch 251: 100%|██████████| 23/23 [00:02<00:00,  8.87it/s]\n",
      "Epoch 252: 100%|██████████| 23/23 [00:02<00:00,  8.91it/s]\n",
      "Epoch 253: 100%|██████████| 23/23 [00:02<00:00,  8.93it/s]\n",
      "Epoch 254: 100%|██████████| 23/23 [00:02<00:00,  8.79it/s]\n",
      "Epoch 255: 100%|██████████| 23/23 [00:02<00:00,  8.80it/s]\n",
      "Epoch 256: 100%|██████████| 23/23 [00:02<00:00,  8.75it/s]\n",
      "Epoch 257: 100%|██████████| 23/23 [00:02<00:00,  8.78it/s]\n",
      "Epoch 258: 100%|██████████| 23/23 [00:02<00:00,  8.78it/s]\n",
      "Epoch 259: 100%|██████████| 23/23 [00:02<00:00,  8.82it/s]\n",
      "Epoch 260: 100%|██████████| 23/23 [00:02<00:00,  8.85it/s]\n",
      "Epoch 261: 100%|██████████| 23/23 [00:02<00:00,  8.85it/s]\n",
      "Epoch 262: 100%|██████████| 23/23 [00:02<00:00,  8.83it/s]\n",
      "Epoch 263: 100%|██████████| 23/23 [00:02<00:00,  8.82it/s]\n",
      "Epoch 264: 100%|██████████| 23/23 [00:02<00:00,  7.96it/s]\n",
      "Epoch 265: 100%|██████████| 23/23 [00:02<00:00,  8.85it/s]\n",
      "Epoch 266: 100%|██████████| 23/23 [00:02<00:00,  8.97it/s]\n",
      "Epoch 267: 100%|██████████| 23/23 [00:02<00:00,  8.91it/s]\n",
      "Epoch 268: 100%|██████████| 23/23 [00:02<00:00,  8.90it/s]\n",
      "Epoch 269: 100%|██████████| 23/23 [00:02<00:00,  8.81it/s]\n",
      "Epoch 270: 100%|██████████| 23/23 [00:02<00:00,  8.78it/s]\n",
      "Epoch 271: 100%|██████████| 23/23 [00:02<00:00,  8.84it/s]\n",
      "Epoch 272: 100%|██████████| 23/23 [00:02<00:00,  8.82it/s]\n",
      "Epoch 273: 100%|██████████| 23/23 [00:02<00:00,  8.84it/s]\n",
      "Epoch 274: 100%|██████████| 23/23 [00:02<00:00,  8.80it/s]\n",
      "Epoch 275: 100%|██████████| 23/23 [00:02<00:00,  8.78it/s]\n",
      "Epoch 276: 100%|██████████| 23/23 [00:02<00:00,  8.87it/s]\n",
      "Epoch 277: 100%|██████████| 23/23 [00:02<00:00,  8.80it/s]\n",
      "Epoch 278: 100%|██████████| 23/23 [00:02<00:00,  8.82it/s]\n",
      "Epoch 279: 100%|██████████| 23/23 [00:02<00:00,  8.82it/s]\n",
      "Epoch 280: 100%|██████████| 23/23 [00:02<00:00,  8.82it/s]\n",
      "Epoch 281: 100%|██████████| 23/23 [00:02<00:00,  8.81it/s]\n",
      "Epoch 282: 100%|██████████| 23/23 [00:02<00:00,  8.92it/s]\n",
      "Epoch 283: 100%|██████████| 23/23 [00:02<00:00,  8.85it/s]\n",
      "Epoch 284: 100%|██████████| 23/23 [00:02<00:00,  8.86it/s]\n",
      "Epoch 285: 100%|██████████| 23/23 [00:02<00:00,  8.83it/s]\n",
      "Epoch 286: 100%|██████████| 23/23 [00:02<00:00,  8.80it/s]\n",
      "Epoch 287: 100%|██████████| 23/23 [00:02<00:00,  8.84it/s]\n",
      "Epoch 288: 100%|██████████| 23/23 [00:02<00:00,  8.87it/s]\n",
      "Epoch 289: 100%|██████████| 23/23 [00:02<00:00,  8.87it/s]\n",
      "Epoch 290: 100%|██████████| 23/23 [00:02<00:00,  8.78it/s]\n",
      "Epoch 291: 100%|██████████| 23/23 [00:02<00:00,  8.81it/s]\n",
      "Epoch 292: 100%|██████████| 23/23 [00:02<00:00,  8.89it/s]\n",
      "Epoch 293: 100%|██████████| 23/23 [00:02<00:00,  8.79it/s]\n",
      "Epoch 294: 100%|██████████| 23/23 [00:02<00:00,  8.80it/s]\n",
      "Epoch 295: 100%|██████████| 23/23 [00:02<00:00,  8.87it/s]\n",
      "Epoch 296: 100%|██████████| 23/23 [00:02<00:00,  8.80it/s]\n",
      "Epoch 297: 100%|██████████| 23/23 [00:02<00:00,  8.81it/s]\n",
      "Epoch 298: 100%|██████████| 23/23 [00:02<00:00,  8.92it/s]\n",
      "Epoch 299: 100%|██████████| 23/23 [00:02<00:00,  8.93it/s]\n",
      "Epoch 300: 100%|██████████| 23/23 [00:02<00:00,  8.98it/s]\n",
      "Epoch 301: 100%|██████████| 23/23 [00:02<00:00,  8.92it/s]\n",
      "Epoch 302: 100%|██████████| 23/23 [00:02<00:00,  8.78it/s]\n",
      "Epoch 303: 100%|██████████| 23/23 [00:02<00:00,  8.83it/s]\n",
      "Epoch 304: 100%|██████████| 23/23 [00:02<00:00,  8.83it/s]\n",
      "Epoch 305: 100%|██████████| 23/23 [00:02<00:00,  8.83it/s]\n",
      "Epoch 306: 100%|██████████| 23/23 [00:02<00:00,  8.79it/s]\n",
      "Epoch 307: 100%|██████████| 23/23 [00:02<00:00,  8.88it/s]\n",
      "Epoch 308: 100%|██████████| 23/23 [00:02<00:00,  8.89it/s]\n",
      "Epoch 309: 100%|██████████| 23/23 [00:02<00:00,  8.89it/s]\n",
      "Epoch 310: 100%|██████████| 23/23 [00:02<00:00,  8.81it/s]\n",
      "Epoch 311: 100%|██████████| 23/23 [00:02<00:00,  8.79it/s]\n",
      "Epoch 312: 100%|██████████| 23/23 [00:02<00:00,  8.87it/s]\n",
      "Epoch 313: 100%|██████████| 23/23 [00:02<00:00,  8.85it/s]\n",
      "Epoch 314: 100%|██████████| 23/23 [00:02<00:00,  8.95it/s]\n",
      "Epoch 315: 100%|██████████| 23/23 [00:02<00:00,  9.01it/s]\n",
      "Epoch 316: 100%|██████████| 23/23 [00:02<00:00,  8.98it/s]\n",
      "Epoch 317: 100%|██████████| 23/23 [00:02<00:00,  8.96it/s]\n",
      "Epoch 318: 100%|██████████| 23/23 [00:02<00:00,  8.87it/s]\n",
      "Epoch 319: 100%|██████████| 23/23 [00:02<00:00,  8.86it/s]\n",
      "Epoch 320: 100%|██████████| 23/23 [00:02<00:00,  8.85it/s]\n",
      "Epoch 321: 100%|██████████| 23/23 [00:02<00:00,  8.89it/s]\n",
      "Epoch 322: 100%|██████████| 23/23 [00:02<00:00,  8.83it/s]\n",
      "Epoch 323: 100%|██████████| 23/23 [00:02<00:00,  8.84it/s]\n",
      "Epoch 324: 100%|██████████| 23/23 [00:02<00:00,  8.81it/s]\n",
      "Epoch 325: 100%|██████████| 23/23 [00:02<00:00,  8.84it/s]\n",
      "Epoch 326: 100%|██████████| 23/23 [00:02<00:00,  8.82it/s]\n",
      "Epoch 327: 100%|██████████| 23/23 [00:02<00:00,  8.86it/s]\n",
      "Epoch 328: 100%|██████████| 23/23 [00:02<00:00,  8.84it/s]\n",
      "Epoch 329: 100%|██████████| 23/23 [00:02<00:00,  8.84it/s]\n",
      "Epoch 330: 100%|██████████| 23/23 [00:02<00:00,  8.96it/s]\n",
      "Epoch 331: 100%|██████████| 23/23 [00:02<00:00,  8.97it/s]\n",
      "Epoch 332: 100%|██████████| 23/23 [00:02<00:00,  8.94it/s]\n",
      "Epoch 333: 100%|██████████| 23/23 [00:02<00:00,  8.91it/s]\n",
      "Epoch 334: 100%|██████████| 23/23 [00:02<00:00,  8.85it/s]\n",
      "Epoch 335: 100%|██████████| 23/23 [00:02<00:00,  8.83it/s]\n",
      "Epoch 336: 100%|██████████| 23/23 [00:02<00:00,  8.53it/s]\n",
      "Epoch 337: 100%|██████████| 23/23 [00:02<00:00,  8.85it/s]\n",
      "Epoch 338: 100%|██████████| 23/23 [00:02<00:00,  8.91it/s]\n",
      "Epoch 339: 100%|██████████| 23/23 [00:02<00:00,  8.87it/s]\n",
      "Epoch 340: 100%|██████████| 23/23 [00:02<00:00,  8.86it/s]\n",
      "Epoch 341: 100%|██████████| 23/23 [00:02<00:00,  8.86it/s]\n",
      "Epoch 342: 100%|██████████| 23/23 [00:02<00:00,  8.86it/s]\n",
      "Epoch 343: 100%|██████████| 23/23 [00:02<00:00,  8.91it/s]\n",
      "Epoch 344: 100%|██████████| 23/23 [00:02<00:00,  8.87it/s]\n",
      "Epoch 345: 100%|██████████| 23/23 [00:02<00:00,  8.87it/s]\n",
      "Epoch 346: 100%|██████████| 23/23 [00:02<00:00,  8.96it/s]\n",
      "Epoch 347: 100%|██████████| 23/23 [00:02<00:00,  8.99it/s]\n",
      "Epoch 348: 100%|██████████| 23/23 [00:02<00:00,  9.03it/s]\n",
      "Epoch 349: 100%|██████████| 23/23 [00:02<00:00,  8.98it/s]\n",
      "Epoch 350: 100%|██████████| 23/23 [00:02<00:00,  8.89it/s]\n",
      "Epoch 351: 100%|██████████| 23/23 [00:02<00:00,  8.86it/s]\n",
      "Epoch 352: 100%|██████████| 23/23 [00:02<00:00,  8.90it/s]\n",
      "Epoch 353: 100%|██████████| 23/23 [00:02<00:00,  8.89it/s]\n",
      "Epoch 354: 100%|██████████| 23/23 [00:02<00:00,  8.88it/s]\n",
      "Epoch 355: 100%|██████████| 23/23 [00:02<00:00,  8.86it/s]\n",
      "Epoch 356: 100%|██████████| 23/23 [00:02<00:00,  8.88it/s]\n",
      "Epoch 357: 100%|██████████| 23/23 [00:02<00:00,  8.71it/s]\n",
      "Epoch 358: 100%|██████████| 23/23 [00:02<00:00,  8.89it/s]\n",
      "Epoch 359: 100%|██████████| 23/23 [00:02<00:00,  8.87it/s]\n",
      "Epoch 360: 100%|██████████| 23/23 [00:02<00:00,  8.73it/s]\n",
      "Epoch 361: 100%|██████████| 23/23 [00:02<00:00,  8.32it/s]\n",
      "Epoch 362: 100%|██████████| 23/23 [00:02<00:00,  8.79it/s]\n",
      "Epoch 363: 100%|██████████| 23/23 [00:02<00:00,  9.06it/s]\n",
      "Epoch 364: 100%|██████████| 23/23 [00:02<00:00,  9.01it/s]\n",
      "Epoch 365: 100%|██████████| 23/23 [00:02<00:00,  9.03it/s]\n",
      "Epoch 366: 100%|██████████| 23/23 [00:02<00:00,  8.97it/s]\n",
      "Epoch 367: 100%|██████████| 23/23 [00:02<00:00,  8.87it/s]\n",
      "Epoch 368: 100%|██████████| 23/23 [00:02<00:00,  8.85it/s]\n",
      "Epoch 369: 100%|██████████| 23/23 [00:02<00:00,  8.85it/s]\n",
      "Epoch 370: 100%|██████████| 23/23 [00:02<00:00,  8.89it/s]\n",
      "Epoch 371: 100%|██████████| 23/23 [00:02<00:00,  8.91it/s]\n",
      "Epoch 372: 100%|██████████| 23/23 [00:02<00:00,  8.91it/s]\n",
      "Epoch 373: 100%|██████████| 23/23 [00:02<00:00,  8.87it/s]\n",
      "Epoch 374: 100%|██████████| 23/23 [00:02<00:00,  8.88it/s]\n",
      "Epoch 375: 100%|██████████| 23/23 [00:02<00:00,  8.94it/s]\n",
      "Epoch 376: 100%|██████████| 23/23 [00:02<00:00,  8.91it/s]\n",
      "Epoch 377: 100%|██████████| 23/23 [00:02<00:00,  8.90it/s]\n",
      "Epoch 378: 100%|██████████| 23/23 [00:02<00:00,  8.69it/s]\n",
      "Epoch 379: 100%|██████████| 23/23 [00:02<00:00,  9.00it/s]\n",
      "Epoch 380: 100%|██████████| 23/23 [00:02<00:00,  9.01it/s]\n",
      "Epoch 381: 100%|██████████| 23/23 [00:02<00:00,  9.05it/s]\n",
      "Epoch 382: 100%|██████████| 23/23 [00:02<00:00,  8.96it/s]\n",
      "Epoch 383: 100%|██████████| 23/23 [00:02<00:00,  8.96it/s]\n",
      "Epoch 384: 100%|██████████| 23/23 [00:02<00:00,  8.87it/s]\n",
      "Epoch 385: 100%|██████████| 23/23 [00:02<00:00,  8.87it/s]\n",
      "Epoch 386: 100%|██████████| 23/23 [00:02<00:00,  8.89it/s]\n",
      "Epoch 387: 100%|██████████| 23/23 [00:02<00:00,  8.91it/s]\n",
      "Epoch 388: 100%|██████████| 23/23 [00:02<00:00,  8.88it/s]\n",
      "Epoch 389: 100%|██████████| 23/23 [00:02<00:00,  8.87it/s]\n",
      "Epoch 390: 100%|██████████| 23/23 [00:02<00:00,  8.82it/s]\n",
      "Epoch 391: 100%|██████████| 23/23 [00:02<00:00,  8.89it/s]\n",
      "Epoch 392: 100%|██████████| 23/23 [00:02<00:00,  8.88it/s]\n",
      "Epoch 393: 100%|██████████| 23/23 [00:02<00:00,  8.53it/s]\n",
      "Epoch 394: 100%|██████████| 23/23 [00:02<00:00,  8.73it/s]\n",
      "Epoch 395: 100%|██████████| 23/23 [00:02<00:00,  8.79it/s]\n",
      "Epoch 396: 100%|██████████| 23/23 [00:02<00:00,  8.82it/s]\n",
      "Epoch 397: 100%|██████████| 23/23 [00:02<00:00,  8.79it/s]\n",
      "Epoch 398: 100%|██████████| 23/23 [00:02<00:00,  8.80it/s]\n",
      "Epoch 399: 100%|██████████| 23/23 [00:02<00:00,  8.72it/s]\n",
      "Epoch 400: 100%|██████████| 23/23 [00:02<00:00,  8.78it/s]\n"
     ]
    }
   ],
   "source": [
    "metrics = train(model, NUM_EPOCHS, device, loader_tr, loader_val, optimizer, criterion, \"models/lstm_ps_att\", verbose=False)"
   ]
  },
  {
   "cell_type": "code",
   "execution_count": 11,
   "id": "7c9dc501",
   "metadata": {},
   "outputs": [
    {
     "data": {
      "image/png": "[encoded data removed]",
      "text/plain": [
       "<Figure size 1500x1000 with 3 Axes>"
      ]
     },
     "metadata": {},
     "output_type": "display_data"
    }
   ],
   "source": [
    "display_metrics(NUM_EPOCHS, metrics)"
   ]
  },
  {
   "cell_type": "markdown",
   "id": "2ee83f64",
   "metadata": {},
   "source": [
    "## Submission"
   ]
  },
  {
   "cell_type": "code",
   "execution_count": 12,
   "id": "addb8a1c",
   "metadata": {},
   "outputs": [],
   "source": [
    "# Create test dataset\n",
    "dataset_te = EEGDataset(\n",
    "    clips_te,  # Your test clips variable\n",
    "    signals_root=DATA_ROOT\n",
    "    / \"test\",  # Update this path if your test signals are stored elsewhere\n",
    "    #signal_transform=fft_filtering,  # You can change or remove the signal_transform as needed\n",
    "    prefetch=True,  # Set to False if prefetching causes memory issues on your compute environment\n",
    "    return_id=True,  # Return the id of each sample instead of the label\n",
    ")\n",
    "\n",
    "# Create DataLoader for the test dataset\n",
    "loader_te = DataLoader(dataset_te, batch_size=512, shuffle=False)"
   ]
  },
  {
   "cell_type": "code",
   "execution_count": 13,
   "id": "329ca46a",
   "metadata": {},
   "outputs": [
    {
     "name": "stderr",
     "output_type": "stream",
     "text": [
      "/tmp/ipykernel_1858607/4103021174.py:4: FutureWarning: You are using `torch.load` with `weights_only=False` (the current default value), which uses the default pickle module implicitly. It is possible to construct malicious pickle data which will execute arbitrary code during unpickling (See https://github.com/pytorch/pytorch/blob/main/SECURITY.md#untrusted-models for more details). In a future release, the default value for `weights_only` will be flipped to `True`. This limits the functions that could be executed during unpickling. Arbitrary objects will no longer be allowed to be loaded via this mode unless they are explicitly allowlisted by the user via `torch.serialization.add_safe_globals`. We recommend you start setting `weights_only=True` for any use case where you don't have full control of the loaded file. Please open an issue on GitHub for any issues related to this experimental feature.\n",
      "  model.load_state_dict(torch.load(\"models/lstm_ps_att/best_model.pt\"))\n"
     ]
    },
    {
     "name": "stdout",
     "output_type": "stream",
     "text": [
      "Kaggle submission file generated: submission.csv\n"
     ]
    }
   ],
   "source": [
    "# Generate the submission file for Kaggle\n",
    "model = CombinedModel(output_size=1, window_size=125, lstm_input_size=128, lstm_hidden_size=128, attention_dim=64)\n",
    "model.to(device)\n",
    "model.load_state_dict(torch.load(\"models/lstm_ps_att/best_model.pt\"))\n",
    "# Set the model to evaluation mode\n",
    "model.eval()\n",
    "\n",
    "# Lists to store sample IDs and predictions\n",
    "all_predictions = []\n",
    "all_ids = []\n",
    "\n",
    "# Disable gradient computation for inference\n",
    "with torch.no_grad():\n",
    "    for x, ids in loader_te:\n",
    "        # Assume each batch returns a tuple (x_batch, sample_id)\n",
    "        # If your dataset does not provide IDs, you can generate them based on the batch index.\n",
    "\n",
    "        # Move the input data to the device (GPU or CPU)\n",
    "        x = x.to(torch.float32).to(device)\n",
    "\n",
    "        # Perform the forward pass to get the model's output logits\n",
    "        logits = model(x)\n",
    "\n",
    "        # Convert logits to predictions.\n",
    "        # For binary classification, threshold logits at 0 (adjust this if you use softmax or multi-class).\n",
    "        predictions = torch.round(torch.sigmoid(logits)).cpu().numpy()\n",
    "\n",
    "        # Append predictions and corresponding IDs to the lists\n",
    "        all_predictions.extend(predictions.flatten().tolist())\n",
    "        all_ids.extend(list(ids))\n",
    "\n",
    "# Create a DataFrame for Kaggle submission with the required format: \"id,label\"\n",
    "submission_df = pd.DataFrame({\"id\": all_ids, \"label\": all_predictions})\n",
    "# submission_df[\"id\"] = submission_df[\"id\"].apply(lambda x: \"_\".join([txt.replace(\"_\",\"\") for txt in x.split(\"__\")]))\n",
    "submission_df[\"label\"] = submission_df[\"label\"].astype(int)\n",
    "\n",
    "submission_df.to_csv(\"submission_seed1_lstm_ps_att.csv\", index=False)\n",
    "print(\"Kaggle submission file generated: submission.csv\")"
   ]
  }
 ],
 "metadata": {
  "kernelspec": {
   "display_name": "nml",
   "language": "python",
   "name": "python3"
  },
  "language_info": {
   "codemirror_mode": {
    "name": "ipython",
    "version": 3
   },
   "file_extension": ".py",
   "mimetype": "text/x-python",
   "name": "python",
   "nbconvert_exporter": "python",
   "pygments_lexer": "ipython3",
   "version": "3.12.9"
  }
 },
 "nbformat": 4,
 "nbformat_minor": 5
}
