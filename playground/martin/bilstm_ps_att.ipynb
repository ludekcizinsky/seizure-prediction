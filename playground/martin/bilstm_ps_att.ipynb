{
 "cells": [
  {
   "cell_type": "code",
   "execution_count": 1,
   "id": "72664494",
   "metadata": {},
   "outputs": [],
   "source": [
    "from pathlib import Path\n",
    "import pandas as pd\n",
    "from seiz_eeg.dataset import EEGDataset\n",
    "\n",
    "import torch\n",
    "import torch.nn as nn\n",
    "import torch.nn.functional as F\n",
    "import torch.optim as optim\n",
    "from torch.utils.data import DataLoader\n",
    "\n",
    "from training import train\n",
    "from utils import display_metrics, count_parameters, seed_everything\n",
    "from preprocessing import normalize_z_score, time_filtering\n",
    "\n",
    "import signatory"
   ]
  },
  {
   "cell_type": "code",
   "execution_count": 2,
   "id": "29e8691a",
   "metadata": {},
   "outputs": [],
   "source": [
    "# You might need to change this according to where you store the data folder\n",
    "# Inside your data folder, you should have the following structure:\n",
    "# data\n",
    "# ├── train\n",
    "# │   ├── signals/\n",
    "# │   ├── segments.parquet\n",
    "# │-- test\n",
    "#     ├── signals/\n",
    "#     ├── segments.parquet\n",
    "\n",
    "data_path = \"/home/ogut/data\"\n",
    "\n",
    "DATA_ROOT = Path(data_path)"
   ]
  },
  {
   "cell_type": "code",
   "execution_count": 3,
   "id": "3cd44b73",
   "metadata": {},
   "outputs": [],
   "source": [
    "seed_everything(1)"
   ]
  },
  {
   "cell_type": "code",
   "execution_count": 4,
   "id": "9a64950a",
   "metadata": {},
   "outputs": [],
   "source": [
    "clips_tr = pd.read_parquet(DATA_ROOT / \"train/segments.parquet\")\n",
    "clips_te = pd.read_parquet(DATA_ROOT / \"test/segments.parquet\")"
   ]
  },
  {
   "cell_type": "code",
   "execution_count": 5,
   "id": "4012e8eb",
   "metadata": {},
   "outputs": [],
   "source": [
    "\"\"\"\n",
    "Based on https://ieeexplore.ieee.org/document/10381774\n",
    "\"\"\"\n",
    "\n",
    "class SlidingWindowBatch(nn.Module):\n",
    "    def __init__(self, window_size=125):\n",
    "        super().__init__()\n",
    "        self.window_size = window_size\n",
    "\n",
    "    def forward(self, data):\n",
    "        batch_size, signal_len, channels = data.shape\n",
    "        num_windows = signal_len // self.window_size\n",
    "\n",
    "        windows = []\n",
    "        for i in range(num_windows):\n",
    "            start = i * self.window_size\n",
    "            end = start + self.window_size\n",
    "            window = data[:, start:end, :]  # shape: (batch_size, window_size, 19)\n",
    "            windows.append(window)\n",
    "\n",
    "        windows = torch.stack(windows, dim=1)  # shape: (batch_size, num_windows, window_size, 19)\n",
    "        return windows\n",
    "\n",
    "class SignatureEncoder(nn.Module):\n",
    "    def __init__(self, input_channels, depth=2, add_time=True):\n",
    "        \"\"\"\n",
    "        Args:\n",
    "            input_channels (int): number of input channels (without time).\n",
    "            depth (int): signature depth.\n",
    "            add_time (bool): whether to augment with time channel.\n",
    "        \"\"\"\n",
    "        super().__init__()\n",
    "        self.input_channels = input_channels\n",
    "        self.depth = depth\n",
    "        self.add_time = add_time\n",
    "        \n",
    "        self.total_channels = input_channels + 1 if add_time else input_channels\n",
    "        self.output_channels = signatory.signature_channels(self.total_channels, self.depth)\n",
    "\n",
    "    def forward(self, x):\n",
    "        \"\"\"\n",
    "        Args:\n",
    "            x (Tensor): shape (batch_size, windows, channels, time)\n",
    "\n",
    "        Returns:\n",
    "            Tensor: shape (batch_size, windows, output_channels)\n",
    "        \"\"\"\n",
    "        batch_size, n_windows, n_time, n_channels = x.shape\n",
    "\n",
    "        # Step 2: flatten batch and window dimensions\n",
    "        x = x.reshape(batch_size * n_windows, n_time, n_channels)\n",
    "\n",
    "        # Step 3: add time if needed\n",
    "        if self.add_time:\n",
    "            time = torch.linspace(0, 1, n_time, device=x.device).unsqueeze(0).unsqueeze(-1)\n",
    "            time = time.expand(x.size(0), -1, -1)  # (batch_size * windows, time, 1)\n",
    "            x = torch.cat([time, x], dim=-1)  # (batch_size * windows, time, channels+1)\n",
    "\n",
    "        # Step 4: compute signature\n",
    "        sig = signatory.signature(x, depth=self.depth)  # (batch_size * windows, output_channels)\n",
    "\n",
    "        # Step 5: reshape back to (batch_size, windows, output_channels)\n",
    "        sig = sig.view(batch_size, n_windows, self.output_channels)\n",
    "\n",
    "        return sig\n",
    "    \n",
    "class TemporalAttention(nn.Module):\n",
    "    def __init__(self, hidden_dim, attn_dim):\n",
    "        \"\"\"\n",
    "        Args:\n",
    "            hidden_dim: dimension of BiLSTM output (hidden_size * 2 if BiLSTM)\n",
    "            attn_dim: dimension of intermediate MLP hidden layer\n",
    "        \"\"\"\n",
    "        super().__init__()\n",
    "        self.attention_mlp = nn.Linear(hidden_dim, attn_dim)\n",
    "        self.context_vector = nn.Parameter(torch.randn(attn_dim))\n",
    "\n",
    "    def forward(self, h):\n",
    "        \"\"\"\n",
    "        Args:\n",
    "            h: Tensor of shape (batch_size, seq_len, hidden_dim)\n",
    "        \n",
    "        Returns:\n",
    "            s: Tensor of shape (batch_size, hidden_dim)\n",
    "        \"\"\"\n",
    "        # Step 1: compute ut = tanh(Wh + b)\n",
    "        u = torch.tanh(self.attention_mlp(h))  # (batch_size, seq_len, attn_dim)\n",
    "\n",
    "        # Step 2: compute scores: dot(u_t, u_w)\n",
    "        # context_vector: (attn_dim,)\n",
    "        scores = torch.matmul(u, self.context_vector)  # (batch_size, seq_len)\n",
    "\n",
    "        # Step 3: softmax over time\n",
    "        alpha = F.softmax(scores, dim=1)  # (batch_size, seq_len)\n",
    "\n",
    "        # Step 4: weighted sum of h\n",
    "        s = torch.bmm(alpha.unsqueeze(1), h)  # (batch_size, 1, hidden_dim)\n",
    "        s = s.squeeze(1)  # (batch_size, hidden_dim)\n",
    "\n",
    "        return s\n",
    "\n",
    "class CombinedModel(nn.Module):\n",
    "    def __init__(self, output_size=1, window_size=125, lstm_input_size=128, lstm_hidden_size=128, attention_dim=64):\n",
    "        super().__init__()\n",
    "\n",
    "        # Sliding window batch layer\n",
    "        self.sliding_window = SlidingWindowBatch(window_size=window_size)\n",
    "\n",
    "        # Path Signature feature extraction\n",
    "        self.signature_extraction = SignatureEncoder(input_channels=19, depth=2, add_time=True)\n",
    "\n",
    "        # Projection to the size of the BiLSTM input\n",
    "        self.projection = nn.Linear(self.signature_extraction.output_channels, lstm_input_size)\n",
    "\n",
    "        self.norm = nn.BatchNorm1d(num_features=lstm_input_size)\n",
    "        self.activation = nn.GELU()\n",
    "\n",
    "        # BiLSTM\n",
    "        self.bilstm = nn.LSTM(input_size=lstm_input_size, hidden_size=lstm_hidden_size, num_layers=3, batch_first=True, bidirectional=True, dropout=0.5)\n",
    "\n",
    "        # Attention\n",
    "        self.attention = TemporalAttention(lstm_hidden_size * 2, attention_dim)\n",
    "\n",
    "        # Final output layer\n",
    "        self.output_layer = nn.Linear(lstm_hidden_size * 2, output_size)  # *2 because of bidirectional\n",
    "\n",
    "    def forward(self, x):\n",
    "        # Apply sliding window on input\n",
    "        windows = self.sliding_window(x)  # shape: (batch_size, num_windows, window_size, 19)\n",
    "\n",
    "        # Apply signature extraction\n",
    "        windows = self.signature_extraction(windows) # shape: (batch_size, num_windows, output_dim)\n",
    "\n",
    "        # Projection layer\n",
    "        windows = self.projection(windows)  # shape: (batch_size, num_windows, lstm_input_dim)\n",
    "\n",
    "        windows = self.norm(windows.transpose(1,2)).transpose(1,2)\n",
    "        windows = self.activation(windows)\n",
    "\n",
    "        # Apply BiLSTM\n",
    "        lstm_out, _ = self.bilstm(windows)  # shape: (batch_size, num_windows, lstm_hidden_size * 2)\n",
    "\n",
    "        # Apply Attention\n",
    "        weighted_attention = self.attention(lstm_out) # shape: (batch_size, lstm_hidden_size * 2)\n",
    "\n",
    "        # Final output layer\n",
    "        out = self.output_layer(weighted_attention)  # shape: (batch_size, output_size)\n",
    "\n",
    "        return out\n"
   ]
  },
  {
   "cell_type": "code",
   "execution_count": 6,
   "id": "7faa8a69",
   "metadata": {},
   "outputs": [
    {
     "data": {
      "text/plain": [
       "CombinedModel(\n",
       "  (sliding_window): SlidingWindowBatch()\n",
       "  (signature_extraction): SignatureEncoder()\n",
       "  (projection): Linear(in_features=420, out_features=128, bias=True)\n",
       "  (norm): BatchNorm1d(128, eps=1e-05, momentum=0.1, affine=True, track_running_stats=True)\n",
       "  (activation): GELU(approximate='none')\n",
       "  (bilstm): LSTM(128, 128, num_layers=3, batch_first=True, dropout=0.5, bidirectional=True)\n",
       "  (attention): TemporalAttention(\n",
       "    (attention_mlp): Linear(in_features=256, out_features=64, bias=True)\n",
       "  )\n",
       "  (output_layer): Linear(in_features=256, out_features=1, bias=True)\n",
       ")"
      ]
     },
     "execution_count": 6,
     "metadata": {},
     "output_type": "execute_result"
    }
   ],
   "source": [
    "device = torch.device('cuda')\n",
    "NUM_EPOCHS = 1000\n",
    "model = CombinedModel(output_size=1, window_size=125, lstm_input_size=128, lstm_hidden_size=128, attention_dim=64)\n",
    "model.to(device)"
   ]
  },
  {
   "cell_type": "code",
   "execution_count": 7,
   "id": "70b8b3f1",
   "metadata": {},
   "outputs": [
    {
     "data": {
      "text/plain": [
       "1125633"
      ]
     },
     "execution_count": 7,
     "metadata": {},
     "output_type": "execute_result"
    }
   ],
   "source": [
    "count_parameters(model)"
   ]
  },
  {
   "cell_type": "code",
   "execution_count": 8,
   "id": "a2b36f2a",
   "metadata": {},
   "outputs": [],
   "source": [
    "# You can change the signal_transform, or remove it completely\n",
    "dataset_tr = EEGDataset(\n",
    "    clips_tr,\n",
    "    signals_root=DATA_ROOT / \"train\",\n",
    "    signal_transform=time_filtering,\n",
    "    prefetch=True,  # If your compute does not allow it, you can use `prefetch=False`\n",
    ")"
   ]
  },
  {
   "cell_type": "code",
   "execution_count": 9,
   "id": "dac48134",
   "metadata": {},
   "outputs": [],
   "source": [
    "device = torch.device('cuda')\n",
    "\n",
    "#train_set, test_set, val_set = torch.utils.data.random_split(dataset_tr,[0.7,0.2,0.1])\n",
    "train_set, val_set = torch.utils.data.random_split(dataset_tr,[0.9,0.1])\n",
    "\n",
    "#Check worker_init_fn\n",
    "loader_tr = DataLoader(train_set, batch_size=512, shuffle=True, num_workers=0)\n",
    "loader_val = DataLoader(val_set, batch_size=512, shuffle=True, num_workers=0)\n",
    "#loader_ts = DataLoader(test_set, batch_size=512, shuffle=True, num_workers=0)\n",
    "\n",
    "# positives = 0\n",
    "# negatives = 0\n",
    "# for idx, data in enumerate(loader_tr):\n",
    "#     positives += data[1].sum()\n",
    "#     negatives += len(data[1]) - data[1].sum()\n",
    "\n",
    "# pos_weight = negatives / positives\n",
    "# pos_weight_tensor = torch.tensor([pos_weight]).to(torch.float32).to(device)\n",
    "\n",
    "optimizer = optim.Adam(model.parameters(), lr=1e-3, weight_decay=0)\n",
    "\n",
    "# criterion = torch.nn.BCEWithLogitsLoss(pos_weight=pos_weight_tensor)\n",
    "criterion = torch.nn.BCEWithLogitsLoss()"
   ]
  },
  {
   "cell_type": "code",
   "execution_count": 10,
   "id": "328019ad",
   "metadata": {},
   "outputs": [
    {
     "name": "stderr",
     "output_type": "stream",
     "text": [
      "Epoch 1: 100%|██████████| 23/23 [00:03<00:00,  6.85it/s]\n"
     ]
    },
    {
     "name": "stdout",
     "output_type": "stream",
     "text": [
      "Train Loss: 0.5294,  Train Accuracy: 0.8042,  Train F1-Score: 0.0000, \n",
      "Val Loss: 0.4556,  Val Accuracy: 0.8252,  Val F1-Score: 0.0000, \n",
      "\n",
      "\n"
     ]
    },
    {
     "name": "stderr",
     "output_type": "stream",
     "text": [
      "Epoch 2: 100%|██████████| 23/23 [00:02<00:00,  8.18it/s]\n"
     ]
    },
    {
     "name": "stdout",
     "output_type": "stream",
     "text": [
      "Train Loss: 0.4625,  Train Accuracy: 0.8172,  Train F1-Score: 0.1415, \n",
      "Val Loss: 0.3971,  Val Accuracy: 0.8574,  Val F1-Score: 0.2852, \n",
      "\n",
      "\n"
     ]
    },
    {
     "name": "stderr",
     "output_type": "stream",
     "text": [
      "Epoch 3: 100%|██████████| 23/23 [00:02<00:00,  8.26it/s]\n"
     ]
    },
    {
     "name": "stdout",
     "output_type": "stream",
     "text": [
      "Train Loss: 0.4324,  Train Accuracy: 0.8398,  Train F1-Score: 0.3635, \n",
      "Val Loss: 0.4075,  Val Accuracy: 0.8550,  Val F1-Score: 0.2924, \n",
      "\n",
      "\n"
     ]
    },
    {
     "name": "stderr",
     "output_type": "stream",
     "text": [
      "Epoch 4: 100%|██████████| 23/23 [00:02<00:00,  8.31it/s]\n"
     ]
    },
    {
     "name": "stdout",
     "output_type": "stream",
     "text": [
      "Train Loss: 0.4321,  Train Accuracy: 0.8388,  Train F1-Score: 0.3197, \n",
      "Val Loss: 0.3984,  Val Accuracy: 0.8568,  Val F1-Score: 0.3048, \n",
      "\n",
      "\n"
     ]
    },
    {
     "name": "stderr",
     "output_type": "stream",
     "text": [
      "Epoch 5: 100%|██████████| 23/23 [00:02<00:00,  8.36it/s]\n"
     ]
    },
    {
     "name": "stdout",
     "output_type": "stream",
     "text": [
      "Train Loss: 0.4181,  Train Accuracy: 0.8478,  Train F1-Score: 0.4030, \n",
      "Val Loss: 0.3827,  Val Accuracy: 0.8669,  Val F1-Score: 0.3668, \n",
      "\n",
      "\n"
     ]
    },
    {
     "name": "stderr",
     "output_type": "stream",
     "text": [
      "Epoch 6: 100%|██████████| 23/23 [00:02<00:00,  8.34it/s]\n"
     ]
    },
    {
     "name": "stdout",
     "output_type": "stream",
     "text": [
      "Train Loss: 0.4148,  Train Accuracy: 0.8480,  Train F1-Score: 0.3930, \n",
      "Val Loss: 0.3836,  Val Accuracy: 0.8675,  Val F1-Score: 0.3911, \n",
      "\n",
      "\n"
     ]
    },
    {
     "name": "stderr",
     "output_type": "stream",
     "text": [
      "Epoch 7: 100%|██████████| 23/23 [00:02<00:00,  8.37it/s]\n"
     ]
    },
    {
     "name": "stdout",
     "output_type": "stream",
     "text": [
      "Train Loss: 0.4105,  Train Accuracy: 0.8505,  Train F1-Score: 0.4073, \n",
      "Val Loss: 0.3831,  Val Accuracy: 0.8656,  Val F1-Score: 0.3772, \n",
      "\n",
      "\n"
     ]
    },
    {
     "name": "stderr",
     "output_type": "stream",
     "text": [
      "Epoch 8: 100%|██████████| 23/23 [00:02<00:00,  8.35it/s]\n"
     ]
    },
    {
     "name": "stdout",
     "output_type": "stream",
     "text": [
      "Train Loss: 0.4065,  Train Accuracy: 0.8534,  Train F1-Score: 0.4243, \n",
      "Val Loss: 0.3919,  Val Accuracy: 0.8642,  Val F1-Score: 0.3599, \n",
      "\n",
      "\n"
     ]
    },
    {
     "name": "stderr",
     "output_type": "stream",
     "text": [
      "Epoch 9: 100%|██████████| 23/23 [00:02<00:00,  8.25it/s]\n"
     ]
    },
    {
     "name": "stdout",
     "output_type": "stream",
     "text": [
      "Train Loss: 0.4108,  Train Accuracy: 0.8493,  Train F1-Score: 0.3911, \n",
      "Val Loss: 0.3850,  Val Accuracy: 0.8657,  Val F1-Score: 0.4027, \n",
      "\n",
      "\n"
     ]
    },
    {
     "name": "stderr",
     "output_type": "stream",
     "text": [
      "Epoch 10: 100%|██████████| 23/23 [00:02<00:00,  8.15it/s]\n"
     ]
    },
    {
     "name": "stdout",
     "output_type": "stream",
     "text": [
      "Train Loss: 0.4017,  Train Accuracy: 0.8560,  Train F1-Score: 0.4461, \n",
      "Val Loss: 0.3894,  Val Accuracy: 0.8631,  Val F1-Score: 0.3826, \n",
      "\n",
      "\n"
     ]
    },
    {
     "name": "stderr",
     "output_type": "stream",
     "text": [
      "Epoch 11: 100%|██████████| 23/23 [00:02<00:00,  8.19it/s]\n"
     ]
    },
    {
     "name": "stdout",
     "output_type": "stream",
     "text": [
      "Train Loss: 0.4026,  Train Accuracy: 0.8532,  Train F1-Score: 0.4158, \n",
      "Val Loss: 0.3811,  Val Accuracy: 0.8653,  Val F1-Score: 0.4102, \n",
      "\n",
      "\n"
     ]
    },
    {
     "name": "stderr",
     "output_type": "stream",
     "text": [
      "Epoch 12: 100%|██████████| 23/23 [00:02<00:00,  8.16it/s]\n"
     ]
    },
    {
     "name": "stdout",
     "output_type": "stream",
     "text": [
      "Train Loss: 0.3969,  Train Accuracy: 0.8563,  Train F1-Score: 0.4483, \n",
      "Val Loss: 0.3831,  Val Accuracy: 0.8660,  Val F1-Score: 0.4103, \n",
      "\n",
      "\n"
     ]
    },
    {
     "name": "stderr",
     "output_type": "stream",
     "text": [
      "Epoch 13: 100%|██████████| 23/23 [00:02<00:00,  8.16it/s]\n"
     ]
    },
    {
     "name": "stdout",
     "output_type": "stream",
     "text": [
      "Train Loss: 0.3995,  Train Accuracy: 0.8556,  Train F1-Score: 0.4515, \n",
      "Val Loss: 0.3835,  Val Accuracy: 0.8692,  Val F1-Score: 0.4040, \n",
      "\n",
      "\n"
     ]
    },
    {
     "name": "stderr",
     "output_type": "stream",
     "text": [
      "Epoch 14: 100%|██████████| 23/23 [00:02<00:00,  8.10it/s]\n"
     ]
    },
    {
     "name": "stdout",
     "output_type": "stream",
     "text": [
      "Train Loss: 0.4035,  Train Accuracy: 0.8511,  Train F1-Score: 0.4571, \n",
      "Val Loss: 0.3984,  Val Accuracy: 0.8539,  Val F1-Score: 0.3050, \n",
      "\n",
      "\n"
     ]
    },
    {
     "name": "stderr",
     "output_type": "stream",
     "text": [
      "Epoch 15: 100%|██████████| 23/23 [00:02<00:00,  8.11it/s]\n"
     ]
    },
    {
     "name": "stdout",
     "output_type": "stream",
     "text": [
      "Train Loss: 0.4203,  Train Accuracy: 0.8418,  Train F1-Score: 0.3246, \n",
      "Val Loss: 0.3953,  Val Accuracy: 0.8566,  Val F1-Score: 0.3015, \n",
      "\n",
      "\n"
     ]
    },
    {
     "name": "stderr",
     "output_type": "stream",
     "text": [
      "Epoch 16: 100%|██████████| 23/23 [00:02<00:00,  8.12it/s]\n"
     ]
    },
    {
     "name": "stdout",
     "output_type": "stream",
     "text": [
      "Train Loss: 0.3976,  Train Accuracy: 0.8530,  Train F1-Score: 0.4139, \n",
      "Val Loss: 0.3922,  Val Accuracy: 0.8553,  Val F1-Score: 0.3338, \n",
      "\n",
      "\n"
     ]
    },
    {
     "name": "stderr",
     "output_type": "stream",
     "text": [
      "Epoch 17: 100%|██████████| 23/23 [00:02<00:00,  8.20it/s]\n"
     ]
    },
    {
     "name": "stdout",
     "output_type": "stream",
     "text": [
      "Train Loss: 0.3971,  Train Accuracy: 0.8562,  Train F1-Score: 0.4415, \n",
      "Val Loss: 0.3780,  Val Accuracy: 0.8662,  Val F1-Score: 0.3743, \n",
      "\n",
      "\n"
     ]
    },
    {
     "name": "stderr",
     "output_type": "stream",
     "text": [
      "Epoch 18: 100%|██████████| 23/23 [00:02<00:00,  8.28it/s]\n"
     ]
    },
    {
     "name": "stdout",
     "output_type": "stream",
     "text": [
      "Train Loss: 0.3878,  Train Accuracy: 0.8589,  Train F1-Score: 0.4545, \n",
      "Val Loss: 0.3776,  Val Accuracy: 0.8665,  Val F1-Score: 0.4097, \n",
      "\n",
      "\n"
     ]
    },
    {
     "name": "stderr",
     "output_type": "stream",
     "text": [
      "Epoch 19: 100%|██████████| 23/23 [00:02<00:00,  8.22it/s]\n"
     ]
    },
    {
     "name": "stdout",
     "output_type": "stream",
     "text": [
      "Train Loss: 0.3855,  Train Accuracy: 0.8599,  Train F1-Score: 0.4650, \n",
      "Val Loss: 0.3703,  Val Accuracy: 0.8663,  Val F1-Score: 0.4136, \n",
      "\n",
      "\n"
     ]
    },
    {
     "name": "stderr",
     "output_type": "stream",
     "text": [
      "Epoch 20: 100%|██████████| 23/23 [00:02<00:00,  8.18it/s]\n"
     ]
    },
    {
     "name": "stdout",
     "output_type": "stream",
     "text": [
      "Train Loss: 0.3801,  Train Accuracy: 0.8613,  Train F1-Score: 0.4847, \n",
      "Val Loss: 0.3571,  Val Accuracy: 0.8736,  Val F1-Score: 0.4632, \n",
      "\n",
      "\n"
     ]
    },
    {
     "name": "stderr",
     "output_type": "stream",
     "text": [
      "Epoch 21: 100%|██████████| 23/23 [00:02<00:00,  8.18it/s]\n"
     ]
    },
    {
     "name": "stdout",
     "output_type": "stream",
     "text": [
      "Train Loss: 0.3791,  Train Accuracy: 0.8615,  Train F1-Score: 0.4812, \n",
      "Val Loss: 0.3670,  Val Accuracy: 0.8667,  Val F1-Score: 0.4187, \n",
      "\n",
      "\n"
     ]
    },
    {
     "name": "stderr",
     "output_type": "stream",
     "text": [
      "Epoch 22: 100%|██████████| 23/23 [00:02<00:00,  8.21it/s]\n"
     ]
    },
    {
     "name": "stdout",
     "output_type": "stream",
     "text": [
      "Train Loss: 0.3789,  Train Accuracy: 0.8616,  Train F1-Score: 0.4913, \n",
      "Val Loss: 0.3651,  Val Accuracy: 0.8727,  Val F1-Score: 0.4591, \n",
      "\n",
      "\n"
     ]
    },
    {
     "name": "stderr",
     "output_type": "stream",
     "text": [
      "Epoch 23: 100%|██████████| 23/23 [00:02<00:00,  8.21it/s]\n"
     ]
    },
    {
     "name": "stdout",
     "output_type": "stream",
     "text": [
      "Train Loss: 0.3804,  Train Accuracy: 0.8599,  Train F1-Score: 0.4546, \n",
      "Val Loss: 0.3621,  Val Accuracy: 0.8687,  Val F1-Score: 0.4364, \n",
      "\n",
      "\n"
     ]
    },
    {
     "name": "stderr",
     "output_type": "stream",
     "text": [
      "Epoch 24: 100%|██████████| 23/23 [00:02<00:00,  8.23it/s]\n"
     ]
    },
    {
     "name": "stdout",
     "output_type": "stream",
     "text": [
      "Train Loss: 0.4276,  Train Accuracy: 0.8253,  Train F1-Score: 0.3985, \n",
      "Val Loss: 0.4071,  Val Accuracy: 0.8452,  Val F1-Score: 0.1862, \n",
      "\n",
      "\n"
     ]
    },
    {
     "name": "stderr",
     "output_type": "stream",
     "text": [
      "Epoch 25: 100%|██████████| 23/23 [00:02<00:00,  8.23it/s]\n"
     ]
    },
    {
     "name": "stdout",
     "output_type": "stream",
     "text": [
      "Train Loss: 0.4318,  Train Accuracy: 0.8277,  Train F1-Score: 0.2178, \n",
      "Val Loss: 0.4083,  Val Accuracy: 0.8407,  Val F1-Score: 0.1480, \n",
      "\n",
      "\n"
     ]
    },
    {
     "name": "stderr",
     "output_type": "stream",
     "text": [
      "Epoch 26: 100%|██████████| 23/23 [00:02<00:00,  8.22it/s]\n"
     ]
    },
    {
     "name": "stdout",
     "output_type": "stream",
     "text": [
      "Train Loss: 0.4108,  Train Accuracy: 0.8397,  Train F1-Score: 0.3579, \n",
      "Val Loss: 0.3947,  Val Accuracy: 0.8544,  Val F1-Score: 0.3110, \n",
      "\n",
      "\n"
     ]
    },
    {
     "name": "stderr",
     "output_type": "stream",
     "text": [
      "Epoch 27: 100%|██████████| 23/23 [00:02<00:00,  8.21it/s]\n"
     ]
    },
    {
     "name": "stdout",
     "output_type": "stream",
     "text": [
      "Train Loss: 0.4063,  Train Accuracy: 0.8444,  Train F1-Score: 0.4160, \n",
      "Val Loss: 0.3947,  Val Accuracy: 0.8538,  Val F1-Score: 0.3481, \n",
      "\n",
      "\n"
     ]
    },
    {
     "name": "stderr",
     "output_type": "stream",
     "text": [
      "Epoch 28: 100%|██████████| 23/23 [00:02<00:00,  8.15it/s]\n"
     ]
    },
    {
     "name": "stdout",
     "output_type": "stream",
     "text": [
      "Train Loss: 0.3857,  Train Accuracy: 0.8550,  Train F1-Score: 0.4677, \n",
      "Val Loss: 0.3746,  Val Accuracy: 0.8650,  Val F1-Score: 0.4215, \n",
      "\n",
      "\n"
     ]
    },
    {
     "name": "stderr",
     "output_type": "stream",
     "text": [
      "Epoch 29: 100%|██████████| 23/23 [00:02<00:00,  8.21it/s]\n"
     ]
    },
    {
     "name": "stdout",
     "output_type": "stream",
     "text": [
      "Train Loss: 0.4162,  Train Accuracy: 0.8468,  Train F1-Score: 0.3767, \n",
      "Val Loss: 0.4078,  Val Accuracy: 0.8487,  Val F1-Score: 0.2901, \n",
      "\n",
      "\n"
     ]
    },
    {
     "name": "stderr",
     "output_type": "stream",
     "text": [
      "Epoch 30: 100%|██████████| 23/23 [00:02<00:00,  8.25it/s]\n"
     ]
    },
    {
     "name": "stdout",
     "output_type": "stream",
     "text": [
      "Train Loss: 0.3966,  Train Accuracy: 0.8536,  Train F1-Score: 0.4265, \n",
      "Val Loss: 0.3829,  Val Accuracy: 0.8575,  Val F1-Score: 0.3331, \n",
      "\n",
      "\n"
     ]
    },
    {
     "name": "stderr",
     "output_type": "stream",
     "text": [
      "Epoch 31: 100%|██████████| 23/23 [00:02<00:00,  8.32it/s]\n"
     ]
    },
    {
     "name": "stdout",
     "output_type": "stream",
     "text": [
      "Train Loss: 0.3840,  Train Accuracy: 0.8584,  Train F1-Score: 0.4634, \n",
      "Val Loss: 0.3700,  Val Accuracy: 0.8655,  Val F1-Score: 0.4308, \n",
      "\n",
      "\n"
     ]
    },
    {
     "name": "stderr",
     "output_type": "stream",
     "text": [
      "Epoch 32: 100%|██████████| 23/23 [00:02<00:00,  8.38it/s]\n"
     ]
    },
    {
     "name": "stdout",
     "output_type": "stream",
     "text": [
      "Train Loss: 0.3815,  Train Accuracy: 0.8585,  Train F1-Score: 0.4716, \n",
      "Val Loss: 0.3704,  Val Accuracy: 0.8678,  Val F1-Score: 0.4061, \n",
      "\n",
      "\n"
     ]
    },
    {
     "name": "stderr",
     "output_type": "stream",
     "text": [
      "Epoch 33: 100%|██████████| 23/23 [00:02<00:00,  8.35it/s]\n"
     ]
    },
    {
     "name": "stdout",
     "output_type": "stream",
     "text": [
      "Train Loss: 0.3765,  Train Accuracy: 0.8625,  Train F1-Score: 0.4952, \n",
      "Val Loss: 0.3722,  Val Accuracy: 0.8645,  Val F1-Score: 0.4342, \n",
      "\n",
      "\n"
     ]
    },
    {
     "name": "stderr",
     "output_type": "stream",
     "text": [
      "Epoch 34: 100%|██████████| 23/23 [00:02<00:00,  8.28it/s]\n"
     ]
    },
    {
     "name": "stdout",
     "output_type": "stream",
     "text": [
      "Train Loss: 0.3812,  Train Accuracy: 0.8593,  Train F1-Score: 0.4736, \n",
      "Val Loss: 0.3800,  Val Accuracy: 0.8641,  Val F1-Score: 0.3653, \n",
      "\n",
      "\n"
     ]
    },
    {
     "name": "stderr",
     "output_type": "stream",
     "text": [
      "Epoch 35: 100%|██████████| 23/23 [00:02<00:00,  8.24it/s]\n"
     ]
    },
    {
     "name": "stdout",
     "output_type": "stream",
     "text": [
      "Train Loss: 0.3804,  Train Accuracy: 0.8607,  Train F1-Score: 0.4699, \n",
      "Val Loss: 0.3619,  Val Accuracy: 0.8648,  Val F1-Score: 0.4039, \n",
      "\n",
      "\n"
     ]
    },
    {
     "name": "stderr",
     "output_type": "stream",
     "text": [
      "Epoch 36: 100%|██████████| 23/23 [00:02<00:00,  8.27it/s]\n"
     ]
    },
    {
     "name": "stdout",
     "output_type": "stream",
     "text": [
      "Train Loss: 0.3768,  Train Accuracy: 0.8611,  Train F1-Score: 0.4815, \n",
      "Val Loss: 0.3573,  Val Accuracy: 0.8694,  Val F1-Score: 0.4129, \n",
      "\n",
      "\n"
     ]
    },
    {
     "name": "stderr",
     "output_type": "stream",
     "text": [
      "Epoch 37: 100%|██████████| 23/23 [00:02<00:00,  8.26it/s]\n"
     ]
    },
    {
     "name": "stdout",
     "output_type": "stream",
     "text": [
      "Train Loss: 0.3757,  Train Accuracy: 0.8630,  Train F1-Score: 0.4818, \n",
      "Val Loss: 0.3745,  Val Accuracy: 0.8629,  Val F1-Score: 0.3637, \n",
      "\n",
      "\n"
     ]
    },
    {
     "name": "stderr",
     "output_type": "stream",
     "text": [
      "Epoch 38: 100%|██████████| 23/23 [00:02<00:00,  8.23it/s]\n"
     ]
    },
    {
     "name": "stdout",
     "output_type": "stream",
     "text": [
      "Train Loss: 0.3737,  Train Accuracy: 0.8627,  Train F1-Score: 0.4873, \n",
      "Val Loss: 0.3716,  Val Accuracy: 0.8675,  Val F1-Score: 0.4345, \n",
      "\n",
      "\n"
     ]
    },
    {
     "name": "stderr",
     "output_type": "stream",
     "text": [
      "Epoch 39: 100%|██████████| 23/23 [00:02<00:00,  8.25it/s]\n"
     ]
    },
    {
     "name": "stdout",
     "output_type": "stream",
     "text": [
      "Train Loss: 0.3719,  Train Accuracy: 0.8651,  Train F1-Score: 0.4990, \n",
      "Val Loss: 0.3720,  Val Accuracy: 0.8620,  Val F1-Score: 0.3971, \n",
      "\n",
      "\n"
     ]
    },
    {
     "name": "stderr",
     "output_type": "stream",
     "text": [
      "Epoch 40: 100%|██████████| 23/23 [00:02<00:00,  8.25it/s]\n"
     ]
    },
    {
     "name": "stdout",
     "output_type": "stream",
     "text": [
      "Train Loss: 0.3682,  Train Accuracy: 0.8621,  Train F1-Score: 0.4874, \n",
      "Val Loss: 0.3525,  Val Accuracy: 0.8788,  Val F1-Score: 0.4864, \n",
      "\n",
      "\n"
     ]
    },
    {
     "name": "stderr",
     "output_type": "stream",
     "text": [
      "Epoch 41: 100%|██████████| 23/23 [00:02<00:00,  8.25it/s]\n"
     ]
    },
    {
     "name": "stdout",
     "output_type": "stream",
     "text": [
      "Train Loss: 0.3758,  Train Accuracy: 0.8618,  Train F1-Score: 0.4862, \n",
      "Val Loss: 0.3695,  Val Accuracy: 0.8647,  Val F1-Score: 0.3968, \n",
      "\n",
      "\n"
     ]
    },
    {
     "name": "stderr",
     "output_type": "stream",
     "text": [
      "Epoch 42: 100%|██████████| 23/23 [00:02<00:00,  8.25it/s]\n"
     ]
    },
    {
     "name": "stdout",
     "output_type": "stream",
     "text": [
      "Train Loss: 0.3639,  Train Accuracy: 0.8645,  Train F1-Score: 0.5119, \n",
      "Val Loss: 0.3621,  Val Accuracy: 0.8676,  Val F1-Score: 0.4635, \n",
      "\n",
      "\n"
     ]
    },
    {
     "name": "stderr",
     "output_type": "stream",
     "text": [
      "Epoch 43: 100%|██████████| 23/23 [00:02<00:00,  8.22it/s]\n"
     ]
    },
    {
     "name": "stdout",
     "output_type": "stream",
     "text": [
      "Train Loss: 0.3749,  Train Accuracy: 0.8603,  Train F1-Score: 0.4787, \n",
      "Val Loss: 0.3629,  Val Accuracy: 0.8671,  Val F1-Score: 0.4524, \n",
      "\n",
      "\n"
     ]
    },
    {
     "name": "stderr",
     "output_type": "stream",
     "text": [
      "Epoch 44: 100%|██████████| 23/23 [00:02<00:00,  8.22it/s]\n"
     ]
    },
    {
     "name": "stdout",
     "output_type": "stream",
     "text": [
      "Train Loss: 0.3646,  Train Accuracy: 0.8640,  Train F1-Score: 0.5064, \n",
      "Val Loss: 0.3540,  Val Accuracy: 0.8731,  Val F1-Score: 0.4743, \n",
      "\n",
      "\n"
     ]
    },
    {
     "name": "stderr",
     "output_type": "stream",
     "text": [
      "Epoch 45: 100%|██████████| 23/23 [00:02<00:00,  8.27it/s]\n"
     ]
    },
    {
     "name": "stdout",
     "output_type": "stream",
     "text": [
      "Train Loss: 0.3718,  Train Accuracy: 0.8628,  Train F1-Score: 0.4768, \n",
      "Val Loss: 0.3634,  Val Accuracy: 0.8673,  Val F1-Score: 0.4372, \n",
      "\n",
      "\n"
     ]
    },
    {
     "name": "stderr",
     "output_type": "stream",
     "text": [
      "Epoch 46: 100%|██████████| 23/23 [00:02<00:00,  8.35it/s]\n"
     ]
    },
    {
     "name": "stdout",
     "output_type": "stream",
     "text": [
      "Train Loss: 0.3681,  Train Accuracy: 0.8660,  Train F1-Score: 0.5076, \n",
      "Val Loss: 0.3554,  Val Accuracy: 0.8707,  Val F1-Score: 0.4155, \n",
      "\n",
      "\n"
     ]
    },
    {
     "name": "stderr",
     "output_type": "stream",
     "text": [
      "Epoch 47: 100%|██████████| 23/23 [00:02<00:00,  8.33it/s]\n"
     ]
    },
    {
     "name": "stdout",
     "output_type": "stream",
     "text": [
      "Train Loss: 0.3632,  Train Accuracy: 0.8659,  Train F1-Score: 0.4993, \n",
      "Val Loss: 0.3577,  Val Accuracy: 0.8698,  Val F1-Score: 0.4347, \n",
      "\n",
      "\n"
     ]
    },
    {
     "name": "stderr",
     "output_type": "stream",
     "text": [
      "Epoch 48: 100%|██████████| 23/23 [00:02<00:00,  8.33it/s]\n"
     ]
    },
    {
     "name": "stdout",
     "output_type": "stream",
     "text": [
      "Train Loss: 0.3694,  Train Accuracy: 0.8620,  Train F1-Score: 0.4888, \n",
      "Val Loss: 0.3645,  Val Accuracy: 0.8613,  Val F1-Score: 0.3853, \n",
      "\n",
      "\n"
     ]
    },
    {
     "name": "stderr",
     "output_type": "stream",
     "text": [
      "Epoch 49: 100%|██████████| 23/23 [00:02<00:00,  7.84it/s]\n"
     ]
    },
    {
     "name": "stdout",
     "output_type": "stream",
     "text": [
      "Train Loss: 0.3584,  Train Accuracy: 0.8680,  Train F1-Score: 0.5090, \n",
      "Val Loss: 0.3535,  Val Accuracy: 0.8751,  Val F1-Score: 0.4862, \n",
      "\n",
      "\n"
     ]
    },
    {
     "name": "stderr",
     "output_type": "stream",
     "text": [
      "Epoch 50: 100%|██████████| 23/23 [00:02<00:00,  8.25it/s]\n"
     ]
    },
    {
     "name": "stdout",
     "output_type": "stream",
     "text": [
      "Train Loss: 0.3617,  Train Accuracy: 0.8676,  Train F1-Score: 0.5138, \n",
      "Val Loss: 0.3555,  Val Accuracy: 0.8703,  Val F1-Score: 0.4598, \n",
      "\n",
      "\n"
     ]
    },
    {
     "name": "stderr",
     "output_type": "stream",
     "text": [
      "Epoch 51: 100%|██████████| 23/23 [00:02<00:00,  8.24it/s]\n"
     ]
    },
    {
     "name": "stdout",
     "output_type": "stream",
     "text": [
      "Train Loss: 0.3622,  Train Accuracy: 0.8640,  Train F1-Score: 0.5008, \n",
      "Val Loss: 0.3487,  Val Accuracy: 0.8752,  Val F1-Score: 0.4712, \n",
      "\n",
      "\n"
     ]
    },
    {
     "name": "stderr",
     "output_type": "stream",
     "text": [
      "Epoch 52: 100%|██████████| 23/23 [00:02<00:00,  8.27it/s]\n"
     ]
    },
    {
     "name": "stdout",
     "output_type": "stream",
     "text": [
      "Train Loss: 0.3602,  Train Accuracy: 0.8678,  Train F1-Score: 0.5265, \n",
      "Val Loss: 0.3415,  Val Accuracy: 0.8786,  Val F1-Score: 0.4916, \n",
      "\n",
      "\n"
     ]
    },
    {
     "name": "stderr",
     "output_type": "stream",
     "text": [
      "Epoch 53: 100%|██████████| 23/23 [00:02<00:00,  8.26it/s]\n"
     ]
    },
    {
     "name": "stdout",
     "output_type": "stream",
     "text": [
      "Train Loss: 0.3525,  Train Accuracy: 0.8676,  Train F1-Score: 0.5294, \n",
      "Val Loss: 0.3547,  Val Accuracy: 0.8724,  Val F1-Score: 0.5026, \n",
      "\n",
      "\n"
     ]
    },
    {
     "name": "stderr",
     "output_type": "stream",
     "text": [
      "Epoch 54: 100%|██████████| 23/23 [00:02<00:00,  8.23it/s]\n"
     ]
    },
    {
     "name": "stdout",
     "output_type": "stream",
     "text": [
      "Train Loss: 0.3513,  Train Accuracy: 0.8687,  Train F1-Score: 0.5359, \n",
      "Val Loss: 0.3470,  Val Accuracy: 0.8739,  Val F1-Score: 0.5002, \n",
      "\n",
      "\n"
     ]
    },
    {
     "name": "stderr",
     "output_type": "stream",
     "text": [
      "Epoch 55: 100%|██████████| 23/23 [00:02<00:00,  8.27it/s]\n"
     ]
    },
    {
     "name": "stdout",
     "output_type": "stream",
     "text": [
      "Train Loss: 0.3480,  Train Accuracy: 0.8689,  Train F1-Score: 0.5291, \n",
      "Val Loss: 0.3437,  Val Accuracy: 0.8737,  Val F1-Score: 0.4689, \n",
      "\n",
      "\n"
     ]
    },
    {
     "name": "stderr",
     "output_type": "stream",
     "text": [
      "Epoch 56: 100%|██████████| 23/23 [00:02<00:00,  8.28it/s]\n"
     ]
    },
    {
     "name": "stdout",
     "output_type": "stream",
     "text": [
      "Train Loss: 0.3558,  Train Accuracy: 0.8678,  Train F1-Score: 0.5171, \n",
      "Val Loss: 0.3414,  Val Accuracy: 0.8796,  Val F1-Score: 0.5005, \n",
      "\n",
      "\n"
     ]
    },
    {
     "name": "stderr",
     "output_type": "stream",
     "text": [
      "Epoch 57: 100%|██████████| 23/23 [00:02<00:00,  8.27it/s]\n"
     ]
    },
    {
     "name": "stdout",
     "output_type": "stream",
     "text": [
      "Train Loss: 0.3506,  Train Accuracy: 0.8674,  Train F1-Score: 0.5247, \n",
      "Val Loss: 0.3530,  Val Accuracy: 0.8736,  Val F1-Score: 0.5022, \n",
      "\n",
      "\n"
     ]
    },
    {
     "name": "stderr",
     "output_type": "stream",
     "text": [
      "Epoch 58: 100%|██████████| 23/23 [00:02<00:00,  8.23it/s]\n"
     ]
    },
    {
     "name": "stdout",
     "output_type": "stream",
     "text": [
      "Train Loss: 0.3564,  Train Accuracy: 0.8692,  Train F1-Score: 0.5269, \n",
      "Val Loss: 0.3478,  Val Accuracy: 0.8766,  Val F1-Score: 0.5077, \n",
      "\n",
      "\n"
     ]
    },
    {
     "name": "stderr",
     "output_type": "stream",
     "text": [
      "Epoch 59: 100%|██████████| 23/23 [00:02<00:00,  8.27it/s]\n"
     ]
    },
    {
     "name": "stdout",
     "output_type": "stream",
     "text": [
      "Train Loss: 0.3535,  Train Accuracy: 0.8654,  Train F1-Score: 0.5116, \n",
      "Val Loss: 0.3377,  Val Accuracy: 0.8702,  Val F1-Score: 0.4658, \n",
      "\n",
      "\n"
     ]
    },
    {
     "name": "stderr",
     "output_type": "stream",
     "text": [
      "Epoch 60: 100%|██████████| 23/23 [00:02<00:00,  8.33it/s]\n"
     ]
    },
    {
     "name": "stdout",
     "output_type": "stream",
     "text": [
      "Train Loss: 0.3523,  Train Accuracy: 0.8677,  Train F1-Score: 0.5305, \n",
      "Val Loss: 0.3629,  Val Accuracy: 0.8687,  Val F1-Score: 0.4875, \n",
      "\n",
      "\n"
     ]
    },
    {
     "name": "stderr",
     "output_type": "stream",
     "text": [
      "Epoch 61: 100%|██████████| 23/23 [00:02<00:00,  8.35it/s]\n"
     ]
    },
    {
     "name": "stdout",
     "output_type": "stream",
     "text": [
      "Train Loss: 0.3488,  Train Accuracy: 0.8692,  Train F1-Score: 0.5368, \n",
      "Val Loss: 0.3577,  Val Accuracy: 0.8674,  Val F1-Score: 0.4423, \n",
      "\n",
      "\n"
     ]
    },
    {
     "name": "stderr",
     "output_type": "stream",
     "text": [
      "Epoch 62: 100%|██████████| 23/23 [00:02<00:00,  8.36it/s]\n"
     ]
    },
    {
     "name": "stdout",
     "output_type": "stream",
     "text": [
      "Train Loss: 0.3537,  Train Accuracy: 0.8691,  Train F1-Score: 0.5236, \n",
      "Val Loss: 0.3624,  Val Accuracy: 0.8681,  Val F1-Score: 0.4412, \n",
      "\n",
      "\n"
     ]
    },
    {
     "name": "stderr",
     "output_type": "stream",
     "text": [
      "Epoch 63: 100%|██████████| 23/23 [00:02<00:00,  8.31it/s]\n"
     ]
    },
    {
     "name": "stdout",
     "output_type": "stream",
     "text": [
      "Train Loss: 0.3552,  Train Accuracy: 0.8702,  Train F1-Score: 0.5360, \n",
      "Val Loss: 0.3490,  Val Accuracy: 0.8700,  Val F1-Score: 0.4366, \n",
      "\n",
      "\n"
     ]
    },
    {
     "name": "stderr",
     "output_type": "stream",
     "text": [
      "Epoch 64: 100%|██████████| 23/23 [00:02<00:00,  8.24it/s]\n"
     ]
    },
    {
     "name": "stdout",
     "output_type": "stream",
     "text": [
      "Train Loss: 0.3410,  Train Accuracy: 0.8712,  Train F1-Score: 0.5407, \n",
      "Val Loss: 0.3485,  Val Accuracy: 0.8681,  Val F1-Score: 0.5161, \n",
      "\n",
      "\n"
     ]
    },
    {
     "name": "stderr",
     "output_type": "stream",
     "text": [
      "Epoch 65: 100%|██████████| 23/23 [00:02<00:00,  8.23it/s]\n"
     ]
    },
    {
     "name": "stdout",
     "output_type": "stream",
     "text": [
      "Train Loss: 0.3477,  Train Accuracy: 0.8682,  Train F1-Score: 0.5279, \n",
      "Val Loss: 0.3453,  Val Accuracy: 0.8702,  Val F1-Score: 0.4829, \n",
      "\n",
      "\n"
     ]
    },
    {
     "name": "stderr",
     "output_type": "stream",
     "text": [
      "Epoch 66: 100%|██████████| 23/23 [00:02<00:00,  8.23it/s]\n"
     ]
    },
    {
     "name": "stdout",
     "output_type": "stream",
     "text": [
      "Train Loss: 0.3454,  Train Accuracy: 0.8710,  Train F1-Score: 0.5502, \n",
      "Val Loss: 0.3452,  Val Accuracy: 0.8743,  Val F1-Score: 0.5020, \n",
      "\n",
      "\n"
     ]
    },
    {
     "name": "stderr",
     "output_type": "stream",
     "text": [
      "Epoch 67: 100%|██████████| 23/23 [00:02<00:00,  8.22it/s]\n"
     ]
    },
    {
     "name": "stdout",
     "output_type": "stream",
     "text": [
      "Train Loss: 0.3421,  Train Accuracy: 0.8712,  Train F1-Score: 0.5412, \n",
      "Val Loss: 0.3483,  Val Accuracy: 0.8764,  Val F1-Score: 0.5152, \n",
      "\n",
      "\n"
     ]
    },
    {
     "name": "stderr",
     "output_type": "stream",
     "text": [
      "Epoch 68: 100%|██████████| 23/23 [00:02<00:00,  7.90it/s]\n"
     ]
    },
    {
     "name": "stdout",
     "output_type": "stream",
     "text": [
      "Train Loss: 0.3394,  Train Accuracy: 0.8728,  Train F1-Score: 0.5556, \n",
      "Val Loss: 0.3327,  Val Accuracy: 0.8832,  Val F1-Score: 0.5438, \n",
      "\n",
      "\n"
     ]
    },
    {
     "name": "stderr",
     "output_type": "stream",
     "text": [
      "Epoch 69: 100%|██████████| 23/23 [00:02<00:00,  8.20it/s]\n"
     ]
    },
    {
     "name": "stdout",
     "output_type": "stream",
     "text": [
      "Train Loss: 0.3448,  Train Accuracy: 0.8727,  Train F1-Score: 0.5467, \n",
      "Val Loss: 0.3484,  Val Accuracy: 0.8761,  Val F1-Score: 0.4809, \n",
      "\n",
      "\n"
     ]
    },
    {
     "name": "stderr",
     "output_type": "stream",
     "text": [
      "Epoch 70: 100%|██████████| 23/23 [00:02<00:00,  8.23it/s]\n"
     ]
    },
    {
     "name": "stdout",
     "output_type": "stream",
     "text": [
      "Train Loss: 0.3545,  Train Accuracy: 0.8670,  Train F1-Score: 0.5159, \n",
      "Val Loss: 0.3509,  Val Accuracy: 0.8697,  Val F1-Score: 0.4430, \n",
      "\n",
      "\n"
     ]
    },
    {
     "name": "stderr",
     "output_type": "stream",
     "text": [
      "Epoch 71: 100%|██████████| 23/23 [00:02<00:00,  8.23it/s]\n"
     ]
    },
    {
     "name": "stdout",
     "output_type": "stream",
     "text": [
      "Train Loss: 0.3444,  Train Accuracy: 0.8712,  Train F1-Score: 0.5403, \n",
      "Val Loss: 0.3498,  Val Accuracy: 0.8709,  Val F1-Score: 0.4270, \n",
      "\n",
      "\n"
     ]
    },
    {
     "name": "stderr",
     "output_type": "stream",
     "text": [
      "Epoch 72: 100%|██████████| 23/23 [00:02<00:00,  8.23it/s]\n"
     ]
    },
    {
     "name": "stdout",
     "output_type": "stream",
     "text": [
      "Train Loss: 0.3370,  Train Accuracy: 0.8730,  Train F1-Score: 0.5498, \n",
      "Val Loss: 0.3460,  Val Accuracy: 0.8714,  Val F1-Score: 0.5172, \n",
      "\n",
      "\n"
     ]
    },
    {
     "name": "stderr",
     "output_type": "stream",
     "text": [
      "Epoch 73: 100%|██████████| 23/23 [00:02<00:00,  8.21it/s]\n"
     ]
    },
    {
     "name": "stdout",
     "output_type": "stream",
     "text": [
      "Train Loss: 0.3518,  Train Accuracy: 0.8690,  Train F1-Score: 0.5384, \n",
      "Val Loss: 0.3526,  Val Accuracy: 0.8678,  Val F1-Score: 0.4612, \n",
      "\n",
      "\n"
     ]
    },
    {
     "name": "stderr",
     "output_type": "stream",
     "text": [
      "Epoch 74: 100%|██████████| 23/23 [00:02<00:00,  8.25it/s]\n"
     ]
    },
    {
     "name": "stdout",
     "output_type": "stream",
     "text": [
      "Train Loss: 0.3448,  Train Accuracy: 0.8702,  Train F1-Score: 0.5442, \n",
      "Val Loss: 0.3441,  Val Accuracy: 0.8767,  Val F1-Score: 0.4961, \n",
      "\n",
      "\n"
     ]
    },
    {
     "name": "stderr",
     "output_type": "stream",
     "text": [
      "Epoch 75: 100%|██████████| 23/23 [00:02<00:00,  8.33it/s]\n"
     ]
    },
    {
     "name": "stdout",
     "output_type": "stream",
     "text": [
      "Train Loss: 0.3430,  Train Accuracy: 0.8692,  Train F1-Score: 0.5326, \n",
      "Val Loss: 0.3436,  Val Accuracy: 0.8692,  Val F1-Score: 0.4597, \n",
      "\n",
      "\n"
     ]
    },
    {
     "name": "stderr",
     "output_type": "stream",
     "text": [
      "Epoch 76: 100%|██████████| 23/23 [00:02<00:00,  8.35it/s]\n"
     ]
    },
    {
     "name": "stdout",
     "output_type": "stream",
     "text": [
      "Train Loss: 0.3426,  Train Accuracy: 0.8742,  Train F1-Score: 0.5608, \n",
      "Val Loss: 0.3523,  Val Accuracy: 0.8752,  Val F1-Score: 0.4974, \n",
      "\n",
      "\n"
     ]
    },
    {
     "name": "stderr",
     "output_type": "stream",
     "text": [
      "Epoch 77: 100%|██████████| 23/23 [00:02<00:00,  8.35it/s]\n"
     ]
    },
    {
     "name": "stdout",
     "output_type": "stream",
     "text": [
      "Train Loss: 0.3389,  Train Accuracy: 0.8709,  Train F1-Score: 0.5628, \n",
      "Val Loss: 0.3458,  Val Accuracy: 0.8743,  Val F1-Score: 0.4854, \n",
      "\n",
      "\n"
     ]
    },
    {
     "name": "stderr",
     "output_type": "stream",
     "text": [
      "Epoch 78: 100%|██████████| 23/23 [00:02<00:00,  8.32it/s]\n"
     ]
    },
    {
     "name": "stdout",
     "output_type": "stream",
     "text": [
      "Train Loss: 0.3379,  Train Accuracy: 0.8747,  Train F1-Score: 0.5553, \n",
      "Val Loss: 0.3423,  Val Accuracy: 0.8751,  Val F1-Score: 0.4551, \n",
      "\n",
      "\n"
     ]
    },
    {
     "name": "stderr",
     "output_type": "stream",
     "text": [
      "Epoch 79: 100%|██████████| 23/23 [00:02<00:00,  8.25it/s]\n"
     ]
    },
    {
     "name": "stdout",
     "output_type": "stream",
     "text": [
      "Train Loss: 0.3421,  Train Accuracy: 0.8710,  Train F1-Score: 0.5346, \n",
      "Val Loss: 0.3494,  Val Accuracy: 0.8684,  Val F1-Score: 0.4401, \n",
      "\n",
      "\n"
     ]
    },
    {
     "name": "stderr",
     "output_type": "stream",
     "text": [
      "Epoch 80: 100%|██████████| 23/23 [00:02<00:00,  8.22it/s]\n"
     ]
    },
    {
     "name": "stdout",
     "output_type": "stream",
     "text": [
      "Train Loss: 0.3313,  Train Accuracy: 0.8750,  Train F1-Score: 0.5701, \n",
      "Val Loss: 0.3314,  Val Accuracy: 0.8816,  Val F1-Score: 0.5442, \n",
      "\n",
      "\n"
     ]
    },
    {
     "name": "stderr",
     "output_type": "stream",
     "text": [
      "Epoch 81: 100%|██████████| 23/23 [00:02<00:00,  8.19it/s]\n"
     ]
    },
    {
     "name": "stdout",
     "output_type": "stream",
     "text": [
      "Train Loss: 0.3366,  Train Accuracy: 0.8705,  Train F1-Score: 0.5610, \n",
      "Val Loss: 0.3459,  Val Accuracy: 0.8740,  Val F1-Score: 0.4766, \n",
      "\n",
      "\n"
     ]
    },
    {
     "name": "stderr",
     "output_type": "stream",
     "text": [
      "Epoch 82: 100%|██████████| 23/23 [00:02<00:00,  8.20it/s]\n"
     ]
    },
    {
     "name": "stdout",
     "output_type": "stream",
     "text": [
      "Train Loss: 0.3480,  Train Accuracy: 0.8657,  Train F1-Score: 0.5277, \n",
      "Val Loss: 0.3511,  Val Accuracy: 0.8676,  Val F1-Score: 0.4022, \n",
      "\n",
      "\n"
     ]
    },
    {
     "name": "stderr",
     "output_type": "stream",
     "text": [
      "Epoch 83: 100%|██████████| 23/23 [00:02<00:00,  8.19it/s]\n"
     ]
    },
    {
     "name": "stdout",
     "output_type": "stream",
     "text": [
      "Train Loss: 0.3392,  Train Accuracy: 0.8713,  Train F1-Score: 0.5516, \n",
      "Val Loss: 0.3258,  Val Accuracy: 0.8799,  Val F1-Score: 0.5070, \n",
      "\n",
      "\n"
     ]
    },
    {
     "name": "stderr",
     "output_type": "stream",
     "text": [
      "Epoch 84: 100%|██████████| 23/23 [00:02<00:00,  8.20it/s]\n"
     ]
    },
    {
     "name": "stdout",
     "output_type": "stream",
     "text": [
      "Train Loss: 0.3306,  Train Accuracy: 0.8731,  Train F1-Score: 0.5720, \n",
      "Val Loss: 0.3322,  Val Accuracy: 0.8802,  Val F1-Score: 0.4971, \n",
      "\n",
      "\n"
     ]
    },
    {
     "name": "stderr",
     "output_type": "stream",
     "text": [
      "Epoch 85: 100%|██████████| 23/23 [00:02<00:00,  8.20it/s]\n"
     ]
    },
    {
     "name": "stdout",
     "output_type": "stream",
     "text": [
      "Train Loss: 0.3345,  Train Accuracy: 0.8722,  Train F1-Score: 0.5547, \n",
      "Val Loss: 0.3331,  Val Accuracy: 0.8841,  Val F1-Score: 0.5236, \n",
      "\n",
      "\n"
     ]
    },
    {
     "name": "stderr",
     "output_type": "stream",
     "text": [
      "Epoch 86: 100%|██████████| 23/23 [00:02<00:00,  8.23it/s]\n"
     ]
    },
    {
     "name": "stdout",
     "output_type": "stream",
     "text": [
      "Train Loss: 0.3407,  Train Accuracy: 0.8723,  Train F1-Score: 0.5616, \n",
      "Val Loss: 0.3410,  Val Accuracy: 0.8776,  Val F1-Score: 0.5016, \n",
      "\n",
      "\n"
     ]
    },
    {
     "name": "stderr",
     "output_type": "stream",
     "text": [
      "Epoch 87: 100%|██████████| 23/23 [00:02<00:00,  8.23it/s]\n"
     ]
    },
    {
     "name": "stdout",
     "output_type": "stream",
     "text": [
      "Train Loss: 0.3418,  Train Accuracy: 0.8731,  Train F1-Score: 0.5566, \n",
      "Val Loss: 0.3424,  Val Accuracy: 0.8773,  Val F1-Score: 0.5027, \n",
      "\n",
      "\n"
     ]
    },
    {
     "name": "stderr",
     "output_type": "stream",
     "text": [
      "Epoch 88: 100%|██████████| 23/23 [00:02<00:00,  8.07it/s]\n"
     ]
    },
    {
     "name": "stdout",
     "output_type": "stream",
     "text": [
      "Train Loss: 0.3347,  Train Accuracy: 0.8743,  Train F1-Score: 0.5518, \n",
      "Val Loss: 0.3410,  Val Accuracy: 0.8772,  Val F1-Score: 0.5136, \n",
      "\n",
      "\n"
     ]
    },
    {
     "name": "stderr",
     "output_type": "stream",
     "text": [
      "Epoch 89: 100%|██████████| 23/23 [00:02<00:00,  8.26it/s]\n"
     ]
    },
    {
     "name": "stdout",
     "output_type": "stream",
     "text": [
      "Train Loss: 0.3334,  Train Accuracy: 0.8741,  Train F1-Score: 0.5648, \n",
      "Val Loss: 0.3464,  Val Accuracy: 0.8685,  Val F1-Score: 0.4489, \n",
      "\n",
      "\n"
     ]
    },
    {
     "name": "stderr",
     "output_type": "stream",
     "text": [
      "Epoch 90: 100%|██████████| 23/23 [00:02<00:00,  8.35it/s]\n"
     ]
    },
    {
     "name": "stdout",
     "output_type": "stream",
     "text": [
      "Train Loss: 0.3333,  Train Accuracy: 0.8731,  Train F1-Score: 0.5484, \n",
      "Val Loss: 0.3459,  Val Accuracy: 0.8758,  Val F1-Score: 0.5008, \n",
      "\n",
      "\n"
     ]
    },
    {
     "name": "stderr",
     "output_type": "stream",
     "text": [
      "Epoch 91: 100%|██████████| 23/23 [00:02<00:00,  8.37it/s]\n"
     ]
    },
    {
     "name": "stdout",
     "output_type": "stream",
     "text": [
      "Train Loss: 0.3433,  Train Accuracy: 0.8703,  Train F1-Score: 0.5415, \n",
      "Val Loss: 0.3584,  Val Accuracy: 0.8677,  Val F1-Score: 0.4964, \n",
      "\n",
      "\n"
     ]
    },
    {
     "name": "stderr",
     "output_type": "stream",
     "text": [
      "Epoch 92: 100%|██████████| 23/23 [00:02<00:00,  8.36it/s]\n"
     ]
    },
    {
     "name": "stdout",
     "output_type": "stream",
     "text": [
      "Train Loss: 0.3306,  Train Accuracy: 0.8752,  Train F1-Score: 0.5719, \n",
      "Val Loss: 0.3451,  Val Accuracy: 0.8724,  Val F1-Score: 0.4955, \n",
      "\n",
      "\n"
     ]
    },
    {
     "name": "stderr",
     "output_type": "stream",
     "text": [
      "Epoch 93: 100%|██████████| 23/23 [00:02<00:00,  8.34it/s]\n"
     ]
    },
    {
     "name": "stdout",
     "output_type": "stream",
     "text": [
      "Train Loss: 0.3296,  Train Accuracy: 0.8732,  Train F1-Score: 0.5693, \n",
      "Val Loss: 0.3355,  Val Accuracy: 0.8771,  Val F1-Score: 0.5173, \n",
      "\n",
      "\n"
     ]
    },
    {
     "name": "stderr",
     "output_type": "stream",
     "text": [
      "Epoch 94: 100%|██████████| 23/23 [00:02<00:00,  8.25it/s]\n"
     ]
    },
    {
     "name": "stdout",
     "output_type": "stream",
     "text": [
      "Train Loss: 0.3279,  Train Accuracy: 0.8772,  Train F1-Score: 0.5889, \n",
      "Val Loss: 0.3404,  Val Accuracy: 0.8722,  Val F1-Score: 0.4848, \n",
      "\n",
      "\n"
     ]
    },
    {
     "name": "stderr",
     "output_type": "stream",
     "text": [
      "Epoch 95: 100%|██████████| 23/23 [00:02<00:00,  8.24it/s]\n"
     ]
    },
    {
     "name": "stdout",
     "output_type": "stream",
     "text": [
      "Train Loss: 0.3258,  Train Accuracy: 0.8785,  Train F1-Score: 0.5963, \n",
      "Val Loss: 0.3321,  Val Accuracy: 0.8825,  Val F1-Score: 0.5342, \n",
      "\n",
      "\n"
     ]
    },
    {
     "name": "stderr",
     "output_type": "stream",
     "text": [
      "Epoch 96: 100%|██████████| 23/23 [00:02<00:00,  8.24it/s]\n"
     ]
    },
    {
     "name": "stdout",
     "output_type": "stream",
     "text": [
      "Train Loss: 0.3210,  Train Accuracy: 0.8801,  Train F1-Score: 0.6028, \n",
      "Val Loss: 0.3323,  Val Accuracy: 0.8806,  Val F1-Score: 0.5335, \n",
      "\n",
      "\n"
     ]
    },
    {
     "name": "stderr",
     "output_type": "stream",
     "text": [
      "Epoch 97: 100%|██████████| 23/23 [00:02<00:00,  8.21it/s]\n"
     ]
    },
    {
     "name": "stdout",
     "output_type": "stream",
     "text": [
      "Train Loss: 0.3186,  Train Accuracy: 0.8796,  Train F1-Score: 0.5947, \n",
      "Val Loss: 0.3286,  Val Accuracy: 0.8888,  Val F1-Score: 0.5510, \n",
      "\n",
      "\n"
     ]
    },
    {
     "name": "stderr",
     "output_type": "stream",
     "text": [
      "Epoch 98: 100%|██████████| 23/23 [00:02<00:00,  8.21it/s]\n"
     ]
    },
    {
     "name": "stdout",
     "output_type": "stream",
     "text": [
      "Train Loss: 0.3292,  Train Accuracy: 0.8789,  Train F1-Score: 0.5902, \n",
      "Val Loss: 0.3376,  Val Accuracy: 0.8761,  Val F1-Score: 0.4879, \n",
      "\n",
      "\n"
     ]
    },
    {
     "name": "stderr",
     "output_type": "stream",
     "text": [
      "Epoch 99: 100%|██████████| 23/23 [00:02<00:00,  8.22it/s]\n"
     ]
    },
    {
     "name": "stdout",
     "output_type": "stream",
     "text": [
      "Train Loss: 0.3248,  Train Accuracy: 0.8776,  Train F1-Score: 0.5832, \n",
      "Val Loss: 0.3493,  Val Accuracy: 0.8651,  Val F1-Score: 0.5127, \n",
      "\n",
      "\n"
     ]
    },
    {
     "name": "stderr",
     "output_type": "stream",
     "text": [
      "Epoch 100: 100%|██████████| 23/23 [00:02<00:00,  8.22it/s]\n"
     ]
    },
    {
     "name": "stdout",
     "output_type": "stream",
     "text": [
      "Train Loss: 0.3224,  Train Accuracy: 0.8795,  Train F1-Score: 0.6052, \n",
      "Val Loss: 0.3391,  Val Accuracy: 0.8777,  Val F1-Score: 0.5206, \n",
      "\n",
      "\n"
     ]
    },
    {
     "name": "stderr",
     "output_type": "stream",
     "text": [
      "Epoch 101: 100%|██████████| 23/23 [00:02<00:00,  8.23it/s]\n"
     ]
    },
    {
     "name": "stdout",
     "output_type": "stream",
     "text": [
      "Train Loss: 0.3175,  Train Accuracy: 0.8798,  Train F1-Score: 0.5966, \n",
      "Val Loss: 0.3350,  Val Accuracy: 0.8807,  Val F1-Score: 0.5614, \n",
      "\n",
      "\n"
     ]
    },
    {
     "name": "stderr",
     "output_type": "stream",
     "text": [
      "Epoch 102: 100%|██████████| 23/23 [00:02<00:00,  8.21it/s]\n"
     ]
    },
    {
     "name": "stdout",
     "output_type": "stream",
     "text": [
      "Train Loss: 0.3200,  Train Accuracy: 0.8780,  Train F1-Score: 0.5978, \n",
      "Val Loss: 0.3382,  Val Accuracy: 0.8811,  Val F1-Score: 0.5308, \n",
      "\n",
      "\n"
     ]
    },
    {
     "name": "stderr",
     "output_type": "stream",
     "text": [
      "Epoch 103: 100%|██████████| 23/23 [00:02<00:00,  8.22it/s]\n"
     ]
    },
    {
     "name": "stdout",
     "output_type": "stream",
     "text": [
      "Train Loss: 0.3148,  Train Accuracy: 0.8817,  Train F1-Score: 0.6100, \n",
      "Val Loss: 0.3449,  Val Accuracy: 0.8775,  Val F1-Score: 0.5174, \n",
      "\n",
      "\n"
     ]
    },
    {
     "name": "stderr",
     "output_type": "stream",
     "text": [
      "Epoch 104: 100%|██████████| 23/23 [00:02<00:00,  8.24it/s]\n"
     ]
    },
    {
     "name": "stdout",
     "output_type": "stream",
     "text": [
      "Train Loss: 0.3280,  Train Accuracy: 0.8792,  Train F1-Score: 0.5954, \n",
      "Val Loss: 0.3306,  Val Accuracy: 0.8874,  Val F1-Score: 0.5425, \n",
      "\n",
      "\n"
     ]
    },
    {
     "name": "stderr",
     "output_type": "stream",
     "text": [
      "Epoch 105: 100%|██████████| 23/23 [00:02<00:00,  8.33it/s]\n"
     ]
    },
    {
     "name": "stdout",
     "output_type": "stream",
     "text": [
      "Train Loss: 0.3243,  Train Accuracy: 0.8802,  Train F1-Score: 0.5955, \n",
      "Val Loss: 0.3442,  Val Accuracy: 0.8832,  Val F1-Score: 0.5353, \n",
      "\n",
      "\n"
     ]
    },
    {
     "name": "stderr",
     "output_type": "stream",
     "text": [
      "Epoch 106: 100%|██████████| 23/23 [00:02<00:00,  8.34it/s]\n"
     ]
    },
    {
     "name": "stdout",
     "output_type": "stream",
     "text": [
      "Train Loss: 0.3130,  Train Accuracy: 0.8819,  Train F1-Score: 0.6071, \n",
      "Val Loss: 0.3272,  Val Accuracy: 0.8850,  Val F1-Score: 0.5239, \n",
      "\n",
      "\n"
     ]
    },
    {
     "name": "stderr",
     "output_type": "stream",
     "text": [
      "Epoch 107: 100%|██████████| 23/23 [00:02<00:00,  7.98it/s]\n"
     ]
    },
    {
     "name": "stdout",
     "output_type": "stream",
     "text": [
      "Train Loss: 0.3124,  Train Accuracy: 0.8838,  Train F1-Score: 0.6118, \n",
      "Val Loss: 0.3506,  Val Accuracy: 0.8811,  Val F1-Score: 0.5481, \n",
      "\n",
      "\n"
     ]
    },
    {
     "name": "stderr",
     "output_type": "stream",
     "text": [
      "Epoch 108: 100%|██████████| 23/23 [00:02<00:00,  8.35it/s]\n"
     ]
    },
    {
     "name": "stdout",
     "output_type": "stream",
     "text": [
      "Train Loss: 0.3099,  Train Accuracy: 0.8828,  Train F1-Score: 0.6125, \n",
      "Val Loss: 0.3442,  Val Accuracy: 0.8759,  Val F1-Score: 0.5487, \n",
      "\n",
      "\n"
     ]
    },
    {
     "name": "stderr",
     "output_type": "stream",
     "text": [
      "Epoch 109: 100%|██████████| 23/23 [00:02<00:00,  8.25it/s]\n"
     ]
    },
    {
     "name": "stdout",
     "output_type": "stream",
     "text": [
      "Train Loss: 0.3152,  Train Accuracy: 0.8856,  Train F1-Score: 0.6289, \n",
      "Val Loss: 0.3218,  Val Accuracy: 0.8820,  Val F1-Score: 0.5455, \n",
      "\n",
      "\n"
     ]
    },
    {
     "name": "stderr",
     "output_type": "stream",
     "text": [
      "Epoch 110: 100%|██████████| 23/23 [00:02<00:00,  8.24it/s]\n"
     ]
    },
    {
     "name": "stdout",
     "output_type": "stream",
     "text": [
      "Train Loss: 0.3091,  Train Accuracy: 0.8814,  Train F1-Score: 0.6318, \n",
      "Val Loss: 0.3465,  Val Accuracy: 0.8834,  Val F1-Score: 0.5249, \n",
      "\n",
      "\n"
     ]
    },
    {
     "name": "stderr",
     "output_type": "stream",
     "text": [
      "Epoch 111: 100%|██████████| 23/23 [00:02<00:00,  8.24it/s]\n"
     ]
    },
    {
     "name": "stdout",
     "output_type": "stream",
     "text": [
      "Train Loss: 0.3243,  Train Accuracy: 0.8777,  Train F1-Score: 0.5779, \n",
      "Val Loss: 0.3478,  Val Accuracy: 0.8778,  Val F1-Score: 0.5150, \n",
      "\n",
      "\n"
     ]
    },
    {
     "name": "stderr",
     "output_type": "stream",
     "text": [
      "Epoch 112: 100%|██████████| 23/23 [00:02<00:00,  8.23it/s]\n"
     ]
    },
    {
     "name": "stdout",
     "output_type": "stream",
     "text": [
      "Train Loss: 0.3174,  Train Accuracy: 0.8799,  Train F1-Score: 0.6035, \n",
      "Val Loss: 0.3391,  Val Accuracy: 0.8794,  Val F1-Score: 0.5423, \n",
      "\n",
      "\n"
     ]
    },
    {
     "name": "stderr",
     "output_type": "stream",
     "text": [
      "Epoch 113: 100%|██████████| 23/23 [00:02<00:00,  8.25it/s]\n"
     ]
    },
    {
     "name": "stdout",
     "output_type": "stream",
     "text": [
      "Train Loss: 0.3179,  Train Accuracy: 0.8814,  Train F1-Score: 0.6072, \n",
      "Val Loss: 0.3234,  Val Accuracy: 0.8822,  Val F1-Score: 0.5626, \n",
      "\n",
      "\n"
     ]
    },
    {
     "name": "stderr",
     "output_type": "stream",
     "text": [
      "Epoch 114: 100%|██████████| 23/23 [00:02<00:00,  8.22it/s]\n"
     ]
    },
    {
     "name": "stdout",
     "output_type": "stream",
     "text": [
      "Train Loss: 0.3052,  Train Accuracy: 0.8875,  Train F1-Score: 0.6349, \n",
      "Val Loss: 0.3266,  Val Accuracy: 0.8846,  Val F1-Score: 0.5270, \n",
      "\n",
      "\n"
     ]
    },
    {
     "name": "stderr",
     "output_type": "stream",
     "text": [
      "Epoch 115: 100%|██████████| 23/23 [00:02<00:00,  8.23it/s]\n"
     ]
    },
    {
     "name": "stdout",
     "output_type": "stream",
     "text": [
      "Train Loss: 0.3133,  Train Accuracy: 0.8830,  Train F1-Score: 0.6159, \n",
      "Val Loss: 0.3303,  Val Accuracy: 0.8830,  Val F1-Score: 0.5599, \n",
      "\n",
      "\n"
     ]
    },
    {
     "name": "stderr",
     "output_type": "stream",
     "text": [
      "Epoch 116: 100%|██████████| 23/23 [00:02<00:00,  8.23it/s]\n"
     ]
    },
    {
     "name": "stdout",
     "output_type": "stream",
     "text": [
      "Train Loss: 0.3111,  Train Accuracy: 0.8824,  Train F1-Score: 0.6081, \n",
      "Val Loss: 0.3215,  Val Accuracy: 0.8836,  Val F1-Score: 0.5768, \n",
      "\n",
      "\n"
     ]
    },
    {
     "name": "stderr",
     "output_type": "stream",
     "text": [
      "Epoch 117: 100%|██████████| 23/23 [00:02<00:00,  8.21it/s]\n"
     ]
    },
    {
     "name": "stdout",
     "output_type": "stream",
     "text": [
      "Train Loss: 0.3199,  Train Accuracy: 0.8801,  Train F1-Score: 0.6108, \n",
      "Val Loss: 0.3329,  Val Accuracy: 0.8794,  Val F1-Score: 0.5491, \n",
      "\n",
      "\n"
     ]
    },
    {
     "name": "stderr",
     "output_type": "stream",
     "text": [
      "Epoch 118: 100%|██████████| 23/23 [00:02<00:00,  8.22it/s]\n"
     ]
    },
    {
     "name": "stdout",
     "output_type": "stream",
     "text": [
      "Train Loss: 0.3162,  Train Accuracy: 0.8807,  Train F1-Score: 0.6107, \n",
      "Val Loss: 0.3240,  Val Accuracy: 0.8847,  Val F1-Score: 0.5414, \n",
      "\n",
      "\n"
     ]
    },
    {
     "name": "stderr",
     "output_type": "stream",
     "text": [
      "Epoch 119: 100%|██████████| 23/23 [00:02<00:00,  8.27it/s]\n"
     ]
    },
    {
     "name": "stdout",
     "output_type": "stream",
     "text": [
      "Train Loss: 0.3089,  Train Accuracy: 0.8841,  Train F1-Score: 0.6235, \n",
      "Val Loss: 0.3292,  Val Accuracy: 0.8804,  Val F1-Score: 0.5420, \n",
      "\n",
      "\n"
     ]
    },
    {
     "name": "stderr",
     "output_type": "stream",
     "text": [
      "Epoch 120: 100%|██████████| 23/23 [00:02<00:00,  8.36it/s]\n"
     ]
    },
    {
     "name": "stdout",
     "output_type": "stream",
     "text": [
      "Train Loss: 0.3029,  Train Accuracy: 0.8861,  Train F1-Score: 0.6388, \n",
      "Val Loss: 0.3343,  Val Accuracy: 0.8781,  Val F1-Score: 0.5231, \n",
      "\n",
      "\n"
     ]
    },
    {
     "name": "stderr",
     "output_type": "stream",
     "text": [
      "Epoch 121: 100%|██████████| 23/23 [00:02<00:00,  8.34it/s]\n"
     ]
    },
    {
     "name": "stdout",
     "output_type": "stream",
     "text": [
      "Train Loss: 0.3059,  Train Accuracy: 0.8863,  Train F1-Score: 0.6324, \n",
      "Val Loss: 0.3358,  Val Accuracy: 0.8812,  Val F1-Score: 0.5513, \n",
      "\n",
      "\n"
     ]
    },
    {
     "name": "stderr",
     "output_type": "stream",
     "text": [
      "Epoch 122: 100%|██████████| 23/23 [00:02<00:00,  8.34it/s]\n"
     ]
    },
    {
     "name": "stdout",
     "output_type": "stream",
     "text": [
      "Train Loss: 0.3010,  Train Accuracy: 0.8861,  Train F1-Score: 0.6299, \n",
      "Val Loss: 0.3303,  Val Accuracy: 0.8810,  Val F1-Score: 0.5739, \n",
      "\n",
      "\n"
     ]
    },
    {
     "name": "stderr",
     "output_type": "stream",
     "text": [
      "Epoch 123: 100%|██████████| 23/23 [00:02<00:00,  8.27it/s]\n"
     ]
    },
    {
     "name": "stdout",
     "output_type": "stream",
     "text": [
      "Train Loss: 0.3277,  Train Accuracy: 0.8787,  Train F1-Score: 0.6036, \n",
      "Val Loss: 0.3315,  Val Accuracy: 0.8795,  Val F1-Score: 0.5163, \n",
      "\n",
      "\n"
     ]
    },
    {
     "name": "stderr",
     "output_type": "stream",
     "text": [
      "Epoch 124: 100%|██████████| 23/23 [00:02<00:00,  8.21it/s]\n"
     ]
    },
    {
     "name": "stdout",
     "output_type": "stream",
     "text": [
      "Train Loss: 0.3115,  Train Accuracy: 0.8833,  Train F1-Score: 0.6080, \n",
      "Val Loss: 0.3327,  Val Accuracy: 0.8797,  Val F1-Score: 0.5542, \n",
      "\n",
      "\n"
     ]
    },
    {
     "name": "stderr",
     "output_type": "stream",
     "text": [
      "Epoch 125: 100%|██████████| 23/23 [00:02<00:00,  8.21it/s]\n"
     ]
    },
    {
     "name": "stdout",
     "output_type": "stream",
     "text": [
      "Train Loss: 0.3129,  Train Accuracy: 0.8833,  Train F1-Score: 0.6266, \n",
      "Val Loss: 0.3266,  Val Accuracy: 0.8810,  Val F1-Score: 0.5464, \n",
      "\n",
      "\n"
     ]
    },
    {
     "name": "stderr",
     "output_type": "stream",
     "text": [
      "Epoch 126: 100%|██████████| 23/23 [00:02<00:00,  8.23it/s]\n"
     ]
    },
    {
     "name": "stdout",
     "output_type": "stream",
     "text": [
      "Train Loss: 0.3185,  Train Accuracy: 0.8814,  Train F1-Score: 0.6023, \n",
      "Val Loss: 0.3212,  Val Accuracy: 0.8879,  Val F1-Score: 0.5716, \n",
      "\n",
      "\n"
     ]
    },
    {
     "name": "stderr",
     "output_type": "stream",
     "text": [
      "Epoch 127: 100%|██████████| 23/23 [00:02<00:00,  8.05it/s]\n"
     ]
    },
    {
     "name": "stdout",
     "output_type": "stream",
     "text": [
      "Train Loss: 0.3026,  Train Accuracy: 0.8875,  Train F1-Score: 0.6449, \n",
      "Val Loss: 0.3227,  Val Accuracy: 0.8860,  Val F1-Score: 0.5643, \n",
      "\n",
      "\n"
     ]
    },
    {
     "name": "stderr",
     "output_type": "stream",
     "text": [
      "Epoch 128: 100%|██████████| 23/23 [00:02<00:00,  8.25it/s]\n"
     ]
    },
    {
     "name": "stdout",
     "output_type": "stream",
     "text": [
      "Train Loss: 0.3094,  Train Accuracy: 0.8794,  Train F1-Score: 0.6130, \n",
      "Val Loss: 0.3544,  Val Accuracy: 0.8790,  Val F1-Score: 0.5200, \n",
      "\n",
      "\n"
     ]
    },
    {
     "name": "stderr",
     "output_type": "stream",
     "text": [
      "Epoch 129: 100%|██████████| 23/23 [00:02<00:00,  8.24it/s]\n"
     ]
    },
    {
     "name": "stdout",
     "output_type": "stream",
     "text": [
      "Train Loss: 0.3154,  Train Accuracy: 0.8837,  Train F1-Score: 0.6142, \n",
      "Val Loss: 0.3528,  Val Accuracy: 0.8778,  Val F1-Score: 0.5028, \n",
      "\n",
      "\n"
     ]
    },
    {
     "name": "stderr",
     "output_type": "stream",
     "text": [
      "Epoch 130: 100%|██████████| 23/23 [00:02<00:00,  8.23it/s]\n"
     ]
    },
    {
     "name": "stdout",
     "output_type": "stream",
     "text": [
      "Train Loss: 0.3071,  Train Accuracy: 0.8844,  Train F1-Score: 0.6150, \n",
      "Val Loss: 0.3437,  Val Accuracy: 0.8800,  Val F1-Score: 0.5447, \n",
      "\n",
      "\n"
     ]
    },
    {
     "name": "stderr",
     "output_type": "stream",
     "text": [
      "Epoch 131: 100%|██████████| 23/23 [00:02<00:00,  8.24it/s]\n"
     ]
    },
    {
     "name": "stdout",
     "output_type": "stream",
     "text": [
      "Train Loss: 0.3056,  Train Accuracy: 0.8850,  Train F1-Score: 0.6235, \n",
      "Val Loss: 0.3238,  Val Accuracy: 0.8851,  Val F1-Score: 0.5615, \n",
      "\n",
      "\n"
     ]
    },
    {
     "name": "stderr",
     "output_type": "stream",
     "text": [
      "Epoch 132: 100%|██████████| 23/23 [00:02<00:00,  8.25it/s]\n"
     ]
    },
    {
     "name": "stdout",
     "output_type": "stream",
     "text": [
      "Train Loss: 0.3005,  Train Accuracy: 0.8883,  Train F1-Score: 0.6467, \n",
      "Val Loss: 0.3438,  Val Accuracy: 0.8751,  Val F1-Score: 0.5590, \n",
      "\n",
      "\n"
     ]
    },
    {
     "name": "stderr",
     "output_type": "stream",
     "text": [
      "Epoch 133: 100%|██████████| 23/23 [00:02<00:00,  8.26it/s]\n"
     ]
    },
    {
     "name": "stdout",
     "output_type": "stream",
     "text": [
      "Train Loss: 0.2931,  Train Accuracy: 0.8908,  Train F1-Score: 0.6534, \n",
      "Val Loss: 0.3231,  Val Accuracy: 0.8865,  Val F1-Score: 0.5809, \n",
      "\n",
      "\n"
     ]
    },
    {
     "name": "stderr",
     "output_type": "stream",
     "text": [
      "Epoch 134: 100%|██████████| 23/23 [00:02<00:00,  8.32it/s]\n"
     ]
    },
    {
     "name": "stdout",
     "output_type": "stream",
     "text": [
      "Train Loss: 0.3025,  Train Accuracy: 0.8872,  Train F1-Score: 0.6346, \n",
      "Val Loss: 0.3402,  Val Accuracy: 0.8836,  Val F1-Score: 0.5710, \n",
      "\n",
      "\n"
     ]
    },
    {
     "name": "stderr",
     "output_type": "stream",
     "text": [
      "Epoch 135: 100%|██████████| 23/23 [00:02<00:00,  8.36it/s]\n"
     ]
    },
    {
     "name": "stdout",
     "output_type": "stream",
     "text": [
      "Train Loss: 0.3083,  Train Accuracy: 0.8882,  Train F1-Score: 0.6327, \n",
      "Val Loss: 0.3241,  Val Accuracy: 0.8802,  Val F1-Score: 0.5276, \n",
      "\n",
      "\n"
     ]
    },
    {
     "name": "stderr",
     "output_type": "stream",
     "text": [
      "Epoch 136: 100%|██████████| 23/23 [00:02<00:00,  8.35it/s]\n"
     ]
    },
    {
     "name": "stdout",
     "output_type": "stream",
     "text": [
      "Train Loss: 0.3144,  Train Accuracy: 0.8803,  Train F1-Score: 0.6125, \n",
      "Val Loss: 0.3257,  Val Accuracy: 0.8791,  Val F1-Score: 0.5330, \n",
      "\n",
      "\n"
     ]
    },
    {
     "name": "stderr",
     "output_type": "stream",
     "text": [
      "Epoch 137: 100%|██████████| 23/23 [00:02<00:00,  8.31it/s]\n"
     ]
    },
    {
     "name": "stdout",
     "output_type": "stream",
     "text": [
      "Train Loss: 0.2982,  Train Accuracy: 0.8880,  Train F1-Score: 0.6302, \n",
      "Val Loss: 0.3363,  Val Accuracy: 0.8850,  Val F1-Score: 0.5611, \n",
      "\n",
      "\n"
     ]
    },
    {
     "name": "stderr",
     "output_type": "stream",
     "text": [
      "Epoch 138: 100%|██████████| 23/23 [00:02<00:00,  8.23it/s]\n"
     ]
    },
    {
     "name": "stdout",
     "output_type": "stream",
     "text": [
      "Train Loss: 0.3007,  Train Accuracy: 0.8879,  Train F1-Score: 0.6417, \n",
      "Val Loss: 0.3384,  Val Accuracy: 0.8792,  Val F1-Score: 0.5693, \n",
      "\n",
      "\n"
     ]
    },
    {
     "name": "stderr",
     "output_type": "stream",
     "text": [
      "Epoch 139: 100%|██████████| 23/23 [00:02<00:00,  8.22it/s]\n"
     ]
    },
    {
     "name": "stdout",
     "output_type": "stream",
     "text": [
      "Train Loss: 0.2985,  Train Accuracy: 0.8904,  Train F1-Score: 0.6541, \n",
      "Val Loss: 0.3264,  Val Accuracy: 0.8772,  Val F1-Score: 0.5343, \n",
      "\n",
      "\n"
     ]
    },
    {
     "name": "stderr",
     "output_type": "stream",
     "text": [
      "Epoch 140: 100%|██████████| 23/23 [00:02<00:00,  8.19it/s]\n"
     ]
    },
    {
     "name": "stdout",
     "output_type": "stream",
     "text": [
      "Train Loss: 0.2952,  Train Accuracy: 0.8886,  Train F1-Score: 0.6417, \n",
      "Val Loss: 0.3277,  Val Accuracy: 0.8878,  Val F1-Score: 0.5661, \n",
      "\n",
      "\n"
     ]
    },
    {
     "name": "stderr",
     "output_type": "stream",
     "text": [
      "Epoch 141: 100%|██████████| 23/23 [00:02<00:00,  8.24it/s]\n"
     ]
    },
    {
     "name": "stdout",
     "output_type": "stream",
     "text": [
      "Train Loss: 0.2868,  Train Accuracy: 0.8956,  Train F1-Score: 0.6748, \n",
      "Val Loss: 0.3406,  Val Accuracy: 0.8785,  Val F1-Score: 0.5518, \n",
      "\n",
      "\n"
     ]
    },
    {
     "name": "stderr",
     "output_type": "stream",
     "text": [
      "Epoch 142: 100%|██████████| 23/23 [00:02<00:00,  8.24it/s]\n"
     ]
    },
    {
     "name": "stdout",
     "output_type": "stream",
     "text": [
      "Train Loss: 0.2928,  Train Accuracy: 0.8918,  Train F1-Score: 0.6606, \n",
      "Val Loss: 0.3626,  Val Accuracy: 0.8772,  Val F1-Score: 0.5199, \n",
      "\n",
      "\n"
     ]
    },
    {
     "name": "stderr",
     "output_type": "stream",
     "text": [
      "Epoch 143: 100%|██████████| 23/23 [00:02<00:00,  8.23it/s]\n"
     ]
    },
    {
     "name": "stdout",
     "output_type": "stream",
     "text": [
      "Train Loss: 0.2990,  Train Accuracy: 0.8883,  Train F1-Score: 0.6449, \n",
      "Val Loss: 0.3283,  Val Accuracy: 0.8839,  Val F1-Score: 0.5570, \n",
      "\n",
      "\n"
     ]
    },
    {
     "name": "stderr",
     "output_type": "stream",
     "text": [
      "Epoch 144: 100%|██████████| 23/23 [00:02<00:00,  8.20it/s]\n"
     ]
    },
    {
     "name": "stdout",
     "output_type": "stream",
     "text": [
      "Train Loss: 0.2921,  Train Accuracy: 0.8915,  Train F1-Score: 0.6555, \n",
      "Val Loss: 0.3338,  Val Accuracy: 0.8869,  Val F1-Score: 0.5888, \n",
      "\n",
      "\n"
     ]
    },
    {
     "name": "stderr",
     "output_type": "stream",
     "text": [
      "Epoch 145: 100%|██████████| 23/23 [00:02<00:00,  8.22it/s]\n"
     ]
    },
    {
     "name": "stdout",
     "output_type": "stream",
     "text": [
      "Train Loss: 0.2873,  Train Accuracy: 0.8963,  Train F1-Score: 0.6670, \n",
      "Val Loss: 0.3420,  Val Accuracy: 0.8823,  Val F1-Score: 0.5750, \n",
      "\n",
      "\n"
     ]
    },
    {
     "name": "stderr",
     "output_type": "stream",
     "text": [
      "Epoch 146: 100%|██████████| 23/23 [00:02<00:00,  7.95it/s]\n"
     ]
    },
    {
     "name": "stdout",
     "output_type": "stream",
     "text": [
      "Train Loss: 0.2826,  Train Accuracy: 0.8973,  Train F1-Score: 0.6789, \n",
      "Val Loss: 0.3459,  Val Accuracy: 0.8807,  Val F1-Score: 0.5395, \n",
      "\n",
      "\n"
     ]
    },
    {
     "name": "stderr",
     "output_type": "stream",
     "text": [
      "Epoch 147: 100%|██████████| 23/23 [00:02<00:00,  8.20it/s]\n"
     ]
    },
    {
     "name": "stdout",
     "output_type": "stream",
     "text": [
      "Train Loss: 0.2928,  Train Accuracy: 0.8897,  Train F1-Score: 0.6575, \n",
      "Val Loss: 0.3356,  Val Accuracy: 0.8819,  Val F1-Score: 0.5083, \n",
      "\n",
      "\n"
     ]
    },
    {
     "name": "stderr",
     "output_type": "stream",
     "text": [
      "Epoch 148: 100%|██████████| 23/23 [00:02<00:00,  8.29it/s]\n"
     ]
    },
    {
     "name": "stdout",
     "output_type": "stream",
     "text": [
      "Train Loss: 0.2814,  Train Accuracy: 0.8961,  Train F1-Score: 0.6652, \n",
      "Val Loss: 0.3403,  Val Accuracy: 0.8884,  Val F1-Score: 0.5751, \n",
      "\n",
      "\n"
     ]
    },
    {
     "name": "stderr",
     "output_type": "stream",
     "text": [
      "Epoch 149: 100%|██████████| 23/23 [00:02<00:00,  8.36it/s]\n"
     ]
    },
    {
     "name": "stdout",
     "output_type": "stream",
     "text": [
      "Train Loss: 0.2978,  Train Accuracy: 0.8916,  Train F1-Score: 0.6588, \n",
      "Val Loss: 0.3222,  Val Accuracy: 0.8892,  Val F1-Score: 0.5716, \n",
      "\n",
      "\n"
     ]
    },
    {
     "name": "stderr",
     "output_type": "stream",
     "text": [
      "Epoch 150: 100%|██████████| 23/23 [00:02<00:00,  8.35it/s]\n"
     ]
    },
    {
     "name": "stdout",
     "output_type": "stream",
     "text": [
      "Train Loss: 0.2822,  Train Accuracy: 0.8957,  Train F1-Score: 0.6697, \n",
      "Val Loss: 0.3334,  Val Accuracy: 0.8818,  Val F1-Score: 0.5645, \n",
      "\n",
      "\n"
     ]
    },
    {
     "name": "stderr",
     "output_type": "stream",
     "text": [
      "Epoch 151: 100%|██████████| 23/23 [00:02<00:00,  8.34it/s]\n"
     ]
    },
    {
     "name": "stdout",
     "output_type": "stream",
     "text": [
      "Train Loss: 0.3021,  Train Accuracy: 0.8890,  Train F1-Score: 0.6510, \n",
      "Val Loss: 0.3455,  Val Accuracy: 0.8800,  Val F1-Score: 0.5132, \n",
      "\n",
      "\n"
     ]
    },
    {
     "name": "stderr",
     "output_type": "stream",
     "text": [
      "Epoch 152: 100%|██████████| 23/23 [00:02<00:00,  8.29it/s]\n"
     ]
    },
    {
     "name": "stdout",
     "output_type": "stream",
     "text": [
      "Train Loss: 0.3091,  Train Accuracy: 0.8848,  Train F1-Score: 0.6069, \n",
      "Val Loss: 0.3589,  Val Accuracy: 0.8743,  Val F1-Score: 0.5236, \n",
      "\n",
      "\n"
     ]
    },
    {
     "name": "stderr",
     "output_type": "stream",
     "text": [
      "Epoch 153: 100%|██████████| 23/23 [00:02<00:00,  8.20it/s]\n"
     ]
    },
    {
     "name": "stdout",
     "output_type": "stream",
     "text": [
      "Train Loss: 0.3007,  Train Accuracy: 0.8882,  Train F1-Score: 0.6325, \n",
      "Val Loss: 0.3552,  Val Accuracy: 0.8791,  Val F1-Score: 0.5079, \n",
      "\n",
      "\n"
     ]
    },
    {
     "name": "stderr",
     "output_type": "stream",
     "text": [
      "Epoch 154: 100%|██████████| 23/23 [00:02<00:00,  8.19it/s]\n"
     ]
    },
    {
     "name": "stdout",
     "output_type": "stream",
     "text": [
      "Train Loss: 0.2944,  Train Accuracy: 0.8901,  Train F1-Score: 0.6455, \n",
      "Val Loss: 0.3444,  Val Accuracy: 0.8798,  Val F1-Score: 0.5390, \n",
      "\n",
      "\n"
     ]
    },
    {
     "name": "stderr",
     "output_type": "stream",
     "text": [
      "Epoch 155: 100%|██████████| 23/23 [00:02<00:00,  8.23it/s]\n"
     ]
    },
    {
     "name": "stdout",
     "output_type": "stream",
     "text": [
      "Train Loss: 0.2907,  Train Accuracy: 0.8893,  Train F1-Score: 0.6328, \n",
      "Val Loss: 0.3408,  Val Accuracy: 0.8797,  Val F1-Score: 0.5213, \n",
      "\n",
      "\n"
     ]
    },
    {
     "name": "stderr",
     "output_type": "stream",
     "text": [
      "Epoch 156: 100%|██████████| 23/23 [00:02<00:00,  8.22it/s]\n"
     ]
    },
    {
     "name": "stdout",
     "output_type": "stream",
     "text": [
      "Train Loss: 0.2863,  Train Accuracy: 0.8930,  Train F1-Score: 0.6555, \n",
      "Val Loss: 0.3402,  Val Accuracy: 0.8750,  Val F1-Score: 0.5252, \n",
      "\n",
      "\n"
     ]
    },
    {
     "name": "stderr",
     "output_type": "stream",
     "text": [
      "Epoch 157: 100%|██████████| 23/23 [00:02<00:00,  8.19it/s]\n"
     ]
    },
    {
     "name": "stdout",
     "output_type": "stream",
     "text": [
      "Train Loss: 0.2848,  Train Accuracy: 0.8936,  Train F1-Score: 0.6559, \n",
      "Val Loss: 0.3363,  Val Accuracy: 0.8807,  Val F1-Score: 0.5415, \n",
      "\n",
      "\n"
     ]
    },
    {
     "name": "stderr",
     "output_type": "stream",
     "text": [
      "Epoch 158: 100%|██████████| 23/23 [00:02<00:00,  8.24it/s]\n"
     ]
    },
    {
     "name": "stdout",
     "output_type": "stream",
     "text": [
      "Train Loss: 0.2782,  Train Accuracy: 0.8969,  Train F1-Score: 0.6762, \n",
      "Val Loss: 0.3347,  Val Accuracy: 0.8865,  Val F1-Score: 0.5833, \n",
      "\n",
      "\n"
     ]
    },
    {
     "name": "stderr",
     "output_type": "stream",
     "text": [
      "Epoch 159: 100%|██████████| 23/23 [00:02<00:00,  8.23it/s]\n"
     ]
    },
    {
     "name": "stdout",
     "output_type": "stream",
     "text": [
      "Train Loss: 0.2774,  Train Accuracy: 0.8983,  Train F1-Score: 0.6847, \n",
      "Val Loss: 0.3473,  Val Accuracy: 0.8805,  Val F1-Score: 0.5576, \n",
      "\n",
      "\n"
     ]
    },
    {
     "name": "stderr",
     "output_type": "stream",
     "text": [
      "Epoch 160: 100%|██████████| 23/23 [00:02<00:00,  8.24it/s]\n"
     ]
    },
    {
     "name": "stdout",
     "output_type": "stream",
     "text": [
      "Train Loss: 0.2801,  Train Accuracy: 0.8964,  Train F1-Score: 0.6757, \n",
      "Val Loss: 0.3399,  Val Accuracy: 0.8836,  Val F1-Score: 0.5472, \n",
      "\n",
      "\n"
     ]
    },
    {
     "name": "stderr",
     "output_type": "stream",
     "text": [
      "Epoch 161: 100%|██████████| 23/23 [00:03<00:00,  7.64it/s]\n"
     ]
    },
    {
     "name": "stdout",
     "output_type": "stream",
     "text": [
      "Train Loss: 0.2772,  Train Accuracy: 0.8981,  Train F1-Score: 0.6786, \n",
      "Val Loss: 0.3340,  Val Accuracy: 0.8865,  Val F1-Score: 0.5669, \n",
      "\n",
      "\n"
     ]
    },
    {
     "name": "stderr",
     "output_type": "stream",
     "text": [
      "Epoch 162: 100%|██████████| 23/23 [00:02<00:00,  8.24it/s]\n"
     ]
    },
    {
     "name": "stdout",
     "output_type": "stream",
     "text": [
      "Train Loss: 0.2741,  Train Accuracy: 0.8997,  Train F1-Score: 0.6842, \n",
      "Val Loss: 0.3351,  Val Accuracy: 0.8863,  Val F1-Score: 0.5566, \n",
      "\n",
      "\n"
     ]
    },
    {
     "name": "stderr",
     "output_type": "stream",
     "text": [
      "Epoch 163: 100%|██████████| 23/23 [00:02<00:00,  8.32it/s]\n"
     ]
    },
    {
     "name": "stdout",
     "output_type": "stream",
     "text": [
      "Train Loss: 0.2756,  Train Accuracy: 0.8981,  Train F1-Score: 0.6838, \n",
      "Val Loss: 0.3369,  Val Accuracy: 0.8848,  Val F1-Score: 0.5470, \n",
      "\n",
      "\n"
     ]
    },
    {
     "name": "stderr",
     "output_type": "stream",
     "text": [
      "Epoch 164: 100%|██████████| 23/23 [00:02<00:00,  8.34it/s]\n"
     ]
    },
    {
     "name": "stdout",
     "output_type": "stream",
     "text": [
      "Train Loss: 0.2719,  Train Accuracy: 0.8992,  Train F1-Score: 0.6879, \n",
      "Val Loss: 0.3457,  Val Accuracy: 0.8855,  Val F1-Score: 0.5523, \n",
      "\n",
      "\n"
     ]
    },
    {
     "name": "stderr",
     "output_type": "stream",
     "text": [
      "Epoch 165: 100%|██████████| 23/23 [00:02<00:00,  8.33it/s]\n"
     ]
    },
    {
     "name": "stdout",
     "output_type": "stream",
     "text": [
      "Train Loss: 0.2721,  Train Accuracy: 0.9023,  Train F1-Score: 0.6945, \n",
      "Val Loss: 0.3426,  Val Accuracy: 0.8808,  Val F1-Score: 0.5744, \n",
      "\n",
      "\n"
     ]
    },
    {
     "name": "stderr",
     "output_type": "stream",
     "text": [
      "Epoch 166: 100%|██████████| 23/23 [00:02<00:00,  8.32it/s]\n"
     ]
    },
    {
     "name": "stdout",
     "output_type": "stream",
     "text": [
      "Train Loss: 0.2799,  Train Accuracy: 0.8969,  Train F1-Score: 0.6755, \n",
      "Val Loss: 0.3326,  Val Accuracy: 0.8839,  Val F1-Score: 0.5917, \n",
      "\n",
      "\n"
     ]
    },
    {
     "name": "stderr",
     "output_type": "stream",
     "text": [
      "Epoch 167: 100%|██████████| 23/23 [00:02<00:00,  8.17it/s]\n"
     ]
    },
    {
     "name": "stdout",
     "output_type": "stream",
     "text": [
      "Train Loss: 0.2763,  Train Accuracy: 0.8980,  Train F1-Score: 0.6808, \n",
      "Val Loss: 0.3479,  Val Accuracy: 0.8769,  Val F1-Score: 0.6043, \n",
      "\n",
      "\n"
     ]
    },
    {
     "name": "stderr",
     "output_type": "stream",
     "text": [
      "Epoch 168: 100%|██████████| 23/23 [00:02<00:00,  8.08it/s]\n"
     ]
    },
    {
     "name": "stdout",
     "output_type": "stream",
     "text": [
      "Train Loss: 0.2660,  Train Accuracy: 0.9022,  Train F1-Score: 0.6962, \n",
      "Val Loss: 0.3460,  Val Accuracy: 0.8863,  Val F1-Score: 0.5510, \n",
      "\n",
      "\n"
     ]
    },
    {
     "name": "stderr",
     "output_type": "stream",
     "text": [
      "Epoch 169: 100%|██████████| 23/23 [00:02<00:00,  8.14it/s]\n"
     ]
    },
    {
     "name": "stdout",
     "output_type": "stream",
     "text": [
      "Train Loss: 0.2691,  Train Accuracy: 0.9020,  Train F1-Score: 0.6897, \n",
      "Val Loss: 0.3388,  Val Accuracy: 0.8800,  Val F1-Score: 0.5747, \n",
      "\n",
      "\n"
     ]
    },
    {
     "name": "stderr",
     "output_type": "stream",
     "text": [
      "Epoch 170: 100%|██████████| 23/23 [00:02<00:00,  8.16it/s]\n"
     ]
    },
    {
     "name": "stdout",
     "output_type": "stream",
     "text": [
      "Train Loss: 0.2711,  Train Accuracy: 0.9013,  Train F1-Score: 0.6986, \n",
      "Val Loss: 0.3410,  Val Accuracy: 0.8821,  Val F1-Score: 0.5623, \n",
      "\n",
      "\n"
     ]
    },
    {
     "name": "stderr",
     "output_type": "stream",
     "text": [
      "Epoch 171: 100%|██████████| 23/23 [00:02<00:00,  8.09it/s]\n"
     ]
    },
    {
     "name": "stdout",
     "output_type": "stream",
     "text": [
      "Train Loss: 0.2648,  Train Accuracy: 0.9035,  Train F1-Score: 0.6979, \n",
      "Val Loss: 0.3363,  Val Accuracy: 0.8843,  Val F1-Score: 0.5847, \n",
      "\n",
      "\n"
     ]
    },
    {
     "name": "stderr",
     "output_type": "stream",
     "text": [
      "Epoch 172: 100%|██████████| 23/23 [00:02<00:00,  8.11it/s]\n"
     ]
    },
    {
     "name": "stdout",
     "output_type": "stream",
     "text": [
      "Train Loss: 0.2692,  Train Accuracy: 0.9006,  Train F1-Score: 0.6908, \n",
      "Val Loss: 0.3520,  Val Accuracy: 0.8794,  Val F1-Score: 0.5819, \n",
      "\n",
      "\n"
     ]
    },
    {
     "name": "stderr",
     "output_type": "stream",
     "text": [
      "Epoch 173: 100%|██████████| 23/23 [00:02<00:00,  8.15it/s]\n"
     ]
    },
    {
     "name": "stdout",
     "output_type": "stream",
     "text": [
      "Train Loss: 0.2695,  Train Accuracy: 0.9023,  Train F1-Score: 0.6977, \n",
      "Val Loss: 0.3438,  Val Accuracy: 0.8829,  Val F1-Score: 0.5480, \n",
      "\n",
      "\n"
     ]
    },
    {
     "name": "stderr",
     "output_type": "stream",
     "text": [
      "Epoch 174: 100%|██████████| 23/23 [00:02<00:00,  8.13it/s]\n"
     ]
    },
    {
     "name": "stdout",
     "output_type": "stream",
     "text": [
      "Train Loss: 0.2669,  Train Accuracy: 0.9049,  Train F1-Score: 0.7009, \n",
      "Val Loss: 0.3399,  Val Accuracy: 0.8855,  Val F1-Score: 0.5733, \n",
      "\n",
      "\n"
     ]
    },
    {
     "name": "stderr",
     "output_type": "stream",
     "text": [
      "Epoch 175: 100%|██████████| 23/23 [00:02<00:00,  8.14it/s]\n"
     ]
    },
    {
     "name": "stdout",
     "output_type": "stream",
     "text": [
      "Train Loss: 0.2592,  Train Accuracy: 0.9049,  Train F1-Score: 0.7122, \n",
      "Val Loss: 0.3640,  Val Accuracy: 0.8807,  Val F1-Score: 0.5592, \n",
      "\n",
      "\n"
     ]
    },
    {
     "name": "stderr",
     "output_type": "stream",
     "text": [
      "Epoch 176: 100%|██████████| 23/23 [00:02<00:00,  8.15it/s]\n"
     ]
    },
    {
     "name": "stdout",
     "output_type": "stream",
     "text": [
      "Train Loss: 0.2621,  Train Accuracy: 0.9035,  Train F1-Score: 0.7037, \n",
      "Val Loss: 0.3491,  Val Accuracy: 0.8863,  Val F1-Score: 0.5963, \n",
      "\n",
      "\n"
     ]
    },
    {
     "name": "stderr",
     "output_type": "stream",
     "text": [
      "Epoch 177: 100%|██████████| 23/23 [00:02<00:00,  8.22it/s]\n"
     ]
    },
    {
     "name": "stdout",
     "output_type": "stream",
     "text": [
      "Train Loss: 0.2660,  Train Accuracy: 0.9047,  Train F1-Score: 0.7016, \n",
      "Val Loss: 0.3416,  Val Accuracy: 0.8776,  Val F1-Score: 0.5374, \n",
      "\n",
      "\n"
     ]
    },
    {
     "name": "stderr",
     "output_type": "stream",
     "text": [
      "Epoch 178: 100%|██████████| 23/23 [00:02<00:00,  8.27it/s]\n"
     ]
    },
    {
     "name": "stdout",
     "output_type": "stream",
     "text": [
      "Train Loss: 0.2688,  Train Accuracy: 0.9010,  Train F1-Score: 0.6884, \n",
      "Val Loss: 0.3570,  Val Accuracy: 0.8808,  Val F1-Score: 0.5782, \n",
      "\n",
      "\n"
     ]
    },
    {
     "name": "stderr",
     "output_type": "stream",
     "text": [
      "Epoch 179: 100%|██████████| 23/23 [00:02<00:00,  8.26it/s]\n"
     ]
    },
    {
     "name": "stdout",
     "output_type": "stream",
     "text": [
      "Train Loss: 0.2580,  Train Accuracy: 0.9047,  Train F1-Score: 0.7111, \n",
      "Val Loss: 0.3502,  Val Accuracy: 0.8904,  Val F1-Score: 0.5689, \n",
      "\n",
      "\n"
     ]
    },
    {
     "name": "stderr",
     "output_type": "stream",
     "text": [
      "Epoch 180: 100%|██████████| 23/23 [00:02<00:00,  8.22it/s]\n"
     ]
    },
    {
     "name": "stdout",
     "output_type": "stream",
     "text": [
      "Train Loss: 0.2638,  Train Accuracy: 0.9026,  Train F1-Score: 0.6934, \n",
      "Val Loss: 0.3534,  Val Accuracy: 0.8856,  Val F1-Score: 0.5933, \n",
      "\n",
      "\n"
     ]
    },
    {
     "name": "stderr",
     "output_type": "stream",
     "text": [
      "Epoch 181: 100%|██████████| 23/23 [00:02<00:00,  8.17it/s]\n"
     ]
    },
    {
     "name": "stdout",
     "output_type": "stream",
     "text": [
      "Train Loss: 0.2691,  Train Accuracy: 0.9007,  Train F1-Score: 0.6914, \n",
      "Val Loss: 0.3393,  Val Accuracy: 0.8856,  Val F1-Score: 0.5758, \n",
      "\n",
      "\n"
     ]
    },
    {
     "name": "stderr",
     "output_type": "stream",
     "text": [
      "Epoch 182: 100%|██████████| 23/23 [00:02<00:00,  8.15it/s]\n"
     ]
    },
    {
     "name": "stdout",
     "output_type": "stream",
     "text": [
      "Train Loss: 0.2736,  Train Accuracy: 0.8969,  Train F1-Score: 0.6819, \n",
      "Val Loss: 0.3477,  Val Accuracy: 0.8757,  Val F1-Score: 0.5079, \n",
      "\n",
      "\n"
     ]
    },
    {
     "name": "stderr",
     "output_type": "stream",
     "text": [
      "Epoch 183: 100%|██████████| 23/23 [00:02<00:00,  8.16it/s]\n"
     ]
    },
    {
     "name": "stdout",
     "output_type": "stream",
     "text": [
      "Train Loss: 0.2586,  Train Accuracy: 0.9070,  Train F1-Score: 0.7074, \n",
      "Val Loss: 0.3539,  Val Accuracy: 0.8842,  Val F1-Score: 0.5864, \n",
      "\n",
      "\n"
     ]
    },
    {
     "name": "stderr",
     "output_type": "stream",
     "text": [
      "Epoch 184: 100%|██████████| 23/23 [00:02<00:00,  8.14it/s]\n"
     ]
    },
    {
     "name": "stdout",
     "output_type": "stream",
     "text": [
      "Train Loss: 0.2588,  Train Accuracy: 0.9051,  Train F1-Score: 0.7094, \n",
      "Val Loss: 0.3592,  Val Accuracy: 0.8751,  Val F1-Score: 0.5720, \n",
      "\n",
      "\n"
     ]
    },
    {
     "name": "stderr",
     "output_type": "stream",
     "text": [
      "Epoch 185: 100%|██████████| 23/23 [00:02<00:00,  8.18it/s]\n"
     ]
    },
    {
     "name": "stdout",
     "output_type": "stream",
     "text": [
      "Train Loss: 0.2598,  Train Accuracy: 0.9050,  Train F1-Score: 0.7134, \n",
      "Val Loss: 0.3572,  Val Accuracy: 0.8795,  Val F1-Score: 0.5632, \n",
      "\n",
      "\n"
     ]
    },
    {
     "name": "stderr",
     "output_type": "stream",
     "text": [
      "Epoch 186: 100%|██████████| 23/23 [00:02<00:00,  8.12it/s]\n"
     ]
    },
    {
     "name": "stdout",
     "output_type": "stream",
     "text": [
      "Train Loss: 0.2673,  Train Accuracy: 0.9030,  Train F1-Score: 0.6913, \n",
      "Val Loss: 0.3577,  Val Accuracy: 0.8765,  Val F1-Score: 0.5336, \n",
      "\n",
      "\n"
     ]
    },
    {
     "name": "stderr",
     "output_type": "stream",
     "text": [
      "Epoch 187: 100%|██████████| 23/23 [00:02<00:00,  8.14it/s]\n"
     ]
    },
    {
     "name": "stdout",
     "output_type": "stream",
     "text": [
      "Train Loss: 0.2598,  Train Accuracy: 0.9053,  Train F1-Score: 0.7053, \n",
      "Val Loss: 0.3355,  Val Accuracy: 0.8820,  Val F1-Score: 0.5940, \n",
      "\n",
      "\n"
     ]
    },
    {
     "name": "stderr",
     "output_type": "stream",
     "text": [
      "Epoch 188: 100%|██████████| 23/23 [00:02<00:00,  8.15it/s]\n"
     ]
    },
    {
     "name": "stdout",
     "output_type": "stream",
     "text": [
      "Train Loss: 0.2443,  Train Accuracy: 0.9112,  Train F1-Score: 0.7310, \n",
      "Val Loss: 0.3644,  Val Accuracy: 0.8748,  Val F1-Score: 0.5544, \n",
      "\n",
      "\n"
     ]
    },
    {
     "name": "stderr",
     "output_type": "stream",
     "text": [
      "Epoch 189: 100%|██████████| 23/23 [00:02<00:00,  8.16it/s]\n"
     ]
    },
    {
     "name": "stdout",
     "output_type": "stream",
     "text": [
      "Train Loss: 0.2599,  Train Accuracy: 0.9054,  Train F1-Score: 0.7088, \n",
      "Val Loss: 0.3421,  Val Accuracy: 0.8740,  Val F1-Score: 0.5489, \n",
      "\n",
      "\n"
     ]
    },
    {
     "name": "stderr",
     "output_type": "stream",
     "text": [
      "Epoch 190: 100%|██████████| 23/23 [00:02<00:00,  8.18it/s]\n"
     ]
    },
    {
     "name": "stdout",
     "output_type": "stream",
     "text": [
      "Train Loss: 0.2545,  Train Accuracy: 0.9062,  Train F1-Score: 0.7068, \n",
      "Val Loss: 0.3429,  Val Accuracy: 0.8795,  Val F1-Score: 0.5681, \n",
      "\n",
      "\n"
     ]
    },
    {
     "name": "stderr",
     "output_type": "stream",
     "text": [
      "Epoch 191: 100%|██████████| 23/23 [00:02<00:00,  8.07it/s]\n"
     ]
    },
    {
     "name": "stdout",
     "output_type": "stream",
     "text": [
      "Train Loss: 0.2583,  Train Accuracy: 0.9047,  Train F1-Score: 0.7079, \n",
      "Val Loss: 0.3404,  Val Accuracy: 0.8806,  Val F1-Score: 0.5933, \n",
      "\n",
      "\n"
     ]
    },
    {
     "name": "stderr",
     "output_type": "stream",
     "text": [
      "Epoch 192: 100%|██████████| 23/23 [00:02<00:00,  8.26it/s]\n"
     ]
    },
    {
     "name": "stdout",
     "output_type": "stream",
     "text": [
      "Train Loss: 0.2525,  Train Accuracy: 0.9060,  Train F1-Score: 0.7136, \n",
      "Val Loss: 0.3470,  Val Accuracy: 0.8817,  Val F1-Score: 0.5538, \n",
      "\n",
      "\n"
     ]
    },
    {
     "name": "stderr",
     "output_type": "stream",
     "text": [
      "Epoch 193: 100%|██████████| 23/23 [00:02<00:00,  8.25it/s]\n"
     ]
    },
    {
     "name": "stdout",
     "output_type": "stream",
     "text": [
      "Train Loss: 0.2473,  Train Accuracy: 0.9112,  Train F1-Score: 0.7260, \n",
      "Val Loss: 0.3488,  Val Accuracy: 0.8818,  Val F1-Score: 0.5885, \n",
      "\n",
      "\n"
     ]
    },
    {
     "name": "stderr",
     "output_type": "stream",
     "text": [
      "Epoch 194: 100%|██████████| 23/23 [00:02<00:00,  8.22it/s]\n"
     ]
    },
    {
     "name": "stdout",
     "output_type": "stream",
     "text": [
      "Train Loss: 0.2498,  Train Accuracy: 0.9093,  Train F1-Score: 0.7344, \n",
      "Val Loss: 0.3636,  Val Accuracy: 0.8792,  Val F1-Score: 0.5464, \n",
      "\n",
      "\n"
     ]
    },
    {
     "name": "stderr",
     "output_type": "stream",
     "text": [
      "Epoch 195: 100%|██████████| 23/23 [00:02<00:00,  8.17it/s]\n"
     ]
    },
    {
     "name": "stdout",
     "output_type": "stream",
     "text": [
      "Train Loss: 0.2852,  Train Accuracy: 0.8951,  Train F1-Score: 0.6621, \n",
      "Val Loss: 0.3287,  Val Accuracy: 0.8832,  Val F1-Score: 0.5446, \n",
      "\n",
      "\n"
     ]
    },
    {
     "name": "stderr",
     "output_type": "stream",
     "text": [
      "Epoch 196: 100%|██████████| 23/23 [00:02<00:00,  8.12it/s]\n"
     ]
    },
    {
     "name": "stdout",
     "output_type": "stream",
     "text": [
      "Train Loss: 0.2642,  Train Accuracy: 0.9045,  Train F1-Score: 0.7019, \n",
      "Val Loss: 0.3403,  Val Accuracy: 0.8799,  Val F1-Score: 0.5603, \n",
      "\n",
      "\n"
     ]
    },
    {
     "name": "stderr",
     "output_type": "stream",
     "text": [
      "Epoch 197: 100%|██████████| 23/23 [00:02<00:00,  8.09it/s]\n"
     ]
    },
    {
     "name": "stdout",
     "output_type": "stream",
     "text": [
      "Train Loss: 0.2536,  Train Accuracy: 0.9093,  Train F1-Score: 0.7254, \n",
      "Val Loss: 0.3418,  Val Accuracy: 0.8789,  Val F1-Score: 0.5714, \n",
      "\n",
      "\n"
     ]
    },
    {
     "name": "stderr",
     "output_type": "stream",
     "text": [
      "Epoch 198: 100%|██████████| 23/23 [00:02<00:00,  8.11it/s]\n"
     ]
    },
    {
     "name": "stdout",
     "output_type": "stream",
     "text": [
      "Train Loss: 0.2495,  Train Accuracy: 0.9091,  Train F1-Score: 0.7200, \n",
      "Val Loss: 0.3441,  Val Accuracy: 0.8827,  Val F1-Score: 0.5779, \n",
      "\n",
      "\n"
     ]
    },
    {
     "name": "stderr",
     "output_type": "stream",
     "text": [
      "Epoch 199: 100%|██████████| 23/23 [00:02<00:00,  8.11it/s]\n"
     ]
    },
    {
     "name": "stdout",
     "output_type": "stream",
     "text": [
      "Train Loss: 0.2528,  Train Accuracy: 0.9071,  Train F1-Score: 0.7163, \n",
      "Val Loss: 0.3489,  Val Accuracy: 0.8801,  Val F1-Score: 0.5554, \n",
      "\n",
      "\n"
     ]
    },
    {
     "name": "stderr",
     "output_type": "stream",
     "text": [
      "Epoch 200: 100%|██████████| 23/23 [00:02<00:00,  8.09it/s]\n"
     ]
    },
    {
     "name": "stdout",
     "output_type": "stream",
     "text": [
      "Train Loss: 0.2531,  Train Accuracy: 0.9055,  Train F1-Score: 0.7073, \n",
      "Val Loss: 0.3289,  Val Accuracy: 0.8860,  Val F1-Score: 0.5955, \n",
      "\n",
      "\n"
     ]
    },
    {
     "name": "stderr",
     "output_type": "stream",
     "text": [
      "Epoch 201: 100%|██████████| 23/23 [00:02<00:00,  8.14it/s]\n"
     ]
    },
    {
     "name": "stdout",
     "output_type": "stream",
     "text": [
      "Train Loss: 0.2531,  Train Accuracy: 0.9091,  Train F1-Score: 0.7198, \n",
      "Val Loss: 0.3428,  Val Accuracy: 0.8825,  Val F1-Score: 0.5890, \n",
      "\n",
      "\n"
     ]
    },
    {
     "name": "stderr",
     "output_type": "stream",
     "text": [
      "Epoch 202: 100%|██████████| 23/23 [00:02<00:00,  8.10it/s]\n"
     ]
    },
    {
     "name": "stdout",
     "output_type": "stream",
     "text": [
      "Train Loss: 0.2521,  Train Accuracy: 0.9076,  Train F1-Score: 0.7166, \n",
      "Val Loss: 0.3521,  Val Accuracy: 0.8795,  Val F1-Score: 0.5627, \n",
      "\n",
      "\n"
     ]
    },
    {
     "name": "stderr",
     "output_type": "stream",
     "text": [
      "Epoch 203: 100%|██████████| 23/23 [00:02<00:00,  8.09it/s]\n"
     ]
    },
    {
     "name": "stdout",
     "output_type": "stream",
     "text": [
      "Train Loss: 0.2446,  Train Accuracy: 0.9118,  Train F1-Score: 0.7331, \n",
      "Val Loss: 0.3366,  Val Accuracy: 0.8865,  Val F1-Score: 0.5785, \n",
      "\n",
      "\n"
     ]
    },
    {
     "name": "stderr",
     "output_type": "stream",
     "text": [
      "Epoch 204: 100%|██████████| 23/23 [00:02<00:00,  8.10it/s]\n"
     ]
    },
    {
     "name": "stdout",
     "output_type": "stream",
     "text": [
      "Train Loss: 0.2421,  Train Accuracy: 0.9151,  Train F1-Score: 0.7447, \n",
      "Val Loss: 0.3319,  Val Accuracy: 0.8883,  Val F1-Score: 0.6006, \n",
      "\n",
      "\n"
     ]
    },
    {
     "name": "stderr",
     "output_type": "stream",
     "text": [
      "Epoch 205: 100%|██████████| 23/23 [00:02<00:00,  8.20it/s]\n"
     ]
    },
    {
     "name": "stdout",
     "output_type": "stream",
     "text": [
      "Train Loss: 0.2329,  Train Accuracy: 0.9177,  Train F1-Score: 0.7483, \n",
      "Val Loss: 0.3357,  Val Accuracy: 0.8888,  Val F1-Score: 0.5955, \n",
      "\n",
      "\n"
     ]
    },
    {
     "name": "stderr",
     "output_type": "stream",
     "text": [
      "Epoch 206: 100%|██████████| 23/23 [00:02<00:00,  8.18it/s]\n"
     ]
    },
    {
     "name": "stdout",
     "output_type": "stream",
     "text": [
      "Train Loss: 0.2488,  Train Accuracy: 0.9092,  Train F1-Score: 0.7228, \n",
      "Val Loss: 0.3587,  Val Accuracy: 0.8695,  Val F1-Score: 0.5967, \n",
      "\n",
      "\n"
     ]
    },
    {
     "name": "stderr",
     "output_type": "stream",
     "text": [
      "Epoch 207: 100%|██████████| 23/23 [00:02<00:00,  8.15it/s]\n"
     ]
    },
    {
     "name": "stdout",
     "output_type": "stream",
     "text": [
      "Train Loss: 0.2442,  Train Accuracy: 0.9103,  Train F1-Score: 0.7326, \n",
      "Val Loss: 0.3463,  Val Accuracy: 0.8807,  Val F1-Score: 0.5642, \n",
      "\n",
      "\n"
     ]
    },
    {
     "name": "stderr",
     "output_type": "stream",
     "text": [
      "Epoch 208: 100%|██████████| 23/23 [00:02<00:00,  8.17it/s]\n"
     ]
    },
    {
     "name": "stdout",
     "output_type": "stream",
     "text": [
      "Train Loss: 0.2361,  Train Accuracy: 0.9149,  Train F1-Score: 0.7453, \n",
      "Val Loss: 0.3613,  Val Accuracy: 0.8861,  Val F1-Score: 0.5571, \n",
      "\n",
      "\n"
     ]
    },
    {
     "name": "stderr",
     "output_type": "stream",
     "text": [
      "Epoch 209: 100%|██████████| 23/23 [00:02<00:00,  8.20it/s]\n"
     ]
    },
    {
     "name": "stdout",
     "output_type": "stream",
     "text": [
      "Train Loss: 0.2339,  Train Accuracy: 0.9182,  Train F1-Score: 0.7495, \n",
      "Val Loss: 0.3642,  Val Accuracy: 0.8891,  Val F1-Score: 0.5931, \n",
      "\n",
      "\n"
     ]
    },
    {
     "name": "stderr",
     "output_type": "stream",
     "text": [
      "Epoch 210: 100%|██████████| 23/23 [00:02<00:00,  8.10it/s]\n"
     ]
    },
    {
     "name": "stdout",
     "output_type": "stream",
     "text": [
      "Train Loss: 0.2324,  Train Accuracy: 0.9176,  Train F1-Score: 0.7514, \n",
      "Val Loss: 0.3592,  Val Accuracy: 0.8852,  Val F1-Score: 0.5743, \n",
      "\n",
      "\n"
     ]
    },
    {
     "name": "stderr",
     "output_type": "stream",
     "text": [
      "Epoch 211: 100%|██████████| 23/23 [00:02<00:00,  8.11it/s]\n"
     ]
    },
    {
     "name": "stdout",
     "output_type": "stream",
     "text": [
      "Train Loss: 0.2331,  Train Accuracy: 0.9136,  Train F1-Score: 0.7366, \n",
      "Val Loss: 0.3645,  Val Accuracy: 0.8798,  Val F1-Score: 0.5584, \n",
      "\n",
      "\n"
     ]
    },
    {
     "name": "stderr",
     "output_type": "stream",
     "text": [
      "Epoch 212: 100%|██████████| 23/23 [00:02<00:00,  8.09it/s]\n"
     ]
    },
    {
     "name": "stdout",
     "output_type": "stream",
     "text": [
      "Train Loss: 0.2321,  Train Accuracy: 0.9164,  Train F1-Score: 0.7456, \n",
      "Val Loss: 0.3514,  Val Accuracy: 0.8856,  Val F1-Score: 0.5845, \n",
      "\n",
      "\n"
     ]
    },
    {
     "name": "stderr",
     "output_type": "stream",
     "text": [
      "Epoch 213: 100%|██████████| 23/23 [00:02<00:00,  8.00it/s]\n"
     ]
    },
    {
     "name": "stdout",
     "output_type": "stream",
     "text": [
      "Train Loss: 0.2348,  Train Accuracy: 0.9157,  Train F1-Score: 0.7534, \n",
      "Val Loss: 0.3391,  Val Accuracy: 0.8886,  Val F1-Score: 0.5970, \n",
      "\n",
      "\n"
     ]
    },
    {
     "name": "stderr",
     "output_type": "stream",
     "text": [
      "Epoch 214: 100%|██████████| 23/23 [00:02<00:00,  7.79it/s]\n"
     ]
    },
    {
     "name": "stdout",
     "output_type": "stream",
     "text": [
      "Train Loss: 0.2264,  Train Accuracy: 0.9203,  Train F1-Score: 0.7618, \n",
      "Val Loss: 0.3625,  Val Accuracy: 0.8808,  Val F1-Score: 0.5810, \n",
      "\n",
      "\n"
     ]
    },
    {
     "name": "stderr",
     "output_type": "stream",
     "text": [
      "Epoch 215: 100%|██████████| 23/23 [00:02<00:00,  8.08it/s]\n"
     ]
    },
    {
     "name": "stdout",
     "output_type": "stream",
     "text": [
      "Train Loss: 0.2306,  Train Accuracy: 0.9172,  Train F1-Score: 0.7546, \n",
      "Val Loss: 0.3713,  Val Accuracy: 0.8827,  Val F1-Score: 0.6067, \n",
      "\n",
      "\n"
     ]
    },
    {
     "name": "stderr",
     "output_type": "stream",
     "text": [
      "Epoch 216: 100%|██████████| 23/23 [00:02<00:00,  8.14it/s]\n"
     ]
    },
    {
     "name": "stdout",
     "output_type": "stream",
     "text": [
      "Train Loss: 0.2248,  Train Accuracy: 0.9205,  Train F1-Score: 0.7614, \n",
      "Val Loss: 0.3533,  Val Accuracy: 0.8862,  Val F1-Score: 0.5998, \n",
      "\n",
      "\n"
     ]
    },
    {
     "name": "stderr",
     "output_type": "stream",
     "text": [
      "Epoch 217: 100%|██████████| 23/23 [00:02<00:00,  8.10it/s]\n"
     ]
    },
    {
     "name": "stdout",
     "output_type": "stream",
     "text": [
      "Train Loss: 0.2168,  Train Accuracy: 0.9228,  Train F1-Score: 0.7679, \n",
      "Val Loss: 0.3418,  Val Accuracy: 0.8894,  Val F1-Score: 0.6267, \n",
      "\n",
      "\n"
     ]
    },
    {
     "name": "stderr",
     "output_type": "stream",
     "text": [
      "Epoch 218: 100%|██████████| 23/23 [00:02<00:00,  8.10it/s]\n"
     ]
    },
    {
     "name": "stdout",
     "output_type": "stream",
     "text": [
      "Train Loss: 0.2152,  Train Accuracy: 0.9241,  Train F1-Score: 0.7737, \n",
      "Val Loss: 0.3687,  Val Accuracy: 0.8821,  Val F1-Score: 0.5955, \n",
      "\n",
      "\n"
     ]
    },
    {
     "name": "stderr",
     "output_type": "stream",
     "text": [
      "Epoch 219: 100%|██████████| 23/23 [00:02<00:00,  8.14it/s]\n"
     ]
    },
    {
     "name": "stdout",
     "output_type": "stream",
     "text": [
      "Train Loss: 0.2314,  Train Accuracy: 0.9181,  Train F1-Score: 0.7547, \n",
      "Val Loss: 0.3831,  Val Accuracy: 0.8843,  Val F1-Score: 0.5858, \n",
      "\n",
      "\n"
     ]
    },
    {
     "name": "stderr",
     "output_type": "stream",
     "text": [
      "Epoch 220: 100%|██████████| 23/23 [00:02<00:00,  8.25it/s]\n"
     ]
    },
    {
     "name": "stdout",
     "output_type": "stream",
     "text": [
      "Train Loss: 0.2265,  Train Accuracy: 0.9188,  Train F1-Score: 0.7553, \n",
      "Val Loss: 0.3727,  Val Accuracy: 0.8798,  Val F1-Score: 0.5837, \n",
      "\n",
      "\n"
     ]
    },
    {
     "name": "stderr",
     "output_type": "stream",
     "text": [
      "Epoch 221: 100%|██████████| 23/23 [00:02<00:00,  8.25it/s]\n"
     ]
    },
    {
     "name": "stdout",
     "output_type": "stream",
     "text": [
      "Train Loss: 0.2311,  Train Accuracy: 0.9187,  Train F1-Score: 0.7578, \n",
      "Val Loss: 0.3731,  Val Accuracy: 0.8776,  Val F1-Score: 0.5879, \n",
      "\n",
      "\n"
     ]
    },
    {
     "name": "stderr",
     "output_type": "stream",
     "text": [
      "Epoch 222: 100%|██████████| 23/23 [00:02<00:00,  8.23it/s]\n"
     ]
    },
    {
     "name": "stdout",
     "output_type": "stream",
     "text": [
      "Train Loss: 0.2303,  Train Accuracy: 0.9184,  Train F1-Score: 0.7581, \n",
      "Val Loss: 0.3751,  Val Accuracy: 0.8758,  Val F1-Score: 0.5953, \n",
      "\n",
      "\n"
     ]
    },
    {
     "name": "stderr",
     "output_type": "stream",
     "text": [
      "Epoch 223: 100%|██████████| 23/23 [00:02<00:00,  8.20it/s]\n"
     ]
    },
    {
     "name": "stdout",
     "output_type": "stream",
     "text": [
      "Train Loss: 0.2172,  Train Accuracy: 0.9227,  Train F1-Score: 0.7741, \n",
      "Val Loss: 0.3929,  Val Accuracy: 0.8818,  Val F1-Score: 0.5884, \n",
      "\n",
      "\n"
     ]
    },
    {
     "name": "stderr",
     "output_type": "stream",
     "text": [
      "Epoch 224: 100%|██████████| 23/23 [00:02<00:00,  8.20it/s]\n"
     ]
    },
    {
     "name": "stdout",
     "output_type": "stream",
     "text": [
      "Train Loss: 0.2255,  Train Accuracy: 0.9187,  Train F1-Score: 0.7568, \n",
      "Val Loss: 0.3562,  Val Accuracy: 0.8826,  Val F1-Score: 0.5813, \n",
      "\n",
      "\n"
     ]
    },
    {
     "name": "stderr",
     "output_type": "stream",
     "text": [
      "Epoch 225: 100%|██████████| 23/23 [00:02<00:00,  8.14it/s]\n"
     ]
    },
    {
     "name": "stdout",
     "output_type": "stream",
     "text": [
      "Train Loss: 0.2227,  Train Accuracy: 0.9214,  Train F1-Score: 0.7639, \n",
      "Val Loss: 0.3487,  Val Accuracy: 0.8865,  Val F1-Score: 0.5999, \n",
      "\n",
      "\n"
     ]
    },
    {
     "name": "stderr",
     "output_type": "stream",
     "text": [
      "Epoch 226: 100%|██████████| 23/23 [00:02<00:00,  8.15it/s]\n"
     ]
    },
    {
     "name": "stdout",
     "output_type": "stream",
     "text": [
      "Train Loss: 0.2102,  Train Accuracy: 0.9245,  Train F1-Score: 0.7765, \n",
      "Val Loss: 0.3814,  Val Accuracy: 0.8812,  Val F1-Score: 0.5907, \n",
      "\n",
      "\n"
     ]
    },
    {
     "name": "stderr",
     "output_type": "stream",
     "text": [
      "Epoch 227: 100%|██████████| 23/23 [00:02<00:00,  8.13it/s]\n"
     ]
    },
    {
     "name": "stdout",
     "output_type": "stream",
     "text": [
      "Train Loss: 0.2127,  Train Accuracy: 0.9263,  Train F1-Score: 0.7823, \n",
      "Val Loss: 0.3841,  Val Accuracy: 0.8886,  Val F1-Score: 0.5868, \n",
      "\n",
      "\n"
     ]
    },
    {
     "name": "stderr",
     "output_type": "stream",
     "text": [
      "Epoch 228: 100%|██████████| 23/23 [00:02<00:00,  8.15it/s]\n"
     ]
    },
    {
     "name": "stdout",
     "output_type": "stream",
     "text": [
      "Train Loss: 0.2077,  Train Accuracy: 0.9274,  Train F1-Score: 0.7902, \n",
      "Val Loss: 0.3987,  Val Accuracy: 0.8795,  Val F1-Score: 0.5661, \n",
      "\n",
      "\n"
     ]
    },
    {
     "name": "stderr",
     "output_type": "stream",
     "text": [
      "Epoch 229: 100%|██████████| 23/23 [00:02<00:00,  8.13it/s]\n"
     ]
    },
    {
     "name": "stdout",
     "output_type": "stream",
     "text": [
      "Train Loss: 0.2261,  Train Accuracy: 0.9215,  Train F1-Score: 0.7678, \n",
      "Val Loss: 0.4180,  Val Accuracy: 0.8709,  Val F1-Score: 0.5829, \n",
      "\n",
      "\n"
     ]
    },
    {
     "name": "stderr",
     "output_type": "stream",
     "text": [
      "Epoch 230: 100%|██████████| 23/23 [00:02<00:00,  8.16it/s]\n"
     ]
    },
    {
     "name": "stdout",
     "output_type": "stream",
     "text": [
      "Train Loss: 0.2079,  Train Accuracy: 0.9287,  Train F1-Score: 0.7908, \n",
      "Val Loss: 0.3809,  Val Accuracy: 0.8783,  Val F1-Score: 0.5742, \n",
      "\n",
      "\n"
     ]
    },
    {
     "name": "stderr",
     "output_type": "stream",
     "text": [
      "Epoch 231: 100%|██████████| 23/23 [00:02<00:00,  8.14it/s]\n"
     ]
    },
    {
     "name": "stdout",
     "output_type": "stream",
     "text": [
      "Train Loss: 0.2191,  Train Accuracy: 0.9209,  Train F1-Score: 0.7624, \n",
      "Val Loss: 0.4213,  Val Accuracy: 0.8705,  Val F1-Score: 0.5285, \n",
      "\n",
      "\n"
     ]
    },
    {
     "name": "stderr",
     "output_type": "stream",
     "text": [
      "Epoch 232: 100%|██████████| 23/23 [00:02<00:00,  8.15it/s]\n"
     ]
    },
    {
     "name": "stdout",
     "output_type": "stream",
     "text": [
      "Train Loss: 0.2127,  Train Accuracy: 0.9266,  Train F1-Score: 0.7850, \n",
      "Val Loss: 0.3648,  Val Accuracy: 0.8887,  Val F1-Score: 0.5994, \n",
      "\n",
      "\n"
     ]
    },
    {
     "name": "stderr",
     "output_type": "stream",
     "text": [
      "Epoch 233: 100%|██████████| 23/23 [00:02<00:00,  8.17it/s]\n"
     ]
    },
    {
     "name": "stdout",
     "output_type": "stream",
     "text": [
      "Train Loss: 0.2126,  Train Accuracy: 0.9268,  Train F1-Score: 0.7819, \n",
      "Val Loss: 0.3669,  Val Accuracy: 0.8847,  Val F1-Score: 0.5746, \n",
      "\n",
      "\n"
     ]
    },
    {
     "name": "stderr",
     "output_type": "stream",
     "text": [
      "Epoch 234: 100%|██████████| 23/23 [00:02<00:00,  8.26it/s]\n"
     ]
    },
    {
     "name": "stdout",
     "output_type": "stream",
     "text": [
      "Train Loss: 0.2084,  Train Accuracy: 0.9277,  Train F1-Score: 0.7864, \n",
      "Val Loss: 0.3862,  Val Accuracy: 0.8778,  Val F1-Score: 0.5583, \n",
      "\n",
      "\n"
     ]
    },
    {
     "name": "stderr",
     "output_type": "stream",
     "text": [
      "Epoch 235: 100%|██████████| 23/23 [00:02<00:00,  8.24it/s]\n"
     ]
    },
    {
     "name": "stdout",
     "output_type": "stream",
     "text": [
      "Train Loss: 0.2145,  Train Accuracy: 0.9253,  Train F1-Score: 0.7775, \n",
      "Val Loss: 0.3625,  Val Accuracy: 0.8853,  Val F1-Score: 0.6035, \n",
      "\n",
      "\n"
     ]
    },
    {
     "name": "stderr",
     "output_type": "stream",
     "text": [
      "Epoch 236: 100%|██████████| 23/23 [00:02<00:00,  8.23it/s]\n"
     ]
    },
    {
     "name": "stdout",
     "output_type": "stream",
     "text": [
      "Train Loss: 0.2073,  Train Accuracy: 0.9261,  Train F1-Score: 0.7849, \n",
      "Val Loss: 0.3853,  Val Accuracy: 0.8836,  Val F1-Score: 0.5909, \n",
      "\n",
      "\n"
     ]
    },
    {
     "name": "stderr",
     "output_type": "stream",
     "text": [
      "Epoch 237: 100%|██████████| 23/23 [00:02<00:00,  8.25it/s]\n"
     ]
    },
    {
     "name": "stdout",
     "output_type": "stream",
     "text": [
      "Train Loss: 0.2421,  Train Accuracy: 0.9092,  Train F1-Score: 0.7238, \n",
      "Val Loss: 0.4017,  Val Accuracy: 0.8730,  Val F1-Score: 0.5492, \n",
      "\n",
      "\n"
     ]
    },
    {
     "name": "stderr",
     "output_type": "stream",
     "text": [
      "Epoch 238: 100%|██████████| 23/23 [00:02<00:00,  8.23it/s]\n"
     ]
    },
    {
     "name": "stdout",
     "output_type": "stream",
     "text": [
      "Train Loss: 0.2187,  Train Accuracy: 0.9204,  Train F1-Score: 0.7651, \n",
      "Val Loss: 0.3926,  Val Accuracy: 0.8728,  Val F1-Score: 0.5421, \n",
      "\n",
      "\n"
     ]
    },
    {
     "name": "stderr",
     "output_type": "stream",
     "text": [
      "Epoch 239: 100%|██████████| 23/23 [00:02<00:00,  8.15it/s]\n"
     ]
    },
    {
     "name": "stdout",
     "output_type": "stream",
     "text": [
      "Train Loss: 0.2100,  Train Accuracy: 0.9247,  Train F1-Score: 0.7735, \n",
      "Val Loss: 0.4069,  Val Accuracy: 0.8757,  Val F1-Score: 0.5864, \n",
      "\n",
      "\n"
     ]
    },
    {
     "name": "stderr",
     "output_type": "stream",
     "text": [
      "Epoch 240: 100%|██████████| 23/23 [00:02<00:00,  8.14it/s]\n"
     ]
    },
    {
     "name": "stdout",
     "output_type": "stream",
     "text": [
      "Train Loss: 0.2135,  Train Accuracy: 0.9232,  Train F1-Score: 0.7744, \n",
      "Val Loss: 0.4136,  Val Accuracy: 0.8672,  Val F1-Score: 0.5363, \n",
      "\n",
      "\n"
     ]
    },
    {
     "name": "stderr",
     "output_type": "stream",
     "text": [
      "Epoch 241: 100%|██████████| 23/23 [00:02<00:00,  8.16it/s]\n"
     ]
    },
    {
     "name": "stdout",
     "output_type": "stream",
     "text": [
      "Train Loss: 0.2116,  Train Accuracy: 0.9275,  Train F1-Score: 0.7830, \n",
      "Val Loss: 0.4123,  Val Accuracy: 0.8743,  Val F1-Score: 0.5688, \n",
      "\n",
      "\n"
     ]
    },
    {
     "name": "stderr",
     "output_type": "stream",
     "text": [
      "Epoch 242: 100%|██████████| 23/23 [00:02<00:00,  8.16it/s]\n"
     ]
    },
    {
     "name": "stdout",
     "output_type": "stream",
     "text": [
      "Train Loss: 0.2031,  Train Accuracy: 0.9285,  Train F1-Score: 0.7918, \n",
      "Val Loss: 0.3897,  Val Accuracy: 0.8798,  Val F1-Score: 0.6119, \n",
      "\n",
      "\n"
     ]
    },
    {
     "name": "stderr",
     "output_type": "stream",
     "text": [
      "Epoch 243: 100%|██████████| 23/23 [00:02<00:00,  7.77it/s]\n"
     ]
    },
    {
     "name": "stdout",
     "output_type": "stream",
     "text": [
      "Train Loss: 0.1975,  Train Accuracy: 0.9329,  Train F1-Score: 0.8052, \n",
      "Val Loss: 0.3858,  Val Accuracy: 0.8813,  Val F1-Score: 0.5695, \n",
      "\n",
      "\n"
     ]
    },
    {
     "name": "stderr",
     "output_type": "stream",
     "text": [
      "Epoch 244: 100%|██████████| 23/23 [00:02<00:00,  8.30it/s]\n"
     ]
    },
    {
     "name": "stdout",
     "output_type": "stream",
     "text": [
      "Train Loss: 0.2026,  Train Accuracy: 0.9291,  Train F1-Score: 0.7930, \n",
      "Val Loss: 0.4067,  Val Accuracy: 0.8817,  Val F1-Score: 0.5770, \n",
      "\n",
      "\n"
     ]
    },
    {
     "name": "stderr",
     "output_type": "stream",
     "text": [
      "Epoch 245: 100%|██████████| 23/23 [00:02<00:00,  8.30it/s]\n"
     ]
    },
    {
     "name": "stdout",
     "output_type": "stream",
     "text": [
      "Train Loss: 0.2009,  Train Accuracy: 0.9302,  Train F1-Score: 0.7964, \n",
      "Val Loss: 0.3960,  Val Accuracy: 0.8865,  Val F1-Score: 0.5998, \n",
      "\n",
      "\n"
     ]
    },
    {
     "name": "stderr",
     "output_type": "stream",
     "text": [
      "Epoch 246: 100%|██████████| 23/23 [00:02<00:00,  8.28it/s]\n"
     ]
    },
    {
     "name": "stdout",
     "output_type": "stream",
     "text": [
      "Train Loss: 0.2008,  Train Accuracy: 0.9294,  Train F1-Score: 0.7931, \n",
      "Val Loss: 0.3978,  Val Accuracy: 0.8842,  Val F1-Score: 0.6093, \n",
      "\n",
      "\n"
     ]
    },
    {
     "name": "stderr",
     "output_type": "stream",
     "text": [
      "Epoch 247: 100%|██████████| 23/23 [00:02<00:00,  8.30it/s]\n"
     ]
    },
    {
     "name": "stdout",
     "output_type": "stream",
     "text": [
      "Train Loss: 0.2026,  Train Accuracy: 0.9293,  Train F1-Score: 0.7909, \n",
      "Val Loss: 0.4205,  Val Accuracy: 0.8782,  Val F1-Score: 0.5503, \n",
      "\n",
      "\n"
     ]
    },
    {
     "name": "stderr",
     "output_type": "stream",
     "text": [
      "Epoch 248: 100%|██████████| 23/23 [00:02<00:00,  8.38it/s]\n"
     ]
    },
    {
     "name": "stdout",
     "output_type": "stream",
     "text": [
      "Train Loss: 0.1981,  Train Accuracy: 0.9305,  Train F1-Score: 0.7979, \n",
      "Val Loss: 0.3994,  Val Accuracy: 0.8834,  Val F1-Score: 0.6036, \n",
      "\n",
      "\n"
     ]
    },
    {
     "name": "stderr",
     "output_type": "stream",
     "text": [
      "Epoch 249: 100%|██████████| 23/23 [00:02<00:00,  8.42it/s]\n"
     ]
    },
    {
     "name": "stdout",
     "output_type": "stream",
     "text": [
      "Train Loss: 0.1879,  Train Accuracy: 0.9359,  Train F1-Score: 0.8130, \n",
      "Val Loss: 0.4027,  Val Accuracy: 0.8859,  Val F1-Score: 0.5908, \n",
      "\n",
      "\n"
     ]
    },
    {
     "name": "stderr",
     "output_type": "stream",
     "text": [
      "Epoch 250: 100%|██████████| 23/23 [00:02<00:00,  8.42it/s]\n"
     ]
    },
    {
     "name": "stdout",
     "output_type": "stream",
     "text": [
      "Train Loss: 0.1883,  Train Accuracy: 0.9340,  Train F1-Score: 0.8093, \n",
      "Val Loss: 0.4187,  Val Accuracy: 0.8849,  Val F1-Score: 0.6067, \n",
      "\n",
      "\n"
     ]
    },
    {
     "name": "stderr",
     "output_type": "stream",
     "text": [
      "Epoch 251: 100%|██████████| 23/23 [00:02<00:00,  8.41it/s]\n"
     ]
    },
    {
     "name": "stdout",
     "output_type": "stream",
     "text": [
      "Train Loss: 0.2133,  Train Accuracy: 0.9226,  Train F1-Score: 0.7690, \n",
      "Val Loss: 0.3958,  Val Accuracy: 0.8905,  Val F1-Score: 0.5911, \n",
      "\n",
      "\n"
     ]
    },
    {
     "name": "stderr",
     "output_type": "stream",
     "text": [
      "Epoch 252: 100%|██████████| 23/23 [00:02<00:00,  8.42it/s]\n"
     ]
    },
    {
     "name": "stdout",
     "output_type": "stream",
     "text": [
      "Train Loss: 0.1984,  Train Accuracy: 0.9308,  Train F1-Score: 0.8018, \n",
      "Val Loss: 0.3901,  Val Accuracy: 0.8819,  Val F1-Score: 0.6122, \n",
      "\n",
      "\n"
     ]
    },
    {
     "name": "stderr",
     "output_type": "stream",
     "text": [
      "Epoch 253: 100%|██████████| 23/23 [00:02<00:00,  8.34it/s]\n"
     ]
    },
    {
     "name": "stdout",
     "output_type": "stream",
     "text": [
      "Train Loss: 0.1849,  Train Accuracy: 0.9363,  Train F1-Score: 0.8142, \n",
      "Val Loss: 0.3974,  Val Accuracy: 0.8823,  Val F1-Score: 0.6030, \n",
      "\n",
      "\n"
     ]
    },
    {
     "name": "stderr",
     "output_type": "stream",
     "text": [
      "Epoch 254: 100%|██████████| 23/23 [00:02<00:00,  8.29it/s]\n"
     ]
    },
    {
     "name": "stdout",
     "output_type": "stream",
     "text": [
      "Train Loss: 0.1849,  Train Accuracy: 0.9364,  Train F1-Score: 0.8181, \n",
      "Val Loss: 0.4065,  Val Accuracy: 0.8843,  Val F1-Score: 0.6022, \n",
      "\n",
      "\n"
     ]
    },
    {
     "name": "stderr",
     "output_type": "stream",
     "text": [
      "Epoch 255: 100%|██████████| 23/23 [00:02<00:00,  8.28it/s]\n"
     ]
    },
    {
     "name": "stdout",
     "output_type": "stream",
     "text": [
      "Train Loss: 0.1831,  Train Accuracy: 0.9378,  Train F1-Score: 0.8188, \n",
      "Val Loss: 0.4190,  Val Accuracy: 0.8873,  Val F1-Score: 0.6226, \n",
      "\n",
      "\n"
     ]
    },
    {
     "name": "stderr",
     "output_type": "stream",
     "text": [
      "Epoch 256: 100%|██████████| 23/23 [00:02<00:00,  8.26it/s]\n"
     ]
    },
    {
     "name": "stdout",
     "output_type": "stream",
     "text": [
      "Train Loss: 0.1702,  Train Accuracy: 0.9408,  Train F1-Score: 0.8306, \n",
      "Val Loss: 0.4394,  Val Accuracy: 0.8702,  Val F1-Score: 0.5858, \n",
      "\n",
      "\n"
     ]
    },
    {
     "name": "stderr",
     "output_type": "stream",
     "text": [
      "Epoch 257: 100%|██████████| 23/23 [00:02<00:00,  8.26it/s]\n"
     ]
    },
    {
     "name": "stdout",
     "output_type": "stream",
     "text": [
      "Train Loss: 0.1754,  Train Accuracy: 0.9407,  Train F1-Score: 0.8295, \n",
      "Val Loss: 0.4361,  Val Accuracy: 0.8735,  Val F1-Score: 0.6084, \n",
      "\n",
      "\n"
     ]
    },
    {
     "name": "stderr",
     "output_type": "stream",
     "text": [
      "Epoch 258: 100%|██████████| 23/23 [00:02<00:00,  8.27it/s]\n"
     ]
    },
    {
     "name": "stdout",
     "output_type": "stream",
     "text": [
      "Train Loss: 0.1766,  Train Accuracy: 0.9419,  Train F1-Score: 0.8337, \n",
      "Val Loss: 0.3953,  Val Accuracy: 0.8836,  Val F1-Score: 0.6090, \n",
      "\n",
      "\n"
     ]
    },
    {
     "name": "stderr",
     "output_type": "stream",
     "text": [
      "Epoch 259: 100%|██████████| 23/23 [00:02<00:00,  8.28it/s]\n"
     ]
    },
    {
     "name": "stdout",
     "output_type": "stream",
     "text": [
      "Train Loss: 0.1913,  Train Accuracy: 0.9329,  Train F1-Score: 0.8043, \n",
      "Val Loss: 0.4434,  Val Accuracy: 0.8630,  Val F1-Score: 0.5627, \n",
      "\n",
      "\n"
     ]
    },
    {
     "name": "stderr",
     "output_type": "stream",
     "text": [
      "Epoch 260: 100%|██████████| 23/23 [00:02<00:00,  8.25it/s]\n"
     ]
    },
    {
     "name": "stdout",
     "output_type": "stream",
     "text": [
      "Train Loss: 0.1953,  Train Accuracy: 0.9330,  Train F1-Score: 0.8056, \n",
      "Val Loss: 0.4238,  Val Accuracy: 0.8800,  Val F1-Score: 0.5669, \n",
      "\n",
      "\n"
     ]
    },
    {
     "name": "stderr",
     "output_type": "stream",
     "text": [
      "Epoch 261: 100%|██████████| 23/23 [00:02<00:00,  8.23it/s]\n"
     ]
    },
    {
     "name": "stdout",
     "output_type": "stream",
     "text": [
      "Train Loss: 0.1814,  Train Accuracy: 0.9370,  Train F1-Score: 0.8178, \n",
      "Val Loss: 0.4104,  Val Accuracy: 0.8795,  Val F1-Score: 0.5842, \n",
      "\n",
      "\n"
     ]
    },
    {
     "name": "stderr",
     "output_type": "stream",
     "text": [
      "Epoch 262: 100%|██████████| 23/23 [00:02<00:00,  7.92it/s]\n"
     ]
    },
    {
     "name": "stdout",
     "output_type": "stream",
     "text": [
      "Train Loss: 0.1769,  Train Accuracy: 0.9387,  Train F1-Score: 0.8231, \n",
      "Val Loss: 0.4571,  Val Accuracy: 0.8772,  Val F1-Score: 0.5928, \n",
      "\n",
      "\n"
     ]
    },
    {
     "name": "stderr",
     "output_type": "stream",
     "text": [
      "Epoch 263: 100%|██████████| 23/23 [00:02<00:00,  8.42it/s]\n"
     ]
    },
    {
     "name": "stdout",
     "output_type": "stream",
     "text": [
      "Train Loss: 0.1705,  Train Accuracy: 0.9417,  Train F1-Score: 0.8342, \n",
      "Val Loss: 0.4509,  Val Accuracy: 0.8789,  Val F1-Score: 0.6043, \n",
      "\n",
      "\n"
     ]
    },
    {
     "name": "stderr",
     "output_type": "stream",
     "text": [
      "Epoch 264: 100%|██████████| 23/23 [00:02<00:00,  8.38it/s]\n"
     ]
    },
    {
     "name": "stdout",
     "output_type": "stream",
     "text": [
      "Train Loss: 0.1711,  Train Accuracy: 0.9398,  Train F1-Score: 0.8271, \n",
      "Val Loss: 0.4376,  Val Accuracy: 0.8823,  Val F1-Score: 0.6035, \n",
      "\n",
      "\n"
     ]
    },
    {
     "name": "stderr",
     "output_type": "stream",
     "text": [
      "Epoch 265: 100%|██████████| 23/23 [00:02<00:00,  8.38it/s]\n"
     ]
    },
    {
     "name": "stdout",
     "output_type": "stream",
     "text": [
      "Train Loss: 0.1692,  Train Accuracy: 0.9439,  Train F1-Score: 0.8375, \n",
      "Val Loss: 0.4428,  Val Accuracy: 0.8699,  Val F1-Score: 0.5780, \n",
      "\n",
      "\n"
     ]
    },
    {
     "name": "stderr",
     "output_type": "stream",
     "text": [
      "Epoch 266: 100%|██████████| 23/23 [00:02<00:00,  8.39it/s]\n"
     ]
    },
    {
     "name": "stdout",
     "output_type": "stream",
     "text": [
      "Train Loss: 0.1669,  Train Accuracy: 0.9423,  Train F1-Score: 0.8362, \n",
      "Val Loss: 0.4650,  Val Accuracy: 0.8697,  Val F1-Score: 0.5573, \n",
      "\n",
      "\n"
     ]
    },
    {
     "name": "stderr",
     "output_type": "stream",
     "text": [
      "Epoch 267: 100%|██████████| 23/23 [00:02<00:00,  8.43it/s]\n"
     ]
    },
    {
     "name": "stdout",
     "output_type": "stream",
     "text": [
      "Train Loss: 0.1594,  Train Accuracy: 0.9459,  Train F1-Score: 0.8463, \n",
      "Val Loss: 0.4621,  Val Accuracy: 0.8804,  Val F1-Score: 0.5946, \n",
      "\n",
      "\n"
     ]
    },
    {
     "name": "stderr",
     "output_type": "stream",
     "text": [
      "Epoch 268: 100%|██████████| 23/23 [00:02<00:00,  8.35it/s]\n"
     ]
    },
    {
     "name": "stdout",
     "output_type": "stream",
     "text": [
      "Train Loss: 0.1699,  Train Accuracy: 0.9401,  Train F1-Score: 0.8261, \n",
      "Val Loss: 0.4750,  Val Accuracy: 0.8757,  Val F1-Score: 0.5847, \n",
      "\n",
      "\n"
     ]
    },
    {
     "name": "stderr",
     "output_type": "stream",
     "text": [
      "Epoch 269: 100%|██████████| 23/23 [00:02<00:00,  8.29it/s]\n"
     ]
    },
    {
     "name": "stdout",
     "output_type": "stream",
     "text": [
      "Train Loss: 0.1596,  Train Accuracy: 0.9456,  Train F1-Score: 0.8457, \n",
      "Val Loss: 0.4555,  Val Accuracy: 0.8823,  Val F1-Score: 0.6039, \n",
      "\n",
      "\n"
     ]
    },
    {
     "name": "stderr",
     "output_type": "stream",
     "text": [
      "Epoch 270: 100%|██████████| 23/23 [00:02<00:00,  8.29it/s]\n"
     ]
    },
    {
     "name": "stdout",
     "output_type": "stream",
     "text": [
      "Train Loss: 0.1537,  Train Accuracy: 0.9477,  Train F1-Score: 0.8528, \n",
      "Val Loss: 0.4792,  Val Accuracy: 0.8828,  Val F1-Score: 0.5997, \n",
      "\n",
      "\n"
     ]
    },
    {
     "name": "stderr",
     "output_type": "stream",
     "text": [
      "Epoch 271: 100%|██████████| 23/23 [00:02<00:00,  8.28it/s]\n"
     ]
    },
    {
     "name": "stdout",
     "output_type": "stream",
     "text": [
      "Train Loss: 0.1565,  Train Accuracy: 0.9478,  Train F1-Score: 0.8522, \n",
      "Val Loss: 0.4914,  Val Accuracy: 0.8760,  Val F1-Score: 0.6115, \n",
      "\n",
      "\n"
     ]
    },
    {
     "name": "stderr",
     "output_type": "stream",
     "text": [
      "Epoch 272: 100%|██████████| 23/23 [00:02<00:00,  8.25it/s]\n"
     ]
    },
    {
     "name": "stdout",
     "output_type": "stream",
     "text": [
      "Train Loss: 0.1606,  Train Accuracy: 0.9452,  Train F1-Score: 0.8452, \n",
      "Val Loss: 0.5305,  Val Accuracy: 0.8692,  Val F1-Score: 0.5623, \n",
      "\n",
      "\n"
     ]
    },
    {
     "name": "stderr",
     "output_type": "stream",
     "text": [
      "Epoch 273: 100%|██████████| 23/23 [00:02<00:00,  8.28it/s]\n"
     ]
    },
    {
     "name": "stdout",
     "output_type": "stream",
     "text": [
      "Train Loss: 0.1702,  Train Accuracy: 0.9421,  Train F1-Score: 0.8342, \n",
      "Val Loss: 0.4880,  Val Accuracy: 0.8729,  Val F1-Score: 0.5750, \n",
      "\n",
      "\n"
     ]
    },
    {
     "name": "stderr",
     "output_type": "stream",
     "text": [
      "Epoch 274: 100%|██████████| 23/23 [00:02<00:00,  8.29it/s]\n"
     ]
    },
    {
     "name": "stdout",
     "output_type": "stream",
     "text": [
      "Train Loss: 0.1660,  Train Accuracy: 0.9429,  Train F1-Score: 0.8362, \n",
      "Val Loss: 0.4967,  Val Accuracy: 0.8702,  Val F1-Score: 0.6021, \n",
      "\n",
      "\n"
     ]
    },
    {
     "name": "stderr",
     "output_type": "stream",
     "text": [
      "Epoch 275: 100%|██████████| 23/23 [00:02<00:00,  8.29it/s]\n"
     ]
    },
    {
     "name": "stdout",
     "output_type": "stream",
     "text": [
      "Train Loss: 0.1568,  Train Accuracy: 0.9472,  Train F1-Score: 0.8508, \n",
      "Val Loss: 0.4684,  Val Accuracy: 0.8747,  Val F1-Score: 0.5951, \n",
      "\n",
      "\n"
     ]
    },
    {
     "name": "stderr",
     "output_type": "stream",
     "text": [
      "Epoch 276: 100%|██████████| 23/23 [00:02<00:00,  8.29it/s]\n"
     ]
    },
    {
     "name": "stdout",
     "output_type": "stream",
     "text": [
      "Train Loss: 0.1536,  Train Accuracy: 0.9476,  Train F1-Score: 0.8543, \n",
      "Val Loss: 0.5130,  Val Accuracy: 0.8729,  Val F1-Score: 0.5744, \n",
      "\n",
      "\n"
     ]
    },
    {
     "name": "stderr",
     "output_type": "stream",
     "text": [
      "Epoch 277: 100%|██████████| 23/23 [00:02<00:00,  8.35it/s]\n"
     ]
    },
    {
     "name": "stdout",
     "output_type": "stream",
     "text": [
      "Train Loss: 0.1571,  Train Accuracy: 0.9468,  Train F1-Score: 0.8488, \n",
      "Val Loss: 0.5062,  Val Accuracy: 0.8647,  Val F1-Score: 0.5689, \n",
      "\n",
      "\n"
     ]
    },
    {
     "name": "stderr",
     "output_type": "stream",
     "text": [
      "Epoch 278: 100%|██████████| 23/23 [00:02<00:00,  8.42it/s]\n"
     ]
    },
    {
     "name": "stdout",
     "output_type": "stream",
     "text": [
      "Train Loss: 0.1981,  Train Accuracy: 0.9297,  Train F1-Score: 0.8055, \n",
      "Val Loss: 0.4972,  Val Accuracy: 0.8720,  Val F1-Score: 0.5590, \n",
      "\n",
      "\n"
     ]
    },
    {
     "name": "stderr",
     "output_type": "stream",
     "text": [
      "Epoch 279: 100%|██████████| 23/23 [00:02<00:00,  8.41it/s]\n"
     ]
    },
    {
     "name": "stdout",
     "output_type": "stream",
     "text": [
      "Train Loss: 0.1967,  Train Accuracy: 0.9299,  Train F1-Score: 0.7895, \n",
      "Val Loss: 0.4385,  Val Accuracy: 0.8726,  Val F1-Score: 0.5749, \n",
      "\n",
      "\n"
     ]
    },
    {
     "name": "stderr",
     "output_type": "stream",
     "text": [
      "Epoch 280: 100%|██████████| 23/23 [00:02<00:00,  8.38it/s]\n"
     ]
    },
    {
     "name": "stdout",
     "output_type": "stream",
     "text": [
      "Train Loss: 0.1725,  Train Accuracy: 0.9387,  Train F1-Score: 0.8241, \n",
      "Val Loss: 0.4719,  Val Accuracy: 0.8733,  Val F1-Score: 0.5943, \n",
      "\n",
      "\n"
     ]
    },
    {
     "name": "stderr",
     "output_type": "stream",
     "text": [
      "Epoch 281: 100%|██████████| 23/23 [00:02<00:00,  8.42it/s]\n"
     ]
    },
    {
     "name": "stdout",
     "output_type": "stream",
     "text": [
      "Train Loss: 0.1653,  Train Accuracy: 0.9438,  Train F1-Score: 0.8430, \n",
      "Val Loss: 0.4674,  Val Accuracy: 0.8827,  Val F1-Score: 0.5836, \n",
      "\n",
      "\n"
     ]
    },
    {
     "name": "stderr",
     "output_type": "stream",
     "text": [
      "Epoch 282: 100%|██████████| 23/23 [00:02<00:00,  8.19it/s]\n"
     ]
    },
    {
     "name": "stdout",
     "output_type": "stream",
     "text": [
      "Train Loss: 0.1647,  Train Accuracy: 0.9429,  Train F1-Score: 0.8360, \n",
      "Val Loss: 0.4654,  Val Accuracy: 0.8799,  Val F1-Score: 0.5723, \n",
      "\n",
      "\n"
     ]
    },
    {
     "name": "stderr",
     "output_type": "stream",
     "text": [
      "Epoch 283: 100%|██████████| 23/23 [00:02<00:00,  8.25it/s]\n"
     ]
    },
    {
     "name": "stdout",
     "output_type": "stream",
     "text": [
      "Train Loss: 0.1619,  Train Accuracy: 0.9460,  Train F1-Score: 0.8491, \n",
      "Val Loss: 0.5281,  Val Accuracy: 0.8713,  Val F1-Score: 0.5409, \n",
      "\n",
      "\n"
     ]
    },
    {
     "name": "stderr",
     "output_type": "stream",
     "text": [
      "Epoch 284: 100%|██████████| 23/23 [00:02<00:00,  8.31it/s]\n"
     ]
    },
    {
     "name": "stdout",
     "output_type": "stream",
     "text": [
      "Train Loss: 0.1678,  Train Accuracy: 0.9437,  Train F1-Score: 0.8383, \n",
      "Val Loss: 0.4776,  Val Accuracy: 0.8755,  Val F1-Score: 0.5828, \n",
      "\n",
      "\n"
     ]
    },
    {
     "name": "stderr",
     "output_type": "stream",
     "text": [
      "Epoch 285: 100%|██████████| 23/23 [00:02<00:00,  8.31it/s]\n"
     ]
    },
    {
     "name": "stdout",
     "output_type": "stream",
     "text": [
      "Train Loss: 0.1514,  Train Accuracy: 0.9506,  Train F1-Score: 0.8621, \n",
      "Val Loss: 0.4813,  Val Accuracy: 0.8737,  Val F1-Score: 0.5643, \n",
      "\n",
      "\n"
     ]
    },
    {
     "name": "stderr",
     "output_type": "stream",
     "text": [
      "Epoch 286: 100%|██████████| 23/23 [00:02<00:00,  8.29it/s]\n"
     ]
    },
    {
     "name": "stdout",
     "output_type": "stream",
     "text": [
      "Train Loss: 0.1512,  Train Accuracy: 0.9476,  Train F1-Score: 0.8516, \n",
      "Val Loss: 0.4703,  Val Accuracy: 0.8780,  Val F1-Score: 0.5834, \n",
      "\n",
      "\n"
     ]
    },
    {
     "name": "stderr",
     "output_type": "stream",
     "text": [
      "Epoch 287: 100%|██████████| 23/23 [00:02<00:00,  8.29it/s]\n"
     ]
    },
    {
     "name": "stdout",
     "output_type": "stream",
     "text": [
      "Train Loss: 0.1509,  Train Accuracy: 0.9499,  Train F1-Score: 0.8593, \n",
      "Val Loss: 0.4853,  Val Accuracy: 0.8644,  Val F1-Score: 0.5881, \n",
      "\n",
      "\n"
     ]
    },
    {
     "name": "stderr",
     "output_type": "stream",
     "text": [
      "Epoch 288: 100%|██████████| 23/23 [00:02<00:00,  8.30it/s]\n"
     ]
    },
    {
     "name": "stdout",
     "output_type": "stream",
     "text": [
      "Train Loss: 0.1410,  Train Accuracy: 0.9537,  Train F1-Score: 0.8707, \n",
      "Val Loss: 0.5107,  Val Accuracy: 0.8698,  Val F1-Score: 0.5825, \n",
      "\n",
      "\n"
     ]
    },
    {
     "name": "stderr",
     "output_type": "stream",
     "text": [
      "Epoch 289: 100%|██████████| 23/23 [00:02<00:00,  8.29it/s]\n"
     ]
    },
    {
     "name": "stdout",
     "output_type": "stream",
     "text": [
      "Train Loss: 0.1497,  Train Accuracy: 0.9495,  Train F1-Score: 0.8599, \n",
      "Val Loss: 0.4898,  Val Accuracy: 0.8803,  Val F1-Score: 0.6193, \n",
      "\n",
      "\n"
     ]
    },
    {
     "name": "stderr",
     "output_type": "stream",
     "text": [
      "Epoch 290: 100%|██████████| 23/23 [00:02<00:00,  8.29it/s]\n"
     ]
    },
    {
     "name": "stdout",
     "output_type": "stream",
     "text": [
      "Train Loss: 0.1414,  Train Accuracy: 0.9543,  Train F1-Score: 0.8712, \n",
      "Val Loss: 0.4956,  Val Accuracy: 0.8772,  Val F1-Score: 0.6109, \n",
      "\n",
      "\n"
     ]
    },
    {
     "name": "stderr",
     "output_type": "stream",
     "text": [
      "Epoch 291: 100%|██████████| 23/23 [00:02<00:00,  8.31it/s]\n"
     ]
    },
    {
     "name": "stdout",
     "output_type": "stream",
     "text": [
      "Train Loss: 0.1450,  Train Accuracy: 0.9499,  Train F1-Score: 0.8603, \n",
      "Val Loss: 0.5040,  Val Accuracy: 0.8760,  Val F1-Score: 0.5844, \n",
      "\n",
      "\n"
     ]
    },
    {
     "name": "stderr",
     "output_type": "stream",
     "text": [
      "Epoch 292: 100%|██████████| 23/23 [00:02<00:00,  8.40it/s]\n"
     ]
    },
    {
     "name": "stdout",
     "output_type": "stream",
     "text": [
      "Train Loss: 0.1495,  Train Accuracy: 0.9500,  Train F1-Score: 0.8584, \n",
      "Val Loss: 0.5033,  Val Accuracy: 0.8763,  Val F1-Score: 0.6001, \n",
      "\n",
      "\n"
     ]
    },
    {
     "name": "stderr",
     "output_type": "stream",
     "text": [
      "Epoch 293: 100%|██████████| 23/23 [00:02<00:00,  8.43it/s]\n"
     ]
    },
    {
     "name": "stdout",
     "output_type": "stream",
     "text": [
      "Train Loss: 0.1410,  Train Accuracy: 0.9533,  Train F1-Score: 0.8700, \n",
      "Val Loss: 0.5103,  Val Accuracy: 0.8760,  Val F1-Score: 0.5840, \n",
      "\n",
      "\n"
     ]
    },
    {
     "name": "stderr",
     "output_type": "stream",
     "text": [
      "Epoch 294: 100%|██████████| 23/23 [00:02<00:00,  8.42it/s]\n"
     ]
    },
    {
     "name": "stdout",
     "output_type": "stream",
     "text": [
      "Train Loss: 0.1325,  Train Accuracy: 0.9562,  Train F1-Score: 0.8785, \n",
      "Val Loss: 0.5201,  Val Accuracy: 0.8852,  Val F1-Score: 0.6106, \n",
      "\n",
      "\n"
     ]
    },
    {
     "name": "stderr",
     "output_type": "stream",
     "text": [
      "Epoch 295: 100%|██████████| 23/23 [00:02<00:00,  8.42it/s]\n"
     ]
    },
    {
     "name": "stdout",
     "output_type": "stream",
     "text": [
      "Train Loss: 0.1402,  Train Accuracy: 0.9528,  Train F1-Score: 0.8677, \n",
      "Val Loss: 0.5391,  Val Accuracy: 0.8773,  Val F1-Score: 0.5641, \n",
      "\n",
      "\n"
     ]
    },
    {
     "name": "stderr",
     "output_type": "stream",
     "text": [
      "Epoch 296: 100%|██████████| 23/23 [00:02<00:00,  8.34it/s]\n"
     ]
    },
    {
     "name": "stdout",
     "output_type": "stream",
     "text": [
      "Train Loss: 0.1329,  Train Accuracy: 0.9581,  Train F1-Score: 0.8827, \n",
      "Val Loss: 0.5399,  Val Accuracy: 0.8742,  Val F1-Score: 0.5902, \n",
      "\n",
      "\n"
     ]
    },
    {
     "name": "stderr",
     "output_type": "stream",
     "text": [
      "Epoch 297: 100%|██████████| 23/23 [00:02<00:00,  8.29it/s]\n"
     ]
    },
    {
     "name": "stdout",
     "output_type": "stream",
     "text": [
      "Train Loss: 0.1317,  Train Accuracy: 0.9569,  Train F1-Score: 0.8793, \n",
      "Val Loss: 0.5340,  Val Accuracy: 0.8741,  Val F1-Score: 0.6028, \n",
      "\n",
      "\n"
     ]
    },
    {
     "name": "stderr",
     "output_type": "stream",
     "text": [
      "Epoch 298: 100%|██████████| 23/23 [00:02<00:00,  8.32it/s]\n"
     ]
    },
    {
     "name": "stdout",
     "output_type": "stream",
     "text": [
      "Train Loss: 0.1419,  Train Accuracy: 0.9515,  Train F1-Score: 0.8658, \n",
      "Val Loss: 0.5391,  Val Accuracy: 0.8776,  Val F1-Score: 0.5936, \n",
      "\n",
      "\n"
     ]
    },
    {
     "name": "stderr",
     "output_type": "stream",
     "text": [
      "Epoch 299: 100%|██████████| 23/23 [00:02<00:00,  8.30it/s]\n"
     ]
    },
    {
     "name": "stdout",
     "output_type": "stream",
     "text": [
      "Train Loss: 0.1427,  Train Accuracy: 0.9520,  Train F1-Score: 0.8664, \n",
      "Val Loss: 0.5435,  Val Accuracy: 0.8578,  Val F1-Score: 0.5169, \n",
      "\n",
      "\n"
     ]
    },
    {
     "name": "stderr",
     "output_type": "stream",
     "text": [
      "Epoch 300: 100%|██████████| 23/23 [00:02<00:00,  8.26it/s]\n"
     ]
    },
    {
     "name": "stdout",
     "output_type": "stream",
     "text": [
      "Train Loss: 0.1360,  Train Accuracy: 0.9547,  Train F1-Score: 0.8729, \n",
      "Val Loss: 0.5325,  Val Accuracy: 0.8740,  Val F1-Score: 0.5982, \n",
      "\n",
      "\n"
     ]
    },
    {
     "name": "stderr",
     "output_type": "stream",
     "text": [
      "Epoch 301: 100%|██████████| 23/23 [00:02<00:00,  8.28it/s]\n"
     ]
    },
    {
     "name": "stdout",
     "output_type": "stream",
     "text": [
      "Train Loss: 0.1308,  Train Accuracy: 0.9554,  Train F1-Score: 0.8761, \n",
      "Val Loss: 0.5618,  Val Accuracy: 0.8717,  Val F1-Score: 0.6024, \n",
      "\n",
      "\n"
     ]
    },
    {
     "name": "stderr",
     "output_type": "stream",
     "text": [
      "Epoch 302: 100%|██████████| 23/23 [00:03<00:00,  7.58it/s]\n"
     ]
    },
    {
     "name": "stdout",
     "output_type": "stream",
     "text": [
      "Train Loss: 0.1208,  Train Accuracy: 0.9598,  Train F1-Score: 0.8865, \n",
      "Val Loss: 0.5503,  Val Accuracy: 0.8836,  Val F1-Score: 0.6032, \n",
      "\n",
      "\n"
     ]
    },
    {
     "name": "stderr",
     "output_type": "stream",
     "text": [
      "Epoch 303: 100%|██████████| 23/23 [00:02<00:00,  8.31it/s]\n"
     ]
    },
    {
     "name": "stdout",
     "output_type": "stream",
     "text": [
      "Train Loss: 0.1373,  Train Accuracy: 0.9550,  Train F1-Score: 0.8739, \n",
      "Val Loss: 0.5785,  Val Accuracy: 0.8654,  Val F1-Score: 0.5735, \n",
      "\n",
      "\n"
     ]
    },
    {
     "name": "stderr",
     "output_type": "stream",
     "text": [
      "Epoch 304: 100%|██████████| 23/23 [00:02<00:00,  8.32it/s]\n"
     ]
    },
    {
     "name": "stdout",
     "output_type": "stream",
     "text": [
      "Train Loss: 0.1262,  Train Accuracy: 0.9581,  Train F1-Score: 0.8843, \n",
      "Val Loss: 0.5564,  Val Accuracy: 0.8709,  Val F1-Score: 0.5822, \n",
      "\n",
      "\n"
     ]
    },
    {
     "name": "stderr",
     "output_type": "stream",
     "text": [
      "Epoch 305: 100%|██████████| 23/23 [00:02<00:00,  8.37it/s]\n"
     ]
    },
    {
     "name": "stdout",
     "output_type": "stream",
     "text": [
      "Train Loss: 0.1296,  Train Accuracy: 0.9575,  Train F1-Score: 0.8845, \n",
      "Val Loss: 0.5729,  Val Accuracy: 0.8794,  Val F1-Score: 0.5816, \n",
      "\n",
      "\n"
     ]
    },
    {
     "name": "stderr",
     "output_type": "stream",
     "text": [
      "Epoch 306: 100%|██████████| 23/23 [00:02<00:00,  8.43it/s]\n"
     ]
    },
    {
     "name": "stdout",
     "output_type": "stream",
     "text": [
      "Train Loss: 0.1294,  Train Accuracy: 0.9583,  Train F1-Score: 0.8846, \n",
      "Val Loss: 0.5507,  Val Accuracy: 0.8826,  Val F1-Score: 0.6201, \n",
      "\n",
      "\n"
     ]
    },
    {
     "name": "stderr",
     "output_type": "stream",
     "text": [
      "Epoch 307: 100%|██████████| 23/23 [00:02<00:00,  8.42it/s]\n"
     ]
    },
    {
     "name": "stdout",
     "output_type": "stream",
     "text": [
      "Train Loss: 0.1185,  Train Accuracy: 0.9612,  Train F1-Score: 0.8951, \n",
      "Val Loss: 0.5906,  Val Accuracy: 0.8672,  Val F1-Score: 0.5655, \n",
      "\n",
      "\n"
     ]
    },
    {
     "name": "stderr",
     "output_type": "stream",
     "text": [
      "Epoch 308: 100%|██████████| 23/23 [00:02<00:00,  8.42it/s]\n"
     ]
    },
    {
     "name": "stdout",
     "output_type": "stream",
     "text": [
      "Train Loss: 0.1293,  Train Accuracy: 0.9572,  Train F1-Score: 0.8833, \n",
      "Val Loss: 0.5695,  Val Accuracy: 0.8701,  Val F1-Score: 0.5794, \n",
      "\n",
      "\n"
     ]
    },
    {
     "name": "stderr",
     "output_type": "stream",
     "text": [
      "Epoch 309: 100%|██████████| 23/23 [00:02<00:00,  8.41it/s]\n"
     ]
    },
    {
     "name": "stdout",
     "output_type": "stream",
     "text": [
      "Train Loss: 0.1357,  Train Accuracy: 0.9545,  Train F1-Score: 0.8745, \n",
      "Val Loss: 0.5678,  Val Accuracy: 0.8697,  Val F1-Score: 0.5943, \n",
      "\n",
      "\n"
     ]
    },
    {
     "name": "stderr",
     "output_type": "stream",
     "text": [
      "Epoch 310: 100%|██████████| 23/23 [00:02<00:00,  8.41it/s]\n"
     ]
    },
    {
     "name": "stdout",
     "output_type": "stream",
     "text": [
      "Train Loss: 0.1244,  Train Accuracy: 0.9600,  Train F1-Score: 0.8891, \n",
      "Val Loss: 0.5932,  Val Accuracy: 0.8657,  Val F1-Score: 0.5939, \n",
      "\n",
      "\n"
     ]
    },
    {
     "name": "stderr",
     "output_type": "stream",
     "text": [
      "Epoch 311: 100%|██████████| 23/23 [00:02<00:00,  8.31it/s]\n"
     ]
    },
    {
     "name": "stdout",
     "output_type": "stream",
     "text": [
      "Train Loss: 0.1232,  Train Accuracy: 0.9598,  Train F1-Score: 0.8903, \n",
      "Val Loss: 0.5639,  Val Accuracy: 0.8706,  Val F1-Score: 0.5633, \n",
      "\n",
      "\n"
     ]
    },
    {
     "name": "stderr",
     "output_type": "stream",
     "text": [
      "Epoch 312: 100%|██████████| 23/23 [00:02<00:00,  8.30it/s]\n"
     ]
    },
    {
     "name": "stdout",
     "output_type": "stream",
     "text": [
      "Train Loss: 0.1180,  Train Accuracy: 0.9612,  Train F1-Score: 0.8941, \n",
      "Val Loss: 0.5708,  Val Accuracy: 0.8725,  Val F1-Score: 0.5881, \n",
      "\n",
      "\n"
     ]
    },
    {
     "name": "stderr",
     "output_type": "stream",
     "text": [
      "Epoch 313: 100%|██████████| 23/23 [00:02<00:00,  8.30it/s]\n"
     ]
    },
    {
     "name": "stdout",
     "output_type": "stream",
     "text": [
      "Train Loss: 0.1231,  Train Accuracy: 0.9603,  Train F1-Score: 0.8871, \n",
      "Val Loss: 0.5844,  Val Accuracy: 0.8579,  Val F1-Score: 0.5811, \n",
      "\n",
      "\n"
     ]
    },
    {
     "name": "stderr",
     "output_type": "stream",
     "text": [
      "Epoch 314: 100%|██████████| 23/23 [00:02<00:00,  8.31it/s]\n"
     ]
    },
    {
     "name": "stdout",
     "output_type": "stream",
     "text": [
      "Train Loss: 0.1164,  Train Accuracy: 0.9621,  Train F1-Score: 0.8963, \n",
      "Val Loss: 0.5927,  Val Accuracy: 0.8695,  Val F1-Score: 0.5704, \n",
      "\n",
      "\n"
     ]
    },
    {
     "name": "stderr",
     "output_type": "stream",
     "text": [
      "Epoch 315: 100%|██████████| 23/23 [00:02<00:00,  8.30it/s]\n"
     ]
    },
    {
     "name": "stdout",
     "output_type": "stream",
     "text": [
      "Train Loss: 0.1193,  Train Accuracy: 0.9601,  Train F1-Score: 0.8929, \n",
      "Val Loss: 0.6024,  Val Accuracy: 0.8741,  Val F1-Score: 0.5863, \n",
      "\n",
      "\n"
     ]
    },
    {
     "name": "stderr",
     "output_type": "stream",
     "text": [
      "Epoch 316: 100%|██████████| 23/23 [00:02<00:00,  8.30it/s]\n"
     ]
    },
    {
     "name": "stdout",
     "output_type": "stream",
     "text": [
      "Train Loss: 0.1100,  Train Accuracy: 0.9637,  Train F1-Score: 0.9011, \n",
      "Val Loss: 0.6189,  Val Accuracy: 0.8704,  Val F1-Score: 0.5714, \n",
      "\n",
      "\n"
     ]
    },
    {
     "name": "stderr",
     "output_type": "stream",
     "text": [
      "Epoch 317: 100%|██████████| 23/23 [00:02<00:00,  8.26it/s]\n"
     ]
    },
    {
     "name": "stdout",
     "output_type": "stream",
     "text": [
      "Train Loss: 0.1171,  Train Accuracy: 0.9616,  Train F1-Score: 0.8938, \n",
      "Val Loss: 0.6365,  Val Accuracy: 0.8713,  Val F1-Score: 0.5684, \n",
      "\n",
      "\n"
     ]
    },
    {
     "name": "stderr",
     "output_type": "stream",
     "text": [
      "Epoch 318: 100%|██████████| 23/23 [00:02<00:00,  8.29it/s]\n"
     ]
    },
    {
     "name": "stdout",
     "output_type": "stream",
     "text": [
      "Train Loss: 0.1212,  Train Accuracy: 0.9606,  Train F1-Score: 0.8921, \n",
      "Val Loss: 0.6054,  Val Accuracy: 0.8665,  Val F1-Score: 0.5807, \n",
      "\n",
      "\n"
     ]
    },
    {
     "name": "stderr",
     "output_type": "stream",
     "text": [
      "Epoch 319: 100%|██████████| 23/23 [00:02<00:00,  8.32it/s]\n"
     ]
    },
    {
     "name": "stdout",
     "output_type": "stream",
     "text": [
      "Train Loss: 0.1181,  Train Accuracy: 0.9615,  Train F1-Score: 0.8943, \n",
      "Val Loss: 0.5924,  Val Accuracy: 0.8779,  Val F1-Score: 0.6081, \n",
      "\n",
      "\n"
     ]
    },
    {
     "name": "stderr",
     "output_type": "stream",
     "text": [
      "Epoch 320: 100%|██████████| 23/23 [00:02<00:00,  8.35it/s]\n"
     ]
    },
    {
     "name": "stdout",
     "output_type": "stream",
     "text": [
      "Train Loss: 0.1172,  Train Accuracy: 0.9626,  Train F1-Score: 0.8980, \n",
      "Val Loss: 0.6104,  Val Accuracy: 0.8683,  Val F1-Score: 0.5701, \n",
      "\n",
      "\n"
     ]
    },
    {
     "name": "stderr",
     "output_type": "stream",
     "text": [
      "Epoch 321: 100%|██████████| 23/23 [00:02<00:00,  8.15it/s]\n"
     ]
    },
    {
     "name": "stdout",
     "output_type": "stream",
     "text": [
      "Train Loss: 0.1070,  Train Accuracy: 0.9656,  Train F1-Score: 0.9070, \n",
      "Val Loss: 0.5570,  Val Accuracy: 0.8758,  Val F1-Score: 0.6015, \n",
      "\n",
      "\n"
     ]
    },
    {
     "name": "stderr",
     "output_type": "stream",
     "text": [
      "Epoch 322: 100%|██████████| 23/23 [00:02<00:00,  8.47it/s]\n"
     ]
    },
    {
     "name": "stdout",
     "output_type": "stream",
     "text": [
      "Train Loss: 0.1175,  Train Accuracy: 0.9617,  Train F1-Score: 0.8959, \n",
      "Val Loss: 0.6300,  Val Accuracy: 0.8704,  Val F1-Score: 0.5719, \n",
      "\n",
      "\n"
     ]
    },
    {
     "name": "stderr",
     "output_type": "stream",
     "text": [
      "Epoch 323: 100%|██████████| 23/23 [00:02<00:00,  8.46it/s]\n"
     ]
    },
    {
     "name": "stdout",
     "output_type": "stream",
     "text": [
      "Train Loss: 0.1088,  Train Accuracy: 0.9647,  Train F1-Score: 0.9032, \n",
      "Val Loss: 0.6315,  Val Accuracy: 0.8677,  Val F1-Score: 0.5614, \n",
      "\n",
      "\n"
     ]
    },
    {
     "name": "stderr",
     "output_type": "stream",
     "text": [
      "Epoch 324: 100%|██████████| 23/23 [00:02<00:00,  8.46it/s]\n"
     ]
    },
    {
     "name": "stdout",
     "output_type": "stream",
     "text": [
      "Train Loss: 0.1021,  Train Accuracy: 0.9672,  Train F1-Score: 0.9086, \n",
      "Val Loss: 0.6023,  Val Accuracy: 0.8621,  Val F1-Score: 0.5865, \n",
      "\n",
      "\n"
     ]
    },
    {
     "name": "stderr",
     "output_type": "stream",
     "text": [
      "Epoch 325: 100%|██████████| 23/23 [00:02<00:00,  8.46it/s]\n"
     ]
    },
    {
     "name": "stdout",
     "output_type": "stream",
     "text": [
      "Train Loss: 0.1008,  Train Accuracy: 0.9689,  Train F1-Score: 0.9156, \n",
      "Val Loss: 0.6230,  Val Accuracy: 0.8673,  Val F1-Score: 0.5707, \n",
      "\n",
      "\n"
     ]
    },
    {
     "name": "stderr",
     "output_type": "stream",
     "text": [
      "Epoch 326: 100%|██████████| 23/23 [00:02<00:00,  8.36it/s]\n"
     ]
    },
    {
     "name": "stdout",
     "output_type": "stream",
     "text": [
      "Train Loss: 0.1085,  Train Accuracy: 0.9654,  Train F1-Score: 0.9040, \n",
      "Val Loss: 0.6115,  Val Accuracy: 0.8729,  Val F1-Score: 0.6047, \n",
      "\n",
      "\n"
     ]
    },
    {
     "name": "stderr",
     "output_type": "stream",
     "text": [
      "Epoch 327: 100%|██████████| 23/23 [00:02<00:00,  8.34it/s]\n"
     ]
    },
    {
     "name": "stdout",
     "output_type": "stream",
     "text": [
      "Train Loss: 0.1195,  Train Accuracy: 0.9616,  Train F1-Score: 0.8962, \n",
      "Val Loss: 0.5912,  Val Accuracy: 0.8699,  Val F1-Score: 0.5845, \n",
      "\n",
      "\n"
     ]
    },
    {
     "name": "stderr",
     "output_type": "stream",
     "text": [
      "Epoch 328: 100%|██████████| 23/23 [00:02<00:00,  8.33it/s]\n"
     ]
    },
    {
     "name": "stdout",
     "output_type": "stream",
     "text": [
      "Train Loss: 0.1104,  Train Accuracy: 0.9643,  Train F1-Score: 0.9032, \n",
      "Val Loss: 0.6045,  Val Accuracy: 0.8661,  Val F1-Score: 0.5793, \n",
      "\n",
      "\n"
     ]
    },
    {
     "name": "stderr",
     "output_type": "stream",
     "text": [
      "Epoch 329: 100%|██████████| 23/23 [00:02<00:00,  8.32it/s]\n"
     ]
    },
    {
     "name": "stdout",
     "output_type": "stream",
     "text": [
      "Train Loss: 0.1050,  Train Accuracy: 0.9667,  Train F1-Score: 0.9090, \n",
      "Val Loss: 0.6013,  Val Accuracy: 0.8729,  Val F1-Score: 0.5890, \n",
      "\n",
      "\n"
     ]
    },
    {
     "name": "stderr",
     "output_type": "stream",
     "text": [
      "Epoch 330: 100%|██████████| 23/23 [00:02<00:00,  8.32it/s]\n"
     ]
    },
    {
     "name": "stdout",
     "output_type": "stream",
     "text": [
      "Train Loss: 0.1138,  Train Accuracy: 0.9625,  Train F1-Score: 0.8974, \n",
      "Val Loss: 0.6223,  Val Accuracy: 0.8683,  Val F1-Score: 0.5467, \n",
      "\n",
      "\n"
     ]
    },
    {
     "name": "stderr",
     "output_type": "stream",
     "text": [
      "Epoch 331: 100%|██████████| 23/23 [00:02<00:00,  8.34it/s]\n"
     ]
    },
    {
     "name": "stdout",
     "output_type": "stream",
     "text": [
      "Train Loss: 0.0980,  Train Accuracy: 0.9686,  Train F1-Score: 0.9153, \n",
      "Val Loss: 0.5829,  Val Accuracy: 0.8690,  Val F1-Score: 0.5862, \n",
      "\n",
      "\n"
     ]
    },
    {
     "name": "stderr",
     "output_type": "stream",
     "text": [
      "Epoch 332: 100%|██████████| 23/23 [00:02<00:00,  8.33it/s]\n"
     ]
    },
    {
     "name": "stdout",
     "output_type": "stream",
     "text": [
      "Train Loss: 0.0992,  Train Accuracy: 0.9681,  Train F1-Score: 0.9146, \n",
      "Val Loss: 0.6053,  Val Accuracy: 0.8777,  Val F1-Score: 0.6043, \n",
      "\n",
      "\n"
     ]
    },
    {
     "name": "stderr",
     "output_type": "stream",
     "text": [
      "Epoch 333: 100%|██████████| 23/23 [00:02<00:00,  8.33it/s]\n"
     ]
    },
    {
     "name": "stdout",
     "output_type": "stream",
     "text": [
      "Train Loss: 0.1048,  Train Accuracy: 0.9661,  Train F1-Score: 0.9084, \n",
      "Val Loss: 0.5721,  Val Accuracy: 0.8760,  Val F1-Score: 0.6001, \n",
      "\n",
      "\n"
     ]
    },
    {
     "name": "stderr",
     "output_type": "stream",
     "text": [
      "Epoch 334: 100%|██████████| 23/23 [00:02<00:00,  8.37it/s]\n"
     ]
    },
    {
     "name": "stdout",
     "output_type": "stream",
     "text": [
      "Train Loss: 0.0932,  Train Accuracy: 0.9716,  Train F1-Score: 0.9232, \n",
      "Val Loss: 0.6287,  Val Accuracy: 0.8783,  Val F1-Score: 0.6053, \n",
      "\n",
      "\n"
     ]
    },
    {
     "name": "stderr",
     "output_type": "stream",
     "text": [
      "Epoch 335: 100%|██████████| 23/23 [00:02<00:00,  8.46it/s]\n"
     ]
    },
    {
     "name": "stdout",
     "output_type": "stream",
     "text": [
      "Train Loss: 0.0986,  Train Accuracy: 0.9676,  Train F1-Score: 0.9108, \n",
      "Val Loss: 0.6626,  Val Accuracy: 0.8697,  Val F1-Score: 0.5617, \n",
      "\n",
      "\n"
     ]
    },
    {
     "name": "stderr",
     "output_type": "stream",
     "text": [
      "Epoch 336: 100%|██████████| 23/23 [00:02<00:00,  8.45it/s]\n"
     ]
    },
    {
     "name": "stdout",
     "output_type": "stream",
     "text": [
      "Train Loss: 0.0970,  Train Accuracy: 0.9693,  Train F1-Score: 0.9179, \n",
      "Val Loss: 0.6340,  Val Accuracy: 0.8741,  Val F1-Score: 0.6020, \n",
      "\n",
      "\n"
     ]
    },
    {
     "name": "stderr",
     "output_type": "stream",
     "text": [
      "Epoch 337: 100%|██████████| 23/23 [00:02<00:00,  8.44it/s]\n"
     ]
    },
    {
     "name": "stdout",
     "output_type": "stream",
     "text": [
      "Train Loss: 0.1004,  Train Accuracy: 0.9672,  Train F1-Score: 0.9113, \n",
      "Val Loss: 0.6813,  Val Accuracy: 0.8672,  Val F1-Score: 0.5729, \n",
      "\n",
      "\n"
     ]
    },
    {
     "name": "stderr",
     "output_type": "stream",
     "text": [
      "Epoch 338: 100%|██████████| 23/23 [00:02<00:00,  8.47it/s]\n"
     ]
    },
    {
     "name": "stdout",
     "output_type": "stream",
     "text": [
      "Train Loss: 0.0959,  Train Accuracy: 0.9690,  Train F1-Score: 0.9154, \n",
      "Val Loss: 0.6754,  Val Accuracy: 0.8689,  Val F1-Score: 0.5977, \n",
      "\n",
      "\n"
     ]
    },
    {
     "name": "stderr",
     "output_type": "stream",
     "text": [
      "Epoch 339: 100%|██████████| 23/23 [00:02<00:00,  8.44it/s]\n"
     ]
    },
    {
     "name": "stdout",
     "output_type": "stream",
     "text": [
      "Train Loss: 0.0986,  Train Accuracy: 0.9676,  Train F1-Score: 0.9123, \n",
      "Val Loss: 0.6277,  Val Accuracy: 0.8728,  Val F1-Score: 0.5966, \n",
      "\n",
      "\n"
     ]
    },
    {
     "name": "stderr",
     "output_type": "stream",
     "text": [
      "Epoch 340: 100%|██████████| 23/23 [00:02<00:00,  8.41it/s]\n"
     ]
    },
    {
     "name": "stdout",
     "output_type": "stream",
     "text": [
      "Train Loss: 0.0971,  Train Accuracy: 0.9673,  Train F1-Score: 0.9111, \n",
      "Val Loss: 0.6308,  Val Accuracy: 0.8779,  Val F1-Score: 0.5733, \n",
      "\n",
      "\n"
     ]
    },
    {
     "name": "stderr",
     "output_type": "stream",
     "text": [
      "Epoch 341: 100%|██████████| 23/23 [00:03<00:00,  7.64it/s]\n"
     ]
    },
    {
     "name": "stdout",
     "output_type": "stream",
     "text": [
      "Train Loss: 0.0929,  Train Accuracy: 0.9704,  Train F1-Score: 0.9184, \n",
      "Val Loss: 0.6599,  Val Accuracy: 0.8653,  Val F1-Score: 0.5828, \n",
      "\n",
      "\n"
     ]
    },
    {
     "name": "stderr",
     "output_type": "stream",
     "text": [
      "Epoch 342: 100%|██████████| 23/23 [00:02<00:00,  8.23it/s]\n"
     ]
    },
    {
     "name": "stdout",
     "output_type": "stream",
     "text": [
      "Train Loss: 0.0915,  Train Accuracy: 0.9715,  Train F1-Score: 0.9235, \n",
      "Val Loss: 0.6619,  Val Accuracy: 0.8734,  Val F1-Score: 0.5573, \n",
      "\n",
      "\n"
     ]
    },
    {
     "name": "stderr",
     "output_type": "stream",
     "text": [
      "Epoch 343: 100%|██████████| 23/23 [00:02<00:00,  8.26it/s]\n"
     ]
    },
    {
     "name": "stdout",
     "output_type": "stream",
     "text": [
      "Train Loss: 0.1045,  Train Accuracy: 0.9667,  Train F1-Score: 0.9093, \n",
      "Val Loss: 0.6234,  Val Accuracy: 0.8796,  Val F1-Score: 0.6169, \n",
      "\n",
      "\n"
     ]
    },
    {
     "name": "stderr",
     "output_type": "stream",
     "text": [
      "Epoch 344: 100%|██████████| 23/23 [00:02<00:00,  8.27it/s]\n"
     ]
    },
    {
     "name": "stdout",
     "output_type": "stream",
     "text": [
      "Train Loss: 0.1051,  Train Accuracy: 0.9657,  Train F1-Score: 0.9074, \n",
      "Val Loss: 0.5569,  Val Accuracy: 0.8738,  Val F1-Score: 0.6161, \n",
      "\n",
      "\n"
     ]
    },
    {
     "name": "stderr",
     "output_type": "stream",
     "text": [
      "Epoch 345: 100%|██████████| 23/23 [00:02<00:00,  8.29it/s]\n"
     ]
    },
    {
     "name": "stdout",
     "output_type": "stream",
     "text": [
      "Train Loss: 0.0970,  Train Accuracy: 0.9691,  Train F1-Score: 0.9153, \n",
      "Val Loss: 0.6285,  Val Accuracy: 0.8797,  Val F1-Score: 0.6003, \n",
      "\n",
      "\n"
     ]
    },
    {
     "name": "stderr",
     "output_type": "stream",
     "text": [
      "Epoch 346: 100%|██████████| 23/23 [00:02<00:00,  8.29it/s]\n"
     ]
    },
    {
     "name": "stdout",
     "output_type": "stream",
     "text": [
      "Train Loss: 0.1017,  Train Accuracy: 0.9676,  Train F1-Score: 0.9113, \n",
      "Val Loss: 0.6137,  Val Accuracy: 0.8749,  Val F1-Score: 0.6002, \n",
      "\n",
      "\n"
     ]
    },
    {
     "name": "stderr",
     "output_type": "stream",
     "text": [
      "Epoch 347: 100%|██████████| 23/23 [00:02<00:00,  8.30it/s]\n"
     ]
    },
    {
     "name": "stdout",
     "output_type": "stream",
     "text": [
      "Train Loss: 0.0971,  Train Accuracy: 0.9694,  Train F1-Score: 0.9164, \n",
      "Val Loss: 0.5778,  Val Accuracy: 0.8789,  Val F1-Score: 0.5970, \n",
      "\n",
      "\n"
     ]
    },
    {
     "name": "stderr",
     "output_type": "stream",
     "text": [
      "Epoch 348: 100%|██████████| 23/23 [00:02<00:00,  8.29it/s]\n"
     ]
    },
    {
     "name": "stdout",
     "output_type": "stream",
     "text": [
      "Train Loss: 0.0963,  Train Accuracy: 0.9705,  Train F1-Score: 0.9198, \n",
      "Val Loss: 0.5873,  Val Accuracy: 0.8719,  Val F1-Score: 0.5838, \n",
      "\n",
      "\n"
     ]
    },
    {
     "name": "stderr",
     "output_type": "stream",
     "text": [
      "Epoch 349: 100%|██████████| 23/23 [00:02<00:00,  8.33it/s]\n"
     ]
    },
    {
     "name": "stdout",
     "output_type": "stream",
     "text": [
      "Train Loss: 0.0884,  Train Accuracy: 0.9722,  Train F1-Score: 0.9244, \n",
      "Val Loss: 0.6198,  Val Accuracy: 0.8762,  Val F1-Score: 0.6164, \n",
      "\n",
      "\n"
     ]
    },
    {
     "name": "stderr",
     "output_type": "stream",
     "text": [
      "Epoch 350: 100%|██████████| 23/23 [00:02<00:00,  8.37it/s]\n"
     ]
    },
    {
     "name": "stdout",
     "output_type": "stream",
     "text": [
      "Train Loss: 0.0883,  Train Accuracy: 0.9707,  Train F1-Score: 0.9212, \n",
      "Val Loss: 0.6242,  Val Accuracy: 0.8893,  Val F1-Score: 0.6432, \n",
      "\n",
      "\n"
     ]
    },
    {
     "name": "stderr",
     "output_type": "stream",
     "text": [
      "Epoch 351: 100%|██████████| 23/23 [00:02<00:00,  8.45it/s]\n"
     ]
    },
    {
     "name": "stdout",
     "output_type": "stream",
     "text": [
      "Train Loss: 0.0856,  Train Accuracy: 0.9729,  Train F1-Score: 0.9266, \n",
      "Val Loss: 0.6710,  Val Accuracy: 0.8798,  Val F1-Score: 0.6107, \n",
      "\n",
      "\n"
     ]
    },
    {
     "name": "stderr",
     "output_type": "stream",
     "text": [
      "Epoch 352: 100%|██████████| 23/23 [00:02<00:00,  8.39it/s]\n"
     ]
    },
    {
     "name": "stdout",
     "output_type": "stream",
     "text": [
      "Train Loss: 0.0821,  Train Accuracy: 0.9744,  Train F1-Score: 0.9308, \n",
      "Val Loss: 0.6429,  Val Accuracy: 0.8818,  Val F1-Score: 0.6107, \n",
      "\n",
      "\n"
     ]
    },
    {
     "name": "stderr",
     "output_type": "stream",
     "text": [
      "Epoch 353: 100%|██████████| 23/23 [00:02<00:00,  8.38it/s]\n"
     ]
    },
    {
     "name": "stdout",
     "output_type": "stream",
     "text": [
      "Train Loss: 0.0864,  Train Accuracy: 0.9723,  Train F1-Score: 0.9263, \n",
      "Val Loss: 0.6639,  Val Accuracy: 0.8750,  Val F1-Score: 0.5907, \n",
      "\n",
      "\n"
     ]
    },
    {
     "name": "stderr",
     "output_type": "stream",
     "text": [
      "Epoch 354: 100%|██████████| 23/23 [00:02<00:00,  8.38it/s]\n"
     ]
    },
    {
     "name": "stdout",
     "output_type": "stream",
     "text": [
      "Train Loss: 0.0848,  Train Accuracy: 0.9724,  Train F1-Score: 0.9248, \n",
      "Val Loss: 0.6705,  Val Accuracy: 0.8807,  Val F1-Score: 0.6208, \n",
      "\n",
      "\n"
     ]
    },
    {
     "name": "stderr",
     "output_type": "stream",
     "text": [
      "Epoch 355: 100%|██████████| 23/23 [00:02<00:00,  8.26it/s]\n"
     ]
    },
    {
     "name": "stdout",
     "output_type": "stream",
     "text": [
      "Train Loss: 0.0938,  Train Accuracy: 0.9695,  Train F1-Score: 0.9196, \n",
      "Val Loss: 0.6593,  Val Accuracy: 0.8692,  Val F1-Score: 0.5944, \n",
      "\n",
      "\n"
     ]
    },
    {
     "name": "stderr",
     "output_type": "stream",
     "text": [
      "Epoch 356: 100%|██████████| 23/23 [00:02<00:00,  8.26it/s]\n"
     ]
    },
    {
     "name": "stdout",
     "output_type": "stream",
     "text": [
      "Train Loss: 0.0821,  Train Accuracy: 0.9738,  Train F1-Score: 0.9299, \n",
      "Val Loss: 0.6675,  Val Accuracy: 0.8758,  Val F1-Score: 0.6056, \n",
      "\n",
      "\n"
     ]
    },
    {
     "name": "stderr",
     "output_type": "stream",
     "text": [
      "Epoch 357: 100%|██████████| 23/23 [00:02<00:00,  8.26it/s]\n"
     ]
    },
    {
     "name": "stdout",
     "output_type": "stream",
     "text": [
      "Train Loss: 0.0876,  Train Accuracy: 0.9721,  Train F1-Score: 0.9243, \n",
      "Val Loss: 0.6415,  Val Accuracy: 0.8788,  Val F1-Score: 0.6155, \n",
      "\n",
      "\n"
     ]
    },
    {
     "name": "stderr",
     "output_type": "stream",
     "text": [
      "Epoch 358: 100%|██████████| 23/23 [00:02<00:00,  8.26it/s]\n"
     ]
    },
    {
     "name": "stdout",
     "output_type": "stream",
     "text": [
      "Train Loss: 0.0785,  Train Accuracy: 0.9767,  Train F1-Score: 0.9377, \n",
      "Val Loss: 0.6658,  Val Accuracy: 0.8776,  Val F1-Score: 0.5957, \n",
      "\n",
      "\n"
     ]
    },
    {
     "name": "stderr",
     "output_type": "stream",
     "text": [
      "Epoch 359: 100%|██████████| 23/23 [00:02<00:00,  8.24it/s]\n"
     ]
    },
    {
     "name": "stdout",
     "output_type": "stream",
     "text": [
      "Train Loss: 0.0880,  Train Accuracy: 0.9713,  Train F1-Score: 0.9235, \n",
      "Val Loss: 0.7043,  Val Accuracy: 0.8787,  Val F1-Score: 0.5925, \n",
      "\n",
      "\n"
     ]
    },
    {
     "name": "stderr",
     "output_type": "stream",
     "text": [
      "Epoch 360: 100%|██████████| 23/23 [00:02<00:00,  8.21it/s]\n"
     ]
    },
    {
     "name": "stdout",
     "output_type": "stream",
     "text": [
      "Train Loss: 0.0797,  Train Accuracy: 0.9754,  Train F1-Score: 0.9332, \n",
      "Val Loss: 0.6590,  Val Accuracy: 0.8838,  Val F1-Score: 0.5968, \n",
      "\n",
      "\n"
     ]
    },
    {
     "name": "stderr",
     "output_type": "stream",
     "text": [
      "Epoch 361: 100%|██████████| 23/23 [00:02<00:00,  8.31it/s]\n"
     ]
    },
    {
     "name": "stdout",
     "output_type": "stream",
     "text": [
      "Train Loss: 0.0830,  Train Accuracy: 0.9734,  Train F1-Score: 0.9289, \n",
      "Val Loss: 0.7051,  Val Accuracy: 0.8516,  Val F1-Score: 0.5674, \n",
      "\n",
      "\n"
     ]
    },
    {
     "name": "stderr",
     "output_type": "stream",
     "text": [
      "Epoch 362: 100%|██████████| 23/23 [00:02<00:00,  8.33it/s]\n"
     ]
    },
    {
     "name": "stdout",
     "output_type": "stream",
     "text": [
      "Train Loss: 0.0901,  Train Accuracy: 0.9700,  Train F1-Score: 0.9197, \n",
      "Val Loss: 0.6783,  Val Accuracy: 0.8783,  Val F1-Score: 0.5943, \n",
      "\n",
      "\n"
     ]
    },
    {
     "name": "stderr",
     "output_type": "stream",
     "text": [
      "Epoch 363: 100%|██████████| 23/23 [00:02<00:00,  8.38it/s]\n"
     ]
    },
    {
     "name": "stdout",
     "output_type": "stream",
     "text": [
      "Train Loss: 0.0867,  Train Accuracy: 0.9712,  Train F1-Score: 0.9226, \n",
      "Val Loss: 0.6853,  Val Accuracy: 0.8682,  Val F1-Score: 0.5699, \n",
      "\n",
      "\n"
     ]
    },
    {
     "name": "stderr",
     "output_type": "stream",
     "text": [
      "Epoch 364: 100%|██████████| 23/23 [00:02<00:00,  8.40it/s]\n"
     ]
    },
    {
     "name": "stdout",
     "output_type": "stream",
     "text": [
      "Train Loss: 0.0827,  Train Accuracy: 0.9736,  Train F1-Score: 0.9289, \n",
      "Val Loss: 0.6988,  Val Accuracy: 0.8792,  Val F1-Score: 0.5803, \n",
      "\n",
      "\n"
     ]
    },
    {
     "name": "stderr",
     "output_type": "stream",
     "text": [
      "Epoch 365: 100%|██████████| 23/23 [00:02<00:00,  8.44it/s]\n"
     ]
    },
    {
     "name": "stdout",
     "output_type": "stream",
     "text": [
      "Train Loss: 0.0826,  Train Accuracy: 0.9739,  Train F1-Score: 0.9292, \n",
      "Val Loss: 0.6752,  Val Accuracy: 0.8752,  Val F1-Score: 0.5885, \n",
      "\n",
      "\n"
     ]
    },
    {
     "name": "stderr",
     "output_type": "stream",
     "text": [
      "Epoch 366: 100%|██████████| 23/23 [00:02<00:00,  8.45it/s]\n"
     ]
    },
    {
     "name": "stdout",
     "output_type": "stream",
     "text": [
      "Train Loss: 0.0759,  Train Accuracy: 0.9763,  Train F1-Score: 0.9363, \n",
      "Val Loss: 0.6687,  Val Accuracy: 0.8717,  Val F1-Score: 0.6015, \n",
      "\n",
      "\n"
     ]
    },
    {
     "name": "stderr",
     "output_type": "stream",
     "text": [
      "Epoch 367: 100%|██████████| 23/23 [00:02<00:00,  8.43it/s]\n"
     ]
    },
    {
     "name": "stdout",
     "output_type": "stream",
     "text": [
      "Train Loss: 0.0811,  Train Accuracy: 0.9732,  Train F1-Score: 0.9281, \n",
      "Val Loss: 0.6510,  Val Accuracy: 0.8715,  Val F1-Score: 0.5896, \n",
      "\n",
      "\n"
     ]
    },
    {
     "name": "stderr",
     "output_type": "stream",
     "text": [
      "Epoch 368: 100%|██████████| 23/23 [00:02<00:00,  8.47it/s]\n"
     ]
    },
    {
     "name": "stdout",
     "output_type": "stream",
     "text": [
      "Train Loss: 0.0793,  Train Accuracy: 0.9745,  Train F1-Score: 0.9321, \n",
      "Val Loss: 0.6038,  Val Accuracy: 0.8721,  Val F1-Score: 0.6045, \n",
      "\n",
      "\n"
     ]
    },
    {
     "name": "stderr",
     "output_type": "stream",
     "text": [
      "Epoch 369: 100%|██████████| 23/23 [00:02<00:00,  8.39it/s]\n"
     ]
    },
    {
     "name": "stdout",
     "output_type": "stream",
     "text": [
      "Train Loss: 0.0785,  Train Accuracy: 0.9743,  Train F1-Score: 0.9316, \n",
      "Val Loss: 0.6374,  Val Accuracy: 0.8755,  Val F1-Score: 0.5866, \n",
      "\n",
      "\n"
     ]
    },
    {
     "name": "stderr",
     "output_type": "stream",
     "text": [
      "Epoch 370: 100%|██████████| 23/23 [00:02<00:00,  8.32it/s]\n"
     ]
    },
    {
     "name": "stdout",
     "output_type": "stream",
     "text": [
      "Train Loss: 0.0765,  Train Accuracy: 0.9756,  Train F1-Score: 0.9355, \n",
      "Val Loss: 0.6471,  Val Accuracy: 0.8781,  Val F1-Score: 0.6064, \n",
      "\n",
      "\n"
     ]
    },
    {
     "name": "stderr",
     "output_type": "stream",
     "text": [
      "Epoch 371: 100%|██████████| 23/23 [00:02<00:00,  8.32it/s]\n"
     ]
    },
    {
     "name": "stdout",
     "output_type": "stream",
     "text": [
      "Train Loss: 0.0790,  Train Accuracy: 0.9741,  Train F1-Score: 0.9312, \n",
      "Val Loss: 0.6436,  Val Accuracy: 0.8676,  Val F1-Score: 0.5917, \n",
      "\n",
      "\n"
     ]
    },
    {
     "name": "stderr",
     "output_type": "stream",
     "text": [
      "Epoch 372: 100%|██████████| 23/23 [00:02<00:00,  8.33it/s]\n"
     ]
    },
    {
     "name": "stdout",
     "output_type": "stream",
     "text": [
      "Train Loss: 0.0841,  Train Accuracy: 0.9737,  Train F1-Score: 0.9295, \n",
      "Val Loss: 0.6987,  Val Accuracy: 0.8780,  Val F1-Score: 0.5944, \n",
      "\n",
      "\n"
     ]
    },
    {
     "name": "stderr",
     "output_type": "stream",
     "text": [
      "Epoch 373: 100%|██████████| 23/23 [00:02<00:00,  8.34it/s]\n"
     ]
    },
    {
     "name": "stdout",
     "output_type": "stream",
     "text": [
      "Train Loss: 0.0740,  Train Accuracy: 0.9768,  Train F1-Score: 0.9375, \n",
      "Val Loss: 0.6913,  Val Accuracy: 0.8843,  Val F1-Score: 0.5977, \n",
      "\n",
      "\n"
     ]
    },
    {
     "name": "stderr",
     "output_type": "stream",
     "text": [
      "Epoch 374: 100%|██████████| 23/23 [00:02<00:00,  8.31it/s]\n"
     ]
    },
    {
     "name": "stdout",
     "output_type": "stream",
     "text": [
      "Train Loss: 0.0811,  Train Accuracy: 0.9734,  Train F1-Score: 0.9289, \n",
      "Val Loss: 0.7240,  Val Accuracy: 0.8637,  Val F1-Score: 0.5613, \n",
      "\n",
      "\n"
     ]
    },
    {
     "name": "stderr",
     "output_type": "stream",
     "text": [
      "Epoch 375: 100%|██████████| 23/23 [00:02<00:00,  8.32it/s]\n"
     ]
    },
    {
     "name": "stdout",
     "output_type": "stream",
     "text": [
      "Train Loss: 0.0753,  Train Accuracy: 0.9756,  Train F1-Score: 0.9354, \n",
      "Val Loss: 0.6958,  Val Accuracy: 0.8809,  Val F1-Score: 0.5967, \n",
      "\n",
      "\n"
     ]
    },
    {
     "name": "stderr",
     "output_type": "stream",
     "text": [
      "Epoch 376: 100%|██████████| 23/23 [00:02<00:00,  8.32it/s]\n"
     ]
    },
    {
     "name": "stdout",
     "output_type": "stream",
     "text": [
      "Train Loss: 0.0638,  Train Accuracy: 0.9806,  Train F1-Score: 0.9478, \n",
      "Val Loss: 0.7255,  Val Accuracy: 0.8675,  Val F1-Score: 0.5863, \n",
      "\n",
      "\n"
     ]
    },
    {
     "name": "stderr",
     "output_type": "stream",
     "text": [
      "Epoch 377: 100%|██████████| 23/23 [00:02<00:00,  8.35it/s]\n"
     ]
    },
    {
     "name": "stdout",
     "output_type": "stream",
     "text": [
      "Train Loss: 0.0707,  Train Accuracy: 0.9779,  Train F1-Score: 0.9398, \n",
      "Val Loss: 0.6994,  Val Accuracy: 0.8715,  Val F1-Score: 0.5916, \n",
      "\n",
      "\n"
     ]
    },
    {
     "name": "stderr",
     "output_type": "stream",
     "text": [
      "Epoch 378: 100%|██████████| 23/23 [00:02<00:00,  8.44it/s]\n"
     ]
    },
    {
     "name": "stdout",
     "output_type": "stream",
     "text": [
      "Train Loss: 0.0691,  Train Accuracy: 0.9795,  Train F1-Score: 0.9464, \n",
      "Val Loss: 0.6815,  Val Accuracy: 0.8761,  Val F1-Score: 0.5991, \n",
      "\n",
      "\n"
     ]
    },
    {
     "name": "stderr",
     "output_type": "stream",
     "text": [
      "Epoch 379: 100%|██████████| 23/23 [00:02<00:00,  8.42it/s]\n"
     ]
    },
    {
     "name": "stdout",
     "output_type": "stream",
     "text": [
      "Train Loss: 0.0726,  Train Accuracy: 0.9773,  Train F1-Score: 0.9391, \n",
      "Val Loss: 0.6612,  Val Accuracy: 0.8732,  Val F1-Score: 0.5928, \n",
      "\n",
      "\n"
     ]
    },
    {
     "name": "stderr",
     "output_type": "stream",
     "text": [
      "Epoch 380: 100%|██████████| 23/23 [00:02<00:00,  8.17it/s]\n"
     ]
    },
    {
     "name": "stdout",
     "output_type": "stream",
     "text": [
      "Train Loss: 0.0750,  Train Accuracy: 0.9749,  Train F1-Score: 0.9333, \n",
      "Val Loss: 0.7144,  Val Accuracy: 0.8678,  Val F1-Score: 0.5676, \n",
      "\n",
      "\n"
     ]
    },
    {
     "name": "stderr",
     "output_type": "stream",
     "text": [
      "Epoch 381: 100%|██████████| 23/23 [00:02<00:00,  8.42it/s]\n"
     ]
    },
    {
     "name": "stdout",
     "output_type": "stream",
     "text": [
      "Train Loss: 0.0706,  Train Accuracy: 0.9779,  Train F1-Score: 0.9407, \n",
      "Val Loss: 0.7625,  Val Accuracy: 0.8675,  Val F1-Score: 0.5838, \n",
      "\n",
      "\n"
     ]
    },
    {
     "name": "stderr",
     "output_type": "stream",
     "text": [
      "Epoch 382: 100%|██████████| 23/23 [00:02<00:00,  8.42it/s]\n"
     ]
    },
    {
     "name": "stdout",
     "output_type": "stream",
     "text": [
      "Train Loss: 0.0744,  Train Accuracy: 0.9780,  Train F1-Score: 0.9414, \n",
      "Val Loss: 0.7246,  Val Accuracy: 0.8668,  Val F1-Score: 0.5986, \n",
      "\n",
      "\n"
     ]
    },
    {
     "name": "stderr",
     "output_type": "stream",
     "text": [
      "Epoch 383: 100%|██████████| 23/23 [00:02<00:00,  8.38it/s]\n"
     ]
    },
    {
     "name": "stdout",
     "output_type": "stream",
     "text": [
      "Train Loss: 0.0833,  Train Accuracy: 0.9733,  Train F1-Score: 0.9275, \n",
      "Val Loss: 0.6452,  Val Accuracy: 0.8708,  Val F1-Score: 0.5647, \n",
      "\n",
      "\n"
     ]
    },
    {
     "name": "stderr",
     "output_type": "stream",
     "text": [
      "Epoch 384: 100%|██████████| 23/23 [00:02<00:00,  8.30it/s]\n"
     ]
    },
    {
     "name": "stdout",
     "output_type": "stream",
     "text": [
      "Train Loss: 0.0737,  Train Accuracy: 0.9781,  Train F1-Score: 0.9408, \n",
      "Val Loss: 0.6683,  Val Accuracy: 0.8651,  Val F1-Score: 0.5509, \n",
      "\n",
      "\n"
     ]
    },
    {
     "name": "stderr",
     "output_type": "stream",
     "text": [
      "Epoch 385: 100%|██████████| 23/23 [00:02<00:00,  8.32it/s]\n"
     ]
    },
    {
     "name": "stdout",
     "output_type": "stream",
     "text": [
      "Train Loss: 0.0752,  Train Accuracy: 0.9773,  Train F1-Score: 0.9387, \n",
      "Val Loss: 0.6883,  Val Accuracy: 0.8658,  Val F1-Score: 0.5868, \n",
      "\n",
      "\n"
     ]
    },
    {
     "name": "stderr",
     "output_type": "stream",
     "text": [
      "Epoch 386: 100%|██████████| 23/23 [00:02<00:00,  8.32it/s]\n"
     ]
    },
    {
     "name": "stdout",
     "output_type": "stream",
     "text": [
      "Train Loss: 0.0622,  Train Accuracy: 0.9798,  Train F1-Score: 0.9460, \n",
      "Val Loss: 0.7092,  Val Accuracy: 0.8757,  Val F1-Score: 0.5915, \n",
      "\n",
      "\n"
     ]
    },
    {
     "name": "stderr",
     "output_type": "stream",
     "text": [
      "Epoch 387: 100%|██████████| 23/23 [00:02<00:00,  8.31it/s]\n"
     ]
    },
    {
     "name": "stdout",
     "output_type": "stream",
     "text": [
      "Train Loss: 0.0667,  Train Accuracy: 0.9795,  Train F1-Score: 0.9458, \n",
      "Val Loss: 0.7203,  Val Accuracy: 0.8730,  Val F1-Score: 0.5999, \n",
      "\n",
      "\n"
     ]
    },
    {
     "name": "stderr",
     "output_type": "stream",
     "text": [
      "Epoch 388: 100%|██████████| 23/23 [00:02<00:00,  8.34it/s]\n"
     ]
    },
    {
     "name": "stdout",
     "output_type": "stream",
     "text": [
      "Train Loss: 0.0647,  Train Accuracy: 0.9793,  Train F1-Score: 0.9455, \n",
      "Val Loss: 0.7671,  Val Accuracy: 0.8795,  Val F1-Score: 0.5721, \n",
      "\n",
      "\n"
     ]
    },
    {
     "name": "stderr",
     "output_type": "stream",
     "text": [
      "Epoch 389: 100%|██████████| 23/23 [00:02<00:00,  8.33it/s]\n"
     ]
    },
    {
     "name": "stdout",
     "output_type": "stream",
     "text": [
      "Train Loss: 0.0805,  Train Accuracy: 0.9747,  Train F1-Score: 0.9311, \n",
      "Val Loss: 0.7172,  Val Accuracy: 0.8627,  Val F1-Score: 0.5524, \n",
      "\n",
      "\n"
     ]
    },
    {
     "name": "stderr",
     "output_type": "stream",
     "text": [
      "Epoch 390: 100%|██████████| 23/23 [00:02<00:00,  8.33it/s]\n"
     ]
    },
    {
     "name": "stdout",
     "output_type": "stream",
     "text": [
      "Train Loss: 0.0748,  Train Accuracy: 0.9757,  Train F1-Score: 0.9344, \n",
      "Val Loss: 0.7237,  Val Accuracy: 0.8594,  Val F1-Score: 0.5536, \n",
      "\n",
      "\n"
     ]
    },
    {
     "name": "stderr",
     "output_type": "stream",
     "text": [
      "Epoch 391: 100%|██████████| 23/23 [00:02<00:00,  8.33it/s]\n"
     ]
    },
    {
     "name": "stdout",
     "output_type": "stream",
     "text": [
      "Train Loss: 0.0649,  Train Accuracy: 0.9793,  Train F1-Score: 0.9442, \n",
      "Val Loss: 0.6798,  Val Accuracy: 0.8729,  Val F1-Score: 0.5600, \n",
      "\n",
      "\n"
     ]
    },
    {
     "name": "stderr",
     "output_type": "stream",
     "text": [
      "Epoch 392: 100%|██████████| 23/23 [00:02<00:00,  8.42it/s]\n"
     ]
    },
    {
     "name": "stdout",
     "output_type": "stream",
     "text": [
      "Train Loss: 0.0672,  Train Accuracy: 0.9796,  Train F1-Score: 0.9457, \n",
      "Val Loss: 0.7168,  Val Accuracy: 0.8601,  Val F1-Score: 0.5526, \n",
      "\n",
      "\n"
     ]
    },
    {
     "name": "stderr",
     "output_type": "stream",
     "text": [
      "Epoch 393: 100%|██████████| 23/23 [00:02<00:00,  8.43it/s]\n"
     ]
    },
    {
     "name": "stdout",
     "output_type": "stream",
     "text": [
      "Train Loss: 0.0733,  Train Accuracy: 0.9749,  Train F1-Score: 0.9343, \n",
      "Val Loss: 0.7146,  Val Accuracy: 0.8706,  Val F1-Score: 0.5922, \n",
      "\n",
      "\n"
     ]
    },
    {
     "name": "stderr",
     "output_type": "stream",
     "text": [
      "Epoch 394: 100%|██████████| 23/23 [00:02<00:00,  8.43it/s]\n"
     ]
    },
    {
     "name": "stdout",
     "output_type": "stream",
     "text": [
      "Train Loss: 0.0700,  Train Accuracy: 0.9785,  Train F1-Score: 0.9427, \n",
      "Val Loss: 0.7096,  Val Accuracy: 0.8639,  Val F1-Score: 0.5684, \n",
      "\n",
      "\n"
     ]
    },
    {
     "name": "stderr",
     "output_type": "stream",
     "text": [
      "Epoch 395: 100%|██████████| 23/23 [00:02<00:00,  8.43it/s]\n"
     ]
    },
    {
     "name": "stdout",
     "output_type": "stream",
     "text": [
      "Train Loss: 0.0620,  Train Accuracy: 0.9812,  Train F1-Score: 0.9501, \n",
      "Val Loss: 0.7236,  Val Accuracy: 0.8753,  Val F1-Score: 0.5996, \n",
      "\n",
      "\n"
     ]
    },
    {
     "name": "stderr",
     "output_type": "stream",
     "text": [
      "Epoch 396: 100%|██████████| 23/23 [00:02<00:00,  8.43it/s]\n"
     ]
    },
    {
     "name": "stdout",
     "output_type": "stream",
     "text": [
      "Train Loss: 0.0626,  Train Accuracy: 0.9797,  Train F1-Score: 0.9462, \n",
      "Val Loss: 0.7402,  Val Accuracy: 0.8703,  Val F1-Score: 0.5750, \n",
      "\n",
      "\n"
     ]
    },
    {
     "name": "stderr",
     "output_type": "stream",
     "text": [
      "Epoch 397: 100%|██████████| 23/23 [00:02<00:00,  8.44it/s]\n"
     ]
    },
    {
     "name": "stdout",
     "output_type": "stream",
     "text": [
      "Train Loss: 0.0659,  Train Accuracy: 0.9789,  Train F1-Score: 0.9440, \n",
      "Val Loss: 0.7537,  Val Accuracy: 0.8720,  Val F1-Score: 0.5760, \n",
      "\n",
      "\n"
     ]
    },
    {
     "name": "stderr",
     "output_type": "stream",
     "text": [
      "Epoch 398: 100%|██████████| 23/23 [00:02<00:00,  8.43it/s]\n"
     ]
    },
    {
     "name": "stdout",
     "output_type": "stream",
     "text": [
      "Train Loss: 0.0655,  Train Accuracy: 0.9795,  Train F1-Score: 0.9452, \n",
      "Val Loss: 0.7202,  Val Accuracy: 0.8745,  Val F1-Score: 0.5946, \n",
      "\n",
      "\n"
     ]
    },
    {
     "name": "stderr",
     "output_type": "stream",
     "text": [
      "Epoch 399: 100%|██████████| 23/23 [00:02<00:00,  8.32it/s]\n"
     ]
    },
    {
     "name": "stdout",
     "output_type": "stream",
     "text": [
      "Train Loss: 0.0643,  Train Accuracy: 0.9796,  Train F1-Score: 0.9461, \n",
      "Val Loss: 0.7291,  Val Accuracy: 0.8684,  Val F1-Score: 0.5921, \n",
      "\n",
      "\n"
     ]
    },
    {
     "name": "stderr",
     "output_type": "stream",
     "text": [
      "Epoch 400: 100%|██████████| 23/23 [00:02<00:00,  7.94it/s]\n"
     ]
    },
    {
     "name": "stdout",
     "output_type": "stream",
     "text": [
      "Train Loss: 0.0641,  Train Accuracy: 0.9788,  Train F1-Score: 0.9438, \n",
      "Val Loss: 0.7300,  Val Accuracy: 0.8644,  Val F1-Score: 0.5628, \n",
      "\n",
      "\n"
     ]
    },
    {
     "name": "stderr",
     "output_type": "stream",
     "text": [
      "Epoch 401: 100%|██████████| 23/23 [00:02<00:00,  8.34it/s]\n"
     ]
    },
    {
     "name": "stdout",
     "output_type": "stream",
     "text": [
      "Train Loss: 0.0608,  Train Accuracy: 0.9811,  Train F1-Score: 0.9494, \n",
      "Val Loss: 0.7774,  Val Accuracy: 0.8696,  Val F1-Score: 0.5578, \n",
      "\n",
      "\n"
     ]
    },
    {
     "name": "stderr",
     "output_type": "stream",
     "text": [
      "Epoch 402: 100%|██████████| 23/23 [00:02<00:00,  8.34it/s]\n"
     ]
    },
    {
     "name": "stdout",
     "output_type": "stream",
     "text": [
      "Train Loss: 0.0569,  Train Accuracy: 0.9823,  Train F1-Score: 0.9528, \n",
      "Val Loss: 0.7592,  Val Accuracy: 0.8761,  Val F1-Score: 0.5773, \n",
      "\n",
      "\n"
     ]
    },
    {
     "name": "stderr",
     "output_type": "stream",
     "text": [
      "Epoch 403: 100%|██████████| 23/23 [00:02<00:00,  8.35it/s]\n"
     ]
    },
    {
     "name": "stdout",
     "output_type": "stream",
     "text": [
      "Train Loss: 0.0543,  Train Accuracy: 0.9825,  Train F1-Score: 0.9536, \n",
      "Val Loss: 0.7945,  Val Accuracy: 0.8694,  Val F1-Score: 0.5745, \n",
      "\n",
      "\n"
     ]
    },
    {
     "name": "stderr",
     "output_type": "stream",
     "text": [
      "Epoch 404: 100%|██████████| 23/23 [00:02<00:00,  8.31it/s]\n"
     ]
    },
    {
     "name": "stdout",
     "output_type": "stream",
     "text": [
      "Train Loss: 0.0566,  Train Accuracy: 0.9829,  Train F1-Score: 0.9542, \n",
      "Val Loss: 0.7683,  Val Accuracy: 0.8726,  Val F1-Score: 0.5867, \n",
      "\n",
      "\n"
     ]
    },
    {
     "name": "stderr",
     "output_type": "stream",
     "text": [
      "Epoch 405: 100%|██████████| 23/23 [00:02<00:00,  8.31it/s]\n"
     ]
    },
    {
     "name": "stdout",
     "output_type": "stream",
     "text": [
      "Train Loss: 0.0640,  Train Accuracy: 0.9800,  Train F1-Score: 0.9456, \n",
      "Val Loss: 0.7499,  Val Accuracy: 0.8556,  Val F1-Score: 0.5747, \n",
      "\n",
      "\n"
     ]
    },
    {
     "name": "stderr",
     "output_type": "stream",
     "text": [
      "Epoch 406: 100%|██████████| 23/23 [00:02<00:00,  8.35it/s]\n"
     ]
    },
    {
     "name": "stdout",
     "output_type": "stream",
     "text": [
      "Train Loss: 0.0616,  Train Accuracy: 0.9799,  Train F1-Score: 0.9467, \n",
      "Val Loss: 0.7132,  Val Accuracy: 0.8719,  Val F1-Score: 0.6160, \n",
      "\n",
      "\n"
     ]
    },
    {
     "name": "stderr",
     "output_type": "stream",
     "text": [
      "Epoch 407: 100%|██████████| 23/23 [00:02<00:00,  8.44it/s]\n"
     ]
    },
    {
     "name": "stdout",
     "output_type": "stream",
     "text": [
      "Train Loss: 0.0549,  Train Accuracy: 0.9822,  Train F1-Score: 0.9530, \n",
      "Val Loss: 0.7398,  Val Accuracy: 0.8731,  Val F1-Score: 0.5817, \n",
      "\n",
      "\n"
     ]
    },
    {
     "name": "stderr",
     "output_type": "stream",
     "text": [
      "Epoch 408: 100%|██████████| 23/23 [00:02<00:00,  8.44it/s]\n"
     ]
    },
    {
     "name": "stdout",
     "output_type": "stream",
     "text": [
      "Train Loss: 0.0608,  Train Accuracy: 0.9805,  Train F1-Score: 0.9474, \n",
      "Val Loss: 0.7621,  Val Accuracy: 0.8670,  Val F1-Score: 0.5773, \n",
      "\n",
      "\n"
     ]
    },
    {
     "name": "stderr",
     "output_type": "stream",
     "text": [
      "Epoch 409: 100%|██████████| 23/23 [00:02<00:00,  8.46it/s]\n"
     ]
    },
    {
     "name": "stdout",
     "output_type": "stream",
     "text": [
      "Train Loss: 0.0619,  Train Accuracy: 0.9805,  Train F1-Score: 0.9492, \n",
      "Val Loss: 0.7638,  Val Accuracy: 0.8665,  Val F1-Score: 0.5633, \n",
      "\n",
      "\n"
     ]
    },
    {
     "name": "stderr",
     "output_type": "stream",
     "text": [
      "Epoch 410: 100%|██████████| 23/23 [00:02<00:00,  8.47it/s]\n"
     ]
    },
    {
     "name": "stdout",
     "output_type": "stream",
     "text": [
      "Train Loss: 0.0548,  Train Accuracy: 0.9831,  Train F1-Score: 0.9552, \n",
      "Val Loss: 0.7898,  Val Accuracy: 0.8713,  Val F1-Score: 0.5827, \n",
      "\n",
      "\n"
     ]
    },
    {
     "name": "stderr",
     "output_type": "stream",
     "text": [
      "Epoch 411: 100%|██████████| 23/23 [00:02<00:00,  7.88it/s]\n"
     ]
    },
    {
     "name": "stdout",
     "output_type": "stream",
     "text": [
      "Train Loss: 0.0567,  Train Accuracy: 0.9818,  Train F1-Score: 0.9522, \n",
      "Val Loss: 0.7557,  Val Accuracy: 0.8675,  Val F1-Score: 0.5848, \n",
      "\n",
      "\n"
     ]
    },
    {
     "name": "stderr",
     "output_type": "stream",
     "text": [
      "Epoch 412: 100%|██████████| 23/23 [00:02<00:00,  8.46it/s]\n"
     ]
    },
    {
     "name": "stdout",
     "output_type": "stream",
     "text": [
      "Train Loss: 0.0504,  Train Accuracy: 0.9838,  Train F1-Score: 0.9577, \n",
      "Val Loss: 0.7665,  Val Accuracy: 0.8781,  Val F1-Score: 0.6016, \n",
      "\n",
      "\n"
     ]
    },
    {
     "name": "stderr",
     "output_type": "stream",
     "text": [
      "Epoch 413: 100%|██████████| 23/23 [00:02<00:00,  8.44it/s]\n"
     ]
    },
    {
     "name": "stdout",
     "output_type": "stream",
     "text": [
      "Train Loss: 0.0509,  Train Accuracy: 0.9838,  Train F1-Score: 0.9571, \n",
      "Val Loss: 0.7842,  Val Accuracy: 0.8729,  Val F1-Score: 0.6097, \n",
      "\n",
      "\n"
     ]
    },
    {
     "name": "stderr",
     "output_type": "stream",
     "text": [
      "Epoch 414: 100%|██████████| 23/23 [00:02<00:00,  8.34it/s]\n"
     ]
    },
    {
     "name": "stdout",
     "output_type": "stream",
     "text": [
      "Train Loss: 0.0499,  Train Accuracy: 0.9847,  Train F1-Score: 0.9597, \n",
      "Val Loss: 0.7963,  Val Accuracy: 0.8714,  Val F1-Score: 0.5919, \n",
      "\n",
      "\n"
     ]
    },
    {
     "name": "stderr",
     "output_type": "stream",
     "text": [
      "Epoch 415: 100%|██████████| 23/23 [00:02<00:00,  8.33it/s]\n"
     ]
    },
    {
     "name": "stdout",
     "output_type": "stream",
     "text": [
      "Train Loss: 0.0625,  Train Accuracy: 0.9813,  Train F1-Score: 0.9498, \n",
      "Val Loss: 0.8571,  Val Accuracy: 0.8789,  Val F1-Score: 0.5531, \n",
      "\n",
      "\n"
     ]
    },
    {
     "name": "stderr",
     "output_type": "stream",
     "text": [
      "Epoch 416: 100%|██████████| 23/23 [00:02<00:00,  8.35it/s]\n"
     ]
    },
    {
     "name": "stdout",
     "output_type": "stream",
     "text": [
      "Train Loss: 0.0528,  Train Accuracy: 0.9829,  Train F1-Score: 0.9540, \n",
      "Val Loss: 0.7379,  Val Accuracy: 0.8708,  Val F1-Score: 0.5685, \n",
      "\n",
      "\n"
     ]
    },
    {
     "name": "stderr",
     "output_type": "stream",
     "text": [
      "Epoch 417: 100%|██████████| 23/23 [00:02<00:00,  8.34it/s]\n"
     ]
    },
    {
     "name": "stdout",
     "output_type": "stream",
     "text": [
      "Train Loss: 0.0508,  Train Accuracy: 0.9846,  Train F1-Score: 0.9594, \n",
      "Val Loss: 0.7888,  Val Accuracy: 0.8672,  Val F1-Score: 0.5614, \n",
      "\n",
      "\n"
     ]
    },
    {
     "name": "stderr",
     "output_type": "stream",
     "text": [
      "Epoch 418: 100%|██████████| 23/23 [00:02<00:00,  8.32it/s]\n"
     ]
    },
    {
     "name": "stdout",
     "output_type": "stream",
     "text": [
      "Train Loss: 0.0570,  Train Accuracy: 0.9818,  Train F1-Score: 0.9523, \n",
      "Val Loss: 0.7090,  Val Accuracy: 0.8852,  Val F1-Score: 0.6242, \n",
      "\n",
      "\n"
     ]
    },
    {
     "name": "stderr",
     "output_type": "stream",
     "text": [
      "Epoch 419: 100%|██████████| 23/23 [00:02<00:00,  7.77it/s]\n"
     ]
    },
    {
     "name": "stdout",
     "output_type": "stream",
     "text": [
      "Train Loss: 0.0512,  Train Accuracy: 0.9835,  Train F1-Score: 0.9562, \n",
      "Val Loss: 0.7884,  Val Accuracy: 0.8674,  Val F1-Score: 0.5782, \n",
      "\n",
      "\n"
     ]
    },
    {
     "name": "stderr",
     "output_type": "stream",
     "text": [
      "Epoch 420: 100%|██████████| 23/23 [00:02<00:00,  8.15it/s]\n"
     ]
    },
    {
     "name": "stdout",
     "output_type": "stream",
     "text": [
      "Train Loss: 0.0503,  Train Accuracy: 0.9845,  Train F1-Score: 0.9594, \n",
      "Val Loss: 0.7836,  Val Accuracy: 0.8696,  Val F1-Score: 0.5565, \n",
      "\n",
      "\n"
     ]
    },
    {
     "name": "stderr",
     "output_type": "stream",
     "text": [
      "Epoch 421: 100%|██████████| 23/23 [00:02<00:00,  8.34it/s]\n"
     ]
    },
    {
     "name": "stdout",
     "output_type": "stream",
     "text": [
      "Train Loss: 0.0562,  Train Accuracy: 0.9821,  Train F1-Score: 0.9535, \n",
      "Val Loss: 0.7770,  Val Accuracy: 0.8714,  Val F1-Score: 0.5839, \n",
      "\n",
      "\n"
     ]
    },
    {
     "name": "stderr",
     "output_type": "stream",
     "text": [
      "Epoch 422: 100%|██████████| 23/23 [00:02<00:00,  8.41it/s]\n"
     ]
    },
    {
     "name": "stdout",
     "output_type": "stream",
     "text": [
      "Train Loss: 0.0596,  Train Accuracy: 0.9809,  Train F1-Score: 0.9499, \n",
      "Val Loss: 0.7300,  Val Accuracy: 0.8660,  Val F1-Score: 0.5969, \n",
      "\n",
      "\n"
     ]
    },
    {
     "name": "stderr",
     "output_type": "stream",
     "text": [
      "Epoch 423: 100%|██████████| 23/23 [00:02<00:00,  8.41it/s]\n"
     ]
    },
    {
     "name": "stdout",
     "output_type": "stream",
     "text": [
      "Train Loss: 0.0583,  Train Accuracy: 0.9809,  Train F1-Score: 0.9499, \n",
      "Val Loss: 0.7747,  Val Accuracy: 0.8699,  Val F1-Score: 0.5759, \n",
      "\n",
      "\n"
     ]
    },
    {
     "name": "stderr",
     "output_type": "stream",
     "text": [
      "Epoch 424: 100%|██████████| 23/23 [00:02<00:00,  8.41it/s]\n"
     ]
    },
    {
     "name": "stdout",
     "output_type": "stream",
     "text": [
      "Train Loss: 0.0590,  Train Accuracy: 0.9809,  Train F1-Score: 0.9492, \n",
      "Val Loss: 0.7195,  Val Accuracy: 0.8651,  Val F1-Score: 0.5781, \n",
      "\n",
      "\n"
     ]
    },
    {
     "name": "stderr",
     "output_type": "stream",
     "text": [
      "Epoch 425: 100%|██████████| 23/23 [00:02<00:00,  8.41it/s]\n"
     ]
    },
    {
     "name": "stdout",
     "output_type": "stream",
     "text": [
      "Train Loss: 0.0552,  Train Accuracy: 0.9820,  Train F1-Score: 0.9525, \n",
      "Val Loss: 0.7178,  Val Accuracy: 0.8690,  Val F1-Score: 0.5580, \n",
      "\n",
      "\n"
     ]
    },
    {
     "name": "stderr",
     "output_type": "stream",
     "text": [
      "Epoch 426: 100%|██████████| 23/23 [00:02<00:00,  8.37it/s]\n"
     ]
    },
    {
     "name": "stdout",
     "output_type": "stream",
     "text": [
      "Train Loss: 0.0574,  Train Accuracy: 0.9813,  Train F1-Score: 0.9510, \n",
      "Val Loss: 0.7652,  Val Accuracy: 0.8797,  Val F1-Score: 0.5777, \n",
      "\n",
      "\n"
     ]
    },
    {
     "name": "stderr",
     "output_type": "stream",
     "text": [
      "Epoch 427: 100%|██████████| 23/23 [00:02<00:00,  8.35it/s]\n"
     ]
    },
    {
     "name": "stdout",
     "output_type": "stream",
     "text": [
      "Train Loss: 0.0791,  Train Accuracy: 0.9729,  Train F1-Score: 0.9276, \n",
      "Val Loss: 0.7516,  Val Accuracy: 0.8726,  Val F1-Score: 0.5429, \n",
      "\n",
      "\n"
     ]
    },
    {
     "name": "stderr",
     "output_type": "stream",
     "text": [
      "Epoch 428: 100%|██████████| 23/23 [00:02<00:00,  8.28it/s]\n"
     ]
    },
    {
     "name": "stdout",
     "output_type": "stream",
     "text": [
      "Train Loss: 0.0688,  Train Accuracy: 0.9770,  Train F1-Score: 0.9384, \n",
      "Val Loss: 0.6978,  Val Accuracy: 0.8626,  Val F1-Score: 0.5832, \n",
      "\n",
      "\n"
     ]
    },
    {
     "name": "stderr",
     "output_type": "stream",
     "text": [
      "Epoch 429: 100%|██████████| 23/23 [00:02<00:00,  8.23it/s]\n"
     ]
    },
    {
     "name": "stdout",
     "output_type": "stream",
     "text": [
      "Train Loss: 0.0596,  Train Accuracy: 0.9812,  Train F1-Score: 0.9495, \n",
      "Val Loss: 0.6820,  Val Accuracy: 0.8704,  Val F1-Score: 0.5854, \n",
      "\n",
      "\n"
     ]
    },
    {
     "name": "stderr",
     "output_type": "stream",
     "text": [
      "Epoch 430: 100%|██████████| 23/23 [00:02<00:00,  8.24it/s]\n"
     ]
    },
    {
     "name": "stdout",
     "output_type": "stream",
     "text": [
      "Train Loss: 0.0573,  Train Accuracy: 0.9818,  Train F1-Score: 0.9520, \n",
      "Val Loss: 0.6818,  Val Accuracy: 0.8810,  Val F1-Score: 0.5937, \n",
      "\n",
      "\n"
     ]
    },
    {
     "name": "stderr",
     "output_type": "stream",
     "text": [
      "Epoch 431: 100%|██████████| 23/23 [00:02<00:00,  8.23it/s]\n"
     ]
    },
    {
     "name": "stdout",
     "output_type": "stream",
     "text": [
      "Train Loss: 0.0565,  Train Accuracy: 0.9816,  Train F1-Score: 0.9514, \n",
      "Val Loss: 0.7345,  Val Accuracy: 0.8763,  Val F1-Score: 0.5936, \n",
      "\n",
      "\n"
     ]
    },
    {
     "name": "stderr",
     "output_type": "stream",
     "text": [
      "Epoch 432: 100%|██████████| 23/23 [00:02<00:00,  8.29it/s]\n"
     ]
    },
    {
     "name": "stdout",
     "output_type": "stream",
     "text": [
      "Train Loss: 0.0452,  Train Accuracy: 0.9860,  Train F1-Score: 0.9634, \n",
      "Val Loss: 0.6855,  Val Accuracy: 0.8758,  Val F1-Score: 0.6028, \n",
      "\n",
      "\n"
     ]
    },
    {
     "name": "stderr",
     "output_type": "stream",
     "text": [
      "Epoch 433: 100%|██████████| 23/23 [00:02<00:00,  8.29it/s]\n"
     ]
    },
    {
     "name": "stdout",
     "output_type": "stream",
     "text": [
      "Train Loss: 0.0464,  Train Accuracy: 0.9852,  Train F1-Score: 0.9606, \n",
      "Val Loss: 0.7297,  Val Accuracy: 0.8729,  Val F1-Score: 0.5749, \n",
      "\n",
      "\n"
     ]
    },
    {
     "name": "stderr",
     "output_type": "stream",
     "text": [
      "Epoch 434: 100%|██████████| 23/23 [00:02<00:00,  8.29it/s]\n"
     ]
    },
    {
     "name": "stdout",
     "output_type": "stream",
     "text": [
      "Train Loss: 0.0450,  Train Accuracy: 0.9857,  Train F1-Score: 0.9622, \n",
      "Val Loss: 0.7161,  Val Accuracy: 0.8761,  Val F1-Score: 0.5882, \n",
      "\n",
      "\n"
     ]
    },
    {
     "name": "stderr",
     "output_type": "stream",
     "text": [
      "Epoch 435: 100%|██████████| 23/23 [00:02<00:00,  8.29it/s]\n"
     ]
    },
    {
     "name": "stdout",
     "output_type": "stream",
     "text": [
      "Train Loss: 0.0475,  Train Accuracy: 0.9857,  Train F1-Score: 0.9625, \n",
      "Val Loss: 0.7198,  Val Accuracy: 0.8754,  Val F1-Score: 0.5905, \n",
      "\n",
      "\n"
     ]
    },
    {
     "name": "stderr",
     "output_type": "stream",
     "text": [
      "Epoch 436: 100%|██████████| 23/23 [00:02<00:00,  8.39it/s]\n"
     ]
    },
    {
     "name": "stdout",
     "output_type": "stream",
     "text": [
      "Train Loss: 0.0606,  Train Accuracy: 0.9802,  Train F1-Score: 0.9471, \n",
      "Val Loss: 0.6963,  Val Accuracy: 0.8819,  Val F1-Score: 0.5773, \n",
      "\n",
      "\n"
     ]
    },
    {
     "name": "stderr",
     "output_type": "stream",
     "text": [
      "Epoch 437: 100%|██████████| 23/23 [00:02<00:00,  8.39it/s]\n"
     ]
    },
    {
     "name": "stdout",
     "output_type": "stream",
     "text": [
      "Train Loss: 0.0532,  Train Accuracy: 0.9823,  Train F1-Score: 0.9528, \n",
      "Val Loss: 0.6982,  Val Accuracy: 0.8810,  Val F1-Score: 0.6125, \n",
      "\n",
      "\n"
     ]
    },
    {
     "name": "stderr",
     "output_type": "stream",
     "text": [
      "Epoch 438: 100%|██████████| 23/23 [00:02<00:00,  8.35it/s]\n"
     ]
    },
    {
     "name": "stdout",
     "output_type": "stream",
     "text": [
      "Train Loss: 0.0571,  Train Accuracy: 0.9819,  Train F1-Score: 0.9525, \n",
      "Val Loss: 0.7067,  Val Accuracy: 0.8832,  Val F1-Score: 0.6069, \n",
      "\n",
      "\n"
     ]
    },
    {
     "name": "stderr",
     "output_type": "stream",
     "text": [
      "Epoch 439: 100%|██████████| 23/23 [00:02<00:00,  8.24it/s]\n"
     ]
    },
    {
     "name": "stdout",
     "output_type": "stream",
     "text": [
      "Train Loss: 0.0559,  Train Accuracy: 0.9821,  Train F1-Score: 0.9521, \n",
      "Val Loss: 0.7592,  Val Accuracy: 0.8717,  Val F1-Score: 0.5769, \n",
      "\n",
      "\n"
     ]
    },
    {
     "name": "stderr",
     "output_type": "stream",
     "text": [
      "Epoch 440: 100%|██████████| 23/23 [00:02<00:00,  8.36it/s]\n"
     ]
    },
    {
     "name": "stdout",
     "output_type": "stream",
     "text": [
      "Train Loss: 0.0575,  Train Accuracy: 0.9820,  Train F1-Score: 0.9520, \n",
      "Val Loss: 0.6820,  Val Accuracy: 0.8798,  Val F1-Score: 0.6007, \n",
      "\n",
      "\n"
     ]
    },
    {
     "name": "stderr",
     "output_type": "stream",
     "text": [
      "Epoch 441: 100%|██████████| 23/23 [00:02<00:00,  8.38it/s]\n"
     ]
    },
    {
     "name": "stdout",
     "output_type": "stream",
     "text": [
      "Train Loss: 0.0613,  Train Accuracy: 0.9805,  Train F1-Score: 0.9479, \n",
      "Val Loss: 0.7071,  Val Accuracy: 0.8558,  Val F1-Score: 0.5614, \n",
      "\n",
      "\n"
     ]
    },
    {
     "name": "stderr",
     "output_type": "stream",
     "text": [
      "Epoch 442: 100%|██████████| 23/23 [00:02<00:00,  8.38it/s]\n"
     ]
    },
    {
     "name": "stdout",
     "output_type": "stream",
     "text": [
      "Train Loss: 0.0573,  Train Accuracy: 0.9820,  Train F1-Score: 0.9527, \n",
      "Val Loss: 0.7097,  Val Accuracy: 0.8653,  Val F1-Score: 0.5577, \n",
      "\n",
      "\n"
     ]
    },
    {
     "name": "stderr",
     "output_type": "stream",
     "text": [
      "Epoch 443: 100%|██████████| 23/23 [00:02<00:00,  8.33it/s]\n"
     ]
    },
    {
     "name": "stdout",
     "output_type": "stream",
     "text": [
      "Train Loss: 0.0425,  Train Accuracy: 0.9872,  Train F1-Score: 0.9665, \n",
      "Val Loss: 0.7805,  Val Accuracy: 0.8651,  Val F1-Score: 0.5686, \n",
      "\n",
      "\n"
     ]
    },
    {
     "name": "stderr",
     "output_type": "stream",
     "text": [
      "Epoch 444: 100%|██████████| 23/23 [00:02<00:00,  8.27it/s]\n"
     ]
    },
    {
     "name": "stdout",
     "output_type": "stream",
     "text": [
      "Train Loss: 0.0444,  Train Accuracy: 0.9855,  Train F1-Score: 0.9618, \n",
      "Val Loss: 0.7368,  Val Accuracy: 0.8759,  Val F1-Score: 0.6085, \n",
      "\n",
      "\n"
     ]
    },
    {
     "name": "stderr",
     "output_type": "stream",
     "text": [
      "Epoch 445: 100%|██████████| 23/23 [00:02<00:00,  8.29it/s]\n"
     ]
    },
    {
     "name": "stdout",
     "output_type": "stream",
     "text": [
      "Train Loss: 0.0444,  Train Accuracy: 0.9866,  Train F1-Score: 0.9644, \n",
      "Val Loss: 0.7454,  Val Accuracy: 0.8817,  Val F1-Score: 0.6169, \n",
      "\n",
      "\n"
     ]
    },
    {
     "name": "stderr",
     "output_type": "stream",
     "text": [
      "Epoch 446: 100%|██████████| 23/23 [00:02<00:00,  8.30it/s]\n"
     ]
    },
    {
     "name": "stdout",
     "output_type": "stream",
     "text": [
      "Train Loss: 0.0452,  Train Accuracy: 0.9843,  Train F1-Score: 0.9588, \n",
      "Val Loss: 0.7578,  Val Accuracy: 0.8831,  Val F1-Score: 0.6284, \n",
      "\n",
      "\n"
     ]
    },
    {
     "name": "stderr",
     "output_type": "stream",
     "text": [
      "Epoch 447: 100%|██████████| 23/23 [00:02<00:00,  8.29it/s]\n"
     ]
    },
    {
     "name": "stdout",
     "output_type": "stream",
     "text": [
      "Train Loss: 0.0410,  Train Accuracy: 0.9876,  Train F1-Score: 0.9675, \n",
      "Val Loss: 0.8352,  Val Accuracy: 0.8779,  Val F1-Score: 0.5831, \n",
      "\n",
      "\n"
     ]
    },
    {
     "name": "stderr",
     "output_type": "stream",
     "text": [
      "Epoch 448: 100%|██████████| 23/23 [00:02<00:00,  8.28it/s]\n"
     ]
    },
    {
     "name": "stdout",
     "output_type": "stream",
     "text": [
      "Train Loss: 0.0421,  Train Accuracy: 0.9863,  Train F1-Score: 0.9630, \n",
      "Val Loss: 0.7833,  Val Accuracy: 0.8813,  Val F1-Score: 0.6040, \n",
      "\n",
      "\n"
     ]
    },
    {
     "name": "stderr",
     "output_type": "stream",
     "text": [
      "Epoch 449: 100%|██████████| 23/23 [00:02<00:00,  8.27it/s]\n"
     ]
    },
    {
     "name": "stdout",
     "output_type": "stream",
     "text": [
      "Train Loss: 0.0425,  Train Accuracy: 0.9867,  Train F1-Score: 0.9653, \n",
      "Val Loss: 0.7936,  Val Accuracy: 0.8728,  Val F1-Score: 0.5912, \n",
      "\n",
      "\n"
     ]
    },
    {
     "name": "stderr",
     "output_type": "stream",
     "text": [
      "Epoch 450: 100%|██████████| 23/23 [00:02<00:00,  8.32it/s]\n"
     ]
    },
    {
     "name": "stdout",
     "output_type": "stream",
     "text": [
      "Train Loss: 0.0401,  Train Accuracy: 0.9870,  Train F1-Score: 0.9659, \n",
      "Val Loss: 0.7624,  Val Accuracy: 0.8775,  Val F1-Score: 0.6016, \n",
      "\n",
      "\n"
     ]
    },
    {
     "name": "stderr",
     "output_type": "stream",
     "text": [
      "Epoch 451: 100%|██████████| 23/23 [00:02<00:00,  8.42it/s]\n"
     ]
    },
    {
     "name": "stdout",
     "output_type": "stream",
     "text": [
      "Train Loss: 0.0434,  Train Accuracy: 0.9858,  Train F1-Score: 0.9624, \n",
      "Val Loss: 0.7842,  Val Accuracy: 0.8816,  Val F1-Score: 0.6114, \n",
      "\n",
      "\n"
     ]
    },
    {
     "name": "stderr",
     "output_type": "stream",
     "text": [
      "Epoch 452: 100%|██████████| 23/23 [00:02<00:00,  8.41it/s]\n"
     ]
    },
    {
     "name": "stdout",
     "output_type": "stream",
     "text": [
      "Train Loss: 0.0433,  Train Accuracy: 0.9858,  Train F1-Score: 0.9626, \n",
      "Val Loss: 0.8226,  Val Accuracy: 0.8824,  Val F1-Score: 0.5998, \n",
      "\n",
      "\n"
     ]
    },
    {
     "name": "stderr",
     "output_type": "stream",
     "text": [
      "Epoch 453: 100%|██████████| 23/23 [00:02<00:00,  8.42it/s]\n"
     ]
    },
    {
     "name": "stdout",
     "output_type": "stream",
     "text": [
      "Train Loss: 0.0400,  Train Accuracy: 0.9865,  Train F1-Score: 0.9644, \n",
      "Val Loss: 0.8072,  Val Accuracy: 0.8700,  Val F1-Score: 0.5821, \n",
      "\n",
      "\n"
     ]
    },
    {
     "name": "stderr",
     "output_type": "stream",
     "text": [
      "Epoch 454: 100%|██████████| 23/23 [00:02<00:00,  8.41it/s]\n"
     ]
    },
    {
     "name": "stdout",
     "output_type": "stream",
     "text": [
      "Train Loss: 0.0409,  Train Accuracy: 0.9872,  Train F1-Score: 0.9663, \n",
      "Val Loss: 0.7878,  Val Accuracy: 0.8700,  Val F1-Score: 0.6006, \n",
      "\n",
      "\n"
     ]
    },
    {
     "name": "stderr",
     "output_type": "stream",
     "text": [
      "Epoch 455: 100%|██████████| 23/23 [00:02<00:00,  8.40it/s]\n"
     ]
    },
    {
     "name": "stdout",
     "output_type": "stream",
     "text": [
      "Train Loss: 0.0503,  Train Accuracy: 0.9848,  Train F1-Score: 0.9600, \n",
      "Val Loss: 0.8031,  Val Accuracy: 0.8820,  Val F1-Score: 0.5961, \n",
      "\n",
      "\n"
     ]
    },
    {
     "name": "stderr",
     "output_type": "stream",
     "text": [
      "Epoch 456: 100%|██████████| 23/23 [00:02<00:00,  8.42it/s]\n"
     ]
    },
    {
     "name": "stdout",
     "output_type": "stream",
     "text": [
      "Train Loss: 0.0473,  Train Accuracy: 0.9848,  Train F1-Score: 0.9594, \n",
      "Val Loss: 0.7697,  Val Accuracy: 0.8799,  Val F1-Score: 0.6019, \n",
      "\n",
      "\n"
     ]
    },
    {
     "name": "stderr",
     "output_type": "stream",
     "text": [
      "Epoch 457: 100%|██████████| 23/23 [00:02<00:00,  8.41it/s]\n"
     ]
    },
    {
     "name": "stdout",
     "output_type": "stream",
     "text": [
      "Train Loss: 0.0449,  Train Accuracy: 0.9850,  Train F1-Score: 0.9616, \n",
      "Val Loss: 0.8359,  Val Accuracy: 0.8797,  Val F1-Score: 0.5832, \n",
      "\n",
      "\n"
     ]
    },
    {
     "name": "stderr",
     "output_type": "stream",
     "text": [
      "Epoch 458: 100%|██████████| 23/23 [00:02<00:00,  8.26it/s]\n"
     ]
    },
    {
     "name": "stdout",
     "output_type": "stream",
     "text": [
      "Train Loss: 0.0632,  Train Accuracy: 0.9809,  Train F1-Score: 0.9478, \n",
      "Val Loss: 0.7121,  Val Accuracy: 0.8739,  Val F1-Score: 0.5928, \n",
      "\n",
      "\n"
     ]
    },
    {
     "name": "stderr",
     "output_type": "stream",
     "text": [
      "Epoch 459: 100%|██████████| 23/23 [00:02<00:00,  7.69it/s]\n"
     ]
    },
    {
     "name": "stdout",
     "output_type": "stream",
     "text": [
      "Train Loss: 0.0497,  Train Accuracy: 0.9838,  Train F1-Score: 0.9576, \n",
      "Val Loss: 0.7515,  Val Accuracy: 0.8773,  Val F1-Score: 0.6023, \n",
      "\n",
      "\n"
     ]
    },
    {
     "name": "stderr",
     "output_type": "stream",
     "text": [
      "Epoch 460: 100%|██████████| 23/23 [00:02<00:00,  8.29it/s]\n"
     ]
    },
    {
     "name": "stdout",
     "output_type": "stream",
     "text": [
      "Train Loss: 0.0504,  Train Accuracy: 0.9839,  Train F1-Score: 0.9570, \n",
      "Val Loss: 0.7256,  Val Accuracy: 0.8697,  Val F1-Score: 0.5953, \n",
      "\n",
      "\n"
     ]
    },
    {
     "name": "stderr",
     "output_type": "stream",
     "text": [
      "Epoch 461: 100%|██████████| 23/23 [00:02<00:00,  8.27it/s]\n"
     ]
    },
    {
     "name": "stdout",
     "output_type": "stream",
     "text": [
      "Train Loss: 0.0461,  Train Accuracy: 0.9850,  Train F1-Score: 0.9603, \n",
      "Val Loss: 0.7886,  Val Accuracy: 0.8770,  Val F1-Score: 0.5776, \n",
      "\n",
      "\n"
     ]
    },
    {
     "name": "stderr",
     "output_type": "stream",
     "text": [
      "Epoch 462: 100%|██████████| 23/23 [00:02<00:00,  8.30it/s]\n"
     ]
    },
    {
     "name": "stdout",
     "output_type": "stream",
     "text": [
      "Train Loss: 0.0387,  Train Accuracy: 0.9881,  Train F1-Score: 0.9683, \n",
      "Val Loss: 0.8014,  Val Accuracy: 0.8764,  Val F1-Score: 0.5777, \n",
      "\n",
      "\n"
     ]
    },
    {
     "name": "stderr",
     "output_type": "stream",
     "text": [
      "Epoch 463: 100%|██████████| 23/23 [00:02<00:00,  8.29it/s]\n"
     ]
    },
    {
     "name": "stdout",
     "output_type": "stream",
     "text": [
      "Train Loss: 0.0406,  Train Accuracy: 0.9863,  Train F1-Score: 0.9638, \n",
      "Val Loss: 0.7711,  Val Accuracy: 0.8791,  Val F1-Score: 0.5978, \n",
      "\n",
      "\n"
     ]
    },
    {
     "name": "stderr",
     "output_type": "stream",
     "text": [
      "Epoch 464: 100%|██████████| 23/23 [00:02<00:00,  8.30it/s]\n"
     ]
    },
    {
     "name": "stdout",
     "output_type": "stream",
     "text": [
      "Train Loss: 0.0451,  Train Accuracy: 0.9855,  Train F1-Score: 0.9612, \n",
      "Val Loss: 0.7947,  Val Accuracy: 0.8716,  Val F1-Score: 0.5973, \n",
      "\n",
      "\n"
     ]
    },
    {
     "name": "stderr",
     "output_type": "stream",
     "text": [
      "Epoch 465: 100%|██████████| 23/23 [00:02<00:00,  8.16it/s]\n"
     ]
    },
    {
     "name": "stdout",
     "output_type": "stream",
     "text": [
      "Train Loss: 0.0542,  Train Accuracy: 0.9827,  Train F1-Score: 0.9546, \n",
      "Val Loss: 0.7665,  Val Accuracy: 0.8726,  Val F1-Score: 0.5580, \n",
      "\n",
      "\n"
     ]
    },
    {
     "name": "stderr",
     "output_type": "stream",
     "text": [
      "Epoch 466: 100%|██████████| 23/23 [00:02<00:00,  8.39it/s]\n"
     ]
    },
    {
     "name": "stdout",
     "output_type": "stream",
     "text": [
      "Train Loss: 0.0485,  Train Accuracy: 0.9845,  Train F1-Score: 0.9598, \n",
      "Val Loss: 0.7555,  Val Accuracy: 0.8683,  Val F1-Score: 0.5928, \n",
      "\n",
      "\n"
     ]
    },
    {
     "name": "stderr",
     "output_type": "stream",
     "text": [
      "Epoch 467: 100%|██████████| 23/23 [00:02<00:00,  8.41it/s]\n"
     ]
    },
    {
     "name": "stdout",
     "output_type": "stream",
     "text": [
      "Train Loss: 0.0390,  Train Accuracy: 0.9876,  Train F1-Score: 0.9674, \n",
      "Val Loss: 0.7639,  Val Accuracy: 0.8743,  Val F1-Score: 0.6026, \n",
      "\n",
      "\n"
     ]
    },
    {
     "name": "stderr",
     "output_type": "stream",
     "text": [
      "Epoch 468: 100%|██████████| 23/23 [00:02<00:00,  8.39it/s]\n"
     ]
    },
    {
     "name": "stdout",
     "output_type": "stream",
     "text": [
      "Train Loss: 0.0414,  Train Accuracy: 0.9868,  Train F1-Score: 0.9654, \n",
      "Val Loss: 0.7764,  Val Accuracy: 0.8820,  Val F1-Score: 0.6212, \n",
      "\n",
      "\n"
     ]
    },
    {
     "name": "stderr",
     "output_type": "stream",
     "text": [
      "Epoch 469: 100%|██████████| 23/23 [00:02<00:00,  8.38it/s]\n"
     ]
    },
    {
     "name": "stdout",
     "output_type": "stream",
     "text": [
      "Train Loss: 0.0443,  Train Accuracy: 0.9854,  Train F1-Score: 0.9614, \n",
      "Val Loss: 0.7680,  Val Accuracy: 0.8799,  Val F1-Score: 0.6136, \n",
      "\n",
      "\n"
     ]
    },
    {
     "name": "stderr",
     "output_type": "stream",
     "text": [
      "Epoch 470: 100%|██████████| 23/23 [00:02<00:00,  8.40it/s]\n"
     ]
    },
    {
     "name": "stdout",
     "output_type": "stream",
     "text": [
      "Train Loss: 0.0499,  Train Accuracy: 0.9845,  Train F1-Score: 0.9588, \n",
      "Val Loss: 0.7586,  Val Accuracy: 0.8639,  Val F1-Score: 0.5732, \n",
      "\n",
      "\n"
     ]
    },
    {
     "name": "stderr",
     "output_type": "stream",
     "text": [
      "Epoch 471: 100%|██████████| 23/23 [00:02<00:00,  8.38it/s]\n"
     ]
    },
    {
     "name": "stdout",
     "output_type": "stream",
     "text": [
      "Train Loss: 0.0456,  Train Accuracy: 0.9852,  Train F1-Score: 0.9610, \n",
      "Val Loss: 0.7983,  Val Accuracy: 0.8696,  Val F1-Score: 0.5563, \n",
      "\n",
      "\n"
     ]
    },
    {
     "name": "stderr",
     "output_type": "stream",
     "text": [
      "Epoch 472: 100%|██████████| 23/23 [00:02<00:00,  8.39it/s]\n"
     ]
    },
    {
     "name": "stdout",
     "output_type": "stream",
     "text": [
      "Train Loss: 0.0464,  Train Accuracy: 0.9847,  Train F1-Score: 0.9597, \n",
      "Val Loss: 0.7434,  Val Accuracy: 0.8752,  Val F1-Score: 0.5967, \n",
      "\n",
      "\n"
     ]
    },
    {
     "name": "stderr",
     "output_type": "stream",
     "text": [
      "Epoch 473: 100%|██████████| 23/23 [00:02<00:00,  8.27it/s]\n"
     ]
    },
    {
     "name": "stdout",
     "output_type": "stream",
     "text": [
      "Train Loss: 0.0426,  Train Accuracy: 0.9860,  Train F1-Score: 0.9631, \n",
      "Val Loss: 0.7932,  Val Accuracy: 0.8718,  Val F1-Score: 0.5862, \n",
      "\n",
      "\n"
     ]
    },
    {
     "name": "stderr",
     "output_type": "stream",
     "text": [
      "Epoch 474: 100%|██████████| 23/23 [00:02<00:00,  8.29it/s]\n"
     ]
    },
    {
     "name": "stdout",
     "output_type": "stream",
     "text": [
      "Train Loss: 0.0379,  Train Accuracy: 0.9871,  Train F1-Score: 0.9658, \n",
      "Val Loss: 0.7654,  Val Accuracy: 0.8647,  Val F1-Score: 0.5840, \n",
      "\n",
      "\n"
     ]
    },
    {
     "name": "stderr",
     "output_type": "stream",
     "text": [
      "Epoch 475: 100%|██████████| 23/23 [00:02<00:00,  8.25it/s]\n"
     ]
    },
    {
     "name": "stdout",
     "output_type": "stream",
     "text": [
      "Train Loss: 0.0503,  Train Accuracy: 0.9835,  Train F1-Score: 0.9564, \n",
      "Val Loss: 0.7415,  Val Accuracy: 0.8667,  Val F1-Score: 0.5753, \n",
      "\n",
      "\n"
     ]
    },
    {
     "name": "stderr",
     "output_type": "stream",
     "text": [
      "Epoch 476: 100%|██████████| 23/23 [00:02<00:00,  8.28it/s]\n"
     ]
    },
    {
     "name": "stdout",
     "output_type": "stream",
     "text": [
      "Train Loss: 0.0563,  Train Accuracy: 0.9820,  Train F1-Score: 0.9519, \n",
      "Val Loss: 0.7555,  Val Accuracy: 0.8825,  Val F1-Score: 0.5994, \n",
      "\n",
      "\n"
     ]
    },
    {
     "name": "stderr",
     "output_type": "stream",
     "text": [
      "Epoch 477: 100%|██████████| 23/23 [00:02<00:00,  8.26it/s]\n"
     ]
    },
    {
     "name": "stdout",
     "output_type": "stream",
     "text": [
      "Train Loss: 0.0543,  Train Accuracy: 0.9826,  Train F1-Score: 0.9553, \n",
      "Val Loss: 0.6659,  Val Accuracy: 0.8702,  Val F1-Score: 0.5996, \n",
      "\n",
      "\n"
     ]
    },
    {
     "name": "stderr",
     "output_type": "stream",
     "text": [
      "Epoch 478: 100%|██████████| 23/23 [00:02<00:00,  8.20it/s]\n"
     ]
    },
    {
     "name": "stdout",
     "output_type": "stream",
     "text": [
      "Train Loss: 0.0527,  Train Accuracy: 0.9832,  Train F1-Score: 0.9556, \n",
      "Val Loss: 0.7462,  Val Accuracy: 0.8694,  Val F1-Score: 0.5705, \n",
      "\n",
      "\n"
     ]
    },
    {
     "name": "stderr",
     "output_type": "stream",
     "text": [
      "Epoch 479: 100%|██████████| 23/23 [00:03<00:00,  7.28it/s]\n"
     ]
    },
    {
     "name": "stdout",
     "output_type": "stream",
     "text": [
      "Train Loss: 0.0478,  Train Accuracy: 0.9842,  Train F1-Score: 0.9582, \n",
      "Val Loss: 0.7541,  Val Accuracy: 0.8683,  Val F1-Score: 0.5869, \n",
      "\n",
      "\n"
     ]
    },
    {
     "name": "stderr",
     "output_type": "stream",
     "text": [
      "Epoch 480: 100%|██████████| 23/23 [00:02<00:00,  8.38it/s]\n"
     ]
    },
    {
     "name": "stdout",
     "output_type": "stream",
     "text": [
      "Train Loss: 0.0468,  Train Accuracy: 0.9839,  Train F1-Score: 0.9582, \n",
      "Val Loss: 0.7270,  Val Accuracy: 0.8810,  Val F1-Score: 0.5820, \n",
      "\n",
      "\n"
     ]
    },
    {
     "name": "stderr",
     "output_type": "stream",
     "text": [
      "Epoch 481: 100%|██████████| 23/23 [00:02<00:00,  8.40it/s]\n"
     ]
    },
    {
     "name": "stdout",
     "output_type": "stream",
     "text": [
      "Train Loss: 0.0474,  Train Accuracy: 0.9843,  Train F1-Score: 0.9578, \n",
      "Val Loss: 0.7602,  Val Accuracy: 0.8713,  Val F1-Score: 0.5648, \n",
      "\n",
      "\n"
     ]
    },
    {
     "name": "stderr",
     "output_type": "stream",
     "text": [
      "Epoch 482: 100%|██████████| 23/23 [00:02<00:00,  8.39it/s]\n"
     ]
    },
    {
     "name": "stdout",
     "output_type": "stream",
     "text": [
      "Train Loss: 0.0403,  Train Accuracy: 0.9857,  Train F1-Score: 0.9626, \n",
      "Val Loss: 0.7006,  Val Accuracy: 0.8753,  Val F1-Score: 0.5895, \n",
      "\n",
      "\n"
     ]
    },
    {
     "name": "stderr",
     "output_type": "stream",
     "text": [
      "Epoch 483: 100%|██████████| 23/23 [00:02<00:00,  8.40it/s]\n"
     ]
    },
    {
     "name": "stdout",
     "output_type": "stream",
     "text": [
      "Train Loss: 0.0453,  Train Accuracy: 0.9858,  Train F1-Score: 0.9620, \n",
      "Val Loss: 0.6836,  Val Accuracy: 0.8721,  Val F1-Score: 0.5909, \n",
      "\n",
      "\n"
     ]
    },
    {
     "name": "stderr",
     "output_type": "stream",
     "text": [
      "Epoch 484: 100%|██████████| 23/23 [00:02<00:00,  8.38it/s]\n"
     ]
    },
    {
     "name": "stdout",
     "output_type": "stream",
     "text": [
      "Train Loss: 0.0749,  Train Accuracy: 0.9732,  Train F1-Score: 0.9331, \n",
      "Val Loss: 0.7297,  Val Accuracy: 0.8720,  Val F1-Score: 0.5625, \n",
      "\n",
      "\n"
     ]
    },
    {
     "name": "stderr",
     "output_type": "stream",
     "text": [
      "Epoch 485: 100%|██████████| 23/23 [00:02<00:00,  8.40it/s]\n"
     ]
    },
    {
     "name": "stdout",
     "output_type": "stream",
     "text": [
      "Train Loss: 0.0810,  Train Accuracy: 0.9766,  Train F1-Score: 0.9349, \n",
      "Val Loss: 0.6477,  Val Accuracy: 0.8657,  Val F1-Score: 0.5578, \n",
      "\n",
      "\n"
     ]
    },
    {
     "name": "stderr",
     "output_type": "stream",
     "text": [
      "Epoch 486: 100%|██████████| 23/23 [00:02<00:00,  8.40it/s]\n"
     ]
    },
    {
     "name": "stdout",
     "output_type": "stream",
     "text": [
      "Train Loss: 0.0537,  Train Accuracy: 0.9833,  Train F1-Score: 0.9536, \n",
      "Val Loss: 0.6346,  Val Accuracy: 0.8652,  Val F1-Score: 0.5430, \n",
      "\n",
      "\n"
     ]
    },
    {
     "name": "stderr",
     "output_type": "stream",
     "text": [
      "Epoch 487: 100%|██████████| 23/23 [00:02<00:00,  8.42it/s]\n"
     ]
    },
    {
     "name": "stdout",
     "output_type": "stream",
     "text": [
      "Train Loss: 0.0477,  Train Accuracy: 0.9843,  Train F1-Score: 0.9596, \n",
      "Val Loss: 0.7002,  Val Accuracy: 0.8728,  Val F1-Score: 0.5816, \n",
      "\n",
      "\n"
     ]
    },
    {
     "name": "stderr",
     "output_type": "stream",
     "text": [
      "Epoch 488: 100%|██████████| 23/23 [00:02<00:00,  8.36it/s]\n"
     ]
    },
    {
     "name": "stdout",
     "output_type": "stream",
     "text": [
      "Train Loss: 0.0400,  Train Accuracy: 0.9872,  Train F1-Score: 0.9660, \n",
      "Val Loss: 0.7081,  Val Accuracy: 0.8759,  Val F1-Score: 0.5550, \n",
      "\n",
      "\n"
     ]
    },
    {
     "name": "stderr",
     "output_type": "stream",
     "text": [
      "Epoch 489: 100%|██████████| 23/23 [00:02<00:00,  8.29it/s]\n"
     ]
    },
    {
     "name": "stdout",
     "output_type": "stream",
     "text": [
      "Train Loss: 0.0351,  Train Accuracy: 0.9884,  Train F1-Score: 0.9699, \n",
      "Val Loss: 0.7222,  Val Accuracy: 0.8676,  Val F1-Score: 0.5757, \n",
      "\n",
      "\n"
     ]
    },
    {
     "name": "stderr",
     "output_type": "stream",
     "text": [
      "Epoch 490: 100%|██████████| 23/23 [00:02<00:00,  8.29it/s]\n"
     ]
    },
    {
     "name": "stdout",
     "output_type": "stream",
     "text": [
      "Train Loss: 0.0334,  Train Accuracy: 0.9891,  Train F1-Score: 0.9707, \n",
      "Val Loss: 0.7253,  Val Accuracy: 0.8748,  Val F1-Score: 0.5804, \n",
      "\n",
      "\n"
     ]
    },
    {
     "name": "stderr",
     "output_type": "stream",
     "text": [
      "Epoch 491: 100%|██████████| 23/23 [00:02<00:00,  8.21it/s]\n"
     ]
    },
    {
     "name": "stdout",
     "output_type": "stream",
     "text": [
      "Train Loss: 0.0320,  Train Accuracy: 0.9893,  Train F1-Score: 0.9722, \n",
      "Val Loss: 0.8030,  Val Accuracy: 0.8687,  Val F1-Score: 0.5651, \n",
      "\n",
      "\n"
     ]
    },
    {
     "name": "stderr",
     "output_type": "stream",
     "text": [
      "Epoch 492: 100%|██████████| 23/23 [00:02<00:00,  8.27it/s]\n"
     ]
    },
    {
     "name": "stdout",
     "output_type": "stream",
     "text": [
      "Train Loss: 0.0359,  Train Accuracy: 0.9875,  Train F1-Score: 0.9672, \n",
      "Val Loss: 0.8308,  Val Accuracy: 0.8682,  Val F1-Score: 0.5797, \n",
      "\n",
      "\n"
     ]
    },
    {
     "name": "stderr",
     "output_type": "stream",
     "text": [
      "Epoch 493: 100%|██████████| 23/23 [00:02<00:00,  8.27it/s]\n"
     ]
    },
    {
     "name": "stdout",
     "output_type": "stream",
     "text": [
      "Train Loss: 0.0366,  Train Accuracy: 0.9885,  Train F1-Score: 0.9701, \n",
      "Val Loss: 0.8087,  Val Accuracy: 0.8681,  Val F1-Score: 0.5435, \n",
      "\n",
      "\n"
     ]
    },
    {
     "name": "stderr",
     "output_type": "stream",
     "text": [
      "Epoch 494: 100%|██████████| 23/23 [00:02<00:00,  8.24it/s]\n"
     ]
    },
    {
     "name": "stdout",
     "output_type": "stream",
     "text": [
      "Train Loss: 0.0394,  Train Accuracy: 0.9870,  Train F1-Score: 0.9663, \n",
      "Val Loss: 0.7836,  Val Accuracy: 0.8708,  Val F1-Score: 0.5382, \n",
      "\n",
      "\n"
     ]
    },
    {
     "name": "stderr",
     "output_type": "stream",
     "text": [
      "Epoch 495: 100%|██████████| 23/23 [00:02<00:00,  8.28it/s]\n"
     ]
    },
    {
     "name": "stdout",
     "output_type": "stream",
     "text": [
      "Train Loss: 0.0345,  Train Accuracy: 0.9889,  Train F1-Score: 0.9707, \n",
      "Val Loss: 0.8535,  Val Accuracy: 0.8690,  Val F1-Score: 0.5844, \n",
      "\n",
      "\n"
     ]
    },
    {
     "name": "stderr",
     "output_type": "stream",
     "text": [
      "Epoch 496: 100%|██████████| 23/23 [00:02<00:00,  8.40it/s]\n"
     ]
    },
    {
     "name": "stdout",
     "output_type": "stream",
     "text": [
      "Train Loss: 0.0304,  Train Accuracy: 0.9902,  Train F1-Score: 0.9742, \n",
      "Val Loss: 0.7895,  Val Accuracy: 0.8678,  Val F1-Score: 0.5824, \n",
      "\n",
      "\n"
     ]
    },
    {
     "name": "stderr",
     "output_type": "stream",
     "text": [
      "Epoch 497: 100%|██████████| 23/23 [00:02<00:00,  8.40it/s]\n"
     ]
    },
    {
     "name": "stdout",
     "output_type": "stream",
     "text": [
      "Train Loss: 0.0325,  Train Accuracy: 0.9897,  Train F1-Score: 0.9729, \n",
      "Val Loss: 0.8013,  Val Accuracy: 0.8794,  Val F1-Score: 0.5948, \n",
      "\n",
      "\n"
     ]
    },
    {
     "name": "stderr",
     "output_type": "stream",
     "text": [
      "Epoch 498: 100%|██████████| 23/23 [00:02<00:00,  7.97it/s]\n"
     ]
    },
    {
     "name": "stdout",
     "output_type": "stream",
     "text": [
      "Train Loss: 0.0348,  Train Accuracy: 0.9881,  Train F1-Score: 0.9688, \n",
      "Val Loss: 0.8141,  Val Accuracy: 0.8798,  Val F1-Score: 0.5878, \n",
      "\n",
      "\n"
     ]
    },
    {
     "name": "stderr",
     "output_type": "stream",
     "text": [
      "Epoch 499: 100%|██████████| 23/23 [00:02<00:00,  8.45it/s]\n"
     ]
    },
    {
     "name": "stdout",
     "output_type": "stream",
     "text": [
      "Train Loss: 0.0350,  Train Accuracy: 0.9886,  Train F1-Score: 0.9701, \n",
      "Val Loss: 0.8800,  Val Accuracy: 0.8639,  Val F1-Score: 0.5812, \n",
      "\n",
      "\n"
     ]
    },
    {
     "name": "stderr",
     "output_type": "stream",
     "text": [
      "Epoch 500: 100%|██████████| 23/23 [00:02<00:00,  8.47it/s]\n"
     ]
    },
    {
     "name": "stdout",
     "output_type": "stream",
     "text": [
      "Train Loss: 0.0292,  Train Accuracy: 0.9898,  Train F1-Score: 0.9732, \n",
      "Val Loss: 0.8699,  Val Accuracy: 0.8710,  Val F1-Score: 0.5892, \n",
      "\n",
      "\n"
     ]
    },
    {
     "name": "stderr",
     "output_type": "stream",
     "text": [
      "Epoch 501: 100%|██████████| 23/23 [00:02<00:00,  8.47it/s]\n"
     ]
    },
    {
     "name": "stdout",
     "output_type": "stream",
     "text": [
      "Train Loss: 0.0298,  Train Accuracy: 0.9901,  Train F1-Score: 0.9741, \n",
      "Val Loss: 0.8006,  Val Accuracy: 0.8722,  Val F1-Score: 0.5840, \n",
      "\n",
      "\n"
     ]
    },
    {
     "name": "stderr",
     "output_type": "stream",
     "text": [
      "Epoch 502: 100%|██████████| 23/23 [00:02<00:00,  8.47it/s]\n"
     ]
    },
    {
     "name": "stdout",
     "output_type": "stream",
     "text": [
      "Train Loss: 0.0290,  Train Accuracy: 0.9905,  Train F1-Score: 0.9748, \n",
      "Val Loss: 0.9111,  Val Accuracy: 0.8677,  Val F1-Score: 0.5764, \n",
      "\n",
      "\n"
     ]
    },
    {
     "name": "stderr",
     "output_type": "stream",
     "text": [
      "Epoch 503: 100%|██████████| 23/23 [00:02<00:00,  8.41it/s]\n"
     ]
    },
    {
     "name": "stdout",
     "output_type": "stream",
     "text": [
      "Train Loss: 0.0325,  Train Accuracy: 0.9883,  Train F1-Score: 0.9694, \n",
      "Val Loss: 0.8651,  Val Accuracy: 0.8705,  Val F1-Score: 0.5880, \n",
      "\n",
      "\n"
     ]
    },
    {
     "name": "stderr",
     "output_type": "stream",
     "text": [
      "Epoch 504: 100%|██████████| 23/23 [00:02<00:00,  8.35it/s]\n"
     ]
    },
    {
     "name": "stdout",
     "output_type": "stream",
     "text": [
      "Train Loss: 0.0342,  Train Accuracy: 0.9890,  Train F1-Score: 0.9708, \n",
      "Val Loss: 0.8672,  Val Accuracy: 0.8651,  Val F1-Score: 0.5747, \n",
      "\n",
      "\n"
     ]
    },
    {
     "name": "stderr",
     "output_type": "stream",
     "text": [
      "Epoch 505: 100%|██████████| 23/23 [00:02<00:00,  8.34it/s]\n"
     ]
    },
    {
     "name": "stdout",
     "output_type": "stream",
     "text": [
      "Train Loss: 0.0304,  Train Accuracy: 0.9906,  Train F1-Score: 0.9750, \n",
      "Val Loss: 0.8630,  Val Accuracy: 0.8700,  Val F1-Score: 0.5911, \n",
      "\n",
      "\n"
     ]
    },
    {
     "name": "stderr",
     "output_type": "stream",
     "text": [
      "Epoch 506: 100%|██████████| 23/23 [00:02<00:00,  8.32it/s]\n"
     ]
    },
    {
     "name": "stdout",
     "output_type": "stream",
     "text": [
      "Train Loss: 0.0283,  Train Accuracy: 0.9902,  Train F1-Score: 0.9743, \n",
      "Val Loss: 0.8760,  Val Accuracy: 0.8622,  Val F1-Score: 0.5599, \n",
      "\n",
      "\n"
     ]
    },
    {
     "name": "stderr",
     "output_type": "stream",
     "text": [
      "Epoch 507: 100%|██████████| 23/23 [00:02<00:00,  8.34it/s]\n"
     ]
    },
    {
     "name": "stdout",
     "output_type": "stream",
     "text": [
      "Train Loss: 0.0284,  Train Accuracy: 0.9908,  Train F1-Score: 0.9757, \n",
      "Val Loss: 0.8541,  Val Accuracy: 0.8656,  Val F1-Score: 0.5754, \n",
      "\n",
      "\n"
     ]
    },
    {
     "name": "stderr",
     "output_type": "stream",
     "text": [
      "Epoch 508: 100%|██████████| 23/23 [00:02<00:00,  8.34it/s]\n"
     ]
    },
    {
     "name": "stdout",
     "output_type": "stream",
     "text": [
      "Train Loss: 0.0279,  Train Accuracy: 0.9909,  Train F1-Score: 0.9760, \n",
      "Val Loss: 0.8436,  Val Accuracy: 0.8751,  Val F1-Score: 0.5965, \n",
      "\n",
      "\n"
     ]
    },
    {
     "name": "stderr",
     "output_type": "stream",
     "text": [
      "Epoch 509: 100%|██████████| 23/23 [00:02<00:00,  8.34it/s]\n"
     ]
    },
    {
     "name": "stdout",
     "output_type": "stream",
     "text": [
      "Train Loss: 0.0357,  Train Accuracy: 0.9881,  Train F1-Score: 0.9686, \n",
      "Val Loss: 0.9125,  Val Accuracy: 0.8680,  Val F1-Score: 0.5596, \n",
      "\n",
      "\n"
     ]
    },
    {
     "name": "stderr",
     "output_type": "stream",
     "text": [
      "Epoch 510: 100%|██████████| 23/23 [00:02<00:00,  8.41it/s]\n"
     ]
    },
    {
     "name": "stdout",
     "output_type": "stream",
     "text": [
      "Train Loss: 0.0318,  Train Accuracy: 0.9898,  Train F1-Score: 0.9735, \n",
      "Val Loss: 0.8258,  Val Accuracy: 0.8654,  Val F1-Score: 0.5794, \n",
      "\n",
      "\n"
     ]
    },
    {
     "name": "stderr",
     "output_type": "stream",
     "text": [
      "Epoch 511: 100%|██████████| 23/23 [00:02<00:00,  8.46it/s]\n"
     ]
    },
    {
     "name": "stdout",
     "output_type": "stream",
     "text": [
      "Train Loss: 0.0307,  Train Accuracy: 0.9902,  Train F1-Score: 0.9745, \n",
      "Val Loss: 0.8613,  Val Accuracy: 0.8679,  Val F1-Score: 0.5502, \n",
      "\n",
      "\n"
     ]
    },
    {
     "name": "stderr",
     "output_type": "stream",
     "text": [
      "Epoch 512: 100%|██████████| 23/23 [00:02<00:00,  8.44it/s]\n"
     ]
    },
    {
     "name": "stdout",
     "output_type": "stream",
     "text": [
      "Train Loss: 0.0320,  Train Accuracy: 0.9895,  Train F1-Score: 0.9727, \n",
      "Val Loss: 0.8659,  Val Accuracy: 0.8649,  Val F1-Score: 0.5710, \n",
      "\n",
      "\n"
     ]
    },
    {
     "name": "stderr",
     "output_type": "stream",
     "text": [
      "Epoch 513: 100%|██████████| 23/23 [00:02<00:00,  8.42it/s]\n"
     ]
    },
    {
     "name": "stdout",
     "output_type": "stream",
     "text": [
      "Train Loss: 0.0278,  Train Accuracy: 0.9910,  Train F1-Score: 0.9763, \n",
      "Val Loss: 0.8481,  Val Accuracy: 0.8775,  Val F1-Score: 0.5948, \n",
      "\n",
      "\n"
     ]
    },
    {
     "name": "stderr",
     "output_type": "stream",
     "text": [
      "Epoch 514: 100%|██████████| 23/23 [00:02<00:00,  8.42it/s]\n"
     ]
    },
    {
     "name": "stdout",
     "output_type": "stream",
     "text": [
      "Train Loss: 0.0250,  Train Accuracy: 0.9920,  Train F1-Score: 0.9789, \n",
      "Val Loss: 0.8999,  Val Accuracy: 0.8680,  Val F1-Score: 0.5822, \n",
      "\n",
      "\n"
     ]
    },
    {
     "name": "stderr",
     "output_type": "stream",
     "text": [
      "Epoch 515: 100%|██████████| 23/23 [00:02<00:00,  8.41it/s]\n"
     ]
    },
    {
     "name": "stdout",
     "output_type": "stream",
     "text": [
      "Train Loss: 0.0278,  Train Accuracy: 0.9907,  Train F1-Score: 0.9762, \n",
      "Val Loss: 0.8432,  Val Accuracy: 0.8744,  Val F1-Score: 0.5895, \n",
      "\n",
      "\n"
     ]
    },
    {
     "name": "stderr",
     "output_type": "stream",
     "text": [
      "Epoch 516: 100%|██████████| 23/23 [00:02<00:00,  8.43it/s]\n"
     ]
    },
    {
     "name": "stdout",
     "output_type": "stream",
     "text": [
      "Train Loss: 0.0375,  Train Accuracy: 0.9877,  Train F1-Score: 0.9679, \n",
      "Val Loss: 0.8294,  Val Accuracy: 0.8682,  Val F1-Score: 0.5834, \n",
      "\n",
      "\n"
     ]
    },
    {
     "name": "stderr",
     "output_type": "stream",
     "text": [
      "Epoch 517: 100%|██████████| 23/23 [00:02<00:00,  8.45it/s]\n"
     ]
    },
    {
     "name": "stdout",
     "output_type": "stream",
     "text": [
      "Train Loss: 0.0359,  Train Accuracy: 0.9875,  Train F1-Score: 0.9675, \n",
      "Val Loss: 0.8547,  Val Accuracy: 0.8660,  Val F1-Score: 0.5876, \n",
      "\n",
      "\n"
     ]
    },
    {
     "name": "stderr",
     "output_type": "stream",
     "text": [
      "Epoch 518: 100%|██████████| 23/23 [00:02<00:00,  8.01it/s]\n"
     ]
    },
    {
     "name": "stdout",
     "output_type": "stream",
     "text": [
      "Train Loss: 0.0481,  Train Accuracy: 0.9847,  Train F1-Score: 0.9597, \n",
      "Val Loss: 0.8437,  Val Accuracy: 0.8741,  Val F1-Score: 0.5871, \n",
      "\n",
      "\n"
     ]
    },
    {
     "name": "stderr",
     "output_type": "stream",
     "text": [
      "Epoch 519: 100%|██████████| 23/23 [00:02<00:00,  8.31it/s]\n"
     ]
    },
    {
     "name": "stdout",
     "output_type": "stream",
     "text": [
      "Train Loss: 0.0346,  Train Accuracy: 0.9889,  Train F1-Score: 0.9710, \n",
      "Val Loss: 0.7867,  Val Accuracy: 0.8753,  Val F1-Score: 0.5780, \n",
      "\n",
      "\n"
     ]
    },
    {
     "name": "stderr",
     "output_type": "stream",
     "text": [
      "Epoch 520: 100%|██████████| 23/23 [00:02<00:00,  8.32it/s]\n"
     ]
    },
    {
     "name": "stdout",
     "output_type": "stream",
     "text": [
      "Train Loss: 0.0338,  Train Accuracy: 0.9891,  Train F1-Score: 0.9716, \n",
      "Val Loss: 0.7980,  Val Accuracy: 0.8717,  Val F1-Score: 0.5853, \n",
      "\n",
      "\n"
     ]
    },
    {
     "name": "stderr",
     "output_type": "stream",
     "text": [
      "Epoch 521: 100%|██████████| 23/23 [00:02<00:00,  8.27it/s]\n"
     ]
    },
    {
     "name": "stdout",
     "output_type": "stream",
     "text": [
      "Train Loss: 0.0293,  Train Accuracy: 0.9906,  Train F1-Score: 0.9756, \n",
      "Val Loss: 0.8335,  Val Accuracy: 0.8658,  Val F1-Score: 0.5543, \n",
      "\n",
      "\n"
     ]
    },
    {
     "name": "stderr",
     "output_type": "stream",
     "text": [
      "Epoch 522: 100%|██████████| 23/23 [00:02<00:00,  8.22it/s]\n"
     ]
    },
    {
     "name": "stdout",
     "output_type": "stream",
     "text": [
      "Train Loss: 0.0309,  Train Accuracy: 0.9904,  Train F1-Score: 0.9747, \n",
      "Val Loss: 0.8044,  Val Accuracy: 0.8751,  Val F1-Score: 0.6086, \n",
      "\n",
      "\n"
     ]
    },
    {
     "name": "stderr",
     "output_type": "stream",
     "text": [
      "Epoch 523: 100%|██████████| 23/23 [00:02<00:00,  8.27it/s]\n"
     ]
    },
    {
     "name": "stdout",
     "output_type": "stream",
     "text": [
      "Train Loss: 0.0319,  Train Accuracy: 0.9894,  Train F1-Score: 0.9725, \n",
      "Val Loss: 0.7967,  Val Accuracy: 0.8788,  Val F1-Score: 0.6162, \n",
      "\n",
      "\n"
     ]
    },
    {
     "name": "stderr",
     "output_type": "stream",
     "text": [
      "Epoch 524: 100%|██████████| 23/23 [00:02<00:00,  8.33it/s]\n"
     ]
    },
    {
     "name": "stdout",
     "output_type": "stream",
     "text": [
      "Train Loss: 0.0288,  Train Accuracy: 0.9913,  Train F1-Score: 0.9774, \n",
      "Val Loss: 0.8060,  Val Accuracy: 0.8810,  Val F1-Score: 0.6003, \n",
      "\n",
      "\n"
     ]
    },
    {
     "name": "stderr",
     "output_type": "stream",
     "text": [
      "Epoch 525: 100%|██████████| 23/23 [00:02<00:00,  8.42it/s]\n"
     ]
    },
    {
     "name": "stdout",
     "output_type": "stream",
     "text": [
      "Train Loss: 0.0383,  Train Accuracy: 0.9880,  Train F1-Score: 0.9684, \n",
      "Val Loss: 0.8892,  Val Accuracy: 0.8627,  Val F1-Score: 0.5718, \n",
      "\n",
      "\n"
     ]
    },
    {
     "name": "stderr",
     "output_type": "stream",
     "text": [
      "Epoch 526: 100%|██████████| 23/23 [00:02<00:00,  8.39it/s]\n"
     ]
    },
    {
     "name": "stdout",
     "output_type": "stream",
     "text": [
      "Train Loss: 0.0326,  Train Accuracy: 0.9894,  Train F1-Score: 0.9723, \n",
      "Val Loss: 0.8245,  Val Accuracy: 0.8756,  Val F1-Score: 0.5932, \n",
      "\n",
      "\n"
     ]
    },
    {
     "name": "stderr",
     "output_type": "stream",
     "text": [
      "Epoch 527: 100%|██████████| 23/23 [00:02<00:00,  8.38it/s]\n"
     ]
    },
    {
     "name": "stdout",
     "output_type": "stream",
     "text": [
      "Train Loss: 0.0315,  Train Accuracy: 0.9899,  Train F1-Score: 0.9734, \n",
      "Val Loss: 0.8446,  Val Accuracy: 0.8692,  Val F1-Score: 0.5777, \n",
      "\n",
      "\n"
     ]
    },
    {
     "name": "stderr",
     "output_type": "stream",
     "text": [
      "Epoch 528: 100%|██████████| 23/23 [00:02<00:00,  8.43it/s]\n"
     ]
    },
    {
     "name": "stdout",
     "output_type": "stream",
     "text": [
      "Train Loss: 0.0304,  Train Accuracy: 0.9897,  Train F1-Score: 0.9731, \n",
      "Val Loss: 0.8747,  Val Accuracy: 0.8756,  Val F1-Score: 0.5993, \n",
      "\n",
      "\n"
     ]
    },
    {
     "name": "stderr",
     "output_type": "stream",
     "text": [
      "Epoch 529: 100%|██████████| 23/23 [00:02<00:00,  8.43it/s]\n"
     ]
    },
    {
     "name": "stdout",
     "output_type": "stream",
     "text": [
      "Train Loss: 0.0269,  Train Accuracy: 0.9919,  Train F1-Score: 0.9790, \n",
      "Val Loss: 0.8084,  Val Accuracy: 0.8698,  Val F1-Score: 0.5629, \n",
      "\n",
      "\n"
     ]
    },
    {
     "name": "stderr",
     "output_type": "stream",
     "text": [
      "Epoch 530: 100%|██████████| 23/23 [00:02<00:00,  8.42it/s]\n"
     ]
    },
    {
     "name": "stdout",
     "output_type": "stream",
     "text": [
      "Train Loss: 0.0373,  Train Accuracy: 0.9871,  Train F1-Score: 0.9662, \n",
      "Val Loss: 0.8204,  Val Accuracy: 0.8762,  Val F1-Score: 0.5901, \n",
      "\n",
      "\n"
     ]
    },
    {
     "name": "stderr",
     "output_type": "stream",
     "text": [
      "Epoch 531: 100%|██████████| 23/23 [00:02<00:00,  8.43it/s]\n"
     ]
    },
    {
     "name": "stdout",
     "output_type": "stream",
     "text": [
      "Train Loss: 0.0251,  Train Accuracy: 0.9916,  Train F1-Score: 0.9777, \n",
      "Val Loss: 0.8928,  Val Accuracy: 0.8649,  Val F1-Score: 0.5500, \n",
      "\n",
      "\n"
     ]
    },
    {
     "name": "stderr",
     "output_type": "stream",
     "text": [
      "Epoch 532: 100%|██████████| 23/23 [00:02<00:00,  8.36it/s]\n"
     ]
    },
    {
     "name": "stdout",
     "output_type": "stream",
     "text": [
      "Train Loss: 0.0294,  Train Accuracy: 0.9909,  Train F1-Score: 0.9758, \n",
      "Val Loss: 0.8730,  Val Accuracy: 0.8647,  Val F1-Score: 0.5625, \n",
      "\n",
      "\n"
     ]
    },
    {
     "name": "stderr",
     "output_type": "stream",
     "text": [
      "Epoch 533: 100%|██████████| 23/23 [00:02<00:00,  8.23it/s]\n"
     ]
    },
    {
     "name": "stdout",
     "output_type": "stream",
     "text": [
      "Train Loss: 0.0270,  Train Accuracy: 0.9910,  Train F1-Score: 0.9762, \n",
      "Val Loss: 0.8591,  Val Accuracy: 0.8715,  Val F1-Score: 0.6023, \n",
      "\n",
      "\n"
     ]
    },
    {
     "name": "stderr",
     "output_type": "stream",
     "text": [
      "Epoch 534: 100%|██████████| 23/23 [00:02<00:00,  8.30it/s]\n"
     ]
    },
    {
     "name": "stdout",
     "output_type": "stream",
     "text": [
      "Train Loss: 0.0339,  Train Accuracy: 0.9889,  Train F1-Score: 0.9714, \n",
      "Val Loss: 0.8896,  Val Accuracy: 0.8597,  Val F1-Score: 0.5865, \n",
      "\n",
      "\n"
     ]
    },
    {
     "name": "stderr",
     "output_type": "stream",
     "text": [
      "Epoch 535: 100%|██████████| 23/23 [00:02<00:00,  8.31it/s]\n"
     ]
    },
    {
     "name": "stdout",
     "output_type": "stream",
     "text": [
      "Train Loss: 0.0438,  Train Accuracy: 0.9867,  Train F1-Score: 0.9646, \n",
      "Val Loss: 0.8135,  Val Accuracy: 0.8751,  Val F1-Score: 0.5893, \n",
      "\n",
      "\n"
     ]
    },
    {
     "name": "stderr",
     "output_type": "stream",
     "text": [
      "Epoch 536: 100%|██████████| 23/23 [00:02<00:00,  8.32it/s]\n"
     ]
    },
    {
     "name": "stdout",
     "output_type": "stream",
     "text": [
      "Train Loss: 0.0372,  Train Accuracy: 0.9886,  Train F1-Score: 0.9703, \n",
      "Val Loss: 0.7824,  Val Accuracy: 0.8509,  Val F1-Score: 0.5637, \n",
      "\n",
      "\n"
     ]
    },
    {
     "name": "stderr",
     "output_type": "stream",
     "text": [
      "Epoch 537: 100%|██████████| 23/23 [00:02<00:00,  8.29it/s]\n"
     ]
    },
    {
     "name": "stdout",
     "output_type": "stream",
     "text": [
      "Train Loss: 0.0335,  Train Accuracy: 0.9886,  Train F1-Score: 0.9702, \n",
      "Val Loss: 0.9037,  Val Accuracy: 0.8674,  Val F1-Score: 0.5632, \n",
      "\n",
      "\n"
     ]
    },
    {
     "name": "stderr",
     "output_type": "stream",
     "text": [
      "Epoch 538: 100%|██████████| 23/23 [00:02<00:00,  8.34it/s]\n"
     ]
    },
    {
     "name": "stdout",
     "output_type": "stream",
     "text": [
      "Train Loss: 0.0299,  Train Accuracy: 0.9900,  Train F1-Score: 0.9739, \n",
      "Val Loss: 0.8945,  Val Accuracy: 0.8699,  Val F1-Score: 0.5751, \n",
      "\n",
      "\n"
     ]
    },
    {
     "name": "stderr",
     "output_type": "stream",
     "text": [
      "Epoch 539: 100%|██████████| 23/23 [00:02<00:00,  8.42it/s]\n"
     ]
    },
    {
     "name": "stdout",
     "output_type": "stream",
     "text": [
      "Train Loss: 0.0456,  Train Accuracy: 0.9859,  Train F1-Score: 0.9631, \n",
      "Val Loss: 0.8446,  Val Accuracy: 0.8598,  Val F1-Score: 0.5688, \n",
      "\n",
      "\n"
     ]
    },
    {
     "name": "stderr",
     "output_type": "stream",
     "text": [
      "Epoch 540: 100%|██████████| 23/23 [00:02<00:00,  8.45it/s]\n"
     ]
    },
    {
     "name": "stdout",
     "output_type": "stream",
     "text": [
      "Train Loss: 0.0416,  Train Accuracy: 0.9862,  Train F1-Score: 0.9641, \n",
      "Val Loss: 0.7908,  Val Accuracy: 0.8647,  Val F1-Score: 0.5663, \n",
      "\n",
      "\n"
     ]
    },
    {
     "name": "stderr",
     "output_type": "stream",
     "text": [
      "Epoch 541: 100%|██████████| 23/23 [00:02<00:00,  8.46it/s]\n"
     ]
    },
    {
     "name": "stdout",
     "output_type": "stream",
     "text": [
      "Train Loss: 0.0336,  Train Accuracy: 0.9898,  Train F1-Score: 0.9737, \n",
      "Val Loss: 0.7969,  Val Accuracy: 0.8826,  Val F1-Score: 0.6062, \n",
      "\n",
      "\n"
     ]
    },
    {
     "name": "stderr",
     "output_type": "stream",
     "text": [
      "Epoch 542: 100%|██████████| 23/23 [00:02<00:00,  8.46it/s]\n"
     ]
    },
    {
     "name": "stdout",
     "output_type": "stream",
     "text": [
      "Train Loss: 0.0339,  Train Accuracy: 0.9897,  Train F1-Score: 0.9730, \n",
      "Val Loss: 0.8404,  Val Accuracy: 0.8662,  Val F1-Score: 0.5713, \n",
      "\n",
      "\n"
     ]
    },
    {
     "name": "stderr",
     "output_type": "stream",
     "text": [
      "Epoch 543: 100%|██████████| 23/23 [00:02<00:00,  8.46it/s]\n"
     ]
    },
    {
     "name": "stdout",
     "output_type": "stream",
     "text": [
      "Train Loss: 0.0302,  Train Accuracy: 0.9896,  Train F1-Score: 0.9725, \n",
      "Val Loss: 0.8139,  Val Accuracy: 0.8720,  Val F1-Score: 0.5987, \n",
      "\n",
      "\n"
     ]
    },
    {
     "name": "stderr",
     "output_type": "stream",
     "text": [
      "Epoch 544: 100%|██████████| 23/23 [00:02<00:00,  8.47it/s]\n"
     ]
    },
    {
     "name": "stdout",
     "output_type": "stream",
     "text": [
      "Train Loss: 0.0295,  Train Accuracy: 0.9910,  Train F1-Score: 0.9758, \n",
      "Val Loss: 0.7983,  Val Accuracy: 0.8708,  Val F1-Score: 0.5993, \n",
      "\n",
      "\n"
     ]
    },
    {
     "name": "stderr",
     "output_type": "stream",
     "text": [
      "Epoch 545: 100%|██████████| 23/23 [00:02<00:00,  8.46it/s]\n"
     ]
    },
    {
     "name": "stdout",
     "output_type": "stream",
     "text": [
      "Train Loss: 0.0261,  Train Accuracy: 0.9917,  Train F1-Score: 0.9788, \n",
      "Val Loss: 0.7998,  Val Accuracy: 0.8732,  Val F1-Score: 0.5971, \n",
      "\n",
      "\n"
     ]
    },
    {
     "name": "stderr",
     "output_type": "stream",
     "text": [
      "Epoch 546: 100%|██████████| 23/23 [00:02<00:00,  8.42it/s]\n"
     ]
    },
    {
     "name": "stdout",
     "output_type": "stream",
     "text": [
      "Train Loss: 0.0218,  Train Accuracy: 0.9923,  Train F1-Score: 0.9800, \n",
      "Val Loss: 0.8695,  Val Accuracy: 0.8813,  Val F1-Score: 0.6030, \n",
      "\n",
      "\n"
     ]
    },
    {
     "name": "stderr",
     "output_type": "stream",
     "text": [
      "Epoch 547: 100%|██████████| 23/23 [00:02<00:00,  8.32it/s]\n"
     ]
    },
    {
     "name": "stdout",
     "output_type": "stream",
     "text": [
      "Train Loss: 0.0279,  Train Accuracy: 0.9908,  Train F1-Score: 0.9764, \n",
      "Val Loss: 0.8440,  Val Accuracy: 0.8731,  Val F1-Score: 0.5891, \n",
      "\n",
      "\n"
     ]
    },
    {
     "name": "stderr",
     "output_type": "stream",
     "text": [
      "Epoch 548: 100%|██████████| 23/23 [00:02<00:00,  8.33it/s]\n"
     ]
    },
    {
     "name": "stdout",
     "output_type": "stream",
     "text": [
      "Train Loss: 0.0236,  Train Accuracy: 0.9923,  Train F1-Score: 0.9803, \n",
      "Val Loss: 0.8910,  Val Accuracy: 0.8684,  Val F1-Score: 0.5605, \n",
      "\n",
      "\n"
     ]
    },
    {
     "name": "stderr",
     "output_type": "stream",
     "text": [
      "Epoch 549: 100%|██████████| 23/23 [00:02<00:00,  8.35it/s]\n"
     ]
    },
    {
     "name": "stdout",
     "output_type": "stream",
     "text": [
      "Train Loss: 0.0232,  Train Accuracy: 0.9927,  Train F1-Score: 0.9810, \n",
      "Val Loss: 0.8164,  Val Accuracy: 0.8683,  Val F1-Score: 0.5796, \n",
      "\n",
      "\n"
     ]
    },
    {
     "name": "stderr",
     "output_type": "stream",
     "text": [
      "Epoch 550: 100%|██████████| 23/23 [00:02<00:00,  8.35it/s]\n"
     ]
    },
    {
     "name": "stdout",
     "output_type": "stream",
     "text": [
      "Train Loss: 0.0371,  Train Accuracy: 0.9890,  Train F1-Score: 0.9725, \n",
      "Val Loss: 0.8240,  Val Accuracy: 0.8746,  Val F1-Score: 0.5611, \n",
      "\n",
      "\n"
     ]
    },
    {
     "name": "stderr",
     "output_type": "stream",
     "text": [
      "Epoch 551: 100%|██████████| 23/23 [00:02<00:00,  8.34it/s]\n"
     ]
    },
    {
     "name": "stdout",
     "output_type": "stream",
     "text": [
      "Train Loss: 0.0259,  Train Accuracy: 0.9914,  Train F1-Score: 0.9777, \n",
      "Val Loss: 0.7732,  Val Accuracy: 0.8799,  Val F1-Score: 0.5988, \n",
      "\n",
      "\n"
     ]
    },
    {
     "name": "stderr",
     "output_type": "stream",
     "text": [
      "Epoch 552: 100%|██████████| 23/23 [00:02<00:00,  8.32it/s]\n"
     ]
    },
    {
     "name": "stdout",
     "output_type": "stream",
     "text": [
      "Train Loss: 0.0262,  Train Accuracy: 0.9915,  Train F1-Score: 0.9777, \n",
      "Val Loss: 0.8688,  Val Accuracy: 0.8621,  Val F1-Score: 0.5881, \n",
      "\n",
      "\n"
     ]
    },
    {
     "name": "stderr",
     "output_type": "stream",
     "text": [
      "Epoch 553: 100%|██████████| 23/23 [00:02<00:00,  8.37it/s]\n"
     ]
    },
    {
     "name": "stdout",
     "output_type": "stream",
     "text": [
      "Train Loss: 0.0225,  Train Accuracy: 0.9925,  Train F1-Score: 0.9802, \n",
      "Val Loss: 0.8670,  Val Accuracy: 0.8702,  Val F1-Score: 0.5768, \n",
      "\n",
      "\n"
     ]
    },
    {
     "name": "stderr",
     "output_type": "stream",
     "text": [
      "Epoch 554: 100%|██████████| 23/23 [00:02<00:00,  8.42it/s]\n"
     ]
    },
    {
     "name": "stdout",
     "output_type": "stream",
     "text": [
      "Train Loss: 0.0285,  Train Accuracy: 0.9909,  Train F1-Score: 0.9754, \n",
      "Val Loss: 0.8402,  Val Accuracy: 0.8586,  Val F1-Score: 0.5530, \n",
      "\n",
      "\n"
     ]
    },
    {
     "name": "stderr",
     "output_type": "stream",
     "text": [
      "Epoch 555: 100%|██████████| 23/23 [00:02<00:00,  8.40it/s]\n"
     ]
    },
    {
     "name": "stdout",
     "output_type": "stream",
     "text": [
      "Train Loss: 0.0304,  Train Accuracy: 0.9911,  Train F1-Score: 0.9773, \n",
      "Val Loss: 0.8174,  Val Accuracy: 0.8653,  Val F1-Score: 0.5798, \n",
      "\n",
      "\n"
     ]
    },
    {
     "name": "stderr",
     "output_type": "stream",
     "text": [
      "Epoch 556: 100%|██████████| 23/23 [00:02<00:00,  8.43it/s]\n"
     ]
    },
    {
     "name": "stdout",
     "output_type": "stream",
     "text": [
      "Train Loss: 0.0302,  Train Accuracy: 0.9896,  Train F1-Score: 0.9726, \n",
      "Val Loss: 0.7806,  Val Accuracy: 0.8572,  Val F1-Score: 0.5553, \n",
      "\n",
      "\n"
     ]
    },
    {
     "name": "stderr",
     "output_type": "stream",
     "text": [
      "Epoch 557: 100%|██████████| 23/23 [00:02<00:00,  8.45it/s]\n"
     ]
    },
    {
     "name": "stdout",
     "output_type": "stream",
     "text": [
      "Train Loss: 0.0285,  Train Accuracy: 0.9914,  Train F1-Score: 0.9779, \n",
      "Val Loss: 0.8347,  Val Accuracy: 0.8767,  Val F1-Score: 0.5993, \n",
      "\n",
      "\n"
     ]
    },
    {
     "name": "stderr",
     "output_type": "stream",
     "text": [
      "Epoch 558: 100%|██████████| 23/23 [00:02<00:00,  7.94it/s]\n"
     ]
    },
    {
     "name": "stdout",
     "output_type": "stream",
     "text": [
      "Train Loss: 0.0249,  Train Accuracy: 0.9913,  Train F1-Score: 0.9778, \n",
      "Val Loss: 0.8316,  Val Accuracy: 0.8622,  Val F1-Score: 0.5915, \n",
      "\n",
      "\n"
     ]
    },
    {
     "name": "stderr",
     "output_type": "stream",
     "text": [
      "Epoch 559: 100%|██████████| 23/23 [00:02<00:00,  8.46it/s]\n"
     ]
    },
    {
     "name": "stdout",
     "output_type": "stream",
     "text": [
      "Train Loss: 0.0290,  Train Accuracy: 0.9906,  Train F1-Score: 0.9756, \n",
      "Val Loss: 0.7902,  Val Accuracy: 0.8832,  Val F1-Score: 0.6047, \n",
      "\n",
      "\n"
     ]
    },
    {
     "name": "stderr",
     "output_type": "stream",
     "text": [
      "Epoch 560: 100%|██████████| 23/23 [00:02<00:00,  8.41it/s]\n"
     ]
    },
    {
     "name": "stdout",
     "output_type": "stream",
     "text": [
      "Train Loss: 0.0264,  Train Accuracy: 0.9908,  Train F1-Score: 0.9765, \n",
      "Val Loss: 0.8190,  Val Accuracy: 0.8753,  Val F1-Score: 0.6067, \n",
      "\n",
      "\n"
     ]
    },
    {
     "name": "stderr",
     "output_type": "stream",
     "text": [
      "Epoch 561: 100%|██████████| 23/23 [00:02<00:00,  8.34it/s]\n"
     ]
    },
    {
     "name": "stdout",
     "output_type": "stream",
     "text": [
      "Train Loss: 0.0286,  Train Accuracy: 0.9911,  Train F1-Score: 0.9762, \n",
      "Val Loss: 0.9182,  Val Accuracy: 0.8653,  Val F1-Score: 0.5412, \n",
      "\n",
      "\n"
     ]
    },
    {
     "name": "stderr",
     "output_type": "stream",
     "text": [
      "Epoch 562: 100%|██████████| 23/23 [00:02<00:00,  8.32it/s]\n"
     ]
    },
    {
     "name": "stdout",
     "output_type": "stream",
     "text": [
      "Train Loss: 0.0237,  Train Accuracy: 0.9923,  Train F1-Score: 0.9801, \n",
      "Val Loss: 0.7740,  Val Accuracy: 0.8784,  Val F1-Score: 0.5996, \n",
      "\n",
      "\n"
     ]
    },
    {
     "name": "stderr",
     "output_type": "stream",
     "text": [
      "Epoch 563: 100%|██████████| 23/23 [00:02<00:00,  8.34it/s]\n"
     ]
    },
    {
     "name": "stdout",
     "output_type": "stream",
     "text": [
      "Train Loss: 0.0214,  Train Accuracy: 0.9934,  Train F1-Score: 0.9831, \n",
      "Val Loss: 0.8568,  Val Accuracy: 0.8661,  Val F1-Score: 0.5632, \n",
      "\n",
      "\n"
     ]
    },
    {
     "name": "stderr",
     "output_type": "stream",
     "text": [
      "Epoch 564: 100%|██████████| 23/23 [00:02<00:00,  8.34it/s]\n"
     ]
    },
    {
     "name": "stdout",
     "output_type": "stream",
     "text": [
      "Train Loss: 0.0185,  Train Accuracy: 0.9941,  Train F1-Score: 0.9846, \n",
      "Val Loss: 0.8232,  Val Accuracy: 0.8645,  Val F1-Score: 0.5658, \n",
      "\n",
      "\n"
     ]
    },
    {
     "name": "stderr",
     "output_type": "stream",
     "text": [
      "Epoch 565: 100%|██████████| 23/23 [00:02<00:00,  8.31it/s]\n"
     ]
    },
    {
     "name": "stdout",
     "output_type": "stream",
     "text": [
      "Train Loss: 0.0220,  Train Accuracy: 0.9926,  Train F1-Score: 0.9807, \n",
      "Val Loss: 0.8923,  Val Accuracy: 0.8765,  Val F1-Score: 0.5956, \n",
      "\n",
      "\n"
     ]
    },
    {
     "name": "stderr",
     "output_type": "stream",
     "text": [
      "Epoch 566: 100%|██████████| 23/23 [00:02<00:00,  8.32it/s]\n"
     ]
    },
    {
     "name": "stdout",
     "output_type": "stream",
     "text": [
      "Train Loss: 0.0187,  Train Accuracy: 0.9938,  Train F1-Score: 0.9837, \n",
      "Val Loss: 0.8951,  Val Accuracy: 0.8736,  Val F1-Score: 0.5837, \n",
      "\n",
      "\n"
     ]
    },
    {
     "name": "stderr",
     "output_type": "stream",
     "text": [
      "Epoch 567: 100%|██████████| 23/23 [00:02<00:00,  8.36it/s]\n"
     ]
    },
    {
     "name": "stdout",
     "output_type": "stream",
     "text": [
      "Train Loss: 0.0199,  Train Accuracy: 0.9925,  Train F1-Score: 0.9802, \n",
      "Val Loss: 0.9244,  Val Accuracy: 0.8707,  Val F1-Score: 0.5635, \n",
      "\n",
      "\n"
     ]
    },
    {
     "name": "stderr",
     "output_type": "stream",
     "text": [
      "Epoch 568: 100%|██████████| 23/23 [00:02<00:00,  8.45it/s]\n"
     ]
    },
    {
     "name": "stdout",
     "output_type": "stream",
     "text": [
      "Train Loss: 0.0188,  Train Accuracy: 0.9942,  Train F1-Score: 0.9852, \n",
      "Val Loss: 0.9108,  Val Accuracy: 0.8746,  Val F1-Score: 0.5492, \n",
      "\n",
      "\n"
     ]
    },
    {
     "name": "stderr",
     "output_type": "stream",
     "text": [
      "Epoch 569: 100%|██████████| 23/23 [00:02<00:00,  8.45it/s]\n"
     ]
    },
    {
     "name": "stdout",
     "output_type": "stream",
     "text": [
      "Train Loss: 0.0214,  Train Accuracy: 0.9930,  Train F1-Score: 0.9820, \n",
      "Val Loss: 0.8982,  Val Accuracy: 0.8750,  Val F1-Score: 0.6040, \n",
      "\n",
      "\n"
     ]
    },
    {
     "name": "stderr",
     "output_type": "stream",
     "text": [
      "Epoch 570: 100%|██████████| 23/23 [00:02<00:00,  8.46it/s]\n"
     ]
    },
    {
     "name": "stdout",
     "output_type": "stream",
     "text": [
      "Train Loss: 0.0184,  Train Accuracy: 0.9937,  Train F1-Score: 0.9832, \n",
      "Val Loss: 0.9375,  Val Accuracy: 0.8669,  Val F1-Score: 0.5825, \n",
      "\n",
      "\n"
     ]
    },
    {
     "name": "stderr",
     "output_type": "stream",
     "text": [
      "Epoch 571: 100%|██████████| 23/23 [00:02<00:00,  8.46it/s]\n"
     ]
    },
    {
     "name": "stdout",
     "output_type": "stream",
     "text": [
      "Train Loss: 0.0163,  Train Accuracy: 0.9945,  Train F1-Score: 0.9856, \n",
      "Val Loss: 0.9385,  Val Accuracy: 0.8642,  Val F1-Score: 0.5791, \n",
      "\n",
      "\n"
     ]
    },
    {
     "name": "stderr",
     "output_type": "stream",
     "text": [
      "Epoch 572: 100%|██████████| 23/23 [00:02<00:00,  8.45it/s]\n"
     ]
    },
    {
     "name": "stdout",
     "output_type": "stream",
     "text": [
      "Train Loss: 0.0217,  Train Accuracy: 0.9930,  Train F1-Score: 0.9821, \n",
      "Val Loss: 0.9734,  Val Accuracy: 0.8751,  Val F1-Score: 0.5657, \n",
      "\n",
      "\n"
     ]
    },
    {
     "name": "stderr",
     "output_type": "stream",
     "text": [
      "Epoch 573: 100%|██████████| 23/23 [00:02<00:00,  8.47it/s]\n"
     ]
    },
    {
     "name": "stdout",
     "output_type": "stream",
     "text": [
      "Train Loss: 0.0169,  Train Accuracy: 0.9943,  Train F1-Score: 0.9855, \n",
      "Val Loss: 0.9228,  Val Accuracy: 0.8651,  Val F1-Score: 0.5804, \n",
      "\n",
      "\n"
     ]
    },
    {
     "name": "stderr",
     "output_type": "stream",
     "text": [
      "Epoch 574: 100%|██████████| 23/23 [00:02<00:00,  8.46it/s]\n"
     ]
    },
    {
     "name": "stdout",
     "output_type": "stream",
     "text": [
      "Train Loss: 0.0220,  Train Accuracy: 0.9928,  Train F1-Score: 0.9813, \n",
      "Val Loss: 0.9281,  Val Accuracy: 0.8686,  Val F1-Score: 0.5809, \n",
      "\n",
      "\n"
     ]
    },
    {
     "name": "stderr",
     "output_type": "stream",
     "text": [
      "Epoch 575: 100%|██████████| 23/23 [00:02<00:00,  8.36it/s]\n"
     ]
    },
    {
     "name": "stdout",
     "output_type": "stream",
     "text": [
      "Train Loss: 0.0225,  Train Accuracy: 0.9932,  Train F1-Score: 0.9822, \n",
      "Val Loss: 0.9293,  Val Accuracy: 0.8662,  Val F1-Score: 0.5662, \n",
      "\n",
      "\n"
     ]
    },
    {
     "name": "stderr",
     "output_type": "stream",
     "text": [
      "Epoch 576: 100%|██████████| 23/23 [00:02<00:00,  8.34it/s]\n"
     ]
    },
    {
     "name": "stdout",
     "output_type": "stream",
     "text": [
      "Train Loss: 0.0195,  Train Accuracy: 0.9932,  Train F1-Score: 0.9826, \n",
      "Val Loss: 0.9572,  Val Accuracy: 0.8713,  Val F1-Score: 0.5869, \n",
      "\n",
      "\n"
     ]
    },
    {
     "name": "stderr",
     "output_type": "stream",
     "text": [
      "Epoch 577: 100%|██████████| 23/23 [00:02<00:00,  8.34it/s]\n"
     ]
    },
    {
     "name": "stdout",
     "output_type": "stream",
     "text": [
      "Train Loss: 0.0215,  Train Accuracy: 0.9930,  Train F1-Score: 0.9820, \n",
      "Val Loss: 0.8924,  Val Accuracy: 0.8783,  Val F1-Score: 0.6076, \n",
      "\n",
      "\n"
     ]
    },
    {
     "name": "stderr",
     "output_type": "stream",
     "text": [
      "Epoch 578: 100%|██████████| 23/23 [00:02<00:00,  8.19it/s]\n"
     ]
    },
    {
     "name": "stdout",
     "output_type": "stream",
     "text": [
      "Train Loss: 0.0235,  Train Accuracy: 0.9925,  Train F1-Score: 0.9804, \n",
      "Val Loss: 0.8841,  Val Accuracy: 0.8579,  Val F1-Score: 0.5825, \n",
      "\n",
      "\n"
     ]
    },
    {
     "name": "stderr",
     "output_type": "stream",
     "text": [
      "Epoch 579: 100%|██████████| 23/23 [00:02<00:00,  8.24it/s]\n"
     ]
    },
    {
     "name": "stdout",
     "output_type": "stream",
     "text": [
      "Train Loss: 0.0290,  Train Accuracy: 0.9904,  Train F1-Score: 0.9744, \n",
      "Val Loss: 0.9647,  Val Accuracy: 0.8599,  Val F1-Score: 0.5388, \n",
      "\n",
      "\n"
     ]
    },
    {
     "name": "stderr",
     "output_type": "stream",
     "text": [
      "Epoch 580: 100%|██████████| 23/23 [00:02<00:00,  8.17it/s]\n"
     ]
    },
    {
     "name": "stdout",
     "output_type": "stream",
     "text": [
      "Train Loss: 0.0317,  Train Accuracy: 0.9889,  Train F1-Score: 0.9710, \n",
      "Val Loss: 0.8963,  Val Accuracy: 0.8781,  Val F1-Score: 0.6026, \n",
      "\n",
      "\n"
     ]
    },
    {
     "name": "stderr",
     "output_type": "stream",
     "text": [
      "Epoch 581: 100%|██████████| 23/23 [00:02<00:00,  8.19it/s]\n"
     ]
    },
    {
     "name": "stdout",
     "output_type": "stream",
     "text": [
      "Train Loss: 0.0232,  Train Accuracy: 0.9917,  Train F1-Score: 0.9785, \n",
      "Val Loss: 0.8246,  Val Accuracy: 0.8648,  Val F1-Score: 0.5964, \n",
      "\n",
      "\n"
     ]
    },
    {
     "name": "stderr",
     "output_type": "stream",
     "text": [
      "Epoch 582: 100%|██████████| 23/23 [00:02<00:00,  8.34it/s]\n"
     ]
    },
    {
     "name": "stdout",
     "output_type": "stream",
     "text": [
      "Train Loss: 0.0232,  Train Accuracy: 0.9920,  Train F1-Score: 0.9795, \n",
      "Val Loss: 0.9366,  Val Accuracy: 0.8721,  Val F1-Score: 0.5756, \n",
      "\n",
      "\n"
     ]
    },
    {
     "name": "stderr",
     "output_type": "stream",
     "text": [
      "Epoch 583: 100%|██████████| 23/23 [00:02<00:00,  8.34it/s]\n"
     ]
    },
    {
     "name": "stdout",
     "output_type": "stream",
     "text": [
      "Train Loss: 0.0277,  Train Accuracy: 0.9914,  Train F1-Score: 0.9777, \n",
      "Val Loss: 0.9359,  Val Accuracy: 0.8632,  Val F1-Score: 0.5636, \n",
      "\n",
      "\n"
     ]
    },
    {
     "name": "stderr",
     "output_type": "stream",
     "text": [
      "Epoch 584: 100%|██████████| 23/23 [00:02<00:00,  8.40it/s]\n"
     ]
    },
    {
     "name": "stdout",
     "output_type": "stream",
     "text": [
      "Train Loss: 0.0296,  Train Accuracy: 0.9903,  Train F1-Score: 0.9751, \n",
      "Val Loss: 0.8724,  Val Accuracy: 0.8618,  Val F1-Score: 0.5821, \n",
      "\n",
      "\n"
     ]
    },
    {
     "name": "stderr",
     "output_type": "stream",
     "text": [
      "Epoch 585: 100%|██████████| 23/23 [00:02<00:00,  8.38it/s]\n"
     ]
    },
    {
     "name": "stdout",
     "output_type": "stream",
     "text": [
      "Train Loss: 0.0311,  Train Accuracy: 0.9891,  Train F1-Score: 0.9719, \n",
      "Val Loss: 0.8753,  Val Accuracy: 0.8689,  Val F1-Score: 0.5634, \n",
      "\n",
      "\n"
     ]
    },
    {
     "name": "stderr",
     "output_type": "stream",
     "text": [
      "Epoch 586: 100%|██████████| 23/23 [00:02<00:00,  8.39it/s]\n"
     ]
    },
    {
     "name": "stdout",
     "output_type": "stream",
     "text": [
      "Train Loss: 0.0222,  Train Accuracy: 0.9928,  Train F1-Score: 0.9814, \n",
      "Val Loss: 0.8949,  Val Accuracy: 0.8580,  Val F1-Score: 0.5541, \n",
      "\n",
      "\n"
     ]
    },
    {
     "name": "stderr",
     "output_type": "stream",
     "text": [
      "Epoch 587: 100%|██████████| 23/23 [00:02<00:00,  8.39it/s]\n"
     ]
    },
    {
     "name": "stdout",
     "output_type": "stream",
     "text": [
      "Train Loss: 0.0207,  Train Accuracy: 0.9925,  Train F1-Score: 0.9809, \n",
      "Val Loss: 0.8928,  Val Accuracy: 0.8675,  Val F1-Score: 0.5721, \n",
      "\n",
      "\n"
     ]
    },
    {
     "name": "stderr",
     "output_type": "stream",
     "text": [
      "Epoch 588: 100%|██████████| 23/23 [00:02<00:00,  8.37it/s]\n"
     ]
    },
    {
     "name": "stdout",
     "output_type": "stream",
     "text": [
      "Train Loss: 0.0284,  Train Accuracy: 0.9911,  Train F1-Score: 0.9765, \n",
      "Val Loss: 0.8254,  Val Accuracy: 0.8611,  Val F1-Score: 0.5661, \n",
      "\n",
      "\n"
     ]
    },
    {
     "name": "stderr",
     "output_type": "stream",
     "text": [
      "Epoch 589: 100%|██████████| 23/23 [00:02<00:00,  8.36it/s]\n"
     ]
    },
    {
     "name": "stdout",
     "output_type": "stream",
     "text": [
      "Train Loss: 0.0276,  Train Accuracy: 0.9911,  Train F1-Score: 0.9774, \n",
      "Val Loss: 0.8950,  Val Accuracy: 0.8762,  Val F1-Score: 0.5728, \n",
      "\n",
      "\n"
     ]
    },
    {
     "name": "stderr",
     "output_type": "stream",
     "text": [
      "Epoch 590: 100%|██████████| 23/23 [00:02<00:00,  8.28it/s]\n"
     ]
    },
    {
     "name": "stdout",
     "output_type": "stream",
     "text": [
      "Train Loss: 0.0317,  Train Accuracy: 0.9901,  Train F1-Score: 0.9746, \n",
      "Val Loss: 0.8874,  Val Accuracy: 0.8531,  Val F1-Score: 0.5606, \n",
      "\n",
      "\n"
     ]
    },
    {
     "name": "stderr",
     "output_type": "stream",
     "text": [
      "Epoch 591: 100%|██████████| 23/23 [00:02<00:00,  8.27it/s]\n"
     ]
    },
    {
     "name": "stdout",
     "output_type": "stream",
     "text": [
      "Train Loss: 0.0236,  Train Accuracy: 0.9926,  Train F1-Score: 0.9808, \n",
      "Val Loss: 0.8288,  Val Accuracy: 0.8806,  Val F1-Score: 0.5941, \n",
      "\n",
      "\n"
     ]
    },
    {
     "name": "stderr",
     "output_type": "stream",
     "text": [
      "Epoch 592: 100%|██████████| 23/23 [00:02<00:00,  8.25it/s]\n"
     ]
    },
    {
     "name": "stdout",
     "output_type": "stream",
     "text": [
      "Train Loss: 0.0201,  Train Accuracy: 0.9926,  Train F1-Score: 0.9808, \n",
      "Val Loss: 0.9160,  Val Accuracy: 0.8685,  Val F1-Score: 0.5497, \n",
      "\n",
      "\n"
     ]
    },
    {
     "name": "stderr",
     "output_type": "stream",
     "text": [
      "Epoch 593: 100%|██████████| 23/23 [00:02<00:00,  8.23it/s]\n"
     ]
    },
    {
     "name": "stdout",
     "output_type": "stream",
     "text": [
      "Train Loss: 0.0179,  Train Accuracy: 0.9941,  Train F1-Score: 0.9845, \n",
      "Val Loss: 0.8442,  Val Accuracy: 0.8660,  Val F1-Score: 0.5872, \n",
      "\n",
      "\n"
     ]
    },
    {
     "name": "stderr",
     "output_type": "stream",
     "text": [
      "Epoch 594: 100%|██████████| 23/23 [00:02<00:00,  8.27it/s]\n"
     ]
    },
    {
     "name": "stdout",
     "output_type": "stream",
     "text": [
      "Train Loss: 0.0227,  Train Accuracy: 0.9927,  Train F1-Score: 0.9814, \n",
      "Val Loss: 0.8725,  Val Accuracy: 0.8647,  Val F1-Score: 0.5783, \n",
      "\n",
      "\n"
     ]
    },
    {
     "name": "stderr",
     "output_type": "stream",
     "text": [
      "Epoch 595: 100%|██████████| 23/23 [00:02<00:00,  8.26it/s]\n"
     ]
    },
    {
     "name": "stdout",
     "output_type": "stream",
     "text": [
      "Train Loss: 0.0251,  Train Accuracy: 0.9924,  Train F1-Score: 0.9807, \n",
      "Val Loss: 1.0098,  Val Accuracy: 0.8737,  Val F1-Score: 0.5807, \n",
      "\n",
      "\n"
     ]
    },
    {
     "name": "stderr",
     "output_type": "stream",
     "text": [
      "Epoch 596: 100%|██████████| 23/23 [00:02<00:00,  8.29it/s]\n"
     ]
    },
    {
     "name": "stdout",
     "output_type": "stream",
     "text": [
      "Train Loss: 0.0222,  Train Accuracy: 0.9926,  Train F1-Score: 0.9810, \n",
      "Val Loss: 0.9325,  Val Accuracy: 0.8739,  Val F1-Score: 0.5821, \n",
      "\n",
      "\n"
     ]
    },
    {
     "name": "stderr",
     "output_type": "stream",
     "text": [
      "Epoch 597: 100%|██████████| 23/23 [00:02<00:00,  8.34it/s]\n"
     ]
    },
    {
     "name": "stdout",
     "output_type": "stream",
     "text": [
      "Train Loss: 0.0178,  Train Accuracy: 0.9941,  Train F1-Score: 0.9849, \n",
      "Val Loss: 0.9453,  Val Accuracy: 0.8768,  Val F1-Score: 0.5736, \n",
      "\n",
      "\n"
     ]
    },
    {
     "name": "stderr",
     "output_type": "stream",
     "text": [
      "Epoch 598: 100%|██████████| 23/23 [00:02<00:00,  8.31it/s]\n"
     ]
    },
    {
     "name": "stdout",
     "output_type": "stream",
     "text": [
      "Train Loss: 0.0185,  Train Accuracy: 0.9938,  Train F1-Score: 0.9837, \n",
      "Val Loss: 0.9546,  Val Accuracy: 0.8670,  Val F1-Score: 0.5686, \n",
      "\n",
      "\n"
     ]
    },
    {
     "name": "stderr",
     "output_type": "stream",
     "text": [
      "Epoch 599: 100%|██████████| 23/23 [00:02<00:00,  8.37it/s]\n"
     ]
    },
    {
     "name": "stdout",
     "output_type": "stream",
     "text": [
      "Train Loss: 0.0152,  Train Accuracy: 0.9952,  Train F1-Score: 0.9878, \n",
      "Val Loss: 0.9491,  Val Accuracy: 0.8658,  Val F1-Score: 0.5754, \n",
      "\n",
      "\n"
     ]
    },
    {
     "name": "stderr",
     "output_type": "stream",
     "text": [
      "Epoch 600: 100%|██████████| 23/23 [00:02<00:00,  8.38it/s]\n"
     ]
    },
    {
     "name": "stdout",
     "output_type": "stream",
     "text": [
      "Train Loss: 0.0180,  Train Accuracy: 0.9940,  Train F1-Score: 0.9846, \n",
      "Val Loss: 0.9386,  Val Accuracy: 0.8672,  Val F1-Score: 0.5582, \n",
      "\n",
      "\n"
     ]
    },
    {
     "name": "stderr",
     "output_type": "stream",
     "text": [
      "Epoch 601: 100%|██████████| 23/23 [00:02<00:00,  8.40it/s]\n"
     ]
    },
    {
     "name": "stdout",
     "output_type": "stream",
     "text": [
      "Train Loss: 0.0141,  Train Accuracy: 0.9956,  Train F1-Score: 0.9889, \n",
      "Val Loss: 0.9799,  Val Accuracy: 0.8702,  Val F1-Score: 0.5732, \n",
      "\n",
      "\n"
     ]
    },
    {
     "name": "stderr",
     "output_type": "stream",
     "text": [
      "Epoch 602: 100%|██████████| 23/23 [00:02<00:00,  8.40it/s]\n"
     ]
    },
    {
     "name": "stdout",
     "output_type": "stream",
     "text": [
      "Train Loss: 0.0180,  Train Accuracy: 0.9939,  Train F1-Score: 0.9839, \n",
      "Val Loss: 0.9325,  Val Accuracy: 0.8664,  Val F1-Score: 0.5821, \n",
      "\n",
      "\n"
     ]
    },
    {
     "name": "stderr",
     "output_type": "stream",
     "text": [
      "Epoch 603: 100%|██████████| 23/23 [00:02<00:00,  8.40it/s]\n"
     ]
    },
    {
     "name": "stdout",
     "output_type": "stream",
     "text": [
      "Train Loss: 0.0164,  Train Accuracy: 0.9946,  Train F1-Score: 0.9862, \n",
      "Val Loss: 0.9657,  Val Accuracy: 0.8716,  Val F1-Score: 0.5632, \n",
      "\n",
      "\n"
     ]
    },
    {
     "name": "stderr",
     "output_type": "stream",
     "text": [
      "Epoch 604: 100%|██████████| 23/23 [00:02<00:00,  8.37it/s]\n"
     ]
    },
    {
     "name": "stdout",
     "output_type": "stream",
     "text": [
      "Train Loss: 0.0246,  Train Accuracy: 0.9925,  Train F1-Score: 0.9808, \n",
      "Val Loss: 0.9552,  Val Accuracy: 0.8653,  Val F1-Score: 0.5588, \n",
      "\n",
      "\n"
     ]
    },
    {
     "name": "stderr",
     "output_type": "stream",
     "text": [
      "Epoch 605: 100%|██████████| 23/23 [00:02<00:00,  8.29it/s]\n"
     ]
    },
    {
     "name": "stdout",
     "output_type": "stream",
     "text": [
      "Train Loss: 0.0170,  Train Accuracy: 0.9949,  Train F1-Score: 0.9868, \n",
      "Val Loss: 0.9319,  Val Accuracy: 0.8757,  Val F1-Score: 0.5721, \n",
      "\n",
      "\n"
     ]
    },
    {
     "name": "stderr",
     "output_type": "stream",
     "text": [
      "Epoch 606: 100%|██████████| 23/23 [00:02<00:00,  8.27it/s]\n"
     ]
    },
    {
     "name": "stdout",
     "output_type": "stream",
     "text": [
      "Train Loss: 0.0284,  Train Accuracy: 0.9904,  Train F1-Score: 0.9757, \n",
      "Val Loss: 0.8775,  Val Accuracy: 0.8581,  Val F1-Score: 0.5578, \n",
      "\n",
      "\n"
     ]
    },
    {
     "name": "stderr",
     "output_type": "stream",
     "text": [
      "Epoch 607: 100%|██████████| 23/23 [00:02<00:00,  8.28it/s]\n"
     ]
    },
    {
     "name": "stdout",
     "output_type": "stream",
     "text": [
      "Train Loss: 0.0280,  Train Accuracy: 0.9905,  Train F1-Score: 0.9757, \n",
      "Val Loss: 0.9051,  Val Accuracy: 0.8738,  Val F1-Score: 0.5837, \n",
      "\n",
      "\n"
     ]
    },
    {
     "name": "stderr",
     "output_type": "stream",
     "text": [
      "Epoch 608: 100%|██████████| 23/23 [00:02<00:00,  8.27it/s]\n"
     ]
    },
    {
     "name": "stdout",
     "output_type": "stream",
     "text": [
      "Train Loss: 0.0198,  Train Accuracy: 0.9933,  Train F1-Score: 0.9826, \n",
      "Val Loss: 0.9005,  Val Accuracy: 0.8701,  Val F1-Score: 0.5611, \n",
      "\n",
      "\n"
     ]
    },
    {
     "name": "stderr",
     "output_type": "stream",
     "text": [
      "Epoch 609: 100%|██████████| 23/23 [00:02<00:00,  8.29it/s]\n"
     ]
    },
    {
     "name": "stdout",
     "output_type": "stream",
     "text": [
      "Train Loss: 0.0235,  Train Accuracy: 0.9921,  Train F1-Score: 0.9790, \n",
      "Val Loss: 0.9389,  Val Accuracy: 0.8783,  Val F1-Score: 0.5847, \n",
      "\n",
      "\n"
     ]
    },
    {
     "name": "stderr",
     "output_type": "stream",
     "text": [
      "Epoch 610: 100%|██████████| 23/23 [00:02<00:00,  8.28it/s]\n"
     ]
    },
    {
     "name": "stdout",
     "output_type": "stream",
     "text": [
      "Train Loss: 0.0297,  Train Accuracy: 0.9893,  Train F1-Score: 0.9722, \n",
      "Val Loss: 0.8980,  Val Accuracy: 0.8706,  Val F1-Score: 0.5770, \n",
      "\n",
      "\n"
     ]
    },
    {
     "name": "stderr",
     "output_type": "stream",
     "text": [
      "Epoch 611: 100%|██████████| 23/23 [00:02<00:00,  8.30it/s]\n"
     ]
    },
    {
     "name": "stdout",
     "output_type": "stream",
     "text": [
      "Train Loss: 0.0222,  Train Accuracy: 0.9926,  Train F1-Score: 0.9807, \n",
      "Val Loss: 0.8758,  Val Accuracy: 0.8678,  Val F1-Score: 0.5968, \n",
      "\n",
      "\n"
     ]
    },
    {
     "name": "stderr",
     "output_type": "stream",
     "text": [
      "Epoch 612: 100%|██████████| 23/23 [00:02<00:00,  8.41it/s]\n"
     ]
    },
    {
     "name": "stdout",
     "output_type": "stream",
     "text": [
      "Train Loss: 0.0503,  Train Accuracy: 0.9845,  Train F1-Score: 0.9605, \n",
      "Val Loss: 0.8319,  Val Accuracy: 0.8643,  Val F1-Score: 0.5910, \n",
      "\n",
      "\n"
     ]
    },
    {
     "name": "stderr",
     "output_type": "stream",
     "text": [
      "Epoch 613: 100%|██████████| 23/23 [00:02<00:00,  8.40it/s]\n"
     ]
    },
    {
     "name": "stdout",
     "output_type": "stream",
     "text": [
      "Train Loss: 0.0656,  Train Accuracy: 0.9812,  Train F1-Score: 0.9500, \n",
      "Val Loss: 0.7257,  Val Accuracy: 0.8783,  Val F1-Score: 0.5717, \n",
      "\n",
      "\n"
     ]
    },
    {
     "name": "stderr",
     "output_type": "stream",
     "text": [
      "Epoch 614: 100%|██████████| 23/23 [00:02<00:00,  8.40it/s]\n"
     ]
    },
    {
     "name": "stdout",
     "output_type": "stream",
     "text": [
      "Train Loss: 0.0462,  Train Accuracy: 0.9842,  Train F1-Score: 0.9586, \n",
      "Val Loss: 0.6576,  Val Accuracy: 0.8580,  Val F1-Score: 0.5757, \n",
      "\n",
      "\n"
     ]
    },
    {
     "name": "stderr",
     "output_type": "stream",
     "text": [
      "Epoch 615: 100%|██████████| 23/23 [00:02<00:00,  8.40it/s]\n"
     ]
    },
    {
     "name": "stdout",
     "output_type": "stream",
     "text": [
      "Train Loss: 0.0450,  Train Accuracy: 0.9862,  Train F1-Score: 0.9644, \n",
      "Val Loss: 0.6949,  Val Accuracy: 0.8515,  Val F1-Score: 0.5432, \n",
      "\n",
      "\n"
     ]
    },
    {
     "name": "stderr",
     "output_type": "stream",
     "text": [
      "Epoch 616: 100%|██████████| 23/23 [00:02<00:00,  8.37it/s]\n"
     ]
    },
    {
     "name": "stdout",
     "output_type": "stream",
     "text": [
      "Train Loss: 0.0283,  Train Accuracy: 0.9912,  Train F1-Score: 0.9770, \n",
      "Val Loss: 0.7654,  Val Accuracy: 0.8616,  Val F1-Score: 0.5671, \n",
      "\n",
      "\n"
     ]
    },
    {
     "name": "stderr",
     "output_type": "stream",
     "text": [
      "Epoch 617: 100%|██████████| 23/23 [00:02<00:00,  7.88it/s]\n"
     ]
    },
    {
     "name": "stdout",
     "output_type": "stream",
     "text": [
      "Train Loss: 0.0217,  Train Accuracy: 0.9927,  Train F1-Score: 0.9811, \n",
      "Val Loss: 0.7523,  Val Accuracy: 0.8755,  Val F1-Score: 0.5844, \n",
      "\n",
      "\n"
     ]
    },
    {
     "name": "stderr",
     "output_type": "stream",
     "text": [
      "Epoch 618: 100%|██████████| 23/23 [00:02<00:00,  8.39it/s]\n"
     ]
    },
    {
     "name": "stdout",
     "output_type": "stream",
     "text": [
      "Train Loss: 0.0224,  Train Accuracy: 0.9932,  Train F1-Score: 0.9828, \n",
      "Val Loss: 0.7804,  Val Accuracy: 0.8743,  Val F1-Score: 0.5737, \n",
      "\n",
      "\n"
     ]
    },
    {
     "name": "stderr",
     "output_type": "stream",
     "text": [
      "Epoch 619: 100%|██████████| 23/23 [00:02<00:00,  8.30it/s]\n"
     ]
    },
    {
     "name": "stdout",
     "output_type": "stream",
     "text": [
      "Train Loss: 0.0302,  Train Accuracy: 0.9905,  Train F1-Score: 0.9741, \n",
      "Val Loss: 0.8040,  Val Accuracy: 0.8727,  Val F1-Score: 0.5638, \n",
      "\n",
      "\n"
     ]
    },
    {
     "name": "stderr",
     "output_type": "stream",
     "text": [
      "Epoch 620: 100%|██████████| 23/23 [00:02<00:00,  8.25it/s]\n"
     ]
    },
    {
     "name": "stdout",
     "output_type": "stream",
     "text": [
      "Train Loss: 0.0239,  Train Accuracy: 0.9922,  Train F1-Score: 0.9796, \n",
      "Val Loss: 0.7224,  Val Accuracy: 0.8534,  Val F1-Score: 0.5782, \n",
      "\n",
      "\n"
     ]
    },
    {
     "name": "stderr",
     "output_type": "stream",
     "text": [
      "Epoch 621: 100%|██████████| 23/23 [00:02<00:00,  8.25it/s]\n"
     ]
    },
    {
     "name": "stdout",
     "output_type": "stream",
     "text": [
      "Train Loss: 0.0190,  Train Accuracy: 0.9952,  Train F1-Score: 0.9876, \n",
      "Val Loss: 0.7400,  Val Accuracy: 0.8765,  Val F1-Score: 0.5974, \n",
      "\n",
      "\n"
     ]
    },
    {
     "name": "stderr",
     "output_type": "stream",
     "text": [
      "Epoch 622: 100%|██████████| 23/23 [00:02<00:00,  8.25it/s]\n"
     ]
    },
    {
     "name": "stdout",
     "output_type": "stream",
     "text": [
      "Train Loss: 0.0165,  Train Accuracy: 0.9943,  Train F1-Score: 0.9849, \n",
      "Val Loss: 0.8047,  Val Accuracy: 0.8726,  Val F1-Score: 0.6033, \n",
      "\n",
      "\n"
     ]
    },
    {
     "name": "stderr",
     "output_type": "stream",
     "text": [
      "Epoch 623: 100%|██████████| 23/23 [00:02<00:00,  8.25it/s]\n"
     ]
    },
    {
     "name": "stdout",
     "output_type": "stream",
     "text": [
      "Train Loss: 0.0155,  Train Accuracy: 0.9951,  Train F1-Score: 0.9870, \n",
      "Val Loss: 0.7740,  Val Accuracy: 0.8709,  Val F1-Score: 0.5804, \n",
      "\n",
      "\n"
     ]
    },
    {
     "name": "stderr",
     "output_type": "stream",
     "text": [
      "Epoch 624: 100%|██████████| 23/23 [00:02<00:00,  8.27it/s]\n"
     ]
    },
    {
     "name": "stdout",
     "output_type": "stream",
     "text": [
      "Train Loss: 0.0146,  Train Accuracy: 0.9951,  Train F1-Score: 0.9873, \n",
      "Val Loss: 0.8365,  Val Accuracy: 0.8689,  Val F1-Score: 0.5819, \n",
      "\n",
      "\n"
     ]
    },
    {
     "name": "stderr",
     "output_type": "stream",
     "text": [
      "Epoch 625: 100%|██████████| 23/23 [00:02<00:00,  8.26it/s]\n"
     ]
    },
    {
     "name": "stdout",
     "output_type": "stream",
     "text": [
      "Train Loss: 0.0163,  Train Accuracy: 0.9946,  Train F1-Score: 0.9861, \n",
      "Val Loss: 0.8450,  Val Accuracy: 0.8754,  Val F1-Score: 0.6036, \n",
      "\n",
      "\n"
     ]
    },
    {
     "name": "stderr",
     "output_type": "stream",
     "text": [
      "Epoch 626: 100%|██████████| 23/23 [00:02<00:00,  8.35it/s]\n"
     ]
    },
    {
     "name": "stdout",
     "output_type": "stream",
     "text": [
      "Train Loss: 0.0226,  Train Accuracy: 0.9937,  Train F1-Score: 0.9834, \n",
      "Val Loss: 0.8338,  Val Accuracy: 0.8506,  Val F1-Score: 0.5797, \n",
      "\n",
      "\n"
     ]
    },
    {
     "name": "stderr",
     "output_type": "stream",
     "text": [
      "Epoch 627: 100%|██████████| 23/23 [00:02<00:00,  8.37it/s]\n"
     ]
    },
    {
     "name": "stdout",
     "output_type": "stream",
     "text": [
      "Train Loss: 0.0169,  Train Accuracy: 0.9942,  Train F1-Score: 0.9851, \n",
      "Val Loss: 0.8059,  Val Accuracy: 0.8667,  Val F1-Score: 0.5675, \n",
      "\n",
      "\n"
     ]
    },
    {
     "name": "stderr",
     "output_type": "stream",
     "text": [
      "Epoch 628: 100%|██████████| 23/23 [00:02<00:00,  8.38it/s]\n"
     ]
    },
    {
     "name": "stdout",
     "output_type": "stream",
     "text": [
      "Train Loss: 0.0157,  Train Accuracy: 0.9948,  Train F1-Score: 0.9866, \n",
      "Val Loss: 0.8543,  Val Accuracy: 0.8675,  Val F1-Score: 0.5635, \n",
      "\n",
      "\n"
     ]
    },
    {
     "name": "stderr",
     "output_type": "stream",
     "text": [
      "Epoch 629: 100%|██████████| 23/23 [00:02<00:00,  8.38it/s]\n"
     ]
    },
    {
     "name": "stdout",
     "output_type": "stream",
     "text": [
      "Train Loss: 0.0148,  Train Accuracy: 0.9954,  Train F1-Score: 0.9881, \n",
      "Val Loss: 0.8471,  Val Accuracy: 0.8691,  Val F1-Score: 0.5765, \n",
      "\n",
      "\n"
     ]
    },
    {
     "name": "stderr",
     "output_type": "stream",
     "text": [
      "Epoch 630: 100%|██████████| 23/23 [00:02<00:00,  8.36it/s]\n"
     ]
    },
    {
     "name": "stdout",
     "output_type": "stream",
     "text": [
      "Train Loss: 0.0155,  Train Accuracy: 0.9947,  Train F1-Score: 0.9862, \n",
      "Val Loss: 0.8199,  Val Accuracy: 0.8674,  Val F1-Score: 0.5645, \n",
      "\n",
      "\n"
     ]
    },
    {
     "name": "stderr",
     "output_type": "stream",
     "text": [
      "Epoch 631: 100%|██████████| 23/23 [00:02<00:00,  8.37it/s]\n"
     ]
    },
    {
     "name": "stdout",
     "output_type": "stream",
     "text": [
      "Train Loss: 0.0204,  Train Accuracy: 0.9938,  Train F1-Score: 0.9839, \n",
      "Val Loss: 0.8762,  Val Accuracy: 0.8719,  Val F1-Score: 0.5871, \n",
      "\n",
      "\n"
     ]
    },
    {
     "name": "stderr",
     "output_type": "stream",
     "text": [
      "Epoch 632: 100%|██████████| 23/23 [00:02<00:00,  8.38it/s]\n"
     ]
    },
    {
     "name": "stdout",
     "output_type": "stream",
     "text": [
      "Train Loss: 0.0137,  Train Accuracy: 0.9953,  Train F1-Score: 0.9882, \n",
      "Val Loss: 0.9032,  Val Accuracy: 0.8708,  Val F1-Score: 0.5801, \n",
      "\n",
      "\n"
     ]
    },
    {
     "name": "stderr",
     "output_type": "stream",
     "text": [
      "Epoch 633: 100%|██████████| 23/23 [00:02<00:00,  8.30it/s]\n"
     ]
    },
    {
     "name": "stdout",
     "output_type": "stream",
     "text": [
      "Train Loss: 0.0091,  Train Accuracy: 0.9973,  Train F1-Score: 0.9929, \n",
      "Val Loss: 0.8796,  Val Accuracy: 0.8692,  Val F1-Score: 0.5620, \n",
      "\n",
      "\n"
     ]
    },
    {
     "name": "stderr",
     "output_type": "stream",
     "text": [
      "Epoch 634: 100%|██████████| 23/23 [00:02<00:00,  8.25it/s]\n"
     ]
    },
    {
     "name": "stdout",
     "output_type": "stream",
     "text": [
      "Train Loss: 0.0114,  Train Accuracy: 0.9963,  Train F1-Score: 0.9908, \n",
      "Val Loss: 0.9341,  Val Accuracy: 0.8722,  Val F1-Score: 0.5843, \n",
      "\n",
      "\n"
     ]
    },
    {
     "name": "stderr",
     "output_type": "stream",
     "text": [
      "Epoch 635: 100%|██████████| 23/23 [00:02<00:00,  8.25it/s]\n"
     ]
    },
    {
     "name": "stdout",
     "output_type": "stream",
     "text": [
      "Train Loss: 0.0147,  Train Accuracy: 0.9955,  Train F1-Score: 0.9881, \n",
      "Val Loss: 0.8588,  Val Accuracy: 0.8759,  Val F1-Score: 0.6116, \n",
      "\n",
      "\n"
     ]
    },
    {
     "name": "stderr",
     "output_type": "stream",
     "text": [
      "Epoch 636: 100%|██████████| 23/23 [00:03<00:00,  7.46it/s]\n"
     ]
    },
    {
     "name": "stdout",
     "output_type": "stream",
     "text": [
      "Train Loss: 0.0145,  Train Accuracy: 0.9954,  Train F1-Score: 0.9881, \n",
      "Val Loss: 0.9002,  Val Accuracy: 0.8698,  Val F1-Score: 0.5831, \n",
      "\n",
      "\n"
     ]
    },
    {
     "name": "stderr",
     "output_type": "stream",
     "text": [
      "Epoch 637: 100%|██████████| 23/23 [00:02<00:00,  8.23it/s]\n"
     ]
    },
    {
     "name": "stdout",
     "output_type": "stream",
     "text": [
      "Train Loss: 0.0103,  Train Accuracy: 0.9967,  Train F1-Score: 0.9914, \n",
      "Val Loss: 0.8713,  Val Accuracy: 0.8757,  Val F1-Score: 0.6089, \n",
      "\n",
      "\n"
     ]
    },
    {
     "name": "stderr",
     "output_type": "stream",
     "text": [
      "Epoch 638: 100%|██████████| 23/23 [00:02<00:00,  8.25it/s]\n"
     ]
    },
    {
     "name": "stdout",
     "output_type": "stream",
     "text": [
      "Train Loss: 0.0134,  Train Accuracy: 0.9959,  Train F1-Score: 0.9897, \n",
      "Val Loss: 1.0145,  Val Accuracy: 0.8674,  Val F1-Score: 0.5454, \n",
      "\n",
      "\n"
     ]
    },
    {
     "name": "stderr",
     "output_type": "stream",
     "text": [
      "Epoch 639: 100%|██████████| 23/23 [00:02<00:00,  8.26it/s]\n"
     ]
    },
    {
     "name": "stdout",
     "output_type": "stream",
     "text": [
      "Train Loss: 0.0117,  Train Accuracy: 0.9957,  Train F1-Score: 0.9886, \n",
      "Val Loss: 0.9167,  Val Accuracy: 0.8702,  Val F1-Score: 0.5942, \n",
      "\n",
      "\n"
     ]
    },
    {
     "name": "stderr",
     "output_type": "stream",
     "text": [
      "Epoch 640: 100%|██████████| 23/23 [00:02<00:00,  8.36it/s]\n"
     ]
    },
    {
     "name": "stdout",
     "output_type": "stream",
     "text": [
      "Train Loss: 0.0235,  Train Accuracy: 0.9937,  Train F1-Score: 0.9834, \n",
      "Val Loss: 0.9358,  Val Accuracy: 0.8684,  Val F1-Score: 0.5687, \n",
      "\n",
      "\n"
     ]
    },
    {
     "name": "stderr",
     "output_type": "stream",
     "text": [
      "Epoch 641: 100%|██████████| 23/23 [00:02<00:00,  8.37it/s]\n"
     ]
    },
    {
     "name": "stdout",
     "output_type": "stream",
     "text": [
      "Train Loss: 0.0187,  Train Accuracy: 0.9943,  Train F1-Score: 0.9856, \n",
      "Val Loss: 0.8597,  Val Accuracy: 0.8665,  Val F1-Score: 0.5830, \n",
      "\n",
      "\n"
     ]
    },
    {
     "name": "stderr",
     "output_type": "stream",
     "text": [
      "Epoch 642: 100%|██████████| 23/23 [00:02<00:00,  8.37it/s]\n"
     ]
    },
    {
     "name": "stdout",
     "output_type": "stream",
     "text": [
      "Train Loss: 0.0152,  Train Accuracy: 0.9950,  Train F1-Score: 0.9867, \n",
      "Val Loss: 0.8366,  Val Accuracy: 0.8770,  Val F1-Score: 0.5833, \n",
      "\n",
      "\n"
     ]
    },
    {
     "name": "stderr",
     "output_type": "stream",
     "text": [
      "Epoch 643: 100%|██████████| 23/23 [00:02<00:00,  8.37it/s]\n"
     ]
    },
    {
     "name": "stdout",
     "output_type": "stream",
     "text": [
      "Train Loss: 0.0130,  Train Accuracy: 0.9962,  Train F1-Score: 0.9904, \n",
      "Val Loss: 0.8438,  Val Accuracy: 0.8662,  Val F1-Score: 0.5839, \n",
      "\n",
      "\n"
     ]
    },
    {
     "name": "stderr",
     "output_type": "stream",
     "text": [
      "Epoch 644: 100%|██████████| 23/23 [00:02<00:00,  8.37it/s]\n"
     ]
    },
    {
     "name": "stdout",
     "output_type": "stream",
     "text": [
      "Train Loss: 0.0145,  Train Accuracy: 0.9949,  Train F1-Score: 0.9868, \n",
      "Val Loss: 0.9230,  Val Accuracy: 0.8647,  Val F1-Score: 0.5762, \n",
      "\n",
      "\n"
     ]
    },
    {
     "name": "stderr",
     "output_type": "stream",
     "text": [
      "Epoch 645: 100%|██████████| 23/23 [00:02<00:00,  8.36it/s]\n"
     ]
    },
    {
     "name": "stdout",
     "output_type": "stream",
     "text": [
      "Train Loss: 0.0115,  Train Accuracy: 0.9964,  Train F1-Score: 0.9902, \n",
      "Val Loss: 0.8930,  Val Accuracy: 0.8735,  Val F1-Score: 0.5808, \n",
      "\n",
      "\n"
     ]
    },
    {
     "name": "stderr",
     "output_type": "stream",
     "text": [
      "Epoch 646: 100%|██████████| 23/23 [00:02<00:00,  8.36it/s]\n"
     ]
    },
    {
     "name": "stdout",
     "output_type": "stream",
     "text": [
      "Train Loss: 0.0133,  Train Accuracy: 0.9959,  Train F1-Score: 0.9895, \n",
      "Val Loss: 0.8661,  Val Accuracy: 0.8763,  Val F1-Score: 0.6038, \n",
      "\n",
      "\n"
     ]
    },
    {
     "name": "stderr",
     "output_type": "stream",
     "text": [
      "Epoch 647: 100%|██████████| 23/23 [00:02<00:00,  8.31it/s]\n"
     ]
    },
    {
     "name": "stdout",
     "output_type": "stream",
     "text": [
      "Train Loss: 0.0136,  Train Accuracy: 0.9956,  Train F1-Score: 0.9886, \n",
      "Val Loss: 0.9285,  Val Accuracy: 0.8697,  Val F1-Score: 0.5928, \n",
      "\n",
      "\n"
     ]
    },
    {
     "name": "stderr",
     "output_type": "stream",
     "text": [
      "Epoch 648: 100%|██████████| 23/23 [00:02<00:00,  8.22it/s]\n"
     ]
    },
    {
     "name": "stdout",
     "output_type": "stream",
     "text": [
      "Train Loss: 0.0174,  Train Accuracy: 0.9943,  Train F1-Score: 0.9855, \n",
      "Val Loss: 0.8810,  Val Accuracy: 0.8673,  Val F1-Score: 0.5653, \n",
      "\n",
      "\n"
     ]
    },
    {
     "name": "stderr",
     "output_type": "stream",
     "text": [
      "Epoch 649: 100%|██████████| 23/23 [00:02<00:00,  8.21it/s]\n"
     ]
    },
    {
     "name": "stdout",
     "output_type": "stream",
     "text": [
      "Train Loss: 0.0176,  Train Accuracy: 0.9949,  Train F1-Score: 0.9865, \n",
      "Val Loss: 0.8792,  Val Accuracy: 0.8704,  Val F1-Score: 0.5860, \n",
      "\n",
      "\n"
     ]
    },
    {
     "name": "stderr",
     "output_type": "stream",
     "text": [
      "Epoch 650: 100%|██████████| 23/23 [00:02<00:00,  8.21it/s]\n"
     ]
    },
    {
     "name": "stdout",
     "output_type": "stream",
     "text": [
      "Train Loss: 0.0126,  Train Accuracy: 0.9965,  Train F1-Score: 0.9910, \n",
      "Val Loss: 0.8508,  Val Accuracy: 0.8736,  Val F1-Score: 0.6027, \n",
      "\n",
      "\n"
     ]
    },
    {
     "name": "stderr",
     "output_type": "stream",
     "text": [
      "Epoch 651: 100%|██████████| 23/23 [00:02<00:00,  8.22it/s]\n"
     ]
    },
    {
     "name": "stdout",
     "output_type": "stream",
     "text": [
      "Train Loss: 0.0146,  Train Accuracy: 0.9953,  Train F1-Score: 0.9878, \n",
      "Val Loss: 0.8889,  Val Accuracy: 0.8692,  Val F1-Score: 0.6011, \n",
      "\n",
      "\n"
     ]
    },
    {
     "name": "stderr",
     "output_type": "stream",
     "text": [
      "Epoch 652: 100%|██████████| 23/23 [00:02<00:00,  8.22it/s]\n"
     ]
    },
    {
     "name": "stdout",
     "output_type": "stream",
     "text": [
      "Train Loss: 0.0148,  Train Accuracy: 0.9952,  Train F1-Score: 0.9877, \n",
      "Val Loss: 0.9445,  Val Accuracy: 0.8656,  Val F1-Score: 0.5888, \n",
      "\n",
      "\n"
     ]
    },
    {
     "name": "stderr",
     "output_type": "stream",
     "text": [
      "Epoch 653: 100%|██████████| 23/23 [00:02<00:00,  8.25it/s]\n"
     ]
    },
    {
     "name": "stdout",
     "output_type": "stream",
     "text": [
      "Train Loss: 0.0125,  Train Accuracy: 0.9959,  Train F1-Score: 0.9896, \n",
      "Val Loss: 0.8847,  Val Accuracy: 0.8732,  Val F1-Score: 0.6011, \n",
      "\n",
      "\n"
     ]
    },
    {
     "name": "stderr",
     "output_type": "stream",
     "text": [
      "Epoch 654: 100%|██████████| 23/23 [00:02<00:00,  8.34it/s]\n"
     ]
    },
    {
     "name": "stdout",
     "output_type": "stream",
     "text": [
      "Train Loss: 0.0129,  Train Accuracy: 0.9955,  Train F1-Score: 0.9883, \n",
      "Val Loss: 0.9161,  Val Accuracy: 0.8744,  Val F1-Score: 0.5963, \n",
      "\n",
      "\n"
     ]
    },
    {
     "name": "stderr",
     "output_type": "stream",
     "text": [
      "Epoch 655: 100%|██████████| 23/23 [00:02<00:00,  7.70it/s]\n"
     ]
    },
    {
     "name": "stdout",
     "output_type": "stream",
     "text": [
      "Train Loss: 0.0177,  Train Accuracy: 0.9947,  Train F1-Score: 0.9861, \n",
      "Val Loss: 0.8772,  Val Accuracy: 0.8768,  Val F1-Score: 0.6015, \n",
      "\n",
      "\n"
     ]
    },
    {
     "name": "stderr",
     "output_type": "stream",
     "text": [
      "Epoch 656: 100%|██████████| 23/23 [00:02<00:00,  8.02it/s]\n"
     ]
    },
    {
     "name": "stdout",
     "output_type": "stream",
     "text": [
      "Train Loss: 0.0130,  Train Accuracy: 0.9957,  Train F1-Score: 0.9889, \n",
      "Val Loss: 0.9153,  Val Accuracy: 0.8788,  Val F1-Score: 0.5978, \n",
      "\n",
      "\n"
     ]
    },
    {
     "name": "stderr",
     "output_type": "stream",
     "text": [
      "Epoch 657: 100%|██████████| 23/23 [00:02<00:00,  8.38it/s]\n"
     ]
    },
    {
     "name": "stdout",
     "output_type": "stream",
     "text": [
      "Train Loss: 0.0149,  Train Accuracy: 0.9958,  Train F1-Score: 0.9893, \n",
      "Val Loss: 0.8445,  Val Accuracy: 0.8876,  Val F1-Score: 0.6155, \n",
      "\n",
      "\n"
     ]
    },
    {
     "name": "stderr",
     "output_type": "stream",
     "text": [
      "Epoch 658: 100%|██████████| 23/23 [00:02<00:00,  8.38it/s]\n"
     ]
    },
    {
     "name": "stdout",
     "output_type": "stream",
     "text": [
      "Train Loss: 0.0171,  Train Accuracy: 0.9945,  Train F1-Score: 0.9862, \n",
      "Val Loss: 0.8787,  Val Accuracy: 0.8724,  Val F1-Score: 0.6034, \n",
      "\n",
      "\n"
     ]
    },
    {
     "name": "stderr",
     "output_type": "stream",
     "text": [
      "Epoch 659: 100%|██████████| 23/23 [00:02<00:00,  8.38it/s]\n"
     ]
    },
    {
     "name": "stdout",
     "output_type": "stream",
     "text": [
      "Train Loss: 0.0129,  Train Accuracy: 0.9955,  Train F1-Score: 0.9885, \n",
      "Val Loss: 0.8653,  Val Accuracy: 0.8780,  Val F1-Score: 0.6120, \n",
      "\n",
      "\n"
     ]
    },
    {
     "name": "stderr",
     "output_type": "stream",
     "text": [
      "Epoch 660: 100%|██████████| 23/23 [00:02<00:00,  8.39it/s]\n"
     ]
    },
    {
     "name": "stdout",
     "output_type": "stream",
     "text": [
      "Train Loss: 0.0145,  Train Accuracy: 0.9955,  Train F1-Score: 0.9880, \n",
      "Val Loss: 0.8462,  Val Accuracy: 0.8773,  Val F1-Score: 0.6049, \n",
      "\n",
      "\n"
     ]
    },
    {
     "name": "stderr",
     "output_type": "stream",
     "text": [
      "Epoch 661: 100%|██████████| 23/23 [00:02<00:00,  8.39it/s]\n"
     ]
    },
    {
     "name": "stdout",
     "output_type": "stream",
     "text": [
      "Train Loss: 0.0147,  Train Accuracy: 0.9947,  Train F1-Score: 0.9861, \n",
      "Val Loss: 0.9283,  Val Accuracy: 0.8590,  Val F1-Score: 0.5860, \n",
      "\n",
      "\n"
     ]
    },
    {
     "name": "stderr",
     "output_type": "stream",
     "text": [
      "Epoch 662: 100%|██████████| 23/23 [00:02<00:00,  8.29it/s]\n"
     ]
    },
    {
     "name": "stdout",
     "output_type": "stream",
     "text": [
      "Train Loss: 0.0377,  Train Accuracy: 0.9884,  Train F1-Score: 0.9697, \n",
      "Val Loss: 0.9246,  Val Accuracy: 0.8520,  Val F1-Score: 0.5752, \n",
      "\n",
      "\n"
     ]
    },
    {
     "name": "stderr",
     "output_type": "stream",
     "text": [
      "Epoch 663: 100%|██████████| 23/23 [00:02<00:00,  8.28it/s]\n"
     ]
    },
    {
     "name": "stdout",
     "output_type": "stream",
     "text": [
      "Train Loss: 0.0284,  Train Accuracy: 0.9911,  Train F1-Score: 0.9775, \n",
      "Val Loss: 0.7914,  Val Accuracy: 0.8735,  Val F1-Score: 0.5960, \n",
      "\n",
      "\n"
     ]
    },
    {
     "name": "stderr",
     "output_type": "stream",
     "text": [
      "Epoch 664: 100%|██████████| 23/23 [00:02<00:00,  8.26it/s]\n"
     ]
    },
    {
     "name": "stdout",
     "output_type": "stream",
     "text": [
      "Train Loss: 0.0266,  Train Accuracy: 0.9914,  Train F1-Score: 0.9777, \n",
      "Val Loss: 0.7743,  Val Accuracy: 0.8736,  Val F1-Score: 0.6051, \n",
      "\n",
      "\n"
     ]
    },
    {
     "name": "stderr",
     "output_type": "stream",
     "text": [
      "Epoch 665: 100%|██████████| 23/23 [00:02<00:00,  8.26it/s]\n"
     ]
    },
    {
     "name": "stdout",
     "output_type": "stream",
     "text": [
      "Train Loss: 0.0180,  Train Accuracy: 0.9938,  Train F1-Score: 0.9839, \n",
      "Val Loss: 0.8011,  Val Accuracy: 0.8741,  Val F1-Score: 0.6050, \n",
      "\n",
      "\n"
     ]
    },
    {
     "name": "stderr",
     "output_type": "stream",
     "text": [
      "Epoch 666: 100%|██████████| 23/23 [00:02<00:00,  8.26it/s]\n"
     ]
    },
    {
     "name": "stdout",
     "output_type": "stream",
     "text": [
      "Train Loss: 0.0139,  Train Accuracy: 0.9951,  Train F1-Score: 0.9874, \n",
      "Val Loss: 0.8475,  Val Accuracy: 0.8751,  Val F1-Score: 0.5905, \n",
      "\n",
      "\n"
     ]
    },
    {
     "name": "stderr",
     "output_type": "stream",
     "text": [
      "Epoch 667: 100%|██████████| 23/23 [00:02<00:00,  8.27it/s]\n"
     ]
    },
    {
     "name": "stdout",
     "output_type": "stream",
     "text": [
      "Train Loss: 0.0118,  Train Accuracy: 0.9963,  Train F1-Score: 0.9903, \n",
      "Val Loss: 0.8932,  Val Accuracy: 0.8640,  Val F1-Score: 0.6028, \n",
      "\n",
      "\n"
     ]
    },
    {
     "name": "stderr",
     "output_type": "stream",
     "text": [
      "Epoch 668: 100%|██████████| 23/23 [00:02<00:00,  8.30it/s]\n"
     ]
    },
    {
     "name": "stdout",
     "output_type": "stream",
     "text": [
      "Train Loss: 0.0139,  Train Accuracy: 0.9957,  Train F1-Score: 0.9890, \n",
      "Val Loss: 0.8250,  Val Accuracy: 0.8644,  Val F1-Score: 0.5663, \n",
      "\n",
      "\n"
     ]
    },
    {
     "name": "stderr",
     "output_type": "stream",
     "text": [
      "Epoch 669: 100%|██████████| 23/23 [00:02<00:00,  8.39it/s]\n"
     ]
    },
    {
     "name": "stdout",
     "output_type": "stream",
     "text": [
      "Train Loss: 0.0145,  Train Accuracy: 0.9954,  Train F1-Score: 0.9882, \n",
      "Val Loss: 0.9075,  Val Accuracy: 0.8630,  Val F1-Score: 0.5728, \n",
      "\n",
      "\n"
     ]
    },
    {
     "name": "stderr",
     "output_type": "stream",
     "text": [
      "Epoch 670: 100%|██████████| 23/23 [00:02<00:00,  8.38it/s]\n"
     ]
    },
    {
     "name": "stdout",
     "output_type": "stream",
     "text": [
      "Train Loss: 0.0151,  Train Accuracy: 0.9948,  Train F1-Score: 0.9867, \n",
      "Val Loss: 0.8435,  Val Accuracy: 0.8757,  Val F1-Score: 0.5884, \n",
      "\n",
      "\n"
     ]
    },
    {
     "name": "stderr",
     "output_type": "stream",
     "text": [
      "Epoch 671: 100%|██████████| 23/23 [00:02<00:00,  8.39it/s]\n"
     ]
    },
    {
     "name": "stdout",
     "output_type": "stream",
     "text": [
      "Train Loss: 0.0119,  Train Accuracy: 0.9962,  Train F1-Score: 0.9900, \n",
      "Val Loss: 0.8647,  Val Accuracy: 0.8692,  Val F1-Score: 0.5921, \n",
      "\n",
      "\n"
     ]
    },
    {
     "name": "stderr",
     "output_type": "stream",
     "text": [
      "Epoch 672: 100%|██████████| 23/23 [00:02<00:00,  8.39it/s]\n"
     ]
    },
    {
     "name": "stdout",
     "output_type": "stream",
     "text": [
      "Train Loss: 0.0143,  Train Accuracy: 0.9950,  Train F1-Score: 0.9865, \n",
      "Val Loss: 0.9342,  Val Accuracy: 0.8812,  Val F1-Score: 0.5839, \n",
      "\n",
      "\n"
     ]
    },
    {
     "name": "stderr",
     "output_type": "stream",
     "text": [
      "Epoch 673: 100%|██████████| 23/23 [00:02<00:00,  8.37it/s]\n"
     ]
    },
    {
     "name": "stdout",
     "output_type": "stream",
     "text": [
      "Train Loss: 0.0137,  Train Accuracy: 0.9955,  Train F1-Score: 0.9881, \n",
      "Val Loss: 0.9079,  Val Accuracy: 0.8712,  Val F1-Score: 0.5693, \n",
      "\n",
      "\n"
     ]
    },
    {
     "name": "stderr",
     "output_type": "stream",
     "text": [
      "Epoch 674: 100%|██████████| 23/23 [00:02<00:00,  8.39it/s]\n"
     ]
    },
    {
     "name": "stdout",
     "output_type": "stream",
     "text": [
      "Train Loss: 0.0175,  Train Accuracy: 0.9938,  Train F1-Score: 0.9832, \n",
      "Val Loss: 0.8402,  Val Accuracy: 0.8677,  Val F1-Score: 0.5729, \n",
      "\n",
      "\n"
     ]
    },
    {
     "name": "stderr",
     "output_type": "stream",
     "text": [
      "Epoch 675: 100%|██████████| 23/23 [00:02<00:00,  8.37it/s]\n"
     ]
    },
    {
     "name": "stdout",
     "output_type": "stream",
     "text": [
      "Train Loss: 0.0156,  Train Accuracy: 0.9952,  Train F1-Score: 0.9876, \n",
      "Val Loss: 0.9052,  Val Accuracy: 0.8625,  Val F1-Score: 0.5934, \n",
      "\n",
      "\n"
     ]
    },
    {
     "name": "stderr",
     "output_type": "stream",
     "text": [
      "Epoch 676: 100%|██████████| 23/23 [00:02<00:00,  8.07it/s]\n"
     ]
    },
    {
     "name": "stdout",
     "output_type": "stream",
     "text": [
      "Train Loss: 0.0125,  Train Accuracy: 0.9962,  Train F1-Score: 0.9905, \n",
      "Val Loss: 0.9112,  Val Accuracy: 0.8693,  Val F1-Score: 0.5651, \n",
      "\n",
      "\n"
     ]
    },
    {
     "name": "stderr",
     "output_type": "stream",
     "text": [
      "Epoch 677: 100%|██████████| 23/23 [00:02<00:00,  8.20it/s]\n"
     ]
    },
    {
     "name": "stdout",
     "output_type": "stream",
     "text": [
      "Train Loss: 0.0114,  Train Accuracy: 0.9964,  Train F1-Score: 0.9909, \n",
      "Val Loss: 0.8752,  Val Accuracy: 0.8758,  Val F1-Score: 0.5751, \n",
      "\n",
      "\n"
     ]
    },
    {
     "name": "stderr",
     "output_type": "stream",
     "text": [
      "Epoch 678: 100%|██████████| 23/23 [00:02<00:00,  8.22it/s]\n"
     ]
    },
    {
     "name": "stdout",
     "output_type": "stream",
     "text": [
      "Train Loss: 0.0106,  Train Accuracy: 0.9969,  Train F1-Score: 0.9920, \n",
      "Val Loss: 0.8753,  Val Accuracy: 0.8744,  Val F1-Score: 0.5906, \n",
      "\n",
      "\n"
     ]
    },
    {
     "name": "stderr",
     "output_type": "stream",
     "text": [
      "Epoch 679: 100%|██████████| 23/23 [00:02<00:00,  8.24it/s]\n"
     ]
    },
    {
     "name": "stdout",
     "output_type": "stream",
     "text": [
      "Train Loss: 0.0104,  Train Accuracy: 0.9972,  Train F1-Score: 0.9927, \n",
      "Val Loss: 0.9033,  Val Accuracy: 0.8658,  Val F1-Score: 0.5659, \n",
      "\n",
      "\n"
     ]
    },
    {
     "name": "stderr",
     "output_type": "stream",
     "text": [
      "Epoch 680: 100%|██████████| 23/23 [00:02<00:00,  8.19it/s]\n"
     ]
    },
    {
     "name": "stdout",
     "output_type": "stream",
     "text": [
      "Train Loss: 0.0108,  Train Accuracy: 0.9961,  Train F1-Score: 0.9898, \n",
      "Val Loss: 0.8811,  Val Accuracy: 0.8783,  Val F1-Score: 0.5986, \n",
      "\n",
      "\n"
     ]
    },
    {
     "name": "stderr",
     "output_type": "stream",
     "text": [
      "Epoch 681: 100%|██████████| 23/23 [00:02<00:00,  8.20it/s]\n"
     ]
    },
    {
     "name": "stdout",
     "output_type": "stream",
     "text": [
      "Train Loss: 0.0111,  Train Accuracy: 0.9964,  Train F1-Score: 0.9906, \n",
      "Val Loss: 1.0093,  Val Accuracy: 0.8700,  Val F1-Score: 0.5694, \n",
      "\n",
      "\n"
     ]
    },
    {
     "name": "stderr",
     "output_type": "stream",
     "text": [
      "Epoch 682: 100%|██████████| 23/23 [00:02<00:00,  8.19it/s]\n"
     ]
    },
    {
     "name": "stdout",
     "output_type": "stream",
     "text": [
      "Train Loss: 0.0155,  Train Accuracy: 0.9948,  Train F1-Score: 0.9870, \n",
      "Val Loss: 1.1582,  Val Accuracy: 0.8684,  Val F1-Score: 0.5106, \n",
      "\n",
      "\n"
     ]
    },
    {
     "name": "stderr",
     "output_type": "stream",
     "text": [
      "Epoch 683: 100%|██████████| 23/23 [00:02<00:00,  8.30it/s]\n"
     ]
    },
    {
     "name": "stdout",
     "output_type": "stream",
     "text": [
      "Train Loss: 0.0314,  Train Accuracy: 0.9898,  Train F1-Score: 0.9730, \n",
      "Val Loss: 0.8883,  Val Accuracy: 0.8831,  Val F1-Score: 0.5977, \n",
      "\n",
      "\n"
     ]
    },
    {
     "name": "stderr",
     "output_type": "stream",
     "text": [
      "Epoch 684: 100%|██████████| 23/23 [00:02<00:00,  8.36it/s]\n"
     ]
    },
    {
     "name": "stdout",
     "output_type": "stream",
     "text": [
      "Train Loss: 0.0329,  Train Accuracy: 0.9889,  Train F1-Score: 0.9720, \n",
      "Val Loss: 0.8305,  Val Accuracy: 0.8668,  Val F1-Score: 0.5574, \n",
      "\n",
      "\n"
     ]
    },
    {
     "name": "stderr",
     "output_type": "stream",
     "text": [
      "Epoch 685: 100%|██████████| 23/23 [00:02<00:00,  8.36it/s]\n"
     ]
    },
    {
     "name": "stdout",
     "output_type": "stream",
     "text": [
      "Train Loss: 0.0226,  Train Accuracy: 0.9924,  Train F1-Score: 0.9805, \n",
      "Val Loss: 0.8462,  Val Accuracy: 0.8713,  Val F1-Score: 0.5701, \n",
      "\n",
      "\n"
     ]
    },
    {
     "name": "stderr",
     "output_type": "stream",
     "text": [
      "Epoch 686: 100%|██████████| 23/23 [00:02<00:00,  8.34it/s]\n"
     ]
    },
    {
     "name": "stdout",
     "output_type": "stream",
     "text": [
      "Train Loss: 0.0157,  Train Accuracy: 0.9947,  Train F1-Score: 0.9865, \n",
      "Val Loss: 0.7783,  Val Accuracy: 0.8698,  Val F1-Score: 0.5841, \n",
      "\n",
      "\n"
     ]
    },
    {
     "name": "stderr",
     "output_type": "stream",
     "text": [
      "Epoch 687: 100%|██████████| 23/23 [00:02<00:00,  8.32it/s]\n"
     ]
    },
    {
     "name": "stdout",
     "output_type": "stream",
     "text": [
      "Train Loss: 0.0133,  Train Accuracy: 0.9963,  Train F1-Score: 0.9903, \n",
      "Val Loss: 0.8990,  Val Accuracy: 0.8704,  Val F1-Score: 0.5441, \n",
      "\n",
      "\n"
     ]
    },
    {
     "name": "stderr",
     "output_type": "stream",
     "text": [
      "Epoch 688: 100%|██████████| 23/23 [00:02<00:00,  8.32it/s]\n"
     ]
    },
    {
     "name": "stdout",
     "output_type": "stream",
     "text": [
      "Train Loss: 0.0142,  Train Accuracy: 0.9953,  Train F1-Score: 0.9876, \n",
      "Val Loss: 0.8900,  Val Accuracy: 0.8682,  Val F1-Score: 0.5889, \n",
      "\n",
      "\n"
     ]
    },
    {
     "name": "stderr",
     "output_type": "stream",
     "text": [
      "Epoch 689: 100%|██████████| 23/23 [00:02<00:00,  8.32it/s]\n"
     ]
    },
    {
     "name": "stdout",
     "output_type": "stream",
     "text": [
      "Train Loss: 0.0176,  Train Accuracy: 0.9941,  Train F1-Score: 0.9844, \n",
      "Val Loss: 0.8915,  Val Accuracy: 0.8768,  Val F1-Score: 0.5894, \n",
      "\n",
      "\n"
     ]
    },
    {
     "name": "stderr",
     "output_type": "stream",
     "text": [
      "Epoch 690: 100%|██████████| 23/23 [00:02<00:00,  8.34it/s]\n"
     ]
    },
    {
     "name": "stdout",
     "output_type": "stream",
     "text": [
      "Train Loss: 0.0232,  Train Accuracy: 0.9923,  Train F1-Score: 0.9798, \n",
      "Val Loss: 0.9006,  Val Accuracy: 0.8845,  Val F1-Score: 0.5732, \n",
      "\n",
      "\n"
     ]
    },
    {
     "name": "stderr",
     "output_type": "stream",
     "text": [
      "Epoch 691: 100%|██████████| 23/23 [00:02<00:00,  8.22it/s]\n"
     ]
    },
    {
     "name": "stdout",
     "output_type": "stream",
     "text": [
      "Train Loss: 0.0311,  Train Accuracy: 0.9896,  Train F1-Score: 0.9725, \n",
      "Val Loss: 0.8557,  Val Accuracy: 0.8653,  Val F1-Score: 0.5724, \n",
      "\n",
      "\n"
     ]
    },
    {
     "name": "stderr",
     "output_type": "stream",
     "text": [
      "Epoch 692: 100%|██████████| 23/23 [00:02<00:00,  8.20it/s]\n"
     ]
    },
    {
     "name": "stdout",
     "output_type": "stream",
     "text": [
      "Train Loss: 0.0386,  Train Accuracy: 0.9867,  Train F1-Score: 0.9662, \n",
      "Val Loss: 0.7324,  Val Accuracy: 0.8814,  Val F1-Score: 0.6166, \n",
      "\n",
      "\n"
     ]
    },
    {
     "name": "stderr",
     "output_type": "stream",
     "text": [
      "Epoch 693: 100%|██████████| 23/23 [00:02<00:00,  8.24it/s]\n"
     ]
    },
    {
     "name": "stdout",
     "output_type": "stream",
     "text": [
      "Train Loss: 0.0311,  Train Accuracy: 0.9903,  Train F1-Score: 0.9754, \n",
      "Val Loss: 0.7322,  Val Accuracy: 0.8699,  Val F1-Score: 0.5741, \n",
      "\n",
      "\n"
     ]
    },
    {
     "name": "stderr",
     "output_type": "stream",
     "text": [
      "Epoch 694: 100%|██████████| 23/23 [00:02<00:00,  8.18it/s]\n"
     ]
    },
    {
     "name": "stdout",
     "output_type": "stream",
     "text": [
      "Train Loss: 0.0184,  Train Accuracy: 0.9939,  Train F1-Score: 0.9846, \n",
      "Val Loss: 0.8035,  Val Accuracy: 0.8832,  Val F1-Score: 0.5907, \n",
      "\n",
      "\n"
     ]
    },
    {
     "name": "stderr",
     "output_type": "stream",
     "text": [
      "Epoch 695: 100%|██████████| 23/23 [00:02<00:00,  7.88it/s]\n"
     ]
    },
    {
     "name": "stdout",
     "output_type": "stream",
     "text": [
      "Train Loss: 0.0109,  Train Accuracy: 0.9971,  Train F1-Score: 0.9924, \n",
      "Val Loss: 0.8008,  Val Accuracy: 0.8846,  Val F1-Score: 0.6238, \n",
      "\n",
      "\n"
     ]
    },
    {
     "name": "stderr",
     "output_type": "stream",
     "text": [
      "Epoch 696: 100%|██████████| 23/23 [00:02<00:00,  8.23it/s]\n"
     ]
    },
    {
     "name": "stdout",
     "output_type": "stream",
     "text": [
      "Train Loss: 0.0164,  Train Accuracy: 0.9942,  Train F1-Score: 0.9846, \n",
      "Val Loss: 0.8109,  Val Accuracy: 0.8752,  Val F1-Score: 0.5885, \n",
      "\n",
      "\n"
     ]
    },
    {
     "name": "stderr",
     "output_type": "stream",
     "text": [
      "Epoch 697: 100%|██████████| 23/23 [00:02<00:00,  8.26it/s]\n"
     ]
    },
    {
     "name": "stdout",
     "output_type": "stream",
     "text": [
      "Train Loss: 0.0118,  Train Accuracy: 0.9960,  Train F1-Score: 0.9899, \n",
      "Val Loss: 0.8859,  Val Accuracy: 0.8780,  Val F1-Score: 0.5751, \n",
      "\n",
      "\n"
     ]
    },
    {
     "name": "stderr",
     "output_type": "stream",
     "text": [
      "Epoch 698: 100%|██████████| 23/23 [00:02<00:00,  8.34it/s]\n"
     ]
    },
    {
     "name": "stdout",
     "output_type": "stream",
     "text": [
      "Train Loss: 0.0136,  Train Accuracy: 0.9953,  Train F1-Score: 0.9879, \n",
      "Val Loss: 0.7727,  Val Accuracy: 0.8832,  Val F1-Score: 0.6066, \n",
      "\n",
      "\n"
     ]
    },
    {
     "name": "stderr",
     "output_type": "stream",
     "text": [
      "Epoch 699: 100%|██████████| 23/23 [00:02<00:00,  8.36it/s]\n"
     ]
    },
    {
     "name": "stdout",
     "output_type": "stream",
     "text": [
      "Train Loss: 0.0157,  Train Accuracy: 0.9946,  Train F1-Score: 0.9859, \n",
      "Val Loss: 0.8092,  Val Accuracy: 0.8759,  Val F1-Score: 0.6099, \n",
      "\n",
      "\n"
     ]
    },
    {
     "name": "stderr",
     "output_type": "stream",
     "text": [
      "Epoch 700: 100%|██████████| 23/23 [00:02<00:00,  8.37it/s]\n"
     ]
    },
    {
     "name": "stdout",
     "output_type": "stream",
     "text": [
      "Train Loss: 0.0101,  Train Accuracy: 0.9971,  Train F1-Score: 0.9925, \n",
      "Val Loss: 0.9220,  Val Accuracy: 0.8784,  Val F1-Score: 0.6096, \n",
      "\n",
      "\n"
     ]
    },
    {
     "name": "stderr",
     "output_type": "stream",
     "text": [
      "Epoch 701: 100%|██████████| 23/23 [00:02<00:00,  8.38it/s]\n"
     ]
    },
    {
     "name": "stdout",
     "output_type": "stream",
     "text": [
      "Train Loss: 0.0102,  Train Accuracy: 0.9963,  Train F1-Score: 0.9905, \n",
      "Val Loss: 0.8324,  Val Accuracy: 0.8716,  Val F1-Score: 0.5735, \n",
      "\n",
      "\n"
     ]
    },
    {
     "name": "stderr",
     "output_type": "stream",
     "text": [
      "Epoch 702: 100%|██████████| 23/23 [00:02<00:00,  8.31it/s]\n"
     ]
    },
    {
     "name": "stdout",
     "output_type": "stream",
     "text": [
      "Train Loss: 0.0147,  Train Accuracy: 0.9955,  Train F1-Score: 0.9881, \n",
      "Val Loss: 0.8594,  Val Accuracy: 0.8668,  Val F1-Score: 0.5770, \n",
      "\n",
      "\n"
     ]
    },
    {
     "name": "stderr",
     "output_type": "stream",
     "text": [
      "Epoch 703: 100%|██████████| 23/23 [00:02<00:00,  8.37it/s]\n"
     ]
    },
    {
     "name": "stdout",
     "output_type": "stream",
     "text": [
      "Train Loss: 0.0186,  Train Accuracy: 0.9949,  Train F1-Score: 0.9868, \n",
      "Val Loss: 0.8824,  Val Accuracy: 0.8756,  Val F1-Score: 0.5739, \n",
      "\n",
      "\n"
     ]
    },
    {
     "name": "stderr",
     "output_type": "stream",
     "text": [
      "Epoch 704: 100%|██████████| 23/23 [00:02<00:00,  8.35it/s]\n"
     ]
    },
    {
     "name": "stdout",
     "output_type": "stream",
     "text": [
      "Train Loss: 0.0161,  Train Accuracy: 0.9946,  Train F1-Score: 0.9861, \n",
      "Val Loss: 0.8460,  Val Accuracy: 0.8728,  Val F1-Score: 0.5813, \n",
      "\n",
      "\n"
     ]
    },
    {
     "name": "stderr",
     "output_type": "stream",
     "text": [
      "Epoch 705: 100%|██████████| 23/23 [00:02<00:00,  8.24it/s]\n"
     ]
    },
    {
     "name": "stdout",
     "output_type": "stream",
     "text": [
      "Train Loss: 0.0121,  Train Accuracy: 0.9963,  Train F1-Score: 0.9907, \n",
      "Val Loss: 0.9619,  Val Accuracy: 0.8671,  Val F1-Score: 0.5649, \n",
      "\n",
      "\n"
     ]
    },
    {
     "name": "stderr",
     "output_type": "stream",
     "text": [
      "Epoch 706: 100%|██████████| 23/23 [00:02<00:00,  8.21it/s]\n"
     ]
    },
    {
     "name": "stdout",
     "output_type": "stream",
     "text": [
      "Train Loss: 0.0172,  Train Accuracy: 0.9947,  Train F1-Score: 0.9862, \n",
      "Val Loss: 0.9462,  Val Accuracy: 0.8748,  Val F1-Score: 0.5808, \n",
      "\n",
      "\n"
     ]
    },
    {
     "name": "stderr",
     "output_type": "stream",
     "text": [
      "Epoch 707: 100%|██████████| 23/23 [00:02<00:00,  8.19it/s]\n"
     ]
    },
    {
     "name": "stdout",
     "output_type": "stream",
     "text": [
      "Train Loss: 0.0129,  Train Accuracy: 0.9961,  Train F1-Score: 0.9901, \n",
      "Val Loss: 0.8899,  Val Accuracy: 0.8632,  Val F1-Score: 0.5343, \n",
      "\n",
      "\n"
     ]
    },
    {
     "name": "stderr",
     "output_type": "stream",
     "text": [
      "Epoch 708: 100%|██████████| 23/23 [00:02<00:00,  8.24it/s]\n"
     ]
    },
    {
     "name": "stdout",
     "output_type": "stream",
     "text": [
      "Train Loss: 0.0090,  Train Accuracy: 0.9971,  Train F1-Score: 0.9925, \n",
      "Val Loss: 0.9524,  Val Accuracy: 0.8700,  Val F1-Score: 0.5762, \n",
      "\n",
      "\n"
     ]
    },
    {
     "name": "stderr",
     "output_type": "stream",
     "text": [
      "Epoch 709: 100%|██████████| 23/23 [00:02<00:00,  8.23it/s]\n"
     ]
    },
    {
     "name": "stdout",
     "output_type": "stream",
     "text": [
      "Train Loss: 0.0096,  Train Accuracy: 0.9968,  Train F1-Score: 0.9916, \n",
      "Val Loss: 0.8860,  Val Accuracy: 0.8715,  Val F1-Score: 0.5662, \n",
      "\n",
      "\n"
     ]
    },
    {
     "name": "stderr",
     "output_type": "stream",
     "text": [
      "Epoch 710: 100%|██████████| 23/23 [00:02<00:00,  8.25it/s]\n"
     ]
    },
    {
     "name": "stdout",
     "output_type": "stream",
     "text": [
      "Train Loss: 0.0088,  Train Accuracy: 0.9977,  Train F1-Score: 0.9941, \n",
      "Val Loss: 0.9219,  Val Accuracy: 0.8687,  Val F1-Score: 0.5791, \n",
      "\n",
      "\n"
     ]
    },
    {
     "name": "stderr",
     "output_type": "stream",
     "text": [
      "Epoch 711: 100%|██████████| 23/23 [00:02<00:00,  8.26it/s]\n"
     ]
    },
    {
     "name": "stdout",
     "output_type": "stream",
     "text": [
      "Train Loss: 0.0080,  Train Accuracy: 0.9978,  Train F1-Score: 0.9940, \n",
      "Val Loss: 0.9025,  Val Accuracy: 0.8719,  Val F1-Score: 0.5754, \n",
      "\n",
      "\n"
     ]
    },
    {
     "name": "stderr",
     "output_type": "stream",
     "text": [
      "Epoch 712: 100%|██████████| 23/23 [00:02<00:00,  8.35it/s]\n"
     ]
    },
    {
     "name": "stdout",
     "output_type": "stream",
     "text": [
      "Train Loss: 0.0103,  Train Accuracy: 0.9973,  Train F1-Score: 0.9926, \n",
      "Val Loss: 0.9765,  Val Accuracy: 0.8658,  Val F1-Score: 0.5674, \n",
      "\n",
      "\n"
     ]
    },
    {
     "name": "stderr",
     "output_type": "stream",
     "text": [
      "Epoch 713: 100%|██████████| 23/23 [00:02<00:00,  8.36it/s]\n"
     ]
    },
    {
     "name": "stdout",
     "output_type": "stream",
     "text": [
      "Train Loss: 0.0135,  Train Accuracy: 0.9955,  Train F1-Score: 0.9885, \n",
      "Val Loss: 1.0049,  Val Accuracy: 0.8795,  Val F1-Score: 0.5747, \n",
      "\n",
      "\n"
     ]
    },
    {
     "name": "stderr",
     "output_type": "stream",
     "text": [
      "Epoch 714: 100%|██████████| 23/23 [00:02<00:00,  8.32it/s]\n"
     ]
    },
    {
     "name": "stdout",
     "output_type": "stream",
     "text": [
      "Train Loss: 0.0112,  Train Accuracy: 0.9968,  Train F1-Score: 0.9917, \n",
      "Val Loss: 0.9084,  Val Accuracy: 0.8763,  Val F1-Score: 0.5988, \n",
      "\n",
      "\n"
     ]
    },
    {
     "name": "stderr",
     "output_type": "stream",
     "text": [
      "Epoch 715: 100%|██████████| 23/23 [00:03<00:00,  7.55it/s]\n"
     ]
    },
    {
     "name": "stdout",
     "output_type": "stream",
     "text": [
      "Train Loss: 0.0096,  Train Accuracy: 0.9966,  Train F1-Score: 0.9912, \n",
      "Val Loss: 0.9790,  Val Accuracy: 0.8639,  Val F1-Score: 0.5518, \n",
      "\n",
      "\n"
     ]
    },
    {
     "name": "stderr",
     "output_type": "stream",
     "text": [
      "Epoch 716: 100%|██████████| 23/23 [00:02<00:00,  8.27it/s]\n"
     ]
    },
    {
     "name": "stdout",
     "output_type": "stream",
     "text": [
      "Train Loss: 0.0112,  Train Accuracy: 0.9962,  Train F1-Score: 0.9901, \n",
      "Val Loss: 0.9809,  Val Accuracy: 0.8742,  Val F1-Score: 0.5680, \n",
      "\n",
      "\n"
     ]
    },
    {
     "name": "stderr",
     "output_type": "stream",
     "text": [
      "Epoch 717: 100%|██████████| 23/23 [00:02<00:00,  8.23it/s]\n"
     ]
    },
    {
     "name": "stdout",
     "output_type": "stream",
     "text": [
      "Train Loss: 0.0085,  Train Accuracy: 0.9972,  Train F1-Score: 0.9927, \n",
      "Val Loss: 0.9182,  Val Accuracy: 0.8687,  Val F1-Score: 0.5825, \n",
      "\n",
      "\n"
     ]
    },
    {
     "name": "stderr",
     "output_type": "stream",
     "text": [
      "Epoch 718: 100%|██████████| 23/23 [00:02<00:00,  8.28it/s]\n"
     ]
    },
    {
     "name": "stdout",
     "output_type": "stream",
     "text": [
      "Train Loss: 0.0078,  Train Accuracy: 0.9970,  Train F1-Score: 0.9924, \n",
      "Val Loss: 0.9902,  Val Accuracy: 0.8677,  Val F1-Score: 0.5568, \n",
      "\n",
      "\n"
     ]
    },
    {
     "name": "stderr",
     "output_type": "stream",
     "text": [
      "Epoch 719: 100%|██████████| 23/23 [00:02<00:00,  8.24it/s]\n"
     ]
    },
    {
     "name": "stdout",
     "output_type": "stream",
     "text": [
      "Train Loss: 0.0077,  Train Accuracy: 0.9975,  Train F1-Score: 0.9936, \n",
      "Val Loss: 0.9608,  Val Accuracy: 0.8724,  Val F1-Score: 0.5913, \n",
      "\n",
      "\n"
     ]
    },
    {
     "name": "stderr",
     "output_type": "stream",
     "text": [
      "Epoch 720: 100%|██████████| 23/23 [00:02<00:00,  8.16it/s]\n"
     ]
    },
    {
     "name": "stdout",
     "output_type": "stream",
     "text": [
      "Train Loss: 0.0059,  Train Accuracy: 0.9981,  Train F1-Score: 0.9953, \n",
      "Val Loss: 1.0007,  Val Accuracy: 0.8742,  Val F1-Score: 0.5908, \n",
      "\n",
      "\n"
     ]
    },
    {
     "name": "stderr",
     "output_type": "stream",
     "text": [
      "Epoch 721: 100%|██████████| 23/23 [00:02<00:00,  8.14it/s]\n"
     ]
    },
    {
     "name": "stdout",
     "output_type": "stream",
     "text": [
      "Train Loss: 0.0086,  Train Accuracy: 0.9966,  Train F1-Score: 0.9912, \n",
      "Val Loss: 1.0390,  Val Accuracy: 0.8546,  Val F1-Score: 0.5659, \n",
      "\n",
      "\n"
     ]
    },
    {
     "name": "stderr",
     "output_type": "stream",
     "text": [
      "Epoch 722: 100%|██████████| 23/23 [00:02<00:00,  8.14it/s]\n"
     ]
    },
    {
     "name": "stdout",
     "output_type": "stream",
     "text": [
      "Train Loss: 0.0078,  Train Accuracy: 0.9976,  Train F1-Score: 0.9937, \n",
      "Val Loss: 0.9986,  Val Accuracy: 0.8768,  Val F1-Score: 0.5894, \n",
      "\n",
      "\n"
     ]
    },
    {
     "name": "stderr",
     "output_type": "stream",
     "text": [
      "Epoch 723: 100%|██████████| 23/23 [00:02<00:00,  8.13it/s]\n"
     ]
    },
    {
     "name": "stdout",
     "output_type": "stream",
     "text": [
      "Train Loss: 0.0081,  Train Accuracy: 0.9976,  Train F1-Score: 0.9938, \n",
      "Val Loss: 1.0139,  Val Accuracy: 0.8689,  Val F1-Score: 0.5585, \n",
      "\n",
      "\n"
     ]
    },
    {
     "name": "stderr",
     "output_type": "stream",
     "text": [
      "Epoch 724: 100%|██████████| 23/23 [00:02<00:00,  8.10it/s]\n"
     ]
    },
    {
     "name": "stdout",
     "output_type": "stream",
     "text": [
      "Train Loss: 0.0074,  Train Accuracy: 0.9975,  Train F1-Score: 0.9935, \n",
      "Val Loss: 1.0203,  Val Accuracy: 0.8722,  Val F1-Score: 0.5864, \n",
      "\n",
      "\n"
     ]
    },
    {
     "name": "stderr",
     "output_type": "stream",
     "text": [
      "Epoch 725: 100%|██████████| 23/23 [00:02<00:00,  8.13it/s]\n"
     ]
    },
    {
     "name": "stdout",
     "output_type": "stream",
     "text": [
      "Train Loss: 0.0103,  Train Accuracy: 0.9965,  Train F1-Score: 0.9912, \n",
      "Val Loss: 0.9780,  Val Accuracy: 0.8691,  Val F1-Score: 0.5756, \n",
      "\n",
      "\n"
     ]
    },
    {
     "name": "stderr",
     "output_type": "stream",
     "text": [
      "Epoch 726: 100%|██████████| 23/23 [00:02<00:00,  8.23it/s]\n"
     ]
    },
    {
     "name": "stdout",
     "output_type": "stream",
     "text": [
      "Train Loss: 0.0085,  Train Accuracy: 0.9971,  Train F1-Score: 0.9926, \n",
      "Val Loss: 1.0197,  Val Accuracy: 0.8696,  Val F1-Score: 0.5944, \n",
      "\n",
      "\n"
     ]
    },
    {
     "name": "stderr",
     "output_type": "stream",
     "text": [
      "Epoch 727: 100%|██████████| 23/23 [00:02<00:00,  8.26it/s]\n"
     ]
    },
    {
     "name": "stdout",
     "output_type": "stream",
     "text": [
      "Train Loss: 0.0097,  Train Accuracy: 0.9973,  Train F1-Score: 0.9930, \n",
      "Val Loss: 0.9963,  Val Accuracy: 0.8735,  Val F1-Score: 0.5864, \n",
      "\n",
      "\n"
     ]
    },
    {
     "name": "stderr",
     "output_type": "stream",
     "text": [
      "Epoch 728: 100%|██████████| 23/23 [00:02<00:00,  8.24it/s]\n"
     ]
    },
    {
     "name": "stdout",
     "output_type": "stream",
     "text": [
      "Train Loss: 0.0143,  Train Accuracy: 0.9956,  Train F1-Score: 0.9880, \n",
      "Val Loss: 1.0339,  Val Accuracy: 0.8716,  Val F1-Score: 0.5824, \n",
      "\n",
      "\n"
     ]
    },
    {
     "name": "stderr",
     "output_type": "stream",
     "text": [
      "Epoch 729: 100%|██████████| 23/23 [00:02<00:00,  8.22it/s]\n"
     ]
    },
    {
     "name": "stdout",
     "output_type": "stream",
     "text": [
      "Train Loss: 0.0104,  Train Accuracy: 0.9965,  Train F1-Score: 0.9911, \n",
      "Val Loss: 1.0633,  Val Accuracy: 0.8747,  Val F1-Score: 0.5823, \n",
      "\n",
      "\n"
     ]
    },
    {
     "name": "stderr",
     "output_type": "stream",
     "text": [
      "Epoch 730: 100%|██████████| 23/23 [00:02<00:00,  8.27it/s]\n"
     ]
    },
    {
     "name": "stdout",
     "output_type": "stream",
     "text": [
      "Train Loss: 0.0113,  Train Accuracy: 0.9962,  Train F1-Score: 0.9903, \n",
      "Val Loss: 0.9729,  Val Accuracy: 0.8782,  Val F1-Score: 0.6018, \n",
      "\n",
      "\n"
     ]
    },
    {
     "name": "stderr",
     "output_type": "stream",
     "text": [
      "Epoch 731: 100%|██████████| 23/23 [00:02<00:00,  8.24it/s]\n"
     ]
    },
    {
     "name": "stdout",
     "output_type": "stream",
     "text": [
      "Train Loss: 0.0100,  Train Accuracy: 0.9968,  Train F1-Score: 0.9917, \n",
      "Val Loss: 0.9611,  Val Accuracy: 0.8879,  Val F1-Score: 0.5943, \n",
      "\n",
      "\n"
     ]
    },
    {
     "name": "stderr",
     "output_type": "stream",
     "text": [
      "Epoch 732: 100%|██████████| 23/23 [00:02<00:00,  8.26it/s]\n"
     ]
    },
    {
     "name": "stdout",
     "output_type": "stream",
     "text": [
      "Train Loss: 0.0084,  Train Accuracy: 0.9972,  Train F1-Score: 0.9926, \n",
      "Val Loss: 0.9633,  Val Accuracy: 0.8762,  Val F1-Score: 0.5877, \n",
      "\n",
      "\n"
     ]
    },
    {
     "name": "stderr",
     "output_type": "stream",
     "text": [
      "Epoch 733: 100%|██████████| 23/23 [00:02<00:00,  8.22it/s]\n"
     ]
    },
    {
     "name": "stdout",
     "output_type": "stream",
     "text": [
      "Train Loss: 0.0096,  Train Accuracy: 0.9968,  Train F1-Score: 0.9915, \n",
      "Val Loss: 0.9201,  Val Accuracy: 0.8692,  Val F1-Score: 0.5942, \n",
      "\n",
      "\n"
     ]
    },
    {
     "name": "stderr",
     "output_type": "stream",
     "text": [
      "Epoch 734: 100%|██████████| 23/23 [00:02<00:00,  8.08it/s]\n"
     ]
    },
    {
     "name": "stdout",
     "output_type": "stream",
     "text": [
      "Train Loss: 0.0135,  Train Accuracy: 0.9958,  Train F1-Score: 0.9896, \n",
      "Val Loss: 0.9990,  Val Accuracy: 0.8674,  Val F1-Score: 0.5679, \n",
      "\n",
      "\n"
     ]
    },
    {
     "name": "stderr",
     "output_type": "stream",
     "text": [
      "Epoch 735: 100%|██████████| 23/23 [00:02<00:00,  8.17it/s]\n"
     ]
    },
    {
     "name": "stdout",
     "output_type": "stream",
     "text": [
      "Train Loss: 0.0147,  Train Accuracy: 0.9953,  Train F1-Score: 0.9880, \n",
      "Val Loss: 0.9671,  Val Accuracy: 0.8771,  Val F1-Score: 0.5577, \n",
      "\n",
      "\n"
     ]
    },
    {
     "name": "stderr",
     "output_type": "stream",
     "text": [
      "Epoch 736: 100%|██████████| 23/23 [00:02<00:00,  8.18it/s]\n"
     ]
    },
    {
     "name": "stdout",
     "output_type": "stream",
     "text": [
      "Train Loss: 0.0153,  Train Accuracy: 0.9951,  Train F1-Score: 0.9875, \n",
      "Val Loss: 0.9262,  Val Accuracy: 0.8634,  Val F1-Score: 0.5774, \n",
      "\n",
      "\n"
     ]
    },
    {
     "name": "stderr",
     "output_type": "stream",
     "text": [
      "Epoch 737: 100%|██████████| 23/23 [00:02<00:00,  8.17it/s]\n"
     ]
    },
    {
     "name": "stdout",
     "output_type": "stream",
     "text": [
      "Train Loss: 0.0137,  Train Accuracy: 0.9951,  Train F1-Score: 0.9869, \n",
      "Val Loss: 0.9725,  Val Accuracy: 0.8740,  Val F1-Score: 0.5366, \n",
      "\n",
      "\n"
     ]
    },
    {
     "name": "stderr",
     "output_type": "stream",
     "text": [
      "Epoch 738: 100%|██████████| 23/23 [00:02<00:00,  8.17it/s]\n"
     ]
    },
    {
     "name": "stdout",
     "output_type": "stream",
     "text": [
      "Train Loss: 0.0160,  Train Accuracy: 0.9935,  Train F1-Score: 0.9831, \n",
      "Val Loss: 0.8914,  Val Accuracy: 0.8699,  Val F1-Score: 0.5787, \n",
      "\n",
      "\n"
     ]
    },
    {
     "name": "stderr",
     "output_type": "stream",
     "text": [
      "Epoch 739: 100%|██████████| 23/23 [00:02<00:00,  8.18it/s]\n"
     ]
    },
    {
     "name": "stdout",
     "output_type": "stream",
     "text": [
      "Train Loss: 0.0223,  Train Accuracy: 0.9927,  Train F1-Score: 0.9807, \n",
      "Val Loss: 0.8554,  Val Accuracy: 0.8632,  Val F1-Score: 0.5730, \n",
      "\n",
      "\n"
     ]
    },
    {
     "name": "stderr",
     "output_type": "stream",
     "text": [
      "Epoch 740: 100%|██████████| 23/23 [00:02<00:00,  8.22it/s]\n"
     ]
    },
    {
     "name": "stdout",
     "output_type": "stream",
     "text": [
      "Train Loss: 0.0210,  Train Accuracy: 0.9940,  Train F1-Score: 0.9849, \n",
      "Val Loss: 0.9232,  Val Accuracy: 0.8756,  Val F1-Score: 0.5640, \n",
      "\n",
      "\n"
     ]
    },
    {
     "name": "stderr",
     "output_type": "stream",
     "text": [
      "Epoch 741: 100%|██████████| 23/23 [00:02<00:00,  8.29it/s]\n"
     ]
    },
    {
     "name": "stdout",
     "output_type": "stream",
     "text": [
      "Train Loss: 0.0153,  Train Accuracy: 0.9944,  Train F1-Score: 0.9848, \n",
      "Val Loss: 0.8438,  Val Accuracy: 0.8719,  Val F1-Score: 0.6051, \n",
      "\n",
      "\n"
     ]
    },
    {
     "name": "stderr",
     "output_type": "stream",
     "text": [
      "Epoch 742: 100%|██████████| 23/23 [00:02<00:00,  8.29it/s]\n"
     ]
    },
    {
     "name": "stdout",
     "output_type": "stream",
     "text": [
      "Train Loss: 0.0204,  Train Accuracy: 0.9933,  Train F1-Score: 0.9820, \n",
      "Val Loss: 0.9282,  Val Accuracy: 0.8581,  Val F1-Score: 0.5405, \n",
      "\n",
      "\n"
     ]
    },
    {
     "name": "stderr",
     "output_type": "stream",
     "text": [
      "Epoch 743: 100%|██████████| 23/23 [00:02<00:00,  8.29it/s]\n"
     ]
    },
    {
     "name": "stdout",
     "output_type": "stream",
     "text": [
      "Train Loss: 0.0321,  Train Accuracy: 0.9900,  Train F1-Score: 0.9737, \n",
      "Val Loss: 0.8219,  Val Accuracy: 0.8642,  Val F1-Score: 0.5563, \n",
      "\n",
      "\n"
     ]
    },
    {
     "name": "stderr",
     "output_type": "stream",
     "text": [
      "Epoch 744: 100%|██████████| 23/23 [00:02<00:00,  8.29it/s]\n"
     ]
    },
    {
     "name": "stdout",
     "output_type": "stream",
     "text": [
      "Train Loss: 0.0194,  Train Accuracy: 0.9930,  Train F1-Score: 0.9815, \n",
      "Val Loss: 0.8041,  Val Accuracy: 0.8760,  Val F1-Score: 0.5893, \n",
      "\n",
      "\n"
     ]
    },
    {
     "name": "stderr",
     "output_type": "stream",
     "text": [
      "Epoch 745: 100%|██████████| 23/23 [00:02<00:00,  8.29it/s]\n"
     ]
    },
    {
     "name": "stdout",
     "output_type": "stream",
     "text": [
      "Train Loss: 0.0215,  Train Accuracy: 0.9927,  Train F1-Score: 0.9816, \n",
      "Val Loss: 0.8690,  Val Accuracy: 0.8614,  Val F1-Score: 0.5734, \n",
      "\n",
      "\n"
     ]
    },
    {
     "name": "stderr",
     "output_type": "stream",
     "text": [
      "Epoch 746: 100%|██████████| 23/23 [00:02<00:00,  8.30it/s]\n"
     ]
    },
    {
     "name": "stdout",
     "output_type": "stream",
     "text": [
      "Train Loss: 0.0181,  Train Accuracy: 0.9939,  Train F1-Score: 0.9837, \n",
      "Val Loss: 0.8944,  Val Accuracy: 0.8656,  Val F1-Score: 0.5609, \n",
      "\n",
      "\n"
     ]
    },
    {
     "name": "stderr",
     "output_type": "stream",
     "text": [
      "Epoch 747: 100%|██████████| 23/23 [00:02<00:00,  8.22it/s]\n"
     ]
    },
    {
     "name": "stdout",
     "output_type": "stream",
     "text": [
      "Train Loss: 0.0152,  Train Accuracy: 0.9950,  Train F1-Score: 0.9874, \n",
      "Val Loss: 0.8430,  Val Accuracy: 0.8751,  Val F1-Score: 0.5838, \n",
      "\n",
      "\n"
     ]
    },
    {
     "name": "stderr",
     "output_type": "stream",
     "text": [
      "Epoch 748: 100%|██████████| 23/23 [00:02<00:00,  8.18it/s]\n"
     ]
    },
    {
     "name": "stdout",
     "output_type": "stream",
     "text": [
      "Train Loss: 0.0123,  Train Accuracy: 0.9963,  Train F1-Score: 0.9900, \n",
      "Val Loss: 0.8621,  Val Accuracy: 0.8692,  Val F1-Score: 0.5668, \n",
      "\n",
      "\n"
     ]
    },
    {
     "name": "stderr",
     "output_type": "stream",
     "text": [
      "Epoch 749: 100%|██████████| 23/23 [00:02<00:00,  8.18it/s]\n"
     ]
    },
    {
     "name": "stdout",
     "output_type": "stream",
     "text": [
      "Train Loss: 0.0123,  Train Accuracy: 0.9965,  Train F1-Score: 0.9910, \n",
      "Val Loss: 0.9628,  Val Accuracy: 0.8596,  Val F1-Score: 0.5562, \n",
      "\n",
      "\n"
     ]
    },
    {
     "name": "stderr",
     "output_type": "stream",
     "text": [
      "Epoch 750: 100%|██████████| 23/23 [00:02<00:00,  8.18it/s]\n"
     ]
    },
    {
     "name": "stdout",
     "output_type": "stream",
     "text": [
      "Train Loss: 0.0086,  Train Accuracy: 0.9968,  Train F1-Score: 0.9916, \n",
      "Val Loss: 0.9422,  Val Accuracy: 0.8805,  Val F1-Score: 0.6003, \n",
      "\n",
      "\n"
     ]
    },
    {
     "name": "stderr",
     "output_type": "stream",
     "text": [
      "Epoch 751: 100%|██████████| 23/23 [00:02<00:00,  8.17it/s]\n"
     ]
    },
    {
     "name": "stdout",
     "output_type": "stream",
     "text": [
      "Train Loss: 0.0100,  Train Accuracy: 0.9972,  Train F1-Score: 0.9927, \n",
      "Val Loss: 0.9129,  Val Accuracy: 0.8794,  Val F1-Score: 0.5968, \n",
      "\n",
      "\n"
     ]
    },
    {
     "name": "stderr",
     "output_type": "stream",
     "text": [
      "Epoch 752: 100%|██████████| 23/23 [00:02<00:00,  8.18it/s]\n"
     ]
    },
    {
     "name": "stdout",
     "output_type": "stream",
     "text": [
      "Train Loss: 0.0070,  Train Accuracy: 0.9979,  Train F1-Score: 0.9948, \n",
      "Val Loss: 0.8639,  Val Accuracy: 0.8782,  Val F1-Score: 0.5985, \n",
      "\n",
      "\n"
     ]
    },
    {
     "name": "stderr",
     "output_type": "stream",
     "text": [
      "Epoch 753: 100%|██████████| 23/23 [00:03<00:00,  7.54it/s]\n"
     ]
    },
    {
     "name": "stdout",
     "output_type": "stream",
     "text": [
      "Train Loss: 0.0110,  Train Accuracy: 0.9966,  Train F1-Score: 0.9912, \n",
      "Val Loss: 0.8956,  Val Accuracy: 0.8805,  Val F1-Score: 0.5827, \n",
      "\n",
      "\n"
     ]
    },
    {
     "name": "stderr",
     "output_type": "stream",
     "text": [
      "Epoch 754: 100%|██████████| 23/23 [00:02<00:00,  8.34it/s]\n"
     ]
    },
    {
     "name": "stdout",
     "output_type": "stream",
     "text": [
      "Train Loss: 0.0097,  Train Accuracy: 0.9970,  Train F1-Score: 0.9923, \n",
      "Val Loss: 0.9100,  Val Accuracy: 0.8798,  Val F1-Score: 0.5874, \n",
      "\n",
      "\n"
     ]
    },
    {
     "name": "stderr",
     "output_type": "stream",
     "text": [
      "Epoch 755: 100%|██████████| 23/23 [00:02<00:00,  8.36it/s]\n"
     ]
    },
    {
     "name": "stdout",
     "output_type": "stream",
     "text": [
      "Train Loss: 0.0072,  Train Accuracy: 0.9977,  Train F1-Score: 0.9941, \n",
      "Val Loss: 0.9222,  Val Accuracy: 0.8698,  Val F1-Score: 0.5662, \n",
      "\n",
      "\n"
     ]
    },
    {
     "name": "stderr",
     "output_type": "stream",
     "text": [
      "Epoch 756: 100%|██████████| 23/23 [00:02<00:00,  8.35it/s]\n"
     ]
    },
    {
     "name": "stdout",
     "output_type": "stream",
     "text": [
      "Train Loss: 0.0090,  Train Accuracy: 0.9971,  Train F1-Score: 0.9926, \n",
      "Val Loss: 0.9124,  Val Accuracy: 0.8649,  Val F1-Score: 0.5570, \n",
      "\n",
      "\n"
     ]
    },
    {
     "name": "stderr",
     "output_type": "stream",
     "text": [
      "Epoch 757: 100%|██████████| 23/23 [00:02<00:00,  8.36it/s]\n"
     ]
    },
    {
     "name": "stdout",
     "output_type": "stream",
     "text": [
      "Train Loss: 0.0076,  Train Accuracy: 0.9979,  Train F1-Score: 0.9946, \n",
      "Val Loss: 0.9530,  Val Accuracy: 0.8683,  Val F1-Score: 0.5745, \n",
      "\n",
      "\n"
     ]
    },
    {
     "name": "stderr",
     "output_type": "stream",
     "text": [
      "Epoch 758: 100%|██████████| 23/23 [00:02<00:00,  8.37it/s]\n"
     ]
    },
    {
     "name": "stdout",
     "output_type": "stream",
     "text": [
      "Train Loss: 0.0073,  Train Accuracy: 0.9978,  Train F1-Score: 0.9946, \n",
      "Val Loss: 0.9032,  Val Accuracy: 0.8721,  Val F1-Score: 0.5949, \n",
      "\n",
      "\n"
     ]
    },
    {
     "name": "stderr",
     "output_type": "stream",
     "text": [
      "Epoch 759: 100%|██████████| 23/23 [00:02<00:00,  8.37it/s]\n"
     ]
    },
    {
     "name": "stdout",
     "output_type": "stream",
     "text": [
      "Train Loss: 0.0077,  Train Accuracy: 0.9978,  Train F1-Score: 0.9945, \n",
      "Val Loss: 0.9231,  Val Accuracy: 0.8686,  Val F1-Score: 0.5742, \n",
      "\n",
      "\n"
     ]
    },
    {
     "name": "stderr",
     "output_type": "stream",
     "text": [
      "Epoch 760: 100%|██████████| 23/23 [00:02<00:00,  8.37it/s]\n"
     ]
    },
    {
     "name": "stdout",
     "output_type": "stream",
     "text": [
      "Train Loss: 0.0064,  Train Accuracy: 0.9980,  Train F1-Score: 0.9948, \n",
      "Val Loss: 0.9692,  Val Accuracy: 0.8825,  Val F1-Score: 0.5477, \n",
      "\n",
      "\n"
     ]
    },
    {
     "name": "stderr",
     "output_type": "stream",
     "text": [
      "Epoch 761: 100%|██████████| 23/23 [00:02<00:00,  8.31it/s]\n"
     ]
    },
    {
     "name": "stdout",
     "output_type": "stream",
     "text": [
      "Train Loss: 0.0112,  Train Accuracy: 0.9965,  Train F1-Score: 0.9911, \n",
      "Val Loss: 1.0616,  Val Accuracy: 0.8837,  Val F1-Score: 0.5711, \n",
      "\n",
      "\n"
     ]
    },
    {
     "name": "stderr",
     "output_type": "stream",
     "text": [
      "Epoch 762: 100%|██████████| 23/23 [00:02<00:00,  8.24it/s]\n"
     ]
    },
    {
     "name": "stdout",
     "output_type": "stream",
     "text": [
      "Train Loss: 0.0133,  Train Accuracy: 0.9959,  Train F1-Score: 0.9895, \n",
      "Val Loss: 0.8610,  Val Accuracy: 0.8764,  Val F1-Score: 0.5838, \n",
      "\n",
      "\n"
     ]
    },
    {
     "name": "stderr",
     "output_type": "stream",
     "text": [
      "Epoch 763: 100%|██████████| 23/23 [00:02<00:00,  8.26it/s]\n"
     ]
    },
    {
     "name": "stdout",
     "output_type": "stream",
     "text": [
      "Train Loss: 0.0097,  Train Accuracy: 0.9970,  Train F1-Score: 0.9923, \n",
      "Val Loss: 0.9502,  Val Accuracy: 0.8723,  Val F1-Score: 0.5839, \n",
      "\n",
      "\n"
     ]
    },
    {
     "name": "stderr",
     "output_type": "stream",
     "text": [
      "Epoch 764: 100%|██████████| 23/23 [00:02<00:00,  8.26it/s]\n"
     ]
    },
    {
     "name": "stdout",
     "output_type": "stream",
     "text": [
      "Train Loss: 0.0087,  Train Accuracy: 0.9967,  Train F1-Score: 0.9916, \n",
      "Val Loss: 1.0462,  Val Accuracy: 0.8731,  Val F1-Score: 0.5651, \n",
      "\n",
      "\n"
     ]
    },
    {
     "name": "stderr",
     "output_type": "stream",
     "text": [
      "Epoch 765: 100%|██████████| 23/23 [00:02<00:00,  8.26it/s]\n"
     ]
    },
    {
     "name": "stdout",
     "output_type": "stream",
     "text": [
      "Train Loss: 0.0105,  Train Accuracy: 0.9971,  Train F1-Score: 0.9926, \n",
      "Val Loss: 1.0033,  Val Accuracy: 0.8695,  Val F1-Score: 0.5806, \n",
      "\n",
      "\n"
     ]
    },
    {
     "name": "stderr",
     "output_type": "stream",
     "text": [
      "Epoch 766: 100%|██████████| 23/23 [00:02<00:00,  8.25it/s]\n"
     ]
    },
    {
     "name": "stdout",
     "output_type": "stream",
     "text": [
      "Train Loss: 0.0117,  Train Accuracy: 0.9957,  Train F1-Score: 0.9889, \n",
      "Val Loss: 1.0738,  Val Accuracy: 0.8561,  Val F1-Score: 0.5182, \n",
      "\n",
      "\n"
     ]
    },
    {
     "name": "stderr",
     "output_type": "stream",
     "text": [
      "Epoch 767: 100%|██████████| 23/23 [00:02<00:00,  8.25it/s]\n"
     ]
    },
    {
     "name": "stdout",
     "output_type": "stream",
     "text": [
      "Train Loss: 0.0165,  Train Accuracy: 0.9941,  Train F1-Score: 0.9845, \n",
      "Val Loss: 1.0646,  Val Accuracy: 0.8623,  Val F1-Score: 0.5550, \n",
      "\n",
      "\n"
     ]
    },
    {
     "name": "stderr",
     "output_type": "stream",
     "text": [
      "Epoch 768: 100%|██████████| 23/23 [00:02<00:00,  8.34it/s]\n"
     ]
    },
    {
     "name": "stdout",
     "output_type": "stream",
     "text": [
      "Train Loss: 0.0134,  Train Accuracy: 0.9959,  Train F1-Score: 0.9890, \n",
      "Val Loss: 0.9527,  Val Accuracy: 0.8776,  Val F1-Score: 0.5917, \n",
      "\n",
      "\n"
     ]
    },
    {
     "name": "stderr",
     "output_type": "stream",
     "text": [
      "Epoch 769: 100%|██████████| 23/23 [00:02<00:00,  8.37it/s]\n"
     ]
    },
    {
     "name": "stdout",
     "output_type": "stream",
     "text": [
      "Train Loss: 0.0135,  Train Accuracy: 0.9958,  Train F1-Score: 0.9889, \n",
      "Val Loss: 0.9429,  Val Accuracy: 0.8761,  Val F1-Score: 0.5724, \n",
      "\n",
      "\n"
     ]
    },
    {
     "name": "stderr",
     "output_type": "stream",
     "text": [
      "Epoch 770: 100%|██████████| 23/23 [00:02<00:00,  8.38it/s]\n"
     ]
    },
    {
     "name": "stdout",
     "output_type": "stream",
     "text": [
      "Train Loss: 0.0125,  Train Accuracy: 0.9962,  Train F1-Score: 0.9901, \n",
      "Val Loss: 1.0105,  Val Accuracy: 0.8667,  Val F1-Score: 0.5434, \n",
      "\n",
      "\n"
     ]
    },
    {
     "name": "stderr",
     "output_type": "stream",
     "text": [
      "Epoch 771: 100%|██████████| 23/23 [00:02<00:00,  8.34it/s]\n"
     ]
    },
    {
     "name": "stdout",
     "output_type": "stream",
     "text": [
      "Train Loss: 0.0114,  Train Accuracy: 0.9961,  Train F1-Score: 0.9900, \n",
      "Val Loss: 0.9916,  Val Accuracy: 0.8620,  Val F1-Score: 0.5650, \n",
      "\n",
      "\n"
     ]
    },
    {
     "name": "stderr",
     "output_type": "stream",
     "text": [
      "Epoch 772: 100%|██████████| 23/23 [00:02<00:00,  8.35it/s]\n"
     ]
    },
    {
     "name": "stdout",
     "output_type": "stream",
     "text": [
      "Train Loss: 0.0233,  Train Accuracy: 0.9938,  Train F1-Score: 0.9824, \n",
      "Val Loss: 1.0245,  Val Accuracy: 0.8686,  Val F1-Score: 0.5458, \n",
      "\n",
      "\n"
     ]
    },
    {
     "name": "stderr",
     "output_type": "stream",
     "text": [
      "Epoch 773: 100%|██████████| 23/23 [00:02<00:00,  8.07it/s]\n"
     ]
    },
    {
     "name": "stdout",
     "output_type": "stream",
     "text": [
      "Train Loss: 0.0191,  Train Accuracy: 0.9930,  Train F1-Score: 0.9813, \n",
      "Val Loss: 0.8083,  Val Accuracy: 0.8720,  Val F1-Score: 0.5832, \n",
      "\n",
      "\n"
     ]
    },
    {
     "name": "stderr",
     "output_type": "stream",
     "text": [
      "Epoch 774: 100%|██████████| 23/23 [00:02<00:00,  8.37it/s]\n"
     ]
    },
    {
     "name": "stdout",
     "output_type": "stream",
     "text": [
      "Train Loss: 0.0140,  Train Accuracy: 0.9954,  Train F1-Score: 0.9882, \n",
      "Val Loss: 0.9467,  Val Accuracy: 0.8765,  Val F1-Score: 0.5860, \n",
      "\n",
      "\n"
     ]
    },
    {
     "name": "stderr",
     "output_type": "stream",
     "text": [
      "Epoch 775: 100%|██████████| 23/23 [00:02<00:00,  8.37it/s]\n"
     ]
    },
    {
     "name": "stdout",
     "output_type": "stream",
     "text": [
      "Train Loss: 0.0127,  Train Accuracy: 0.9960,  Train F1-Score: 0.9893, \n",
      "Val Loss: 0.8422,  Val Accuracy: 0.8769,  Val F1-Score: 0.5858, \n",
      "\n",
      "\n"
     ]
    },
    {
     "name": "stderr",
     "output_type": "stream",
     "text": [
      "Epoch 776: 100%|██████████| 23/23 [00:02<00:00,  8.27it/s]\n"
     ]
    },
    {
     "name": "stdout",
     "output_type": "stream",
     "text": [
      "Train Loss: 0.0143,  Train Accuracy: 0.9951,  Train F1-Score: 0.9876, \n",
      "Val Loss: 0.9539,  Val Accuracy: 0.8757,  Val F1-Score: 0.5751, \n",
      "\n",
      "\n"
     ]
    },
    {
     "name": "stderr",
     "output_type": "stream",
     "text": [
      "Epoch 777: 100%|██████████| 23/23 [00:02<00:00,  8.24it/s]\n"
     ]
    },
    {
     "name": "stdout",
     "output_type": "stream",
     "text": [
      "Train Loss: 0.0113,  Train Accuracy: 0.9965,  Train F1-Score: 0.9910, \n",
      "Val Loss: 0.8785,  Val Accuracy: 0.8685,  Val F1-Score: 0.5944, \n",
      "\n",
      "\n"
     ]
    },
    {
     "name": "stderr",
     "output_type": "stream",
     "text": [
      "Epoch 778: 100%|██████████| 23/23 [00:02<00:00,  8.25it/s]\n"
     ]
    },
    {
     "name": "stdout",
     "output_type": "stream",
     "text": [
      "Train Loss: 0.0142,  Train Accuracy: 0.9955,  Train F1-Score: 0.9883, \n",
      "Val Loss: 0.9231,  Val Accuracy: 0.8695,  Val F1-Score: 0.5830, \n",
      "\n",
      "\n"
     ]
    },
    {
     "name": "stderr",
     "output_type": "stream",
     "text": [
      "Epoch 779: 100%|██████████| 23/23 [00:02<00:00,  8.25it/s]\n"
     ]
    },
    {
     "name": "stdout",
     "output_type": "stream",
     "text": [
      "Train Loss: 0.0114,  Train Accuracy: 0.9962,  Train F1-Score: 0.9901, \n",
      "Val Loss: 0.8647,  Val Accuracy: 0.8737,  Val F1-Score: 0.5797, \n",
      "\n",
      "\n"
     ]
    },
    {
     "name": "stderr",
     "output_type": "stream",
     "text": [
      "Epoch 780: 100%|██████████| 23/23 [00:02<00:00,  8.25it/s]\n"
     ]
    },
    {
     "name": "stdout",
     "output_type": "stream",
     "text": [
      "Train Loss: 0.0122,  Train Accuracy: 0.9959,  Train F1-Score: 0.9896, \n",
      "Val Loss: 0.8545,  Val Accuracy: 0.8698,  Val F1-Score: 0.5920, \n",
      "\n",
      "\n"
     ]
    },
    {
     "name": "stderr",
     "output_type": "stream",
     "text": [
      "Epoch 781: 100%|██████████| 23/23 [00:02<00:00,  8.25it/s]\n"
     ]
    },
    {
     "name": "stdout",
     "output_type": "stream",
     "text": [
      "Train Loss: 0.0120,  Train Accuracy: 0.9960,  Train F1-Score: 0.9898, \n",
      "Val Loss: 0.8971,  Val Accuracy: 0.8588,  Val F1-Score: 0.5722, \n",
      "\n",
      "\n"
     ]
    },
    {
     "name": "stderr",
     "output_type": "stream",
     "text": [
      "Epoch 782: 100%|██████████| 23/23 [00:02<00:00,  8.28it/s]\n"
     ]
    },
    {
     "name": "stdout",
     "output_type": "stream",
     "text": [
      "Train Loss: 0.0115,  Train Accuracy: 0.9963,  Train F1-Score: 0.9906, \n",
      "Val Loss: 0.9339,  Val Accuracy: 0.8708,  Val F1-Score: 0.5855, \n",
      "\n",
      "\n"
     ]
    },
    {
     "name": "stderr",
     "output_type": "stream",
     "text": [
      "Epoch 783: 100%|██████████| 23/23 [00:02<00:00,  8.37it/s]\n"
     ]
    },
    {
     "name": "stdout",
     "output_type": "stream",
     "text": [
      "Train Loss: 0.0096,  Train Accuracy: 0.9968,  Train F1-Score: 0.9919, \n",
      "Val Loss: 0.8972,  Val Accuracy: 0.8629,  Val F1-Score: 0.5835, \n",
      "\n",
      "\n"
     ]
    },
    {
     "name": "stderr",
     "output_type": "stream",
     "text": [
      "Epoch 784: 100%|██████████| 23/23 [00:02<00:00,  8.38it/s]\n"
     ]
    },
    {
     "name": "stdout",
     "output_type": "stream",
     "text": [
      "Train Loss: 0.0090,  Train Accuracy: 0.9972,  Train F1-Score: 0.9928, \n",
      "Val Loss: 1.0254,  Val Accuracy: 0.8751,  Val F1-Score: 0.5744, \n",
      "\n",
      "\n"
     ]
    },
    {
     "name": "stderr",
     "output_type": "stream",
     "text": [
      "Epoch 785: 100%|██████████| 23/23 [00:02<00:00,  8.36it/s]\n"
     ]
    },
    {
     "name": "stdout",
     "output_type": "stream",
     "text": [
      "Train Loss: 0.0110,  Train Accuracy: 0.9963,  Train F1-Score: 0.9904, \n",
      "Val Loss: 0.9202,  Val Accuracy: 0.8629,  Val F1-Score: 0.5682, \n",
      "\n",
      "\n"
     ]
    },
    {
     "name": "stderr",
     "output_type": "stream",
     "text": [
      "Epoch 786: 100%|██████████| 23/23 [00:02<00:00,  8.37it/s]\n"
     ]
    },
    {
     "name": "stdout",
     "output_type": "stream",
     "text": [
      "Train Loss: 0.0066,  Train Accuracy: 0.9979,  Train F1-Score: 0.9945, \n",
      "Val Loss: 0.9577,  Val Accuracy: 0.8650,  Val F1-Score: 0.5724, \n",
      "\n",
      "\n"
     ]
    },
    {
     "name": "stderr",
     "output_type": "stream",
     "text": [
      "Epoch 787: 100%|██████████| 23/23 [00:02<00:00,  8.38it/s]\n"
     ]
    },
    {
     "name": "stdout",
     "output_type": "stream",
     "text": [
      "Train Loss: 0.0090,  Train Accuracy: 0.9971,  Train F1-Score: 0.9921, \n",
      "Val Loss: 0.9214,  Val Accuracy: 0.8633,  Val F1-Score: 0.5837, \n",
      "\n",
      "\n"
     ]
    },
    {
     "name": "stderr",
     "output_type": "stream",
     "text": [
      "Epoch 788: 100%|██████████| 23/23 [00:02<00:00,  8.37it/s]\n"
     ]
    },
    {
     "name": "stdout",
     "output_type": "stream",
     "text": [
      "Train Loss: 0.0081,  Train Accuracy: 0.9975,  Train F1-Score: 0.9937, \n",
      "Val Loss: 0.9223,  Val Accuracy: 0.8700,  Val F1-Score: 0.5813, \n",
      "\n",
      "\n"
     ]
    },
    {
     "name": "stderr",
     "output_type": "stream",
     "text": [
      "Epoch 789: 100%|██████████| 23/23 [00:02<00:00,  8.38it/s]\n"
     ]
    },
    {
     "name": "stdout",
     "output_type": "stream",
     "text": [
      "Train Loss: 0.0088,  Train Accuracy: 0.9971,  Train F1-Score: 0.9929, \n",
      "Val Loss: 0.8990,  Val Accuracy: 0.8783,  Val F1-Score: 0.6080, \n",
      "\n",
      "\n"
     ]
    },
    {
     "name": "stderr",
     "output_type": "stream",
     "text": [
      "Epoch 790: 100%|██████████| 23/23 [00:02<00:00,  8.34it/s]\n"
     ]
    },
    {
     "name": "stdout",
     "output_type": "stream",
     "text": [
      "Train Loss: 0.0135,  Train Accuracy: 0.9959,  Train F1-Score: 0.9893, \n",
      "Val Loss: 0.9366,  Val Accuracy: 0.8652,  Val F1-Score: 0.5845, \n",
      "\n",
      "\n"
     ]
    },
    {
     "name": "stderr",
     "output_type": "stream",
     "text": [
      "Epoch 791: 100%|██████████| 23/23 [00:02<00:00,  8.23it/s]\n"
     ]
    },
    {
     "name": "stdout",
     "output_type": "stream",
     "text": [
      "Train Loss: 0.0106,  Train Accuracy: 0.9962,  Train F1-Score: 0.9901, \n",
      "Val Loss: 0.8800,  Val Accuracy: 0.8677,  Val F1-Score: 0.5811, \n",
      "\n",
      "\n"
     ]
    },
    {
     "name": "stderr",
     "output_type": "stream",
     "text": [
      "Epoch 792: 100%|██████████| 23/23 [00:02<00:00,  8.02it/s]\n"
     ]
    },
    {
     "name": "stdout",
     "output_type": "stream",
     "text": [
      "Train Loss: 0.0115,  Train Accuracy: 0.9961,  Train F1-Score: 0.9902, \n",
      "Val Loss: 0.9718,  Val Accuracy: 0.8725,  Val F1-Score: 0.5864, \n",
      "\n",
      "\n"
     ]
    },
    {
     "name": "stderr",
     "output_type": "stream",
     "text": [
      "Epoch 793: 100%|██████████| 23/23 [00:02<00:00,  8.16it/s]\n"
     ]
    },
    {
     "name": "stdout",
     "output_type": "stream",
     "text": [
      "Train Loss: 0.0070,  Train Accuracy: 0.9976,  Train F1-Score: 0.9937, \n",
      "Val Loss: 0.9478,  Val Accuracy: 0.8780,  Val F1-Score: 0.6038, \n",
      "\n",
      "\n"
     ]
    },
    {
     "name": "stderr",
     "output_type": "stream",
     "text": [
      "Epoch 794: 100%|██████████| 23/23 [00:02<00:00,  8.26it/s]\n"
     ]
    },
    {
     "name": "stdout",
     "output_type": "stream",
     "text": [
      "Train Loss: 0.0140,  Train Accuracy: 0.9959,  Train F1-Score: 0.9896, \n",
      "Val Loss: 0.9790,  Val Accuracy: 0.8674,  Val F1-Score: 0.5628, \n",
      "\n",
      "\n"
     ]
    },
    {
     "name": "stderr",
     "output_type": "stream",
     "text": [
      "Epoch 795: 100%|██████████| 23/23 [00:02<00:00,  8.25it/s]\n"
     ]
    },
    {
     "name": "stdout",
     "output_type": "stream",
     "text": [
      "Train Loss: 0.0092,  Train Accuracy: 0.9970,  Train F1-Score: 0.9920, \n",
      "Val Loss: 0.9511,  Val Accuracy: 0.8607,  Val F1-Score: 0.5825, \n",
      "\n",
      "\n"
     ]
    },
    {
     "name": "stderr",
     "output_type": "stream",
     "text": [
      "Epoch 796: 100%|██████████| 23/23 [00:02<00:00,  8.26it/s]\n"
     ]
    },
    {
     "name": "stdout",
     "output_type": "stream",
     "text": [
      "Train Loss: 0.0063,  Train Accuracy: 0.9977,  Train F1-Score: 0.9939, \n",
      "Val Loss: 0.9672,  Val Accuracy: 0.8699,  Val F1-Score: 0.5738, \n",
      "\n",
      "\n"
     ]
    },
    {
     "name": "stderr",
     "output_type": "stream",
     "text": [
      "Epoch 797: 100%|██████████| 23/23 [00:02<00:00,  8.33it/s]\n"
     ]
    },
    {
     "name": "stdout",
     "output_type": "stream",
     "text": [
      "Train Loss: 0.0082,  Train Accuracy: 0.9978,  Train F1-Score: 0.9942, \n",
      "Val Loss: 0.9267,  Val Accuracy: 0.8626,  Val F1-Score: 0.5863, \n",
      "\n",
      "\n"
     ]
    },
    {
     "name": "stderr",
     "output_type": "stream",
     "text": [
      "Epoch 798: 100%|██████████| 23/23 [00:02<00:00,  8.38it/s]\n"
     ]
    },
    {
     "name": "stdout",
     "output_type": "stream",
     "text": [
      "Train Loss: 0.0097,  Train Accuracy: 0.9970,  Train F1-Score: 0.9923, \n",
      "Val Loss: 1.0233,  Val Accuracy: 0.8650,  Val F1-Score: 0.5362, \n",
      "\n",
      "\n"
     ]
    },
    {
     "name": "stderr",
     "output_type": "stream",
     "text": [
      "Epoch 799: 100%|██████████| 23/23 [00:02<00:00,  8.38it/s]\n"
     ]
    },
    {
     "name": "stdout",
     "output_type": "stream",
     "text": [
      "Train Loss: 0.0050,  Train Accuracy: 0.9984,  Train F1-Score: 0.9958, \n",
      "Val Loss: 0.9225,  Val Accuracy: 0.8606,  Val F1-Score: 0.5647, \n",
      "\n",
      "\n"
     ]
    },
    {
     "name": "stderr",
     "output_type": "stream",
     "text": [
      "Epoch 800: 100%|██████████| 23/23 [00:02<00:00,  8.37it/s]\n"
     ]
    },
    {
     "name": "stdout",
     "output_type": "stream",
     "text": [
      "Train Loss: 0.0058,  Train Accuracy: 0.9980,  Train F1-Score: 0.9950, \n",
      "Val Loss: 0.9768,  Val Accuracy: 0.8617,  Val F1-Score: 0.5421, \n",
      "\n",
      "\n"
     ]
    },
    {
     "name": "stderr",
     "output_type": "stream",
     "text": [
      "Epoch 801: 100%|██████████| 23/23 [00:02<00:00,  8.37it/s]\n"
     ]
    },
    {
     "name": "stdout",
     "output_type": "stream",
     "text": [
      "Train Loss: 0.0062,  Train Accuracy: 0.9979,  Train F1-Score: 0.9946, \n",
      "Val Loss: 1.0166,  Val Accuracy: 0.8700,  Val F1-Score: 0.5644, \n",
      "\n",
      "\n"
     ]
    },
    {
     "name": "stderr",
     "output_type": "stream",
     "text": [
      "Epoch 802: 100%|██████████| 23/23 [00:02<00:00,  8.38it/s]\n"
     ]
    },
    {
     "name": "stdout",
     "output_type": "stream",
     "text": [
      "Train Loss: 0.0051,  Train Accuracy: 0.9984,  Train F1-Score: 0.9959, \n",
      "Val Loss: 1.0008,  Val Accuracy: 0.8667,  Val F1-Score: 0.5691, \n",
      "\n",
      "\n"
     ]
    },
    {
     "name": "stderr",
     "output_type": "stream",
     "text": [
      "Epoch 803: 100%|██████████| 23/23 [00:02<00:00,  8.38it/s]\n"
     ]
    },
    {
     "name": "stdout",
     "output_type": "stream",
     "text": [
      "Train Loss: 0.0039,  Train Accuracy: 0.9989,  Train F1-Score: 0.9972, \n",
      "Val Loss: 0.9867,  Val Accuracy: 0.8638,  Val F1-Score: 0.5757, \n",
      "\n",
      "\n"
     ]
    },
    {
     "name": "stderr",
     "output_type": "stream",
     "text": [
      "Epoch 804: 100%|██████████| 23/23 [00:02<00:00,  8.35it/s]\n"
     ]
    },
    {
     "name": "stdout",
     "output_type": "stream",
     "text": [
      "Train Loss: 0.0063,  Train Accuracy: 0.9977,  Train F1-Score: 0.9939, \n",
      "Val Loss: 1.0584,  Val Accuracy: 0.8716,  Val F1-Score: 0.5652, \n",
      "\n",
      "\n"
     ]
    },
    {
     "name": "stderr",
     "output_type": "stream",
     "text": [
      "Epoch 805: 100%|██████████| 23/23 [00:02<00:00,  8.25it/s]\n"
     ]
    },
    {
     "name": "stdout",
     "output_type": "stream",
     "text": [
      "Train Loss: 0.0056,  Train Accuracy: 0.9980,  Train F1-Score: 0.9950, \n",
      "Val Loss: 1.0492,  Val Accuracy: 0.8706,  Val F1-Score: 0.5867, \n",
      "\n",
      "\n"
     ]
    },
    {
     "name": "stderr",
     "output_type": "stream",
     "text": [
      "Epoch 806: 100%|██████████| 23/23 [00:02<00:00,  8.25it/s]\n"
     ]
    },
    {
     "name": "stdout",
     "output_type": "stream",
     "text": [
      "Train Loss: 0.0066,  Train Accuracy: 0.9980,  Train F1-Score: 0.9947, \n",
      "Val Loss: 1.0025,  Val Accuracy: 0.8561,  Val F1-Score: 0.5773, \n",
      "\n",
      "\n"
     ]
    },
    {
     "name": "stderr",
     "output_type": "stream",
     "text": [
      "Epoch 807: 100%|██████████| 23/23 [00:02<00:00,  8.27it/s]\n"
     ]
    },
    {
     "name": "stdout",
     "output_type": "stream",
     "text": [
      "Train Loss: 0.0052,  Train Accuracy: 0.9980,  Train F1-Score: 0.9948, \n",
      "Val Loss: 0.9786,  Val Accuracy: 0.8823,  Val F1-Score: 0.6120, \n",
      "\n",
      "\n"
     ]
    },
    {
     "name": "stderr",
     "output_type": "stream",
     "text": [
      "Epoch 808: 100%|██████████| 23/23 [00:02<00:00,  8.25it/s]\n"
     ]
    },
    {
     "name": "stdout",
     "output_type": "stream",
     "text": [
      "Train Loss: 0.0067,  Train Accuracy: 0.9978,  Train F1-Score: 0.9944, \n",
      "Val Loss: 1.0892,  Val Accuracy: 0.8792,  Val F1-Score: 0.5960, \n",
      "\n",
      "\n"
     ]
    },
    {
     "name": "stderr",
     "output_type": "stream",
     "text": [
      "Epoch 809: 100%|██████████| 23/23 [00:02<00:00,  8.25it/s]\n"
     ]
    },
    {
     "name": "stdout",
     "output_type": "stream",
     "text": [
      "Train Loss: 0.0095,  Train Accuracy: 0.9971,  Train F1-Score: 0.9929, \n",
      "Val Loss: 0.9789,  Val Accuracy: 0.8673,  Val F1-Score: 0.5774, \n",
      "\n",
      "\n"
     ]
    },
    {
     "name": "stderr",
     "output_type": "stream",
     "text": [
      "Epoch 810: 100%|██████████| 23/23 [00:02<00:00,  8.25it/s]\n"
     ]
    },
    {
     "name": "stdout",
     "output_type": "stream",
     "text": [
      "Train Loss: 0.0074,  Train Accuracy: 0.9974,  Train F1-Score: 0.9932, \n",
      "Val Loss: 0.9720,  Val Accuracy: 0.8699,  Val F1-Score: 0.5773, \n",
      "\n",
      "\n"
     ]
    },
    {
     "name": "stderr",
     "output_type": "stream",
     "text": [
      "Epoch 811: 100%|██████████| 23/23 [00:02<00:00,  8.28it/s]\n"
     ]
    },
    {
     "name": "stdout",
     "output_type": "stream",
     "text": [
      "Train Loss: 0.0079,  Train Accuracy: 0.9977,  Train F1-Score: 0.9941, \n",
      "Val Loss: 0.9303,  Val Accuracy: 0.8689,  Val F1-Score: 0.5965, \n",
      "\n",
      "\n"
     ]
    },
    {
     "name": "stderr",
     "output_type": "stream",
     "text": [
      "Epoch 812: 100%|██████████| 23/23 [00:03<00:00,  7.39it/s]\n"
     ]
    },
    {
     "name": "stdout",
     "output_type": "stream",
     "text": [
      "Train Loss: 0.0103,  Train Accuracy: 0.9964,  Train F1-Score: 0.9910, \n",
      "Val Loss: 0.9910,  Val Accuracy: 0.8712,  Val F1-Score: 0.5874, \n",
      "\n",
      "\n"
     ]
    },
    {
     "name": "stderr",
     "output_type": "stream",
     "text": [
      "Epoch 813: 100%|██████████| 23/23 [00:02<00:00,  8.28it/s]\n"
     ]
    },
    {
     "name": "stdout",
     "output_type": "stream",
     "text": [
      "Train Loss: 0.0105,  Train Accuracy: 0.9968,  Train F1-Score: 0.9920, \n",
      "Val Loss: 0.9148,  Val Accuracy: 0.8740,  Val F1-Score: 0.5817, \n",
      "\n",
      "\n"
     ]
    },
    {
     "name": "stderr",
     "output_type": "stream",
     "text": [
      "Epoch 814: 100%|██████████| 23/23 [00:02<00:00,  8.35it/s]\n"
     ]
    },
    {
     "name": "stdout",
     "output_type": "stream",
     "text": [
      "Train Loss: 0.0091,  Train Accuracy: 0.9969,  Train F1-Score: 0.9921, \n",
      "Val Loss: 0.9215,  Val Accuracy: 0.8821,  Val F1-Score: 0.6144, \n",
      "\n",
      "\n"
     ]
    },
    {
     "name": "stderr",
     "output_type": "stream",
     "text": [
      "Epoch 815: 100%|██████████| 23/23 [00:02<00:00,  8.37it/s]\n"
     ]
    },
    {
     "name": "stdout",
     "output_type": "stream",
     "text": [
      "Train Loss: 0.0083,  Train Accuracy: 0.9978,  Train F1-Score: 0.9945, \n",
      "Val Loss: 1.0082,  Val Accuracy: 0.8751,  Val F1-Score: 0.5844, \n",
      "\n",
      "\n"
     ]
    },
    {
     "name": "stderr",
     "output_type": "stream",
     "text": [
      "Epoch 816: 100%|██████████| 23/23 [00:02<00:00,  8.34it/s]\n"
     ]
    },
    {
     "name": "stdout",
     "output_type": "stream",
     "text": [
      "Train Loss: 0.0102,  Train Accuracy: 0.9969,  Train F1-Score: 0.9920, \n",
      "Val Loss: 0.9657,  Val Accuracy: 0.8733,  Val F1-Score: 0.5843, \n",
      "\n",
      "\n"
     ]
    },
    {
     "name": "stderr",
     "output_type": "stream",
     "text": [
      "Epoch 817: 100%|██████████| 23/23 [00:02<00:00,  8.36it/s]\n"
     ]
    },
    {
     "name": "stdout",
     "output_type": "stream",
     "text": [
      "Train Loss: 0.0095,  Train Accuracy: 0.9967,  Train F1-Score: 0.9913, \n",
      "Val Loss: 1.0394,  Val Accuracy: 0.8784,  Val F1-Score: 0.6058, \n",
      "\n",
      "\n"
     ]
    },
    {
     "name": "stderr",
     "output_type": "stream",
     "text": [
      "Epoch 818: 100%|██████████| 23/23 [00:02<00:00,  8.32it/s]\n"
     ]
    },
    {
     "name": "stdout",
     "output_type": "stream",
     "text": [
      "Train Loss: 0.0081,  Train Accuracy: 0.9975,  Train F1-Score: 0.9933, \n",
      "Val Loss: 1.0392,  Val Accuracy: 0.8705,  Val F1-Score: 0.5931, \n",
      "\n",
      "\n"
     ]
    },
    {
     "name": "stderr",
     "output_type": "stream",
     "text": [
      "Epoch 819: 100%|██████████| 23/23 [00:02<00:00,  8.22it/s]\n"
     ]
    },
    {
     "name": "stdout",
     "output_type": "stream",
     "text": [
      "Train Loss: 0.0077,  Train Accuracy: 0.9974,  Train F1-Score: 0.9934, \n",
      "Val Loss: 1.0010,  Val Accuracy: 0.8681,  Val F1-Score: 0.5804, \n",
      "\n",
      "\n"
     ]
    },
    {
     "name": "stderr",
     "output_type": "stream",
     "text": [
      "Epoch 820: 100%|██████████| 23/23 [00:02<00:00,  8.22it/s]\n"
     ]
    },
    {
     "name": "stdout",
     "output_type": "stream",
     "text": [
      "Train Loss: 0.0105,  Train Accuracy: 0.9966,  Train F1-Score: 0.9912, \n",
      "Val Loss: 0.9800,  Val Accuracy: 0.8676,  Val F1-Score: 0.5989, \n",
      "\n",
      "\n"
     ]
    },
    {
     "name": "stderr",
     "output_type": "stream",
     "text": [
      "Epoch 821: 100%|██████████| 23/23 [00:02<00:00,  8.17it/s]\n"
     ]
    },
    {
     "name": "stdout",
     "output_type": "stream",
     "text": [
      "Train Loss: 0.0133,  Train Accuracy: 0.9958,  Train F1-Score: 0.9896, \n",
      "Val Loss: 0.9627,  Val Accuracy: 0.8741,  Val F1-Score: 0.5914, \n",
      "\n",
      "\n"
     ]
    },
    {
     "name": "stderr",
     "output_type": "stream",
     "text": [
      "Epoch 822: 100%|██████████| 23/23 [00:02<00:00,  8.22it/s]\n"
     ]
    },
    {
     "name": "stdout",
     "output_type": "stream",
     "text": [
      "Train Loss: 0.0078,  Train Accuracy: 0.9974,  Train F1-Score: 0.9935, \n",
      "Val Loss: 0.9966,  Val Accuracy: 0.8654,  Val F1-Score: 0.5878, \n",
      "\n",
      "\n"
     ]
    },
    {
     "name": "stderr",
     "output_type": "stream",
     "text": [
      "Epoch 823: 100%|██████████| 23/23 [00:02<00:00,  8.22it/s]\n"
     ]
    },
    {
     "name": "stdout",
     "output_type": "stream",
     "text": [
      "Train Loss: 0.0089,  Train Accuracy: 0.9977,  Train F1-Score: 0.9941, \n",
      "Val Loss: 0.9856,  Val Accuracy: 0.8705,  Val F1-Score: 0.5847, \n",
      "\n",
      "\n"
     ]
    },
    {
     "name": "stderr",
     "output_type": "stream",
     "text": [
      "Epoch 824: 100%|██████████| 23/23 [00:02<00:00,  8.18it/s]\n"
     ]
    },
    {
     "name": "stdout",
     "output_type": "stream",
     "text": [
      "Train Loss: 0.0065,  Train Accuracy: 0.9979,  Train F1-Score: 0.9944, \n",
      "Val Loss: 0.9820,  Val Accuracy: 0.8763,  Val F1-Score: 0.6009, \n",
      "\n",
      "\n"
     ]
    },
    {
     "name": "stderr",
     "output_type": "stream",
     "text": [
      "Epoch 825: 100%|██████████| 23/23 [00:02<00:00,  8.27it/s]\n"
     ]
    },
    {
     "name": "stdout",
     "output_type": "stream",
     "text": [
      "Train Loss: 0.0080,  Train Accuracy: 0.9970,  Train F1-Score: 0.9924, \n",
      "Val Loss: 0.9714,  Val Accuracy: 0.8693,  Val F1-Score: 0.5876, \n",
      "\n",
      "\n"
     ]
    },
    {
     "name": "stderr",
     "output_type": "stream",
     "text": [
      "Epoch 826: 100%|██████████| 23/23 [00:02<00:00,  8.33it/s]\n"
     ]
    },
    {
     "name": "stdout",
     "output_type": "stream",
     "text": [
      "Train Loss: 0.0095,  Train Accuracy: 0.9971,  Train F1-Score: 0.9927, \n",
      "Val Loss: 1.0287,  Val Accuracy: 0.8688,  Val F1-Score: 0.5798, \n",
      "\n",
      "\n"
     ]
    },
    {
     "name": "stderr",
     "output_type": "stream",
     "text": [
      "Epoch 827: 100%|██████████| 23/23 [00:02<00:00,  8.34it/s]\n"
     ]
    },
    {
     "name": "stdout",
     "output_type": "stream",
     "text": [
      "Train Loss: 0.0106,  Train Accuracy: 0.9970,  Train F1-Score: 0.9922, \n",
      "Val Loss: 1.0228,  Val Accuracy: 0.8727,  Val F1-Score: 0.5665, \n",
      "\n",
      "\n"
     ]
    },
    {
     "name": "stderr",
     "output_type": "stream",
     "text": [
      "Epoch 828: 100%|██████████| 23/23 [00:02<00:00,  8.30it/s]\n"
     ]
    },
    {
     "name": "stdout",
     "output_type": "stream",
     "text": [
      "Train Loss: 0.0130,  Train Accuracy: 0.9957,  Train F1-Score: 0.9891, \n",
      "Val Loss: 1.0493,  Val Accuracy: 0.8755,  Val F1-Score: 0.5595, \n",
      "\n",
      "\n"
     ]
    },
    {
     "name": "stderr",
     "output_type": "stream",
     "text": [
      "Epoch 829: 100%|██████████| 23/23 [00:02<00:00,  8.32it/s]\n"
     ]
    },
    {
     "name": "stdout",
     "output_type": "stream",
     "text": [
      "Train Loss: 0.0099,  Train Accuracy: 0.9968,  Train F1-Score: 0.9918, \n",
      "Val Loss: 1.0034,  Val Accuracy: 0.8664,  Val F1-Score: 0.5735, \n",
      "\n",
      "\n"
     ]
    },
    {
     "name": "stderr",
     "output_type": "stream",
     "text": [
      "Epoch 830: 100%|██████████| 23/23 [00:02<00:00,  8.32it/s]\n"
     ]
    },
    {
     "name": "stdout",
     "output_type": "stream",
     "text": [
      "Train Loss: 0.0076,  Train Accuracy: 0.9974,  Train F1-Score: 0.9932, \n",
      "Val Loss: 0.9648,  Val Accuracy: 0.8620,  Val F1-Score: 0.5622, \n",
      "\n",
      "\n"
     ]
    },
    {
     "name": "stderr",
     "output_type": "stream",
     "text": [
      "Epoch 831: 100%|██████████| 23/23 [00:02<00:00,  8.34it/s]\n"
     ]
    },
    {
     "name": "stdout",
     "output_type": "stream",
     "text": [
      "Train Loss: 0.0080,  Train Accuracy: 0.9974,  Train F1-Score: 0.9933, \n",
      "Val Loss: 1.0178,  Val Accuracy: 0.8752,  Val F1-Score: 0.5853, \n",
      "\n",
      "\n"
     ]
    },
    {
     "name": "stderr",
     "output_type": "stream",
     "text": [
      "Epoch 832: 100%|██████████| 23/23 [00:02<00:00,  8.37it/s]\n"
     ]
    },
    {
     "name": "stdout",
     "output_type": "stream",
     "text": [
      "Train Loss: 0.0047,  Train Accuracy: 0.9985,  Train F1-Score: 0.9962, \n",
      "Val Loss: 1.0454,  Val Accuracy: 0.8594,  Val F1-Score: 0.5804, \n",
      "\n",
      "\n"
     ]
    },
    {
     "name": "stderr",
     "output_type": "stream",
     "text": [
      "Epoch 833: 100%|██████████| 23/23 [00:02<00:00,  8.28it/s]\n"
     ]
    },
    {
     "name": "stdout",
     "output_type": "stream",
     "text": [
      "Train Loss: 0.0056,  Train Accuracy: 0.9979,  Train F1-Score: 0.9947, \n",
      "Val Loss: 1.0280,  Val Accuracy: 0.8648,  Val F1-Score: 0.5829, \n",
      "\n",
      "\n"
     ]
    },
    {
     "name": "stderr",
     "output_type": "stream",
     "text": [
      "Epoch 834: 100%|██████████| 23/23 [00:02<00:00,  8.28it/s]\n"
     ]
    },
    {
     "name": "stdout",
     "output_type": "stream",
     "text": [
      "Train Loss: 0.0070,  Train Accuracy: 0.9972,  Train F1-Score: 0.9930, \n",
      "Val Loss: 1.0598,  Val Accuracy: 0.8674,  Val F1-Score: 0.5827, \n",
      "\n",
      "\n"
     ]
    },
    {
     "name": "stderr",
     "output_type": "stream",
     "text": [
      "Epoch 835: 100%|██████████| 23/23 [00:02<00:00,  8.25it/s]\n"
     ]
    },
    {
     "name": "stdout",
     "output_type": "stream",
     "text": [
      "Train Loss: 0.0080,  Train Accuracy: 0.9974,  Train F1-Score: 0.9931, \n",
      "Val Loss: 0.9748,  Val Accuracy: 0.8808,  Val F1-Score: 0.6034, \n",
      "\n",
      "\n"
     ]
    },
    {
     "name": "stderr",
     "output_type": "stream",
     "text": [
      "Epoch 836: 100%|██████████| 23/23 [00:02<00:00,  8.31it/s]\n"
     ]
    },
    {
     "name": "stdout",
     "output_type": "stream",
     "text": [
      "Train Loss: 0.0093,  Train Accuracy: 0.9970,  Train F1-Score: 0.9922, \n",
      "Val Loss: 0.9919,  Val Accuracy: 0.8727,  Val F1-Score: 0.6078, \n",
      "\n",
      "\n"
     ]
    },
    {
     "name": "stderr",
     "output_type": "stream",
     "text": [
      "Epoch 837: 100%|██████████| 23/23 [00:02<00:00,  8.27it/s]\n"
     ]
    },
    {
     "name": "stdout",
     "output_type": "stream",
     "text": [
      "Train Loss: 0.0070,  Train Accuracy: 0.9979,  Train F1-Score: 0.9945, \n",
      "Val Loss: 1.0004,  Val Accuracy: 0.8783,  Val F1-Score: 0.5599, \n",
      "\n",
      "\n"
     ]
    },
    {
     "name": "stderr",
     "output_type": "stream",
     "text": [
      "Epoch 838: 100%|██████████| 23/23 [00:02<00:00,  8.28it/s]\n"
     ]
    },
    {
     "name": "stdout",
     "output_type": "stream",
     "text": [
      "Train Loss: 0.0078,  Train Accuracy: 0.9976,  Train F1-Score: 0.9942, \n",
      "Val Loss: 1.0122,  Val Accuracy: 0.8733,  Val F1-Score: 0.5855, \n",
      "\n",
      "\n"
     ]
    },
    {
     "name": "stderr",
     "output_type": "stream",
     "text": [
      "Epoch 839: 100%|██████████| 23/23 [00:02<00:00,  8.35it/s]\n"
     ]
    },
    {
     "name": "stdout",
     "output_type": "stream",
     "text": [
      "Train Loss: 0.0151,  Train Accuracy: 0.9949,  Train F1-Score: 0.9869, \n",
      "Val Loss: 0.9515,  Val Accuracy: 0.8781,  Val F1-Score: 0.5999, \n",
      "\n",
      "\n"
     ]
    },
    {
     "name": "stderr",
     "output_type": "stream",
     "text": [
      "Epoch 840: 100%|██████████| 23/23 [00:02<00:00,  8.42it/s]\n"
     ]
    },
    {
     "name": "stdout",
     "output_type": "stream",
     "text": [
      "Train Loss: 0.0116,  Train Accuracy: 0.9965,  Train F1-Score: 0.9910, \n",
      "Val Loss: 0.9460,  Val Accuracy: 0.8742,  Val F1-Score: 0.5939, \n",
      "\n",
      "\n"
     ]
    },
    {
     "name": "stderr",
     "output_type": "stream",
     "text": [
      "Epoch 841: 100%|██████████| 23/23 [00:02<00:00,  8.41it/s]\n"
     ]
    },
    {
     "name": "stdout",
     "output_type": "stream",
     "text": [
      "Train Loss: 0.0104,  Train Accuracy: 0.9964,  Train F1-Score: 0.9906, \n",
      "Val Loss: 0.9302,  Val Accuracy: 0.8848,  Val F1-Score: 0.6115, \n",
      "\n",
      "\n"
     ]
    },
    {
     "name": "stderr",
     "output_type": "stream",
     "text": [
      "Epoch 842: 100%|██████████| 23/23 [00:02<00:00,  8.42it/s]\n"
     ]
    },
    {
     "name": "stdout",
     "output_type": "stream",
     "text": [
      "Train Loss: 0.0126,  Train Accuracy: 0.9960,  Train F1-Score: 0.9893, \n",
      "Val Loss: 0.9752,  Val Accuracy: 0.8749,  Val F1-Score: 0.5624, \n",
      "\n",
      "\n"
     ]
    },
    {
     "name": "stderr",
     "output_type": "stream",
     "text": [
      "Epoch 843: 100%|██████████| 23/23 [00:02<00:00,  8.41it/s]\n"
     ]
    },
    {
     "name": "stdout",
     "output_type": "stream",
     "text": [
      "Train Loss: 0.0092,  Train Accuracy: 0.9969,  Train F1-Score: 0.9920, \n",
      "Val Loss: 0.9260,  Val Accuracy: 0.8868,  Val F1-Score: 0.6127, \n",
      "\n",
      "\n"
     ]
    },
    {
     "name": "stderr",
     "output_type": "stream",
     "text": [
      "Epoch 844: 100%|██████████| 23/23 [00:02<00:00,  8.41it/s]\n"
     ]
    },
    {
     "name": "stdout",
     "output_type": "stream",
     "text": [
      "Train Loss: 0.0082,  Train Accuracy: 0.9969,  Train F1-Score: 0.9920, \n",
      "Val Loss: 1.0094,  Val Accuracy: 0.8621,  Val F1-Score: 0.5584, \n",
      "\n",
      "\n"
     ]
    },
    {
     "name": "stderr",
     "output_type": "stream",
     "text": [
      "Epoch 845: 100%|██████████| 23/23 [00:02<00:00,  8.41it/s]\n"
     ]
    },
    {
     "name": "stdout",
     "output_type": "stream",
     "text": [
      "Train Loss: 0.0085,  Train Accuracy: 0.9974,  Train F1-Score: 0.9931, \n",
      "Val Loss: 1.0125,  Val Accuracy: 0.8761,  Val F1-Score: 0.5876, \n",
      "\n",
      "\n"
     ]
    },
    {
     "name": "stderr",
     "output_type": "stream",
     "text": [
      "Epoch 846: 100%|██████████| 23/23 [00:02<00:00,  8.43it/s]\n"
     ]
    },
    {
     "name": "stdout",
     "output_type": "stream",
     "text": [
      "Train Loss: 0.0082,  Train Accuracy: 0.9976,  Train F1-Score: 0.9937, \n",
      "Val Loss: 0.9838,  Val Accuracy: 0.8639,  Val F1-Score: 0.5728, \n",
      "\n",
      "\n"
     ]
    },
    {
     "name": "stderr",
     "output_type": "stream",
     "text": [
      "Epoch 847: 100%|██████████| 23/23 [00:02<00:00,  8.34it/s]\n"
     ]
    },
    {
     "name": "stdout",
     "output_type": "stream",
     "text": [
      "Train Loss: 0.0065,  Train Accuracy: 0.9984,  Train F1-Score: 0.9958, \n",
      "Val Loss: 1.0230,  Val Accuracy: 0.8733,  Val F1-Score: 0.5830, \n",
      "\n",
      "\n"
     ]
    },
    {
     "name": "stderr",
     "output_type": "stream",
     "text": [
      "Epoch 848: 100%|██████████| 23/23 [00:02<00:00,  8.29it/s]\n"
     ]
    },
    {
     "name": "stdout",
     "output_type": "stream",
     "text": [
      "Train Loss: 0.0045,  Train Accuracy: 0.9985,  Train F1-Score: 0.9960, \n",
      "Val Loss: 0.9771,  Val Accuracy: 0.8683,  Val F1-Score: 0.5510, \n",
      "\n",
      "\n"
     ]
    },
    {
     "name": "stderr",
     "output_type": "stream",
     "text": [
      "Epoch 849: 100%|██████████| 23/23 [00:02<00:00,  8.29it/s]\n"
     ]
    },
    {
     "name": "stdout",
     "output_type": "stream",
     "text": [
      "Train Loss: 0.0034,  Train Accuracy: 0.9992,  Train F1-Score: 0.9979, \n",
      "Val Loss: 1.0501,  Val Accuracy: 0.8790,  Val F1-Score: 0.5817, \n",
      "\n",
      "\n"
     ]
    },
    {
     "name": "stderr",
     "output_type": "stream",
     "text": [
      "Epoch 850: 100%|██████████| 23/23 [00:02<00:00,  8.28it/s]\n"
     ]
    },
    {
     "name": "stdout",
     "output_type": "stream",
     "text": [
      "Train Loss: 0.0036,  Train Accuracy: 0.9989,  Train F1-Score: 0.9970, \n",
      "Val Loss: 1.0210,  Val Accuracy: 0.8636,  Val F1-Score: 0.5314, \n",
      "\n",
      "\n"
     ]
    },
    {
     "name": "stderr",
     "output_type": "stream",
     "text": [
      "Epoch 851: 100%|██████████| 23/23 [00:02<00:00,  7.84it/s]\n"
     ]
    },
    {
     "name": "stdout",
     "output_type": "stream",
     "text": [
      "Train Loss: 0.0067,  Train Accuracy: 0.9977,  Train F1-Score: 0.9941, \n",
      "Val Loss: 1.0853,  Val Accuracy: 0.8670,  Val F1-Score: 0.5738, \n",
      "\n",
      "\n"
     ]
    },
    {
     "name": "stderr",
     "output_type": "stream",
     "text": [
      "Epoch 852: 100%|██████████| 23/23 [00:02<00:00,  8.29it/s]\n"
     ]
    },
    {
     "name": "stdout",
     "output_type": "stream",
     "text": [
      "Train Loss: 0.0064,  Train Accuracy: 0.9980,  Train F1-Score: 0.9948, \n",
      "Val Loss: 1.0418,  Val Accuracy: 0.8657,  Val F1-Score: 0.5618, \n",
      "\n",
      "\n"
     ]
    },
    {
     "name": "stderr",
     "output_type": "stream",
     "text": [
      "Epoch 853: 100%|██████████| 23/23 [00:02<00:00,  8.31it/s]\n"
     ]
    },
    {
     "name": "stdout",
     "output_type": "stream",
     "text": [
      "Train Loss: 0.0097,  Train Accuracy: 0.9968,  Train F1-Score: 0.9917, \n",
      "Val Loss: 1.0520,  Val Accuracy: 0.8665,  Val F1-Score: 0.5616, \n",
      "\n",
      "\n"
     ]
    },
    {
     "name": "stderr",
     "output_type": "stream",
     "text": [
      "Epoch 854: 100%|██████████| 23/23 [00:02<00:00,  8.40it/s]\n"
     ]
    },
    {
     "name": "stdout",
     "output_type": "stream",
     "text": [
      "Train Loss: 0.0080,  Train Accuracy: 0.9973,  Train F1-Score: 0.9931, \n",
      "Val Loss: 1.0480,  Val Accuracy: 0.8669,  Val F1-Score: 0.5667, \n",
      "\n",
      "\n"
     ]
    },
    {
     "name": "stderr",
     "output_type": "stream",
     "text": [
      "Epoch 855: 100%|██████████| 23/23 [00:02<00:00,  8.40it/s]\n"
     ]
    },
    {
     "name": "stdout",
     "output_type": "stream",
     "text": [
      "Train Loss: 0.0109,  Train Accuracy: 0.9960,  Train F1-Score: 0.9900, \n",
      "Val Loss: 1.0391,  Val Accuracy: 0.8603,  Val F1-Score: 0.5616, \n",
      "\n",
      "\n"
     ]
    },
    {
     "name": "stderr",
     "output_type": "stream",
     "text": [
      "Epoch 856: 100%|██████████| 23/23 [00:02<00:00,  8.42it/s]\n"
     ]
    },
    {
     "name": "stdout",
     "output_type": "stream",
     "text": [
      "Train Loss: 0.0105,  Train Accuracy: 0.9962,  Train F1-Score: 0.9903, \n",
      "Val Loss: 1.1093,  Val Accuracy: 0.8721,  Val F1-Score: 0.5704, \n",
      "\n",
      "\n"
     ]
    },
    {
     "name": "stderr",
     "output_type": "stream",
     "text": [
      "Epoch 857: 100%|██████████| 23/23 [00:02<00:00,  8.42it/s]\n"
     ]
    },
    {
     "name": "stdout",
     "output_type": "stream",
     "text": [
      "Train Loss: 0.0243,  Train Accuracy: 0.9926,  Train F1-Score: 0.9817, \n",
      "Val Loss: 1.0156,  Val Accuracy: 0.8619,  Val F1-Score: 0.5664, \n",
      "\n",
      "\n"
     ]
    },
    {
     "name": "stderr",
     "output_type": "stream",
     "text": [
      "Epoch 858: 100%|██████████| 23/23 [00:02<00:00,  8.39it/s]\n"
     ]
    },
    {
     "name": "stdout",
     "output_type": "stream",
     "text": [
      "Train Loss: 0.0407,  Train Accuracy: 0.9864,  Train F1-Score: 0.9634, \n",
      "Val Loss: 0.9474,  Val Accuracy: 0.8511,  Val F1-Score: 0.5195, \n",
      "\n",
      "\n"
     ]
    },
    {
     "name": "stderr",
     "output_type": "stream",
     "text": [
      "Epoch 859: 100%|██████████| 23/23 [00:02<00:00,  8.41it/s]\n"
     ]
    },
    {
     "name": "stdout",
     "output_type": "stream",
     "text": [
      "Train Loss: 0.0403,  Train Accuracy: 0.9888,  Train F1-Score: 0.9676, \n",
      "Val Loss: 0.7818,  Val Accuracy: 0.8445,  Val F1-Score: 0.5574, \n",
      "\n",
      "\n"
     ]
    },
    {
     "name": "stderr",
     "output_type": "stream",
     "text": [
      "Epoch 860: 100%|██████████| 23/23 [00:02<00:00,  8.39it/s]\n"
     ]
    },
    {
     "name": "stdout",
     "output_type": "stream",
     "text": [
      "Train Loss: 0.0299,  Train Accuracy: 0.9895,  Train F1-Score: 0.9727, \n",
      "Val Loss: 0.7545,  Val Accuracy: 0.8596,  Val F1-Score: 0.5782, \n",
      "\n",
      "\n"
     ]
    },
    {
     "name": "stderr",
     "output_type": "stream",
     "text": [
      "Epoch 861: 100%|██████████| 23/23 [00:02<00:00,  8.34it/s]\n"
     ]
    },
    {
     "name": "stdout",
     "output_type": "stream",
     "text": [
      "Train Loss: 0.0176,  Train Accuracy: 0.9945,  Train F1-Score: 0.9862, \n",
      "Val Loss: 0.7722,  Val Accuracy: 0.8598,  Val F1-Score: 0.5638, \n",
      "\n",
      "\n"
     ]
    },
    {
     "name": "stderr",
     "output_type": "stream",
     "text": [
      "Epoch 862: 100%|██████████| 23/23 [00:02<00:00,  8.29it/s]\n"
     ]
    },
    {
     "name": "stdout",
     "output_type": "stream",
     "text": [
      "Train Loss: 0.0097,  Train Accuracy: 0.9964,  Train F1-Score: 0.9901, \n",
      "Val Loss: 0.8252,  Val Accuracy: 0.8633,  Val F1-Score: 0.5536, \n",
      "\n",
      "\n"
     ]
    },
    {
     "name": "stderr",
     "output_type": "stream",
     "text": [
      "Epoch 863: 100%|██████████| 23/23 [00:02<00:00,  8.30it/s]\n"
     ]
    },
    {
     "name": "stdout",
     "output_type": "stream",
     "text": [
      "Train Loss: 0.0077,  Train Accuracy: 0.9976,  Train F1-Score: 0.9940, \n",
      "Val Loss: 0.8677,  Val Accuracy: 0.8670,  Val F1-Score: 0.5303, \n",
      "\n",
      "\n"
     ]
    },
    {
     "name": "stderr",
     "output_type": "stream",
     "text": [
      "Epoch 864: 100%|██████████| 23/23 [00:02<00:00,  8.29it/s]\n"
     ]
    },
    {
     "name": "stdout",
     "output_type": "stream",
     "text": [
      "Train Loss: 0.0075,  Train Accuracy: 0.9978,  Train F1-Score: 0.9945, \n",
      "Val Loss: 0.8971,  Val Accuracy: 0.8701,  Val F1-Score: 0.5831, \n",
      "\n",
      "\n"
     ]
    },
    {
     "name": "stderr",
     "output_type": "stream",
     "text": [
      "Epoch 865: 100%|██████████| 23/23 [00:02<00:00,  8.30it/s]\n"
     ]
    },
    {
     "name": "stdout",
     "output_type": "stream",
     "text": [
      "Train Loss: 0.0078,  Train Accuracy: 0.9972,  Train F1-Score: 0.9927, \n",
      "Val Loss: 0.8279,  Val Accuracy: 0.8765,  Val F1-Score: 0.6064, \n",
      "\n",
      "\n"
     ]
    },
    {
     "name": "stderr",
     "output_type": "stream",
     "text": [
      "Epoch 866: 100%|██████████| 23/23 [00:02<00:00,  8.29it/s]\n"
     ]
    },
    {
     "name": "stdout",
     "output_type": "stream",
     "text": [
      "Train Loss: 0.0077,  Train Accuracy: 0.9974,  Train F1-Score: 0.9935, \n",
      "Val Loss: 0.9644,  Val Accuracy: 0.8713,  Val F1-Score: 0.5570, \n",
      "\n",
      "\n"
     ]
    },
    {
     "name": "stderr",
     "output_type": "stream",
     "text": [
      "Epoch 867: 100%|██████████| 23/23 [00:02<00:00,  8.31it/s]\n"
     ]
    },
    {
     "name": "stdout",
     "output_type": "stream",
     "text": [
      "Train Loss: 0.0057,  Train Accuracy: 0.9981,  Train F1-Score: 0.9953, \n",
      "Val Loss: 0.8770,  Val Accuracy: 0.8857,  Val F1-Score: 0.6118, \n",
      "\n",
      "\n"
     ]
    },
    {
     "name": "stderr",
     "output_type": "stream",
     "text": [
      "Epoch 868: 100%|██████████| 23/23 [00:02<00:00,  8.39it/s]\n"
     ]
    },
    {
     "name": "stdout",
     "output_type": "stream",
     "text": [
      "Train Loss: 0.0088,  Train Accuracy: 0.9975,  Train F1-Score: 0.9934, \n",
      "Val Loss: 0.8916,  Val Accuracy: 0.8785,  Val F1-Score: 0.5821, \n",
      "\n",
      "\n"
     ]
    },
    {
     "name": "stderr",
     "output_type": "stream",
     "text": [
      "Epoch 869: 100%|██████████| 23/23 [00:02<00:00,  8.40it/s]\n"
     ]
    },
    {
     "name": "stdout",
     "output_type": "stream",
     "text": [
      "Train Loss: 0.0063,  Train Accuracy: 0.9979,  Train F1-Score: 0.9946, \n",
      "Val Loss: 0.9149,  Val Accuracy: 0.8805,  Val F1-Score: 0.6034, \n",
      "\n",
      "\n"
     ]
    },
    {
     "name": "stderr",
     "output_type": "stream",
     "text": [
      "Epoch 870: 100%|██████████| 23/23 [00:02<00:00,  8.39it/s]\n"
     ]
    },
    {
     "name": "stdout",
     "output_type": "stream",
     "text": [
      "Train Loss: 0.0049,  Train Accuracy: 0.9982,  Train F1-Score: 0.9956, \n",
      "Val Loss: 0.9787,  Val Accuracy: 0.8645,  Val F1-Score: 0.5633, \n",
      "\n",
      "\n"
     ]
    },
    {
     "name": "stderr",
     "output_type": "stream",
     "text": [
      "Epoch 871: 100%|██████████| 23/23 [00:02<00:00,  7.98it/s]\n"
     ]
    },
    {
     "name": "stdout",
     "output_type": "stream",
     "text": [
      "Train Loss: 0.0042,  Train Accuracy: 0.9984,  Train F1-Score: 0.9959, \n",
      "Val Loss: 0.9824,  Val Accuracy: 0.8621,  Val F1-Score: 0.5435, \n",
      "\n",
      "\n"
     ]
    },
    {
     "name": "stderr",
     "output_type": "stream",
     "text": [
      "Epoch 872: 100%|██████████| 23/23 [00:02<00:00,  8.41it/s]\n"
     ]
    },
    {
     "name": "stdout",
     "output_type": "stream",
     "text": [
      "Train Loss: 0.0033,  Train Accuracy: 0.9989,  Train F1-Score: 0.9971, \n",
      "Val Loss: 0.9691,  Val Accuracy: 0.8713,  Val F1-Score: 0.5785, \n",
      "\n",
      "\n"
     ]
    },
    {
     "name": "stderr",
     "output_type": "stream",
     "text": [
      "Epoch 873: 100%|██████████| 23/23 [00:02<00:00,  8.40it/s]\n"
     ]
    },
    {
     "name": "stdout",
     "output_type": "stream",
     "text": [
      "Train Loss: 0.0040,  Train Accuracy: 0.9986,  Train F1-Score: 0.9965, \n",
      "Val Loss: 0.9613,  Val Accuracy: 0.8757,  Val F1-Score: 0.5965, \n",
      "\n",
      "\n"
     ]
    },
    {
     "name": "stderr",
     "output_type": "stream",
     "text": [
      "Epoch 874: 100%|██████████| 23/23 [00:02<00:00,  8.40it/s]\n"
     ]
    },
    {
     "name": "stdout",
     "output_type": "stream",
     "text": [
      "Train Loss: 0.0031,  Train Accuracy: 0.9990,  Train F1-Score: 0.9973, \n",
      "Val Loss: 0.9866,  Val Accuracy: 0.8711,  Val F1-Score: 0.5705, \n",
      "\n",
      "\n"
     ]
    },
    {
     "name": "stderr",
     "output_type": "stream",
     "text": [
      "Epoch 875: 100%|██████████| 23/23 [00:02<00:00,  8.39it/s]\n"
     ]
    },
    {
     "name": "stdout",
     "output_type": "stream",
     "text": [
      "Train Loss: 0.0042,  Train Accuracy: 0.9987,  Train F1-Score: 0.9967, \n",
      "Val Loss: 1.0279,  Val Accuracy: 0.8744,  Val F1-Score: 0.5902, \n",
      "\n",
      "\n"
     ]
    },
    {
     "name": "stderr",
     "output_type": "stream",
     "text": [
      "Epoch 876: 100%|██████████| 23/23 [00:02<00:00,  8.24it/s]\n"
     ]
    },
    {
     "name": "stdout",
     "output_type": "stream",
     "text": [
      "Train Loss: 0.0089,  Train Accuracy: 0.9969,  Train F1-Score: 0.9924, \n",
      "Val Loss: 1.0278,  Val Accuracy: 0.8770,  Val F1-Score: 0.5754, \n",
      "\n",
      "\n"
     ]
    },
    {
     "name": "stderr",
     "output_type": "stream",
     "text": [
      "Epoch 877: 100%|██████████| 23/23 [00:02<00:00,  8.24it/s]\n"
     ]
    },
    {
     "name": "stdout",
     "output_type": "stream",
     "text": [
      "Train Loss: 0.0074,  Train Accuracy: 0.9973,  Train F1-Score: 0.9930, \n",
      "Val Loss: 1.0014,  Val Accuracy: 0.8744,  Val F1-Score: 0.5714, \n",
      "\n",
      "\n"
     ]
    },
    {
     "name": "stderr",
     "output_type": "stream",
     "text": [
      "Epoch 878: 100%|██████████| 23/23 [00:02<00:00,  8.27it/s]\n"
     ]
    },
    {
     "name": "stdout",
     "output_type": "stream",
     "text": [
      "Train Loss: 0.0056,  Train Accuracy: 0.9983,  Train F1-Score: 0.9956, \n",
      "Val Loss: 0.9900,  Val Accuracy: 0.8707,  Val F1-Score: 0.5836, \n",
      "\n",
      "\n"
     ]
    },
    {
     "name": "stderr",
     "output_type": "stream",
     "text": [
      "Epoch 879: 100%|██████████| 23/23 [00:02<00:00,  8.30it/s]\n"
     ]
    },
    {
     "name": "stdout",
     "output_type": "stream",
     "text": [
      "Train Loss: 0.0042,  Train Accuracy: 0.9990,  Train F1-Score: 0.9975, \n",
      "Val Loss: 1.0829,  Val Accuracy: 0.8733,  Val F1-Score: 0.5601, \n",
      "\n",
      "\n"
     ]
    },
    {
     "name": "stderr",
     "output_type": "stream",
     "text": [
      "Epoch 880: 100%|██████████| 23/23 [00:02<00:00,  8.25it/s]\n"
     ]
    },
    {
     "name": "stdout",
     "output_type": "stream",
     "text": [
      "Train Loss: 0.0049,  Train Accuracy: 0.9979,  Train F1-Score: 0.9945, \n",
      "Val Loss: 0.9939,  Val Accuracy: 0.8742,  Val F1-Score: 0.5912, \n",
      "\n",
      "\n"
     ]
    },
    {
     "name": "stderr",
     "output_type": "stream",
     "text": [
      "Epoch 881: 100%|██████████| 23/23 [00:02<00:00,  8.28it/s]\n"
     ]
    },
    {
     "name": "stdout",
     "output_type": "stream",
     "text": [
      "Train Loss: 0.0047,  Train Accuracy: 0.9982,  Train F1-Score: 0.9954, \n",
      "Val Loss: 1.0587,  Val Accuracy: 0.8700,  Val F1-Score: 0.5983, \n",
      "\n",
      "\n"
     ]
    },
    {
     "name": "stderr",
     "output_type": "stream",
     "text": [
      "Epoch 882: 100%|██████████| 23/23 [00:02<00:00,  8.29it/s]\n"
     ]
    },
    {
     "name": "stdout",
     "output_type": "stream",
     "text": [
      "Train Loss: 0.0043,  Train Accuracy: 0.9986,  Train F1-Score: 0.9962, \n",
      "Val Loss: 1.0660,  Val Accuracy: 0.8821,  Val F1-Score: 0.6030, \n",
      "\n",
      "\n"
     ]
    },
    {
     "name": "stderr",
     "output_type": "stream",
     "text": [
      "Epoch 883: 100%|██████████| 23/23 [00:02<00:00,  8.33it/s]\n"
     ]
    },
    {
     "name": "stdout",
     "output_type": "stream",
     "text": [
      "Train Loss: 0.0082,  Train Accuracy: 0.9973,  Train F1-Score: 0.9927, \n",
      "Val Loss: 1.0448,  Val Accuracy: 0.8710,  Val F1-Score: 0.5811, \n",
      "\n",
      "\n"
     ]
    },
    {
     "name": "stderr",
     "output_type": "stream",
     "text": [
      "Epoch 884: 100%|██████████| 23/23 [00:02<00:00,  8.37it/s]\n"
     ]
    },
    {
     "name": "stdout",
     "output_type": "stream",
     "text": [
      "Train Loss: 0.0078,  Train Accuracy: 0.9973,  Train F1-Score: 0.9930, \n",
      "Val Loss: 0.9726,  Val Accuracy: 0.8629,  Val F1-Score: 0.5858, \n",
      "\n",
      "\n"
     ]
    },
    {
     "name": "stderr",
     "output_type": "stream",
     "text": [
      "Epoch 885: 100%|██████████| 23/23 [00:02<00:00,  8.33it/s]\n"
     ]
    },
    {
     "name": "stdout",
     "output_type": "stream",
     "text": [
      "Train Loss: 0.0045,  Train Accuracy: 0.9983,  Train F1-Score: 0.9956, \n",
      "Val Loss: 1.0170,  Val Accuracy: 0.8775,  Val F1-Score: 0.5958, \n",
      "\n",
      "\n"
     ]
    },
    {
     "name": "stderr",
     "output_type": "stream",
     "text": [
      "Epoch 886: 100%|██████████| 23/23 [00:02<00:00,  8.40it/s]\n"
     ]
    },
    {
     "name": "stdout",
     "output_type": "stream",
     "text": [
      "Train Loss: 0.0081,  Train Accuracy: 0.9975,  Train F1-Score: 0.9936, \n",
      "Val Loss: 1.0102,  Val Accuracy: 0.8707,  Val F1-Score: 0.5747, \n",
      "\n",
      "\n"
     ]
    },
    {
     "name": "stderr",
     "output_type": "stream",
     "text": [
      "Epoch 887: 100%|██████████| 23/23 [00:02<00:00,  8.41it/s]\n"
     ]
    },
    {
     "name": "stdout",
     "output_type": "stream",
     "text": [
      "Train Loss: 0.0079,  Train Accuracy: 0.9977,  Train F1-Score: 0.9943, \n",
      "Val Loss: 1.0391,  Val Accuracy: 0.8722,  Val F1-Score: 0.5904, \n",
      "\n",
      "\n"
     ]
    },
    {
     "name": "stderr",
     "output_type": "stream",
     "text": [
      "Epoch 888: 100%|██████████| 23/23 [00:02<00:00,  8.40it/s]\n"
     ]
    },
    {
     "name": "stdout",
     "output_type": "stream",
     "text": [
      "Train Loss: 0.0054,  Train Accuracy: 0.9984,  Train F1-Score: 0.9958, \n",
      "Val Loss: 1.0482,  Val Accuracy: 0.8742,  Val F1-Score: 0.5873, \n",
      "\n",
      "\n"
     ]
    },
    {
     "name": "stderr",
     "output_type": "stream",
     "text": [
      "Epoch 889: 100%|██████████| 23/23 [00:02<00:00,  8.26it/s]\n"
     ]
    },
    {
     "name": "stdout",
     "output_type": "stream",
     "text": [
      "Train Loss: 0.0055,  Train Accuracy: 0.9983,  Train F1-Score: 0.9956, \n",
      "Val Loss: 1.0205,  Val Accuracy: 0.8729,  Val F1-Score: 0.5737, \n",
      "\n",
      "\n"
     ]
    },
    {
     "name": "stderr",
     "output_type": "stream",
     "text": [
      "Epoch 890: 100%|██████████| 23/23 [00:02<00:00,  8.25it/s]\n"
     ]
    },
    {
     "name": "stdout",
     "output_type": "stream",
     "text": [
      "Train Loss: 0.0057,  Train Accuracy: 0.9979,  Train F1-Score: 0.9946, \n",
      "Val Loss: 1.0979,  Val Accuracy: 0.8691,  Val F1-Score: 0.5543, \n",
      "\n",
      "\n"
     ]
    },
    {
     "name": "stderr",
     "output_type": "stream",
     "text": [
      "Epoch 891: 100%|██████████| 23/23 [00:02<00:00,  8.22it/s]\n"
     ]
    },
    {
     "name": "stdout",
     "output_type": "stream",
     "text": [
      "Train Loss: 0.0055,  Train Accuracy: 0.9982,  Train F1-Score: 0.9954, \n",
      "Val Loss: 1.0448,  Val Accuracy: 0.8716,  Val F1-Score: 0.5958, \n",
      "\n",
      "\n"
     ]
    },
    {
     "name": "stderr",
     "output_type": "stream",
     "text": [
      "Epoch 892: 100%|██████████| 23/23 [00:02<00:00,  8.27it/s]\n"
     ]
    },
    {
     "name": "stdout",
     "output_type": "stream",
     "text": [
      "Train Loss: 0.0070,  Train Accuracy: 0.9981,  Train F1-Score: 0.9950, \n",
      "Val Loss: 0.9927,  Val Accuracy: 0.8670,  Val F1-Score: 0.5924, \n",
      "\n",
      "\n"
     ]
    },
    {
     "name": "stderr",
     "output_type": "stream",
     "text": [
      "Epoch 893: 100%|██████████| 23/23 [00:02<00:00,  8.22it/s]\n"
     ]
    },
    {
     "name": "stdout",
     "output_type": "stream",
     "text": [
      "Train Loss: 0.0068,  Train Accuracy: 0.9978,  Train F1-Score: 0.9944, \n",
      "Val Loss: 1.1040,  Val Accuracy: 0.8652,  Val F1-Score: 0.5365, \n",
      "\n",
      "\n"
     ]
    },
    {
     "name": "stderr",
     "output_type": "stream",
     "text": [
      "Epoch 894: 100%|██████████| 23/23 [00:02<00:00,  8.29it/s]\n"
     ]
    },
    {
     "name": "stdout",
     "output_type": "stream",
     "text": [
      "Train Loss: 0.0048,  Train Accuracy: 0.9984,  Train F1-Score: 0.9957, \n",
      "Val Loss: 1.0056,  Val Accuracy: 0.8741,  Val F1-Score: 0.5879, \n",
      "\n",
      "\n"
     ]
    },
    {
     "name": "stderr",
     "output_type": "stream",
     "text": [
      "Epoch 895: 100%|██████████| 23/23 [00:02<00:00,  8.28it/s]\n"
     ]
    },
    {
     "name": "stdout",
     "output_type": "stream",
     "text": [
      "Train Loss: 0.0060,  Train Accuracy: 0.9980,  Train F1-Score: 0.9949, \n",
      "Val Loss: 1.0336,  Val Accuracy: 0.8757,  Val F1-Score: 0.5959, \n",
      "\n",
      "\n"
     ]
    },
    {
     "name": "stderr",
     "output_type": "stream",
     "text": [
      "Epoch 896: 100%|██████████| 23/23 [00:02<00:00,  8.33it/s]\n"
     ]
    },
    {
     "name": "stdout",
     "output_type": "stream",
     "text": [
      "Train Loss: 0.0091,  Train Accuracy: 0.9966,  Train F1-Score: 0.9914, \n",
      "Val Loss: 1.0678,  Val Accuracy: 0.8713,  Val F1-Score: 0.5505, \n",
      "\n",
      "\n"
     ]
    },
    {
     "name": "stderr",
     "output_type": "stream",
     "text": [
      "Epoch 897: 100%|██████████| 23/23 [00:02<00:00,  8.40it/s]\n"
     ]
    },
    {
     "name": "stdout",
     "output_type": "stream",
     "text": [
      "Train Loss: 0.0077,  Train Accuracy: 0.9983,  Train F1-Score: 0.9957, \n",
      "Val Loss: 1.0407,  Val Accuracy: 0.8645,  Val F1-Score: 0.5841, \n",
      "\n",
      "\n"
     ]
    },
    {
     "name": "stderr",
     "output_type": "stream",
     "text": [
      "Epoch 898: 100%|██████████| 23/23 [00:02<00:00,  8.35it/s]\n"
     ]
    },
    {
     "name": "stdout",
     "output_type": "stream",
     "text": [
      "Train Loss: 0.0049,  Train Accuracy: 0.9982,  Train F1-Score: 0.9955, \n",
      "Val Loss: 1.0105,  Val Accuracy: 0.8727,  Val F1-Score: 0.5978, \n",
      "\n",
      "\n"
     ]
    },
    {
     "name": "stderr",
     "output_type": "stream",
     "text": [
      "Epoch 899: 100%|██████████| 23/23 [00:02<00:00,  8.41it/s]\n"
     ]
    },
    {
     "name": "stdout",
     "output_type": "stream",
     "text": [
      "Train Loss: 0.0070,  Train Accuracy: 0.9974,  Train F1-Score: 0.9930, \n",
      "Val Loss: 1.0121,  Val Accuracy: 0.8770,  Val F1-Score: 0.5964, \n",
      "\n",
      "\n"
     ]
    },
    {
     "name": "stderr",
     "output_type": "stream",
     "text": [
      "Epoch 900: 100%|██████████| 23/23 [00:02<00:00,  8.40it/s]\n"
     ]
    },
    {
     "name": "stdout",
     "output_type": "stream",
     "text": [
      "Train Loss: 0.0044,  Train Accuracy: 0.9986,  Train F1-Score: 0.9963, \n",
      "Val Loss: 1.0657,  Val Accuracy: 0.8711,  Val F1-Score: 0.5511, \n",
      "\n",
      "\n"
     ]
    },
    {
     "name": "stderr",
     "output_type": "stream",
     "text": [
      "Epoch 901: 100%|██████████| 23/23 [00:02<00:00,  8.39it/s]\n"
     ]
    },
    {
     "name": "stdout",
     "output_type": "stream",
     "text": [
      "Train Loss: 0.0039,  Train Accuracy: 0.9988,  Train F1-Score: 0.9970, \n",
      "Val Loss: 1.0976,  Val Accuracy: 0.8765,  Val F1-Score: 0.5733, \n",
      "\n",
      "\n"
     ]
    },
    {
     "name": "stderr",
     "output_type": "stream",
     "text": [
      "Epoch 902: 100%|██████████| 23/23 [00:02<00:00,  8.40it/s]\n"
     ]
    },
    {
     "name": "stdout",
     "output_type": "stream",
     "text": [
      "Train Loss: 0.0090,  Train Accuracy: 0.9967,  Train F1-Score: 0.9914, \n",
      "Val Loss: 0.9881,  Val Accuracy: 0.8739,  Val F1-Score: 0.5943, \n",
      "\n",
      "\n"
     ]
    },
    {
     "name": "stderr",
     "output_type": "stream",
     "text": [
      "Epoch 903: 100%|██████████| 23/23 [00:02<00:00,  8.34it/s]\n"
     ]
    },
    {
     "name": "stdout",
     "output_type": "stream",
     "text": [
      "Train Loss: 0.0123,  Train Accuracy: 0.9950,  Train F1-Score: 0.9867, \n",
      "Val Loss: 0.9906,  Val Accuracy: 0.8739,  Val F1-Score: 0.5809, \n",
      "\n",
      "\n"
     ]
    },
    {
     "name": "stderr",
     "output_type": "stream",
     "text": [
      "Epoch 904: 100%|██████████| 23/23 [00:02<00:00,  8.35it/s]\n"
     ]
    },
    {
     "name": "stdout",
     "output_type": "stream",
     "text": [
      "Train Loss: 0.0132,  Train Accuracy: 0.9958,  Train F1-Score: 0.9891, \n",
      "Val Loss: 0.9771,  Val Accuracy: 0.8680,  Val F1-Score: 0.5723, \n",
      "\n",
      "\n"
     ]
    },
    {
     "name": "stderr",
     "output_type": "stream",
     "text": [
      "Epoch 905: 100%|██████████| 23/23 [00:02<00:00,  8.29it/s]\n"
     ]
    },
    {
     "name": "stdout",
     "output_type": "stream",
     "text": [
      "Train Loss: 0.0116,  Train Accuracy: 0.9961,  Train F1-Score: 0.9899, \n",
      "Val Loss: 1.0126,  Val Accuracy: 0.8681,  Val F1-Score: 0.5471, \n",
      "\n",
      "\n"
     ]
    },
    {
     "name": "stderr",
     "output_type": "stream",
     "text": [
      "Epoch 906: 100%|██████████| 23/23 [00:02<00:00,  8.30it/s]\n"
     ]
    },
    {
     "name": "stdout",
     "output_type": "stream",
     "text": [
      "Train Loss: 0.0103,  Train Accuracy: 0.9970,  Train F1-Score: 0.9926, \n",
      "Val Loss: 1.0047,  Val Accuracy: 0.8768,  Val F1-Score: 0.5909, \n",
      "\n",
      "\n"
     ]
    },
    {
     "name": "stderr",
     "output_type": "stream",
     "text": [
      "Epoch 907: 100%|██████████| 23/23 [00:02<00:00,  8.31it/s]\n"
     ]
    },
    {
     "name": "stdout",
     "output_type": "stream",
     "text": [
      "Train Loss: 0.0183,  Train Accuracy: 0.9942,  Train F1-Score: 0.9845, \n",
      "Val Loss: 1.0094,  Val Accuracy: 0.8818,  Val F1-Score: 0.5899, \n",
      "\n",
      "\n"
     ]
    },
    {
     "name": "stderr",
     "output_type": "stream",
     "text": [
      "Epoch 908: 100%|██████████| 23/23 [00:02<00:00,  8.20it/s]\n"
     ]
    },
    {
     "name": "stdout",
     "output_type": "stream",
     "text": [
      "Train Loss: 0.0147,  Train Accuracy: 0.9941,  Train F1-Score: 0.9848, \n",
      "Val Loss: 0.9357,  Val Accuracy: 0.8808,  Val F1-Score: 0.6036, \n",
      "\n",
      "\n"
     ]
    },
    {
     "name": "stderr",
     "output_type": "stream",
     "text": [
      "Epoch 909: 100%|██████████| 23/23 [00:02<00:00,  8.28it/s]\n"
     ]
    },
    {
     "name": "stdout",
     "output_type": "stream",
     "text": [
      "Train Loss: 0.0067,  Train Accuracy: 0.9978,  Train F1-Score: 0.9944, \n",
      "Val Loss: 0.9851,  Val Accuracy: 0.8810,  Val F1-Score: 0.6048, \n",
      "\n",
      "\n"
     ]
    },
    {
     "name": "stderr",
     "output_type": "stream",
     "text": [
      "Epoch 910: 100%|██████████| 23/23 [00:02<00:00,  8.26it/s]\n"
     ]
    },
    {
     "name": "stdout",
     "output_type": "stream",
     "text": [
      "Train Loss: 0.0087,  Train Accuracy: 0.9973,  Train F1-Score: 0.9929, \n",
      "Val Loss: 0.9805,  Val Accuracy: 0.8693,  Val F1-Score: 0.5938, \n",
      "\n",
      "\n"
     ]
    },
    {
     "name": "stderr",
     "output_type": "stream",
     "text": [
      "Epoch 911: 100%|██████████| 23/23 [00:02<00:00,  8.34it/s]\n"
     ]
    },
    {
     "name": "stdout",
     "output_type": "stream",
     "text": [
      "Train Loss: 0.0064,  Train Accuracy: 0.9980,  Train F1-Score: 0.9949, \n",
      "Val Loss: 0.9966,  Val Accuracy: 0.8716,  Val F1-Score: 0.5762, \n",
      "\n",
      "\n"
     ]
    },
    {
     "name": "stderr",
     "output_type": "stream",
     "text": [
      "Epoch 912: 100%|██████████| 23/23 [00:02<00:00,  8.39it/s]\n"
     ]
    },
    {
     "name": "stdout",
     "output_type": "stream",
     "text": [
      "Train Loss: 0.0047,  Train Accuracy: 0.9987,  Train F1-Score: 0.9967, \n",
      "Val Loss: 1.0298,  Val Accuracy: 0.8686,  Val F1-Score: 0.5705, \n",
      "\n",
      "\n"
     ]
    },
    {
     "name": "stderr",
     "output_type": "stream",
     "text": [
      "Epoch 913: 100%|██████████| 23/23 [00:02<00:00,  8.38it/s]\n"
     ]
    },
    {
     "name": "stdout",
     "output_type": "stream",
     "text": [
      "Train Loss: 0.0047,  Train Accuracy: 0.9981,  Train F1-Score: 0.9952, \n",
      "Val Loss: 1.0114,  Val Accuracy: 0.8645,  Val F1-Score: 0.5702, \n",
      "\n",
      "\n"
     ]
    },
    {
     "name": "stderr",
     "output_type": "stream",
     "text": [
      "Epoch 914: 100%|██████████| 23/23 [00:02<00:00,  8.39it/s]\n"
     ]
    },
    {
     "name": "stdout",
     "output_type": "stream",
     "text": [
      "Train Loss: 0.0270,  Train Accuracy: 0.9929,  Train F1-Score: 0.9819, \n",
      "Val Loss: 0.9910,  Val Accuracy: 0.8551,  Val F1-Score: 0.5875, \n",
      "\n",
      "\n"
     ]
    },
    {
     "name": "stderr",
     "output_type": "stream",
     "text": [
      "Epoch 915: 100%|██████████| 23/23 [00:02<00:00,  8.37it/s]\n"
     ]
    },
    {
     "name": "stdout",
     "output_type": "stream",
     "text": [
      "Train Loss: 0.0261,  Train Accuracy: 0.9926,  Train F1-Score: 0.9812, \n",
      "Val Loss: 0.9222,  Val Accuracy: 0.8436,  Val F1-Score: 0.5586, \n",
      "\n",
      "\n"
     ]
    },
    {
     "name": "stderr",
     "output_type": "stream",
     "text": [
      "Epoch 916: 100%|██████████| 23/23 [00:02<00:00,  8.34it/s]\n"
     ]
    },
    {
     "name": "stdout",
     "output_type": "stream",
     "text": [
      "Train Loss: 0.0170,  Train Accuracy: 0.9945,  Train F1-Score: 0.9861, \n",
      "Val Loss: 0.9269,  Val Accuracy: 0.8655,  Val F1-Score: 0.5309, \n",
      "\n",
      "\n"
     ]
    },
    {
     "name": "stderr",
     "output_type": "stream",
     "text": [
      "Epoch 917: 100%|██████████| 23/23 [00:02<00:00,  8.36it/s]\n"
     ]
    },
    {
     "name": "stdout",
     "output_type": "stream",
     "text": [
      "Train Loss: 0.0081,  Train Accuracy: 0.9974,  Train F1-Score: 0.9933, \n",
      "Val Loss: 0.9043,  Val Accuracy: 0.8744,  Val F1-Score: 0.5814, \n",
      "\n",
      "\n"
     ]
    },
    {
     "name": "stderr",
     "output_type": "stream",
     "text": [
      "Epoch 918: 100%|██████████| 23/23 [00:02<00:00,  8.37it/s]\n"
     ]
    },
    {
     "name": "stdout",
     "output_type": "stream",
     "text": [
      "Train Loss: 0.0073,  Train Accuracy: 0.9978,  Train F1-Score: 0.9944, \n",
      "Val Loss: 0.9073,  Val Accuracy: 0.8686,  Val F1-Score: 0.5876, \n",
      "\n",
      "\n"
     ]
    },
    {
     "name": "stderr",
     "output_type": "stream",
     "text": [
      "Epoch 919: 100%|██████████| 23/23 [00:02<00:00,  8.27it/s]\n"
     ]
    },
    {
     "name": "stdout",
     "output_type": "stream",
     "text": [
      "Train Loss: 0.0050,  Train Accuracy: 0.9983,  Train F1-Score: 0.9956, \n",
      "Val Loss: 0.9407,  Val Accuracy: 0.8715,  Val F1-Score: 0.5836, \n",
      "\n",
      "\n"
     ]
    },
    {
     "name": "stderr",
     "output_type": "stream",
     "text": [
      "Epoch 920: 100%|██████████| 23/23 [00:02<00:00,  8.25it/s]\n"
     ]
    },
    {
     "name": "stdout",
     "output_type": "stream",
     "text": [
      "Train Loss: 0.0041,  Train Accuracy: 0.9990,  Train F1-Score: 0.9972, \n",
      "Val Loss: 0.9419,  Val Accuracy: 0.8657,  Val F1-Score: 0.5781, \n",
      "\n",
      "\n"
     ]
    },
    {
     "name": "stderr",
     "output_type": "stream",
     "text": [
      "Epoch 921: 100%|██████████| 23/23 [00:02<00:00,  8.19it/s]\n"
     ]
    },
    {
     "name": "stdout",
     "output_type": "stream",
     "text": [
      "Train Loss: 0.0063,  Train Accuracy: 0.9978,  Train F1-Score: 0.9943, \n",
      "Val Loss: 1.0041,  Val Accuracy: 0.8684,  Val F1-Score: 0.5710, \n",
      "\n",
      "\n"
     ]
    },
    {
     "name": "stderr",
     "output_type": "stream",
     "text": [
      "Epoch 922: 100%|██████████| 23/23 [00:02<00:00,  8.24it/s]\n"
     ]
    },
    {
     "name": "stdout",
     "output_type": "stream",
     "text": [
      "Train Loss: 0.0055,  Train Accuracy: 0.9985,  Train F1-Score: 0.9959, \n",
      "Val Loss: 0.9570,  Val Accuracy: 0.8702,  Val F1-Score: 0.5804, \n",
      "\n",
      "\n"
     ]
    },
    {
     "name": "stderr",
     "output_type": "stream",
     "text": [
      "Epoch 923: 100%|██████████| 23/23 [00:02<00:00,  8.25it/s]\n"
     ]
    },
    {
     "name": "stdout",
     "output_type": "stream",
     "text": [
      "Train Loss: 0.0030,  Train Accuracy: 0.9991,  Train F1-Score: 0.9977, \n",
      "Val Loss: 0.9744,  Val Accuracy: 0.8717,  Val F1-Score: 0.5750, \n",
      "\n",
      "\n"
     ]
    },
    {
     "name": "stderr",
     "output_type": "stream",
     "text": [
      "Epoch 924: 100%|██████████| 23/23 [00:02<00:00,  8.28it/s]\n"
     ]
    },
    {
     "name": "stdout",
     "output_type": "stream",
     "text": [
      "Train Loss: 0.0055,  Train Accuracy: 0.9983,  Train F1-Score: 0.9955, \n",
      "Val Loss: 0.9730,  Val Accuracy: 0.8728,  Val F1-Score: 0.5970, \n",
      "\n",
      "\n"
     ]
    },
    {
     "name": "stderr",
     "output_type": "stream",
     "text": [
      "Epoch 925: 100%|██████████| 23/23 [00:02<00:00,  8.31it/s]\n"
     ]
    },
    {
     "name": "stdout",
     "output_type": "stream",
     "text": [
      "Train Loss: 0.0058,  Train Accuracy: 0.9982,  Train F1-Score: 0.9955, \n",
      "Val Loss: 0.9925,  Val Accuracy: 0.8762,  Val F1-Score: 0.5791, \n",
      "\n",
      "\n"
     ]
    },
    {
     "name": "stderr",
     "output_type": "stream",
     "text": [
      "Epoch 926: 100%|██████████| 23/23 [00:02<00:00,  8.38it/s]\n"
     ]
    },
    {
     "name": "stdout",
     "output_type": "stream",
     "text": [
      "Train Loss: 0.0079,  Train Accuracy: 0.9974,  Train F1-Score: 0.9933, \n",
      "Val Loss: 0.9502,  Val Accuracy: 0.8646,  Val F1-Score: 0.5896, \n",
      "\n",
      "\n"
     ]
    },
    {
     "name": "stderr",
     "output_type": "stream",
     "text": [
      "Epoch 927: 100%|██████████| 23/23 [00:02<00:00,  8.34it/s]\n"
     ]
    },
    {
     "name": "stdout",
     "output_type": "stream",
     "text": [
      "Train Loss: 0.0067,  Train Accuracy: 0.9975,  Train F1-Score: 0.9938, \n",
      "Val Loss: 0.9865,  Val Accuracy: 0.8679,  Val F1-Score: 0.5531, \n",
      "\n",
      "\n"
     ]
    },
    {
     "name": "stderr",
     "output_type": "stream",
     "text": [
      "Epoch 928: 100%|██████████| 23/23 [00:02<00:00,  8.38it/s]\n"
     ]
    },
    {
     "name": "stdout",
     "output_type": "stream",
     "text": [
      "Train Loss: 0.0060,  Train Accuracy: 0.9980,  Train F1-Score: 0.9949, \n",
      "Val Loss: 0.9558,  Val Accuracy: 0.8663,  Val F1-Score: 0.5812, \n",
      "\n",
      "\n"
     ]
    },
    {
     "name": "stderr",
     "output_type": "stream",
     "text": [
      "Epoch 929: 100%|██████████| 23/23 [00:02<00:00,  8.32it/s]\n"
     ]
    },
    {
     "name": "stdout",
     "output_type": "stream",
     "text": [
      "Train Loss: 0.0046,  Train Accuracy: 0.9985,  Train F1-Score: 0.9959, \n",
      "Val Loss: 1.0056,  Val Accuracy: 0.8692,  Val F1-Score: 0.5731, \n",
      "\n",
      "\n"
     ]
    },
    {
     "name": "stderr",
     "output_type": "stream",
     "text": [
      "Epoch 930: 100%|██████████| 23/23 [00:02<00:00,  8.39it/s]\n"
     ]
    },
    {
     "name": "stdout",
     "output_type": "stream",
     "text": [
      "Train Loss: 0.0061,  Train Accuracy: 0.9982,  Train F1-Score: 0.9953, \n",
      "Val Loss: 0.9603,  Val Accuracy: 0.8687,  Val F1-Score: 0.5825, \n",
      "\n",
      "\n"
     ]
    },
    {
     "name": "stderr",
     "output_type": "stream",
     "text": [
      "Epoch 931: 100%|██████████| 23/23 [00:02<00:00,  8.35it/s]\n"
     ]
    },
    {
     "name": "stdout",
     "output_type": "stream",
     "text": [
      "Train Loss: 0.0063,  Train Accuracy: 0.9979,  Train F1-Score: 0.9945, \n",
      "Val Loss: 1.0462,  Val Accuracy: 0.8695,  Val F1-Score: 0.5812, \n",
      "\n",
      "\n"
     ]
    },
    {
     "name": "stderr",
     "output_type": "stream",
     "text": [
      "Epoch 932: 100%|██████████| 23/23 [00:02<00:00,  8.35it/s]\n"
     ]
    },
    {
     "name": "stdout",
     "output_type": "stream",
     "text": [
      "Train Loss: 0.0050,  Train Accuracy: 0.9981,  Train F1-Score: 0.9952, \n",
      "Val Loss: 1.0221,  Val Accuracy: 0.8705,  Val F1-Score: 0.5948, \n",
      "\n",
      "\n"
     ]
    },
    {
     "name": "stderr",
     "output_type": "stream",
     "text": [
      "Epoch 933: 100%|██████████| 23/23 [00:02<00:00,  8.26it/s]\n"
     ]
    },
    {
     "name": "stdout",
     "output_type": "stream",
     "text": [
      "Train Loss: 0.0049,  Train Accuracy: 0.9985,  Train F1-Score: 0.9963, \n",
      "Val Loss: 0.9912,  Val Accuracy: 0.8762,  Val F1-Score: 0.6078, \n",
      "\n",
      "\n"
     ]
    },
    {
     "name": "stderr",
     "output_type": "stream",
     "text": [
      "Epoch 934: 100%|██████████| 23/23 [00:02<00:00,  8.23it/s]\n"
     ]
    },
    {
     "name": "stdout",
     "output_type": "stream",
     "text": [
      "Train Loss: 0.0028,  Train Accuracy: 0.9989,  Train F1-Score: 0.9971, \n",
      "Val Loss: 1.0126,  Val Accuracy: 0.8734,  Val F1-Score: 0.5819, \n",
      "\n",
      "\n"
     ]
    },
    {
     "name": "stderr",
     "output_type": "stream",
     "text": [
      "Epoch 935: 100%|██████████| 23/23 [00:02<00:00,  8.26it/s]\n"
     ]
    },
    {
     "name": "stdout",
     "output_type": "stream",
     "text": [
      "Train Loss: 0.0036,  Train Accuracy: 0.9987,  Train F1-Score: 0.9967, \n",
      "Val Loss: 0.9975,  Val Accuracy: 0.8799,  Val F1-Score: 0.6077, \n",
      "\n",
      "\n"
     ]
    },
    {
     "name": "stderr",
     "output_type": "stream",
     "text": [
      "Epoch 936: 100%|██████████| 23/23 [00:02<00:00,  8.28it/s]\n"
     ]
    },
    {
     "name": "stdout",
     "output_type": "stream",
     "text": [
      "Train Loss: 0.0037,  Train Accuracy: 0.9987,  Train F1-Score: 0.9966, \n",
      "Val Loss: 1.0629,  Val Accuracy: 0.8682,  Val F1-Score: 0.5707, \n",
      "\n",
      "\n"
     ]
    },
    {
     "name": "stderr",
     "output_type": "stream",
     "text": [
      "Epoch 937: 100%|██████████| 23/23 [00:02<00:00,  8.27it/s]\n"
     ]
    },
    {
     "name": "stdout",
     "output_type": "stream",
     "text": [
      "Train Loss: 0.0031,  Train Accuracy: 0.9990,  Train F1-Score: 0.9974, \n",
      "Val Loss: 1.0379,  Val Accuracy: 0.8760,  Val F1-Score: 0.5957, \n",
      "\n",
      "\n"
     ]
    },
    {
     "name": "stderr",
     "output_type": "stream",
     "text": [
      "Epoch 938: 100%|██████████| 23/23 [00:02<00:00,  8.27it/s]\n"
     ]
    },
    {
     "name": "stdout",
     "output_type": "stream",
     "text": [
      "Train Loss: 0.0025,  Train Accuracy: 0.9991,  Train F1-Score: 0.9978, \n",
      "Val Loss: 1.0463,  Val Accuracy: 0.8674,  Val F1-Score: 0.5697, \n",
      "\n",
      "\n"
     ]
    },
    {
     "name": "stderr",
     "output_type": "stream",
     "text": [
      "Epoch 939: 100%|██████████| 23/23 [00:02<00:00,  8.28it/s]\n"
     ]
    },
    {
     "name": "stdout",
     "output_type": "stream",
     "text": [
      "Train Loss: 0.0037,  Train Accuracy: 0.9991,  Train F1-Score: 0.9976, \n",
      "Val Loss: 1.1506,  Val Accuracy: 0.8591,  Val F1-Score: 0.5839, \n",
      "\n",
      "\n"
     ]
    },
    {
     "name": "stderr",
     "output_type": "stream",
     "text": [
      "Epoch 940: 100%|██████████| 23/23 [00:02<00:00,  8.37it/s]\n"
     ]
    },
    {
     "name": "stdout",
     "output_type": "stream",
     "text": [
      "Train Loss: 0.0060,  Train Accuracy: 0.9975,  Train F1-Score: 0.9937, \n",
      "Val Loss: 1.0655,  Val Accuracy: 0.8758,  Val F1-Score: 0.5772, \n",
      "\n",
      "\n"
     ]
    },
    {
     "name": "stderr",
     "output_type": "stream",
     "text": [
      "Epoch 941: 100%|██████████| 23/23 [00:02<00:00,  8.38it/s]\n"
     ]
    },
    {
     "name": "stdout",
     "output_type": "stream",
     "text": [
      "Train Loss: 0.0046,  Train Accuracy: 0.9985,  Train F1-Score: 0.9962, \n",
      "Val Loss: 0.9940,  Val Accuracy: 0.8738,  Val F1-Score: 0.6053, \n",
      "\n",
      "\n"
     ]
    },
    {
     "name": "stderr",
     "output_type": "stream",
     "text": [
      "Epoch 942: 100%|██████████| 23/23 [00:02<00:00,  8.39it/s]\n"
     ]
    },
    {
     "name": "stdout",
     "output_type": "stream",
     "text": [
      "Train Loss: 0.0066,  Train Accuracy: 0.9983,  Train F1-Score: 0.9958, \n",
      "Val Loss: 1.0520,  Val Accuracy: 0.8769,  Val F1-Score: 0.5983, \n",
      "\n",
      "\n"
     ]
    },
    {
     "name": "stderr",
     "output_type": "stream",
     "text": [
      "Epoch 943: 100%|██████████| 23/23 [00:02<00:00,  8.39it/s]\n"
     ]
    },
    {
     "name": "stdout",
     "output_type": "stream",
     "text": [
      "Train Loss: 0.0062,  Train Accuracy: 0.9984,  Train F1-Score: 0.9958, \n",
      "Val Loss: 1.0251,  Val Accuracy: 0.8779,  Val F1-Score: 0.5983, \n",
      "\n",
      "\n"
     ]
    },
    {
     "name": "stderr",
     "output_type": "stream",
     "text": [
      "Epoch 944: 100%|██████████| 23/23 [00:02<00:00,  8.39it/s]\n"
     ]
    },
    {
     "name": "stdout",
     "output_type": "stream",
     "text": [
      "Train Loss: 0.0047,  Train Accuracy: 0.9990,  Train F1-Score: 0.9974, \n",
      "Val Loss: 1.0630,  Val Accuracy: 0.8732,  Val F1-Score: 0.6026, \n",
      "\n",
      "\n"
     ]
    },
    {
     "name": "stderr",
     "output_type": "stream",
     "text": [
      "Epoch 945: 100%|██████████| 23/23 [00:02<00:00,  8.38it/s]\n"
     ]
    },
    {
     "name": "stdout",
     "output_type": "stream",
     "text": [
      "Train Loss: 0.0116,  Train Accuracy: 0.9964,  Train F1-Score: 0.9911, \n",
      "Val Loss: 1.0697,  Val Accuracy: 0.8767,  Val F1-Score: 0.5976, \n",
      "\n",
      "\n"
     ]
    },
    {
     "name": "stderr",
     "output_type": "stream",
     "text": [
      "Epoch 946: 100%|██████████| 23/23 [00:02<00:00,  8.40it/s]\n"
     ]
    },
    {
     "name": "stdout",
     "output_type": "stream",
     "text": [
      "Train Loss: 0.0088,  Train Accuracy: 0.9973,  Train F1-Score: 0.9928, \n",
      "Val Loss: 1.0286,  Val Accuracy: 0.8709,  Val F1-Score: 0.5869, \n",
      "\n",
      "\n"
     ]
    },
    {
     "name": "stderr",
     "output_type": "stream",
     "text": [
      "Epoch 947: 100%|██████████| 23/23 [00:02<00:00,  8.32it/s]\n"
     ]
    },
    {
     "name": "stdout",
     "output_type": "stream",
     "text": [
      "Train Loss: 0.0066,  Train Accuracy: 0.9977,  Train F1-Score: 0.9941, \n",
      "Val Loss: 1.0505,  Val Accuracy: 0.8680,  Val F1-Score: 0.5889, \n",
      "\n",
      "\n"
     ]
    },
    {
     "name": "stderr",
     "output_type": "stream",
     "text": [
      "Epoch 948: 100%|██████████| 23/23 [00:02<00:00,  8.27it/s]\n"
     ]
    },
    {
     "name": "stdout",
     "output_type": "stream",
     "text": [
      "Train Loss: 0.0046,  Train Accuracy: 0.9988,  Train F1-Score: 0.9970, \n",
      "Val Loss: 1.0001,  Val Accuracy: 0.8741,  Val F1-Score: 0.5793, \n",
      "\n",
      "\n"
     ]
    },
    {
     "name": "stderr",
     "output_type": "stream",
     "text": [
      "Epoch 949: 100%|██████████| 23/23 [00:02<00:00,  8.24it/s]\n"
     ]
    },
    {
     "name": "stdout",
     "output_type": "stream",
     "text": [
      "Train Loss: 0.0062,  Train Accuracy: 0.9979,  Train F1-Score: 0.9948, \n",
      "Val Loss: 1.0133,  Val Accuracy: 0.8700,  Val F1-Score: 0.5858, \n",
      "\n",
      "\n"
     ]
    },
    {
     "name": "stderr",
     "output_type": "stream",
     "text": [
      "Epoch 950: 100%|██████████| 23/23 [00:02<00:00,  7.69it/s]\n"
     ]
    },
    {
     "name": "stdout",
     "output_type": "stream",
     "text": [
      "Train Loss: 0.0070,  Train Accuracy: 0.9977,  Train F1-Score: 0.9942, \n",
      "Val Loss: 1.0175,  Val Accuracy: 0.8700,  Val F1-Score: 0.5965, \n",
      "\n",
      "\n"
     ]
    },
    {
     "name": "stderr",
     "output_type": "stream",
     "text": [
      "Epoch 951: 100%|██████████| 23/23 [00:02<00:00,  8.15it/s]\n"
     ]
    },
    {
     "name": "stdout",
     "output_type": "stream",
     "text": [
      "Train Loss: 0.0077,  Train Accuracy: 0.9971,  Train F1-Score: 0.9927, \n",
      "Val Loss: 1.0070,  Val Accuracy: 0.8696,  Val F1-Score: 0.5662, \n",
      "\n",
      "\n"
     ]
    },
    {
     "name": "stderr",
     "output_type": "stream",
     "text": [
      "Epoch 952: 100%|██████████| 23/23 [00:02<00:00,  8.09it/s]\n"
     ]
    },
    {
     "name": "stdout",
     "output_type": "stream",
     "text": [
      "Train Loss: 0.0028,  Train Accuracy: 0.9993,  Train F1-Score: 0.9982, \n",
      "Val Loss: 0.9584,  Val Accuracy: 0.8803,  Val F1-Score: 0.6133, \n",
      "\n",
      "\n"
     ]
    },
    {
     "name": "stderr",
     "output_type": "stream",
     "text": [
      "Epoch 953: 100%|██████████| 23/23 [00:02<00:00,  8.16it/s]\n"
     ]
    },
    {
     "name": "stdout",
     "output_type": "stream",
     "text": [
      "Train Loss: 0.0047,  Train Accuracy: 0.9985,  Train F1-Score: 0.9958, \n",
      "Val Loss: 1.0616,  Val Accuracy: 0.8765,  Val F1-Score: 0.5767, \n",
      "\n",
      "\n"
     ]
    },
    {
     "name": "stderr",
     "output_type": "stream",
     "text": [
      "Epoch 954: 100%|██████████| 23/23 [00:02<00:00,  8.22it/s]\n"
     ]
    },
    {
     "name": "stdout",
     "output_type": "stream",
     "text": [
      "Train Loss: 0.0030,  Train Accuracy: 0.9993,  Train F1-Score: 0.9982, \n",
      "Val Loss: 1.0476,  Val Accuracy: 0.8734,  Val F1-Score: 0.5923, \n",
      "\n",
      "\n"
     ]
    },
    {
     "name": "stderr",
     "output_type": "stream",
     "text": [
      "Epoch 955: 100%|██████████| 23/23 [00:02<00:00,  8.24it/s]\n"
     ]
    },
    {
     "name": "stdout",
     "output_type": "stream",
     "text": [
      "Train Loss: 0.0038,  Train Accuracy: 0.9986,  Train F1-Score: 0.9963, \n",
      "Val Loss: 1.1216,  Val Accuracy: 0.8723,  Val F1-Score: 0.5756, \n",
      "\n",
      "\n"
     ]
    },
    {
     "name": "stderr",
     "output_type": "stream",
     "text": [
      "Epoch 956: 100%|██████████| 23/23 [00:02<00:00,  8.27it/s]\n"
     ]
    },
    {
     "name": "stdout",
     "output_type": "stream",
     "text": [
      "Train Loss: 0.0048,  Train Accuracy: 0.9982,  Train F1-Score: 0.9953, \n",
      "Val Loss: 1.0785,  Val Accuracy: 0.8728,  Val F1-Score: 0.5979, \n",
      "\n",
      "\n"
     ]
    },
    {
     "name": "stderr",
     "output_type": "stream",
     "text": [
      "Epoch 957: 100%|██████████| 23/23 [00:02<00:00,  8.25it/s]\n"
     ]
    },
    {
     "name": "stdout",
     "output_type": "stream",
     "text": [
      "Train Loss: 0.0049,  Train Accuracy: 0.9981,  Train F1-Score: 0.9951, \n",
      "Val Loss: 1.0383,  Val Accuracy: 0.8760,  Val F1-Score: 0.5971, \n",
      "\n",
      "\n"
     ]
    },
    {
     "name": "stderr",
     "output_type": "stream",
     "text": [
      "Epoch 958: 100%|██████████| 23/23 [00:02<00:00,  8.24it/s]\n"
     ]
    },
    {
     "name": "stdout",
     "output_type": "stream",
     "text": [
      "Train Loss: 0.0041,  Train Accuracy: 0.9985,  Train F1-Score: 0.9961, \n",
      "Val Loss: 1.0904,  Val Accuracy: 0.8706,  Val F1-Score: 0.5862, \n",
      "\n",
      "\n"
     ]
    },
    {
     "name": "stderr",
     "output_type": "stream",
     "text": [
      "Epoch 959: 100%|██████████| 23/23 [00:02<00:00,  8.24it/s]\n"
     ]
    },
    {
     "name": "stdout",
     "output_type": "stream",
     "text": [
      "Train Loss: 0.0035,  Train Accuracy: 0.9990,  Train F1-Score: 0.9974, \n",
      "Val Loss: 1.0699,  Val Accuracy: 0.8762,  Val F1-Score: 0.5905, \n",
      "\n",
      "\n"
     ]
    },
    {
     "name": "stderr",
     "output_type": "stream",
     "text": [
      "Epoch 960: 100%|██████████| 23/23 [00:02<00:00,  7.73it/s]\n"
     ]
    },
    {
     "name": "stdout",
     "output_type": "stream",
     "text": [
      "Train Loss: 0.0045,  Train Accuracy: 0.9981,  Train F1-Score: 0.9954, \n",
      "Val Loss: 1.0881,  Val Accuracy: 0.8701,  Val F1-Score: 0.5757, \n",
      "\n",
      "\n"
     ]
    },
    {
     "name": "stderr",
     "output_type": "stream",
     "text": [
      "Epoch 961: 100%|██████████| 23/23 [00:02<00:00,  8.17it/s]\n"
     ]
    },
    {
     "name": "stdout",
     "output_type": "stream",
     "text": [
      "Train Loss: 0.0048,  Train Accuracy: 0.9988,  Train F1-Score: 0.9969, \n",
      "Val Loss: 1.0217,  Val Accuracy: 0.8718,  Val F1-Score: 0.6011, \n",
      "\n",
      "\n"
     ]
    },
    {
     "name": "stderr",
     "output_type": "stream",
     "text": [
      "Epoch 962: 100%|██████████| 23/23 [00:02<00:00,  8.11it/s]\n"
     ]
    },
    {
     "name": "stdout",
     "output_type": "stream",
     "text": [
      "Train Loss: 0.0062,  Train Accuracy: 0.9982,  Train F1-Score: 0.9955, \n",
      "Val Loss: 1.0936,  Val Accuracy: 0.8656,  Val F1-Score: 0.5845, \n",
      "\n",
      "\n"
     ]
    },
    {
     "name": "stderr",
     "output_type": "stream",
     "text": [
      "Epoch 963: 100%|██████████| 23/23 [00:02<00:00,  7.87it/s]\n"
     ]
    },
    {
     "name": "stdout",
     "output_type": "stream",
     "text": [
      "Train Loss: 0.0071,  Train Accuracy: 0.9977,  Train F1-Score: 0.9940, \n",
      "Val Loss: 1.0173,  Val Accuracy: 0.8734,  Val F1-Score: 0.5939, \n",
      "\n",
      "\n"
     ]
    },
    {
     "name": "stderr",
     "output_type": "stream",
     "text": [
      "Epoch 964: 100%|██████████| 23/23 [00:02<00:00,  8.19it/s]\n"
     ]
    },
    {
     "name": "stdout",
     "output_type": "stream",
     "text": [
      "Train Loss: 0.0057,  Train Accuracy: 0.9980,  Train F1-Score: 0.9947, \n",
      "Val Loss: 1.0062,  Val Accuracy: 0.8865,  Val F1-Score: 0.6117, \n",
      "\n",
      "\n"
     ]
    },
    {
     "name": "stderr",
     "output_type": "stream",
     "text": [
      "Epoch 965: 100%|██████████| 23/23 [00:02<00:00,  8.23it/s]\n"
     ]
    },
    {
     "name": "stdout",
     "output_type": "stream",
     "text": [
      "Train Loss: 0.0043,  Train Accuracy: 0.9983,  Train F1-Score: 0.9957, \n",
      "Val Loss: 1.0698,  Val Accuracy: 0.8733,  Val F1-Score: 0.5777, \n",
      "\n",
      "\n"
     ]
    },
    {
     "name": "stderr",
     "output_type": "stream",
     "text": [
      "Epoch 966: 100%|██████████| 23/23 [00:02<00:00,  8.19it/s]\n"
     ]
    },
    {
     "name": "stdout",
     "output_type": "stream",
     "text": [
      "Train Loss: 0.0052,  Train Accuracy: 0.9981,  Train F1-Score: 0.9949, \n",
      "Val Loss: 1.0795,  Val Accuracy: 0.8734,  Val F1-Score: 0.6045, \n",
      "\n",
      "\n"
     ]
    },
    {
     "name": "stderr",
     "output_type": "stream",
     "text": [
      "Epoch 967: 100%|██████████| 23/23 [00:02<00:00,  8.27it/s]\n"
     ]
    },
    {
     "name": "stdout",
     "output_type": "stream",
     "text": [
      "Train Loss: 0.0035,  Train Accuracy: 0.9988,  Train F1-Score: 0.9970, \n",
      "Val Loss: 1.0547,  Val Accuracy: 0.8773,  Val F1-Score: 0.6090, \n",
      "\n",
      "\n"
     ]
    },
    {
     "name": "stderr",
     "output_type": "stream",
     "text": [
      "Epoch 968: 100%|██████████| 23/23 [00:02<00:00,  8.33it/s]\n"
     ]
    },
    {
     "name": "stdout",
     "output_type": "stream",
     "text": [
      "Train Loss: 0.0039,  Train Accuracy: 0.9986,  Train F1-Score: 0.9965, \n",
      "Val Loss: 1.1564,  Val Accuracy: 0.8685,  Val F1-Score: 0.5922, \n",
      "\n",
      "\n"
     ]
    },
    {
     "name": "stderr",
     "output_type": "stream",
     "text": [
      "Epoch 969: 100%|██████████| 23/23 [00:02<00:00,  8.34it/s]\n"
     ]
    },
    {
     "name": "stdout",
     "output_type": "stream",
     "text": [
      "Train Loss: 0.0055,  Train Accuracy: 0.9981,  Train F1-Score: 0.9953, \n",
      "Val Loss: 1.0837,  Val Accuracy: 0.8687,  Val F1-Score: 0.5757, \n",
      "\n",
      "\n"
     ]
    },
    {
     "name": "stderr",
     "output_type": "stream",
     "text": [
      "Epoch 970: 100%|██████████| 23/23 [00:02<00:00,  8.38it/s]\n"
     ]
    },
    {
     "name": "stdout",
     "output_type": "stream",
     "text": [
      "Train Loss: 0.0045,  Train Accuracy: 0.9983,  Train F1-Score: 0.9957, \n",
      "Val Loss: 1.0799,  Val Accuracy: 0.8666,  Val F1-Score: 0.5860, \n",
      "\n",
      "\n"
     ]
    },
    {
     "name": "stderr",
     "output_type": "stream",
     "text": [
      "Epoch 971: 100%|██████████| 23/23 [00:02<00:00,  8.37it/s]\n"
     ]
    },
    {
     "name": "stdout",
     "output_type": "stream",
     "text": [
      "Train Loss: 0.0058,  Train Accuracy: 0.9977,  Train F1-Score: 0.9943, \n",
      "Val Loss: 1.0591,  Val Accuracy: 0.8757,  Val F1-Score: 0.6101, \n",
      "\n",
      "\n"
     ]
    },
    {
     "name": "stderr",
     "output_type": "stream",
     "text": [
      "Epoch 972: 100%|██████████| 23/23 [00:02<00:00,  8.34it/s]\n"
     ]
    },
    {
     "name": "stdout",
     "output_type": "stream",
     "text": [
      "Train Loss: 0.0049,  Train Accuracy: 0.9984,  Train F1-Score: 0.9957, \n",
      "Val Loss: 1.1397,  Val Accuracy: 0.8707,  Val F1-Score: 0.5903, \n",
      "\n",
      "\n"
     ]
    },
    {
     "name": "stderr",
     "output_type": "stream",
     "text": [
      "Epoch 973: 100%|██████████| 23/23 [00:02<00:00,  8.34it/s]\n"
     ]
    },
    {
     "name": "stdout",
     "output_type": "stream",
     "text": [
      "Train Loss: 0.0072,  Train Accuracy: 0.9975,  Train F1-Score: 0.9936, \n",
      "Val Loss: 1.0648,  Val Accuracy: 0.8711,  Val F1-Score: 0.5867, \n",
      "\n",
      "\n"
     ]
    },
    {
     "name": "stderr",
     "output_type": "stream",
     "text": [
      "Epoch 974: 100%|██████████| 23/23 [00:02<00:00,  8.35it/s]\n"
     ]
    },
    {
     "name": "stdout",
     "output_type": "stream",
     "text": [
      "Train Loss: 0.0084,  Train Accuracy: 0.9978,  Train F1-Score: 0.9944, \n",
      "Val Loss: 1.0816,  Val Accuracy: 0.8605,  Val F1-Score: 0.5842, \n",
      "\n",
      "\n"
     ]
    },
    {
     "name": "stderr",
     "output_type": "stream",
     "text": [
      "Epoch 975: 100%|██████████| 23/23 [00:02<00:00,  8.30it/s]\n"
     ]
    },
    {
     "name": "stdout",
     "output_type": "stream",
     "text": [
      "Train Loss: 0.0051,  Train Accuracy: 0.9986,  Train F1-Score: 0.9966, \n",
      "Val Loss: 1.0713,  Val Accuracy: 0.8661,  Val F1-Score: 0.5750, \n",
      "\n",
      "\n"
     ]
    },
    {
     "name": "stderr",
     "output_type": "stream",
     "text": [
      "Epoch 976: 100%|██████████| 23/23 [00:02<00:00,  8.21it/s]\n"
     ]
    },
    {
     "name": "stdout",
     "output_type": "stream",
     "text": [
      "Train Loss: 0.0027,  Train Accuracy: 0.9994,  Train F1-Score: 0.9986, \n",
      "Val Loss: 1.1205,  Val Accuracy: 0.8691,  Val F1-Score: 0.5694, \n",
      "\n",
      "\n"
     ]
    },
    {
     "name": "stderr",
     "output_type": "stream",
     "text": [
      "Epoch 977: 100%|██████████| 23/23 [00:02<00:00,  8.22it/s]\n"
     ]
    },
    {
     "name": "stdout",
     "output_type": "stream",
     "text": [
      "Train Loss: 0.0102,  Train Accuracy: 0.9974,  Train F1-Score: 0.9932, \n",
      "Val Loss: 1.0836,  Val Accuracy: 0.8751,  Val F1-Score: 0.5698, \n",
      "\n",
      "\n"
     ]
    },
    {
     "name": "stderr",
     "output_type": "stream",
     "text": [
      "Epoch 978: 100%|██████████| 23/23 [00:02<00:00,  8.20it/s]\n"
     ]
    },
    {
     "name": "stdout",
     "output_type": "stream",
     "text": [
      "Train Loss: 0.0097,  Train Accuracy: 0.9972,  Train F1-Score: 0.9927, \n",
      "Val Loss: 1.0410,  Val Accuracy: 0.8507,  Val F1-Score: 0.5743, \n",
      "\n",
      "\n"
     ]
    },
    {
     "name": "stderr",
     "output_type": "stream",
     "text": [
      "Epoch 979: 100%|██████████| 23/23 [00:02<00:00,  8.21it/s]\n"
     ]
    },
    {
     "name": "stdout",
     "output_type": "stream",
     "text": [
      "Train Loss: 0.0093,  Train Accuracy: 0.9965,  Train F1-Score: 0.9909, \n",
      "Val Loss: 1.0239,  Val Accuracy: 0.8699,  Val F1-Score: 0.5968, \n",
      "\n",
      "\n"
     ]
    },
    {
     "name": "stderr",
     "output_type": "stream",
     "text": [
      "Epoch 980: 100%|██████████| 23/23 [00:02<00:00,  8.21it/s]\n"
     ]
    },
    {
     "name": "stdout",
     "output_type": "stream",
     "text": [
      "Train Loss: 0.0205,  Train Accuracy: 0.9944,  Train F1-Score: 0.9853, \n",
      "Val Loss: 0.9918,  Val Accuracy: 0.8810,  Val F1-Score: 0.6108, \n",
      "\n",
      "\n"
     ]
    },
    {
     "name": "stderr",
     "output_type": "stream",
     "text": [
      "Epoch 981: 100%|██████████| 23/23 [00:02<00:00,  8.22it/s]\n"
     ]
    },
    {
     "name": "stdout",
     "output_type": "stream",
     "text": [
      "Train Loss: 0.0129,  Train Accuracy: 0.9959,  Train F1-Score: 0.9894, \n",
      "Val Loss: 1.0592,  Val Accuracy: 0.8786,  Val F1-Score: 0.5796, \n",
      "\n",
      "\n"
     ]
    },
    {
     "name": "stderr",
     "output_type": "stream",
     "text": [
      "Epoch 982: 100%|██████████| 23/23 [00:02<00:00,  8.30it/s]\n"
     ]
    },
    {
     "name": "stdout",
     "output_type": "stream",
     "text": [
      "Train Loss: 0.0333,  Train Accuracy: 0.9889,  Train F1-Score: 0.9697, \n",
      "Val Loss: 0.8572,  Val Accuracy: 0.8624,  Val F1-Score: 0.5869, \n",
      "\n",
      "\n"
     ]
    },
    {
     "name": "stderr",
     "output_type": "stream",
     "text": [
      "Epoch 983: 100%|██████████| 23/23 [00:02<00:00,  8.33it/s]\n"
     ]
    },
    {
     "name": "stdout",
     "output_type": "stream",
     "text": [
      "Train Loss: 0.0178,  Train Accuracy: 0.9937,  Train F1-Score: 0.9842, \n",
      "Val Loss: 0.8422,  Val Accuracy: 0.8554,  Val F1-Score: 0.5419, \n",
      "\n",
      "\n"
     ]
    },
    {
     "name": "stderr",
     "output_type": "stream",
     "text": [
      "Epoch 984: 100%|██████████| 23/23 [00:02<00:00,  8.35it/s]\n"
     ]
    },
    {
     "name": "stdout",
     "output_type": "stream",
     "text": [
      "Train Loss: 0.0173,  Train Accuracy: 0.9950,  Train F1-Score: 0.9876, \n",
      "Val Loss: 0.8662,  Val Accuracy: 0.8657,  Val F1-Score: 0.5526, \n",
      "\n",
      "\n"
     ]
    },
    {
     "name": "stderr",
     "output_type": "stream",
     "text": [
      "Epoch 985: 100%|██████████| 23/23 [00:02<00:00,  8.34it/s]\n"
     ]
    },
    {
     "name": "stdout",
     "output_type": "stream",
     "text": [
      "Train Loss: 0.0129,  Train Accuracy: 0.9964,  Train F1-Score: 0.9908, \n",
      "Val Loss: 0.8232,  Val Accuracy: 0.8611,  Val F1-Score: 0.5980, \n",
      "\n",
      "\n"
     ]
    },
    {
     "name": "stderr",
     "output_type": "stream",
     "text": [
      "Epoch 986: 100%|██████████| 23/23 [00:02<00:00,  8.37it/s]\n"
     ]
    },
    {
     "name": "stdout",
     "output_type": "stream",
     "text": [
      "Train Loss: 0.0161,  Train Accuracy: 0.9940,  Train F1-Score: 0.9844, \n",
      "Val Loss: 0.8498,  Val Accuracy: 0.8581,  Val F1-Score: 0.5873, \n",
      "\n",
      "\n"
     ]
    },
    {
     "name": "stderr",
     "output_type": "stream",
     "text": [
      "Epoch 987: 100%|██████████| 23/23 [00:02<00:00,  8.34it/s]\n"
     ]
    },
    {
     "name": "stdout",
     "output_type": "stream",
     "text": [
      "Train Loss: 0.0125,  Train Accuracy: 0.9959,  Train F1-Score: 0.9895, \n",
      "Val Loss: 0.8646,  Val Accuracy: 0.8753,  Val F1-Score: 0.5875, \n",
      "\n",
      "\n"
     ]
    },
    {
     "name": "stderr",
     "output_type": "stream",
     "text": [
      "Epoch 988: 100%|██████████| 23/23 [00:02<00:00,  8.18it/s]\n"
     ]
    },
    {
     "name": "stdout",
     "output_type": "stream",
     "text": [
      "Train Loss: 0.0079,  Train Accuracy: 0.9978,  Train F1-Score: 0.9939, \n",
      "Val Loss: 0.8405,  Val Accuracy: 0.8743,  Val F1-Score: 0.5868, \n",
      "\n",
      "\n"
     ]
    },
    {
     "name": "stderr",
     "output_type": "stream",
     "text": [
      "Epoch 989: 100%|██████████| 23/23 [00:02<00:00,  8.21it/s]\n"
     ]
    },
    {
     "name": "stdout",
     "output_type": "stream",
     "text": [
      "Train Loss: 0.0059,  Train Accuracy: 0.9983,  Train F1-Score: 0.9955, \n",
      "Val Loss: 0.9548,  Val Accuracy: 0.8744,  Val F1-Score: 0.5695, \n",
      "\n",
      "\n"
     ]
    },
    {
     "name": "stderr",
     "output_type": "stream",
     "text": [
      "Epoch 990: 100%|██████████| 23/23 [00:02<00:00,  8.33it/s]\n"
     ]
    },
    {
     "name": "stdout",
     "output_type": "stream",
     "text": [
      "Train Loss: 0.0043,  Train Accuracy: 0.9989,  Train F1-Score: 0.9973, \n",
      "Val Loss: 0.9510,  Val Accuracy: 0.8651,  Val F1-Score: 0.5761, \n",
      "\n",
      "\n"
     ]
    },
    {
     "name": "stderr",
     "output_type": "stream",
     "text": [
      "Epoch 991: 100%|██████████| 23/23 [00:02<00:00,  8.33it/s]\n"
     ]
    },
    {
     "name": "stdout",
     "output_type": "stream",
     "text": [
      "Train Loss: 0.0033,  Train Accuracy: 0.9992,  Train F1-Score: 0.9977, \n",
      "Val Loss: 1.0077,  Val Accuracy: 0.8675,  Val F1-Score: 0.5484, \n",
      "\n",
      "\n"
     ]
    },
    {
     "name": "stderr",
     "output_type": "stream",
     "text": [
      "Epoch 992: 100%|██████████| 23/23 [00:02<00:00,  8.32it/s]\n"
     ]
    },
    {
     "name": "stdout",
     "output_type": "stream",
     "text": [
      "Train Loss: 0.0031,  Train Accuracy: 0.9991,  Train F1-Score: 0.9976, \n",
      "Val Loss: 0.9664,  Val Accuracy: 0.8735,  Val F1-Score: 0.5732, \n",
      "\n",
      "\n"
     ]
    },
    {
     "name": "stderr",
     "output_type": "stream",
     "text": [
      "Epoch 993: 100%|██████████| 23/23 [00:02<00:00,  8.33it/s]\n"
     ]
    },
    {
     "name": "stdout",
     "output_type": "stream",
     "text": [
      "Train Loss: 0.0025,  Train Accuracy: 0.9991,  Train F1-Score: 0.9975, \n",
      "Val Loss: 0.9393,  Val Accuracy: 0.8738,  Val F1-Score: 0.5943, \n",
      "\n",
      "\n"
     ]
    },
    {
     "name": "stderr",
     "output_type": "stream",
     "text": [
      "Epoch 994: 100%|██████████| 23/23 [00:02<00:00,  8.34it/s]\n"
     ]
    },
    {
     "name": "stdout",
     "output_type": "stream",
     "text": [
      "Train Loss: 0.0039,  Train Accuracy: 0.9985,  Train F1-Score: 0.9962, \n",
      "Val Loss: 0.9527,  Val Accuracy: 0.8835,  Val F1-Score: 0.6177, \n",
      "\n",
      "\n"
     ]
    },
    {
     "name": "stderr",
     "output_type": "stream",
     "text": [
      "Epoch 995: 100%|██████████| 23/23 [00:02<00:00,  8.33it/s]\n"
     ]
    },
    {
     "name": "stdout",
     "output_type": "stream",
     "text": [
      "Train Loss: 0.0036,  Train Accuracy: 0.9990,  Train F1-Score: 0.9973, \n",
      "Val Loss: 0.9787,  Val Accuracy: 0.8796,  Val F1-Score: 0.6136, \n",
      "\n",
      "\n"
     ]
    },
    {
     "name": "stderr",
     "output_type": "stream",
     "text": [
      "Epoch 996: 100%|██████████| 23/23 [00:02<00:00,  8.41it/s]\n"
     ]
    },
    {
     "name": "stdout",
     "output_type": "stream",
     "text": [
      "Train Loss: 0.0056,  Train Accuracy: 0.9980,  Train F1-Score: 0.9948, \n",
      "Val Loss: 1.0179,  Val Accuracy: 0.8739,  Val F1-Score: 0.5744, \n",
      "\n",
      "\n"
     ]
    },
    {
     "name": "stderr",
     "output_type": "stream",
     "text": [
      "Epoch 997: 100%|██████████| 23/23 [00:02<00:00,  8.46it/s]\n"
     ]
    },
    {
     "name": "stdout",
     "output_type": "stream",
     "text": [
      "Train Loss: 0.0069,  Train Accuracy: 0.9974,  Train F1-Score: 0.9932, \n",
      "Val Loss: 1.0091,  Val Accuracy: 0.8687,  Val F1-Score: 0.5981, \n",
      "\n",
      "\n"
     ]
    },
    {
     "name": "stderr",
     "output_type": "stream",
     "text": [
      "Epoch 998: 100%|██████████| 23/23 [00:02<00:00,  8.46it/s]\n"
     ]
    },
    {
     "name": "stdout",
     "output_type": "stream",
     "text": [
      "Train Loss: 0.0041,  Train Accuracy: 0.9987,  Train F1-Score: 0.9968, \n",
      "Val Loss: 1.0643,  Val Accuracy: 0.8754,  Val F1-Score: 0.5848, \n",
      "\n",
      "\n"
     ]
    },
    {
     "name": "stderr",
     "output_type": "stream",
     "text": [
      "Epoch 999: 100%|██████████| 23/23 [00:02<00:00,  8.45it/s]\n"
     ]
    },
    {
     "name": "stdout",
     "output_type": "stream",
     "text": [
      "Train Loss: 0.0036,  Train Accuracy: 0.9987,  Train F1-Score: 0.9969, \n",
      "Val Loss: 0.9883,  Val Accuracy: 0.8786,  Val F1-Score: 0.6099, \n",
      "\n",
      "\n"
     ]
    },
    {
     "name": "stderr",
     "output_type": "stream",
     "text": [
      "Epoch 1000: 100%|██████████| 23/23 [00:02<00:00,  8.41it/s]\n"
     ]
    },
    {
     "name": "stdout",
     "output_type": "stream",
     "text": [
      "Train Loss: 0.0044,  Train Accuracy: 0.9985,  Train F1-Score: 0.9960, \n",
      "Val Loss: 1.0305,  Val Accuracy: 0.8756,  Val F1-Score: 0.5751, \n",
      "\n",
      "\n"
     ]
    }
   ],
   "source": [
    "metrics = train(model, NUM_EPOCHS, device, loader_tr, loader_val, optimizer, criterion, verbose=True)"
   ]
  },
  {
   "cell_type": "code",
   "execution_count": 11,
   "id": "7c9dc501",
   "metadata": {},
   "outputs": [
    {
     "data": {
      "image/png": "[encoded data removed]",
      "text/plain": [
       "<Figure size 1500x1000 with 3 Axes>"
      ]
     },
     "metadata": {},
     "output_type": "display_data"
    }
   ],
   "source": [
    "display_metrics(NUM_EPOCHS, metrics)"
   ]
  },
  {
   "cell_type": "code",
   "execution_count": 18,
   "id": "addb8a1c",
   "metadata": {},
   "outputs": [
    {
     "data": {
      "text/plain": [
       "[0.0,\n",
       " 0.2851559255809437,\n",
       " 0.29241539273901734,\n",
       " 0.3047771817093329,\n",
       " 0.36682449173539694,\n",
       " 0.39105464938150575,\n",
       " 0.37724848343573264,\n",
       " 0.35992030938708547,\n",
       " 0.40268433571185863,\n",
       " 0.38258737796488185,\n",
       " 0.41016690477419954,\n",
       " 0.4102899343111385,\n",
       " 0.4040034096162737,\n",
       " 0.30495047736427044,\n",
       " 0.3015245551234838,\n",
       " 0.3338296669854795,\n",
       " 0.374260815437286,\n",
       " 0.40967840194946775,\n",
       " 0.41361634997998636,\n",
       " 0.463231850117096,\n",
       " 0.41866253803720177,\n",
       " 0.45906593406593404,\n",
       " 0.4364235583747778,\n",
       " 0.18624816805080605,\n",
       " 0.14797026872498573,\n",
       " 0.3109799210906676,\n",
       " 0.34810120760403357,\n",
       " 0.4215088682041308,\n",
       " 0.2901433691756272,\n",
       " 0.3330846054530265,\n",
       " 0.43076362310916716,\n",
       " 0.4060744755793719,\n",
       " 0.43418382367506636,\n",
       " 0.36528211751308864,\n",
       " 0.40392156862745104,\n",
       " 0.41285666809096516,\n",
       " 0.3636992426089964,\n",
       " 0.4344547964113181,\n",
       " 0.39711854986960793,\n",
       " 0.4864111020996666,\n",
       " 0.3968193729104545,\n",
       " 0.46354682873616954,\n",
       " 0.45244175840444995,\n",
       " 0.4742775742775743,\n",
       " 0.4371699905033239,\n",
       " 0.41548582995951416,\n",
       " 0.43469280180445224,\n",
       " 0.3853069396772793,\n",
       " 0.4862084351841074,\n",
       " 0.4597504281869342,\n",
       " 0.4712102569589329,\n",
       " 0.4916317226754863,\n",
       " 0.5026155800553515,\n",
       " 0.5002494032967854,\n",
       " 0.46893661214346644,\n",
       " 0.5004948268106163,\n",
       " 0.5022154445715254,\n",
       " 0.5076895660696783,\n",
       " 0.4657519504977132,\n",
       " 0.4875154477025054,\n",
       " 0.4422613839936675,\n",
       " 0.4412454789554375,\n",
       " 0.4366044585866797,\n",
       " 0.5160728313320615,\n",
       " 0.48294122356880304,\n",
       " 0.5020486555697823,\n",
       " 0.5151989398819109,\n",
       " 0.5438265438265438,\n",
       " 0.4808894366310634,\n",
       " 0.4429545116736411,\n",
       " 0.426989676989677,\n",
       " 0.5172265288544359,\n",
       " 0.46115288220551376,\n",
       " 0.49608106515847766,\n",
       " 0.45967310118253507,\n",
       " 0.4973983090823324,\n",
       " 0.48535251710654936,\n",
       " 0.45513764281880226,\n",
       " 0.4400810851609842,\n",
       " 0.5441565093889335,\n",
       " 0.47660076421305214,\n",
       " 0.40219332726470264,\n",
       " 0.506998796335144,\n",
       " 0.49707229172764267,\n",
       " 0.5235612286044021,\n",
       " 0.5015994183933116,\n",
       " 0.5026666666666667,\n",
       " 0.5136038197156875,\n",
       " 0.448941798941799,\n",
       " 0.5007865007865008,\n",
       " 0.4964407088238863,\n",
       " 0.4955119364862109,\n",
       " 0.5173103648386554,\n",
       " 0.484828398880542,\n",
       " 0.5341997424189205,\n",
       " 0.5334868642005771,\n",
       " 0.5509522110531976,\n",
       " 0.4879499831925873,\n",
       " 0.5127220159543185,\n",
       " 0.5205876951331497,\n",
       " 0.5613813946631284,\n",
       " 0.5308167810031241,\n",
       " 0.5173503341442273,\n",
       " 0.5425214881736621,\n",
       " 0.5353153374376604,\n",
       " 0.5238860641845716,\n",
       " 0.5481104121713537,\n",
       " 0.5486508690492692,\n",
       " 0.5455084597941742,\n",
       " 0.5249189834555689,\n",
       " 0.5150162157359278,\n",
       " 0.5422683532046239,\n",
       " 0.562637214172324,\n",
       " 0.526991286914951,\n",
       " 0.559871858602596,\n",
       " 0.5767971280973644,\n",
       " 0.5490620490620491,\n",
       " 0.5414349952906147,\n",
       " 0.5420425564310456,\n",
       " 0.5231108417568878,\n",
       " 0.5512805474095797,\n",
       " 0.5739401938873973,\n",
       " 0.5163292329029935,\n",
       " 0.5541574734557191,\n",
       " 0.5463636363636364,\n",
       " 0.57160177394757,\n",
       " 0.5642825896762904,\n",
       " 0.5200093925651976,\n",
       " 0.5028387931171997,\n",
       " 0.5447136230583398,\n",
       " 0.5614919181537886,\n",
       " 0.558973901670531,\n",
       " 0.5809471322675667,\n",
       " 0.570991242346741,\n",
       " 0.5275619103714523,\n",
       " 0.5330432597287534,\n",
       " 0.5611311931874937,\n",
       " 0.5692757534862797,\n",
       " 0.5342850692526251,\n",
       " 0.5660598363772413,\n",
       " 0.551814023826918,\n",
       " 0.5198790322580645,\n",
       " 0.556952380952381,\n",
       " 0.5888270760500582,\n",
       " 0.5750245150923504,\n",
       " 0.5395066334198515,\n",
       " 0.508253866385824,\n",
       " 0.5751146022926844,\n",
       " 0.5716173292717852,\n",
       " 0.5645124980163344,\n",
       " 0.5132431701774768,\n",
       " 0.5235588972431078,\n",
       " 0.5078531828531828,\n",
       " 0.5389988322401114,\n",
       " 0.5213385799592697,\n",
       " 0.5252342630807877,\n",
       " 0.5415332965415747,\n",
       " 0.5832861724202981,\n",
       " 0.5576416294666926,\n",
       " 0.5472099931994703,\n",
       " 0.5669153259477815,\n",
       " 0.5565860215053763,\n",
       " 0.5469908270564546,\n",
       " 0.5522624434389141,\n",
       " 0.5743898937697387,\n",
       " 0.5917468467917762,\n",
       " 0.6042820572793582,\n",
       " 0.5510325994196962,\n",
       " 0.5747249368761201,\n",
       " 0.5623210250107272,\n",
       " 0.5847459507081308,\n",
       " 0.5819351542177629,\n",
       " 0.547986272986273,\n",
       " 0.5732670827649451,\n",
       " 0.5592000747593683,\n",
       " 0.596281743633721,\n",
       " 0.5373956735232932,\n",
       " 0.5781521266526983,\n",
       " 0.5688943745875011,\n",
       " 0.5933244678342717,\n",
       " 0.5758460304731355,\n",
       " 0.5078890853538741,\n",
       " 0.5863785154713205,\n",
       " 0.572009861040801,\n",
       " 0.5631823461091754,\n",
       " 0.5336085207641426,\n",
       " 0.594006056086593,\n",
       " 0.5544134039889558,\n",
       " 0.5489425221519263,\n",
       " 0.5681061872280194,\n",
       " 0.593308502820841,\n",
       " 0.5538045978717405,\n",
       " 0.5884633833108976,\n",
       " 0.5464152438165674,\n",
       " 0.5445504198255482,\n",
       " 0.5602928102170694,\n",
       " 0.5713890330392666,\n",
       " 0.577940697295536,\n",
       " 0.5554283290924512,\n",
       " 0.5954709609639187,\n",
       " 0.589029712692734,\n",
       " 0.5627302176732664,\n",
       " 0.5785247432306256,\n",
       " 0.6005942738477447,\n",
       " 0.595540814446287,\n",
       " 0.5967163236602658,\n",
       " 0.5642417742824374,\n",
       " 0.5570682047989859,\n",
       " 0.5931144451692396,\n",
       " 0.5742933537051184,\n",
       " 0.5584079283887468,\n",
       " 0.5845097858292582,\n",
       " 0.5969552861878511,\n",
       " 0.581013706013706,\n",
       " 0.6067227154867605,\n",
       " 0.5998058966111182,\n",
       " 0.6266878661244859,\n",
       " 0.5954908891407191,\n",
       " 0.5858246888143155,\n",
       " 0.5837121826428597,\n",
       " 0.5878636410077241,\n",
       " 0.5953396467384756,\n",
       " 0.5883661439216995,\n",
       " 0.5813282074476104,\n",
       " 0.5998845598845599,\n",
       " 0.590709370811037,\n",
       " 0.586776601923867,\n",
       " 0.5661180320655611,\n",
       " 0.5828607223956062,\n",
       " 0.574159125495668,\n",
       " 0.5285058375967466,\n",
       " 0.5994386131372432,\n",
       " 0.5745643866449236,\n",
       " 0.5582608405826085,\n",
       " 0.6035187153959282,\n",
       " 0.5909220587239162,\n",
       " 0.5492307220227685,\n",
       " 0.5421470763056574,\n",
       " 0.5864105123087159,\n",
       " 0.536261475150364,\n",
       " 0.5688311688311688,\n",
       " 0.6118792599805257,\n",
       " 0.5694526677555465,\n",
       " 0.5770426764792962,\n",
       " 0.5998217468805703,\n",
       " 0.6093073593073592,\n",
       " 0.5502664686292159,\n",
       " 0.6036421911421912,\n",
       " 0.5907821657614533,\n",
       " 0.6066794055575613,\n",
       " 0.5911144578313253,\n",
       " 0.6121999477904886,\n",
       " 0.6030369602028423,\n",
       " 0.6021758110817448,\n",
       " 0.6225582948411152,\n",
       " 0.5857795828335783,\n",
       " 0.6083738965431896,\n",
       " 0.6090214945764117,\n",
       " 0.5627083062805697,\n",
       " 0.5668548927976461,\n",
       " 0.5841880341880342,\n",
       " 0.5927758775440894,\n",
       " 0.6042709911194274,\n",
       " 0.6035415544557114,\n",
       " 0.5779609013464528,\n",
       " 0.5573011365276166,\n",
       " 0.5946375463616843,\n",
       " 0.584728011531524,\n",
       " 0.6038614030844264,\n",
       " 0.5996838899812297,\n",
       " 0.6115324470248314,\n",
       " 0.5623405272374215,\n",
       " 0.5750237963318131,\n",
       " 0.6021424216912938,\n",
       " 0.5951084286398377,\n",
       " 0.5743719121202564,\n",
       " 0.5689024036810965,\n",
       " 0.5590068092716143,\n",
       " 0.574852630408186,\n",
       " 0.594334891420781,\n",
       " 0.5835997988939167,\n",
       " 0.5723396870029043,\n",
       " 0.54092013781009,\n",
       " 0.5827939184103568,\n",
       " 0.5642965284042054,\n",
       " 0.5833670114578441,\n",
       " 0.5881433381433381,\n",
       " 0.582464846980976,\n",
       " 0.6193059628543499,\n",
       " 0.6108632556000977,\n",
       " 0.584418901660281,\n",
       " 0.6000716912626122,\n",
       " 0.5839725345283958,\n",
       " 0.6106248126796072,\n",
       " 0.5641129945189597,\n",
       " 0.5901994629842732,\n",
       " 0.6028265958185283,\n",
       " 0.5935512788189483,\n",
       " 0.5168607533606012,\n",
       " 0.5981879242664317,\n",
       " 0.6023892671909785,\n",
       " 0.6031660980375003,\n",
       " 0.5735063124397387,\n",
       " 0.5821836267506896,\n",
       " 0.5816008862366479,\n",
       " 0.6200601744483306,\n",
       " 0.5654909644679466,\n",
       " 0.5794224457015155,\n",
       " 0.5942984445240084,\n",
       " 0.5938628757272749,\n",
       " 0.5632657940350247,\n",
       " 0.5881010396361274,\n",
       " 0.5810809231668127,\n",
       " 0.5704289241789537,\n",
       " 0.5863476625931897,\n",
       " 0.5713743006316014,\n",
       " 0.5684226207102023,\n",
       " 0.5806643855146849,\n",
       " 0.6081072887292294,\n",
       " 0.570140719899174,\n",
       " 0.6014624172625305,\n",
       " 0.5718925201023356,\n",
       " 0.5614278240901154,\n",
       " 0.5865298142717498,\n",
       " 0.5707292248425334,\n",
       " 0.6047270671185593,\n",
       " 0.5844613506813184,\n",
       " 0.5792897638359081,\n",
       " 0.5890491376711569,\n",
       " 0.5466584209441353,\n",
       " 0.5861661124629164,\n",
       " 0.6042733974759464,\n",
       " 0.600104106419896,\n",
       " 0.6052840066500171,\n",
       " 0.5616831032215647,\n",
       " 0.6020246390439986,\n",
       " 0.5728957934631693,\n",
       " 0.5976948694988836,\n",
       " 0.596574384044494,\n",
       " 0.5733008323719498,\n",
       " 0.5827910844976714,\n",
       " 0.5573106318631349,\n",
       " 0.6168595283971007,\n",
       " 0.6160541880623017,\n",
       " 0.6003073228834022,\n",
       " 0.6002397560165473,\n",
       " 0.5970473829534232,\n",
       " 0.5838209392768064,\n",
       " 0.6163780663780664,\n",
       " 0.6432140733510596,\n",
       " 0.6106898881465356,\n",
       " 0.6106606865620149,\n",
       " 0.590666458560949,\n",
       " 0.6208140906189569,\n",
       " 0.5943512627723154,\n",
       " 0.6056185526419403,\n",
       " 0.6154649045467905,\n",
       " 0.5957455431139641,\n",
       " 0.5924649463885944,\n",
       " 0.5967785145000336,\n",
       " 0.5674012133589067,\n",
       " 0.5943145740057688,\n",
       " 0.5698539925479359,\n",
       " 0.5802639510167825,\n",
       " 0.5884539603746565,\n",
       " 0.6015463756680975,\n",
       " 0.5895514987604237,\n",
       " 0.6044839408155901,\n",
       " 0.5866391479224933,\n",
       " 0.6064372264762635,\n",
       " 0.5917430306394709,\n",
       " 0.594430235862461,\n",
       " 0.5976744186046511,\n",
       " 0.5612589480236538,\n",
       " 0.596704299716348,\n",
       " 0.5862573099415205,\n",
       " 0.5916278036864313,\n",
       " 0.5990629057684386,\n",
       " 0.5928174188807673,\n",
       " 0.5676471568284435,\n",
       " 0.5838383838383838,\n",
       " 0.5986361137429671,\n",
       " 0.5647252232109103,\n",
       " 0.5509366273262806,\n",
       " 0.5867511833769502,\n",
       " 0.591501626183707,\n",
       " 0.5999484651741834,\n",
       " 0.5721266494018992,\n",
       " 0.5524479033964129,\n",
       " 0.5536495041264707,\n",
       " 0.5599594572329708,\n",
       " 0.5526127836385061,\n",
       " 0.5922305370158131,\n",
       " 0.5683578280703437,\n",
       " 0.5996296192895763,\n",
       " 0.5750316255534472,\n",
       " 0.5759768058166662,\n",
       " 0.5946124700132278,\n",
       " 0.5920551888293822,\n",
       " 0.5628089628089629,\n",
       " 0.5578142888084409,\n",
       " 0.5773131474812147,\n",
       " 0.5745057169966378,\n",
       " 0.5867155978183735,\n",
       " 0.5747150231450746,\n",
       " 0.6160471541628981,\n",
       " 0.5817290552584671,\n",
       " 0.5773492602760896,\n",
       " 0.5632710085139262,\n",
       " 0.582651120482924,\n",
       " 0.5848169054855985,\n",
       " 0.6015946502057613,\n",
       " 0.6097077362049231,\n",
       " 0.5918977574149987,\n",
       " 0.5531020613373555,\n",
       " 0.5685034712493384,\n",
       " 0.5614237614237614,\n",
       " 0.6242178988533386,\n",
       " 0.5781933463470869,\n",
       " 0.5565274008516131,\n",
       " 0.583893243747667,\n",
       " 0.5968707898014692,\n",
       " 0.5758829637354124,\n",
       " 0.5781095715878325,\n",
       " 0.5580382335620362,\n",
       " 0.5777184273424876,\n",
       " 0.5428572029548858,\n",
       " 0.5832481295746303,\n",
       " 0.5854283309879778,\n",
       " 0.5937321200955216,\n",
       " 0.5935698991306142,\n",
       " 0.602788744527691,\n",
       " 0.5749146580075767,\n",
       " 0.5882277597392201,\n",
       " 0.5905049254105857,\n",
       " 0.5773195092080541,\n",
       " 0.6124725177423985,\n",
       " 0.6068513005107848,\n",
       " 0.5769261985414598,\n",
       " 0.6007396384814466,\n",
       " 0.5614267788615056,\n",
       " 0.5577422530033324,\n",
       " 0.5685558828151969,\n",
       " 0.6084946799232513,\n",
       " 0.6168843217012774,\n",
       " 0.6284178268102618,\n",
       " 0.5830706769409231,\n",
       " 0.6040230683902549,\n",
       " 0.5912337662337662,\n",
       " 0.601566048077676,\n",
       " 0.6114409658044315,\n",
       " 0.5998426213274627,\n",
       " 0.5820634920634921,\n",
       " 0.6006113132404853,\n",
       " 0.5960609438870309,\n",
       " 0.6019186332911822,\n",
       " 0.5831510261890008,\n",
       " 0.5928285732396691,\n",
       " 0.6023287029009242,\n",
       " 0.5953203792815039,\n",
       " 0.5776314248916988,\n",
       " 0.5776579520697168,\n",
       " 0.5978030042426327,\n",
       " 0.5973171152518978,\n",
       " 0.5580497338095559,\n",
       " 0.5928029449327624,\n",
       " 0.6026436749328316,\n",
       " 0.6211882324513712,\n",
       " 0.613575318047518,\n",
       " 0.5731695823458751,\n",
       " 0.5563212608987257,\n",
       " 0.59670519561847,\n",
       " 0.5861544037694818,\n",
       " 0.5839972643625612,\n",
       " 0.5753426900967885,\n",
       " 0.5993954335847219,\n",
       " 0.5996209085513343,\n",
       " 0.5705362505362505,\n",
       " 0.5869017808920592,\n",
       " 0.582007722007722,\n",
       " 0.5648083223817261,\n",
       " 0.5895385213251725,\n",
       " 0.5908536585365854,\n",
       " 0.5624964920527055,\n",
       " 0.5577872660064441,\n",
       " 0.5429705084178982,\n",
       " 0.5816364705253594,\n",
       " 0.5549919875328951,\n",
       " 0.5756963337219846,\n",
       " 0.5803505712370317,\n",
       " 0.5651006269427321,\n",
       " 0.5796681616280315,\n",
       " 0.5435179480674797,\n",
       " 0.5381583096814885,\n",
       " 0.5844239631336405,\n",
       " 0.5823891284589727,\n",
       " 0.594803780675565,\n",
       " 0.5877992661313585,\n",
       " 0.5811745896252939,\n",
       " 0.5892363261093911,\n",
       " 0.5839831752809997,\n",
       " 0.5763943612643376,\n",
       " 0.5879932692829616,\n",
       " 0.5746890758683212,\n",
       " 0.5910865803710275,\n",
       " 0.5599185356957378,\n",
       " 0.5754079748755058,\n",
       " 0.5965472673849783,\n",
       " 0.5596153846153845,\n",
       " 0.5794010930142525,\n",
       " 0.5501619368286035,\n",
       " 0.5710340489109066,\n",
       " 0.5947913454620207,\n",
       " 0.5821767013875352,\n",
       " 0.5895079342432745,\n",
       " 0.5834390843548168,\n",
       " 0.5875928790589781,\n",
       " 0.5871355230128213,\n",
       " 0.5779547089733792,\n",
       " 0.5852901484480432,\n",
       " 0.5543098673367376,\n",
       " 0.6085763293310462,\n",
       " 0.6162235855487389,\n",
       " 0.6003069788707097,\n",
       " 0.5718453321657191,\n",
       " 0.5931967707268485,\n",
       " 0.5777148959286793,\n",
       " 0.5992840422537298,\n",
       " 0.5629215745494816,\n",
       " 0.5901441012024798,\n",
       " 0.550029941749687,\n",
       " 0.5624901123239994,\n",
       " 0.6022653279158202,\n",
       " 0.5864972275766879,\n",
       " 0.5893181730285802,\n",
       " 0.5636924803591471,\n",
       " 0.563229357554511,\n",
       " 0.575050965083496,\n",
       " 0.5688152466172453,\n",
       " 0.5662729406332961,\n",
       " 0.606190603866893,\n",
       " 0.5712669710895947,\n",
       " 0.5987065926992982,\n",
       " 0.5992931483251217,\n",
       " 0.5970551847592571,\n",
       " 0.6029642841975623,\n",
       " 0.5890587592280393,\n",
       " 0.560456684409473,\n",
       " 0.5796064400715563,\n",
       " 0.5611183643540407,\n",
       " 0.5988359383444218,\n",
       " 0.5881466379733454,\n",
       " 0.5767728888471922,\n",
       " 0.5530480984340045,\n",
       " 0.5798201962694275,\n",
       " 0.5552835828139472,\n",
       " 0.5992581769135663,\n",
       " 0.5915204303210905,\n",
       " 0.6047097404152618,\n",
       " 0.6067026543076762,\n",
       " 0.5411945190195601,\n",
       " 0.5996098084646034,\n",
       " 0.5632424877707897,\n",
       " 0.5657907983489379,\n",
       " 0.5956129156047357,\n",
       " 0.5837343761435406,\n",
       " 0.5634941981095828,\n",
       " 0.5492038034139076,\n",
       " 0.6040307929865589,\n",
       " 0.5824565993738926,\n",
       " 0.5791260410235076,\n",
       " 0.5656529749614417,\n",
       " 0.5804199892430372,\n",
       " 0.5809181881600155,\n",
       " 0.5662194931610625,\n",
       " 0.586851907335279,\n",
       " 0.607627373709245,\n",
       " 0.5824642275694165,\n",
       " 0.5387671271817613,\n",
       " 0.602568634381996,\n",
       " 0.5963603413123915,\n",
       " 0.5756263616557734,\n",
       " 0.5636462173431277,\n",
       " 0.5821322113666739,\n",
       " 0.5634323881682636,\n",
       " 0.5541084429973319,\n",
       " 0.5721437346437347,\n",
       " 0.5661021984551396,\n",
       " 0.5727911037263556,\n",
       " 0.5605805797725397,\n",
       " 0.5940928270042194,\n",
       " 0.5497121925693355,\n",
       " 0.5871603299362954,\n",
       " 0.5782532760932517,\n",
       " 0.5806562015674491,\n",
       " 0.5821150540895764,\n",
       " 0.573561415666679,\n",
       " 0.5686466887467295,\n",
       " 0.5753576052845261,\n",
       " 0.5581655099638784,\n",
       " 0.5731689307445613,\n",
       " 0.5820969270339785,\n",
       " 0.5631512219185364,\n",
       " 0.5587601463943241,\n",
       " 0.5720583710268009,\n",
       " 0.5578492250278121,\n",
       " 0.5836525379382523,\n",
       " 0.5611052228699288,\n",
       " 0.5847454522417248,\n",
       " 0.577027027027027,\n",
       " 0.5967774595736064,\n",
       " 0.59102890791854,\n",
       " 0.5716778369112777,\n",
       " 0.5757170977419049,\n",
       " 0.5431615000580517,\n",
       " 0.5671401129525195,\n",
       " 0.5843527640941435,\n",
       " 0.5736680197527438,\n",
       " 0.5638361480578965,\n",
       " 0.578241045121387,\n",
       " 0.5973885452764253,\n",
       " 0.6033168324686246,\n",
       " 0.5804008534069883,\n",
       " 0.5818836602808728,\n",
       " 0.603600103542074,\n",
       " 0.5796683819325329,\n",
       " 0.5675026998076661,\n",
       " 0.5635339922132374,\n",
       " 0.576475279106858,\n",
       " 0.5645443717229269,\n",
       " 0.5870633431609041,\n",
       " 0.5801482179513888,\n",
       " 0.5620143391307332,\n",
       " 0.5843335313923549,\n",
       " 0.6116466842482401,\n",
       " 0.5831498627007848,\n",
       " 0.6089421028221518,\n",
       " 0.545423274635931,\n",
       " 0.5942090153642444,\n",
       " 0.5687110016420361,\n",
       " 0.5829805996472662,\n",
       " 0.5833444831450814,\n",
       " 0.583933588761175,\n",
       " 0.5761516184079468,\n",
       " 0.5808140272425987,\n",
       " 0.6037735849056604,\n",
       " 0.5927651923394591,\n",
       " 0.5653026536922968,\n",
       " 0.586020457210111,\n",
       " 0.6026862243890327,\n",
       " 0.60107081746426,\n",
       " 0.5887567338056949,\n",
       " 0.6011241699409481,\n",
       " 0.5963201812675657,\n",
       " 0.6015039707639328,\n",
       " 0.597767803370186,\n",
       " 0.6155132820717958,\n",
       " 0.603408116143997,\n",
       " 0.6119948318224181,\n",
       " 0.6048544060204949,\n",
       " 0.5860186179735053,\n",
       " 0.5751574400581023,\n",
       " 0.5959547201762935,\n",
       " 0.6050903490118674,\n",
       " 0.6049546170028098,\n",
       " 0.5905465978374015,\n",
       " 0.6028469949939872,\n",
       " 0.5663265306122449,\n",
       " 0.5728038569629669,\n",
       " 0.588359009411641,\n",
       " 0.5921456321456322,\n",
       " 0.5838970876322319,\n",
       " 0.5693138293819825,\n",
       " 0.5729219129481025,\n",
       " 0.5934156378600822,\n",
       " 0.5651161504764597,\n",
       " 0.5751168772283859,\n",
       " 0.5906147363202577,\n",
       " 0.5658781362007169,\n",
       " 0.5986367546820196,\n",
       " 0.5693957115009747,\n",
       " 0.5106266825065016,\n",
       " 0.5976946300064222,\n",
       " 0.5573605119163466,\n",
       " 0.5700861704101695,\n",
       " 0.5840914184642036,\n",
       " 0.5441443820314625,\n",
       " 0.5888648799567668,\n",
       " 0.5893552847406643,\n",
       " 0.5732091629349745,\n",
       " 0.5723852312281851,\n",
       " 0.6165687426556992,\n",
       " 0.574073358389452,\n",
       " 0.5906961146725312,\n",
       " 0.623832504889506,\n",
       " 0.5884736203326908,\n",
       " 0.5750502221090456,\n",
       " 0.6065800252313657,\n",
       " 0.6098746252855309,\n",
       " 0.6096296317091179,\n",
       " 0.57351016608427,\n",
       " 0.5769674112337047,\n",
       " 0.5739486815288273,\n",
       " 0.5813199368119744,\n",
       " 0.5648958360658929,\n",
       " 0.5808143345687556,\n",
       " 0.5343413064806101,\n",
       " 0.5762067075826315,\n",
       " 0.5662298804514793,\n",
       " 0.5791201047015,\n",
       " 0.5753658553186854,\n",
       " 0.5673598553345388,\n",
       " 0.5747306817384682,\n",
       " 0.5987645313488009,\n",
       " 0.5517879708434804,\n",
       " 0.5680225332827301,\n",
       " 0.5825492123053099,\n",
       " 0.5567646944412027,\n",
       " 0.591283287084368,\n",
       " 0.5907515801881998,\n",
       " 0.565912284626779,\n",
       " 0.5894157274258324,\n",
       " 0.5584527730039536,\n",
       " 0.5864002487637046,\n",
       " 0.5756169287814857,\n",
       " 0.594389892441666,\n",
       " 0.5863636363636364,\n",
       " 0.5824273711914162,\n",
       " 0.5822803966927855,\n",
       " 0.601812865497076,\n",
       " 0.5942748963384638,\n",
       " 0.5877341503399715,\n",
       " 0.5942257183128207,\n",
       " 0.56785248586436,\n",
       " 0.557732893840085,\n",
       " 0.5773594344051113,\n",
       " 0.5365620490620491,\n",
       " 0.5786831731953684,\n",
       " 0.573041395826206,\n",
       " 0.5639992516895447,\n",
       " 0.6050757003137955,\n",
       " 0.5404754225508942,\n",
       " 0.5562743401649376,\n",
       " 0.5892571589588249,\n",
       " 0.5733674463937621,\n",
       " 0.5609082993639977,\n",
       " 0.583768755076772,\n",
       " 0.5668054875061245,\n",
       " 0.5562323202437006,\n",
       " 0.6003056872282637,\n",
       " 0.5967834775481603,\n",
       " 0.5984920230203249,\n",
       " 0.5827273239754214,\n",
       " 0.5873931823956564,\n",
       " 0.5662286191072173,\n",
       " 0.5570347113204256,\n",
       " 0.5745041013327922,\n",
       " 0.5949392879999652,\n",
       " 0.574224341421962,\n",
       " 0.5477076632298036,\n",
       " 0.5711417932884664,\n",
       " 0.5837774134043862,\n",
       " 0.5838829774457762,\n",
       " 0.5651319062899657,\n",
       " 0.5805581569930356,\n",
       " 0.5181821923394957,\n",
       " 0.5549994423999108,\n",
       " 0.591729892455114,\n",
       " 0.5724302378790737,\n",
       " 0.5433842057718823,\n",
       " 0.5650129773822766,\n",
       " 0.5458198419706913,\n",
       " 0.5832371965724924,\n",
       " 0.5860358553117807,\n",
       " 0.585820009598141,\n",
       " 0.5750503296220005,\n",
       " 0.5944062458473581,\n",
       " 0.5830452674897119,\n",
       " 0.5797054364305826,\n",
       " 0.5920244452159347,\n",
       " 0.5722356739305892,\n",
       " 0.5854793542719086,\n",
       " 0.5835270045217188,\n",
       " 0.5743502502637601,\n",
       " 0.5681991056248482,\n",
       " 0.5724033416341109,\n",
       " 0.5837219441916893,\n",
       " 0.5813178727086011,\n",
       " 0.6079576130254863,\n",
       " 0.584453691848058,\n",
       " 0.5810752688172043,\n",
       " 0.5864070603334407,\n",
       " 0.6038095238095238,\n",
       " 0.5628081867620957,\n",
       " 0.5824706694271912,\n",
       " 0.5737590106416058,\n",
       " 0.5862546305273639,\n",
       " 0.5362372995960781,\n",
       " 0.5647055212115016,\n",
       " 0.542066462066462,\n",
       " 0.5643960380641336,\n",
       " 0.5690698954320309,\n",
       " 0.5756711468820003,\n",
       " 0.5652191295358686,\n",
       " 0.5867442605861449,\n",
       " 0.5773420479302832,\n",
       " 0.6120032441200324,\n",
       " 0.5960116381134227,\n",
       " 0.5774312324019927,\n",
       " 0.5773125910112212,\n",
       " 0.5965415330440798,\n",
       " 0.5874017568192326,\n",
       " 0.5817416332321481,\n",
       " 0.614424991339371,\n",
       " 0.5844017094017094,\n",
       " 0.5842548985406127,\n",
       " 0.6057986412955988,\n",
       " 0.5931082026587644,\n",
       " 0.5804430711407456,\n",
       " 0.5989416142564186,\n",
       " 0.591364957616156,\n",
       " 0.5877750555348197,\n",
       " 0.5847466422466422,\n",
       " 0.6009199237639704,\n",
       " 0.5876361096969284,\n",
       " 0.5797896086918989,\n",
       " 0.5665497076023391,\n",
       " 0.5594682488709464,\n",
       " 0.5735288312970838,\n",
       " 0.5621677256609791,\n",
       " 0.5853486074893915,\n",
       " 0.5803921568627451,\n",
       " 0.5829036469110996,\n",
       " 0.5826811431596269,\n",
       " 0.603438494534385,\n",
       " 0.6077554500060894,\n",
       " 0.5599363575212893,\n",
       " 0.5854669032605596,\n",
       " 0.5998819373606861,\n",
       " 0.5938531022183863,\n",
       " 0.6114545311825424,\n",
       " 0.5623945538475453,\n",
       " 0.6127159470987142,\n",
       " 0.5584374125327486,\n",
       " 0.5875883501720146,\n",
       " 0.5728487405702595,\n",
       " 0.5830330111036991,\n",
       " 0.5510480924845566,\n",
       " 0.581721473700236,\n",
       " 0.5313808574277168,\n",
       " 0.573796840572812,\n",
       " 0.5618169780510507,\n",
       " 0.561617458279846,\n",
       " 0.5667372331704077,\n",
       " 0.561594262951729,\n",
       " 0.570444202743354,\n",
       " 0.5664405572503035,\n",
       " 0.5195453584691411,\n",
       " 0.5573554189260786,\n",
       " 0.5782443521016095,\n",
       " 0.5638393045322543,\n",
       " 0.5535979503192617,\n",
       " 0.530319624634006,\n",
       " 0.5830964633152943,\n",
       " 0.6063768115942029,\n",
       " 0.5569803248459405,\n",
       " 0.6117874037765525,\n",
       " 0.5820634920634921,\n",
       " 0.6034474545662153,\n",
       " 0.5632877908374861,\n",
       " 0.5434976588600368,\n",
       " 0.5784661604333736,\n",
       " 0.5964598359827017,\n",
       " 0.5704903642005553,\n",
       " 0.590245733102876,\n",
       " 0.575364250177683,\n",
       " 0.571358446972195,\n",
       " 0.5835592257937096,\n",
       " 0.5601007560514603,\n",
       " 0.5912121212121213,\n",
       " 0.5983028083028082,\n",
       " 0.6030197846262572,\n",
       " 0.5811038578589839,\n",
       " 0.5857880975269386,\n",
       " 0.5957575757575757,\n",
       " 0.5747276688453159,\n",
       " 0.5904399812159087,\n",
       " 0.5872913992297818,\n",
       " 0.5737382034284431,\n",
       " 0.5543236189127116,\n",
       " 0.5957835643649868,\n",
       " 0.592434988179669,\n",
       " 0.5365327866306339,\n",
       " 0.5879212196558267,\n",
       " 0.5959145798483676,\n",
       " 0.5505330490405117,\n",
       " 0.5840757919194302,\n",
       " 0.5977861343998196,\n",
       " 0.5964433803075557,\n",
       " 0.5510662177328843,\n",
       " 0.573337922331211,\n",
       " 0.5943133775411724,\n",
       " 0.5809064486689529,\n",
       " 0.5723137927366447,\n",
       " 0.5471207308779088,\n",
       " 0.5909209313940772,\n",
       " 0.5899241603466955,\n",
       " 0.6036492374727668,\n",
       " 0.6047762282380821,\n",
       " 0.593755058523863,\n",
       " 0.5761900934314728,\n",
       " 0.5705240415395715,\n",
       " 0.5701838765770099,\n",
       " 0.5874579124579125,\n",
       " 0.5585553765120329,\n",
       " 0.5308641975308642,\n",
       " 0.5814065310640654,\n",
       " 0.5875919665371131,\n",
       " 0.5835989543181324,\n",
       " 0.5780765514993403,\n",
       " 0.5709812403965328,\n",
       " 0.5804241078935863,\n",
       " 0.5750207670920392,\n",
       " 0.5970169204056224,\n",
       " 0.5790989196561952,\n",
       " 0.5896023526403273,\n",
       " 0.5530876783122721,\n",
       " 0.581237685708954,\n",
       " 0.5731498285944747,\n",
       " 0.5825386215092098,\n",
       " 0.5812417153730934,\n",
       " 0.5947761172052063,\n",
       " 0.6077694411413592,\n",
       " 0.5818978159663782,\n",
       " 0.607705191966287,\n",
       " 0.5706946048423823,\n",
       " 0.5957486488543807,\n",
       " 0.569679655301611,\n",
       " 0.5838780974636094,\n",
       " 0.5771582685786002,\n",
       " 0.6052521786140312,\n",
       " 0.598330281371217,\n",
       " 0.5983355825461089,\n",
       " 0.6025542784163473,\n",
       " 0.5975979100198826,\n",
       " 0.5868530782438067,\n",
       " 0.5889218160893814,\n",
       " 0.5793437827324226,\n",
       " 0.5858492241042577,\n",
       " 0.5964968384772971,\n",
       " 0.5662128636745741,\n",
       " 0.6133303014224715,\n",
       " 0.5766722311621775,\n",
       " 0.5923235733616384,\n",
       " 0.5756044453290193,\n",
       " 0.5978712147237841,\n",
       " 0.5970695970695971,\n",
       " 0.5861678004535148,\n",
       " 0.5904751810634163,\n",
       " 0.5756800160594199,\n",
       " 0.601115949918345,\n",
       " 0.5844604433116779,\n",
       " 0.5938981653267367,\n",
       " 0.6116951101428226,\n",
       " 0.5777001211443481,\n",
       " 0.6044642203178788,\n",
       " 0.6089988442929619,\n",
       " 0.5922269004460786,\n",
       " 0.5756876304395228,\n",
       " 0.586039930072572,\n",
       " 0.6100839392042628,\n",
       " 0.5902918787619313,\n",
       " 0.5866624299666178,\n",
       " 0.5841840763023671,\n",
       " 0.5750261550403294,\n",
       " 0.5694026134496524,\n",
       " 0.5697740086697759,\n",
       " 0.5743325600094232,\n",
       " 0.5968391839784387,\n",
       " 0.610821331719272,\n",
       " 0.579584777078792,\n",
       " 0.5869029617532612,\n",
       " 0.541949000227146,\n",
       " 0.5526443225841655,\n",
       " 0.5979517052828878,\n",
       " 0.5873275370597683,\n",
       " 0.5874646189682959,\n",
       " 0.5868180384736675,\n",
       " 0.5694619745742018,\n",
       " 0.5761107228219133,\n",
       " 0.5483669706047419,\n",
       " 0.5731792538051167,\n",
       " 0.5943329579133847,\n",
       " 0.6177362511269568,\n",
       " 0.6135533101389198,\n",
       " 0.5743552004485561,\n",
       " 0.5981132476927579,\n",
       " 0.5848028366768997,\n",
       " 0.6098578691842269,\n",
       " 0.5751131248207272]"
      ]
     },
     "execution_count": 18,
     "metadata": {},
     "output_type": "execute_result"
    }
   ],
   "source": [
    "metrics[\"eval\"][\"f1\"]"
   ]
  }
 ],
 "metadata": {
  "kernelspec": {
   "display_name": "nml",
   "language": "python",
   "name": "python3"
  },
  "language_info": {
   "codemirror_mode": {
    "name": "ipython",
    "version": 3
   },
   "file_extension": ".py",
   "mimetype": "text/x-python",
   "name": "python",
   "nbconvert_exporter": "python",
   "pygments_lexer": "ipython3",
   "version": "3.12.9"
  }
 },
 "nbformat": 4,
 "nbformat_minor": 5
}
