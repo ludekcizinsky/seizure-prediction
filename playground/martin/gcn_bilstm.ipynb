{
 "cells": [
  {
   "cell_type": "code",
   "execution_count": 1,
   "id": "1a15b47f",
   "metadata": {},
   "outputs": [],
   "source": [
    "from pathlib import Path\n",
    "import pandas as pd\n",
    "from seiz_eeg.dataset import EEGDataset\n",
    "\n",
    "import torch\n",
    "import torch.nn as nn\n",
    "import torch.nn.functional as F\n",
    "import torch.optim as optim\n",
    "from torch.utils.data import DataLoader\n",
    "\n",
    "from torch_geometric.nn import GCNConv\n",
    "\n",
    "from training import train\n",
    "from utils import display_metrics, count_parameters, seed_everything\n",
    "from preprocessing import normalize_z_score"
   ]
  },
  {
   "cell_type": "code",
   "execution_count": 2,
   "id": "a1a29d91",
   "metadata": {},
   "outputs": [],
   "source": [
    "# You might need to change this according to where you store the data folder\n",
    "# Inside your data folder, you should have the following structure:\n",
    "# data\n",
    "# ├── train\n",
    "# │   ├── signals/\n",
    "# │   ├── segments.parquet\n",
    "# │-- test\n",
    "#     ├── signals/\n",
    "#     ├── segments.parquet\n",
    "\n",
    "data_path = \"/home/ogut/data\"\n",
    "\n",
    "DATA_ROOT = Path(data_path)"
   ]
  },
  {
   "cell_type": "code",
   "execution_count": 3,
   "id": "c3ef49da",
   "metadata": {},
   "outputs": [],
   "source": [
    "seed_everything(1)"
   ]
  },
  {
   "cell_type": "code",
   "execution_count": 4,
   "id": "50bc2d0d",
   "metadata": {},
   "outputs": [],
   "source": [
    "clips_tr = pd.read_parquet(DATA_ROOT / \"train/segments.parquet\")\n",
    "clips_te = pd.read_parquet(DATA_ROOT / \"test/segments.parquet\")"
   ]
  },
  {
   "cell_type": "code",
   "execution_count": 5,
   "id": "59681537",
   "metadata": {},
   "outputs": [],
   "source": [
    "\"\"\"\n",
    "Based on https://www.sciencedirect.com/science/article/pii/S1746809422004098#fig4\n",
    "\"\"\"\n",
    "\n",
    "class SlidingWindowBatch(nn.Module):\n",
    "    #TODO assert last window shape\n",
    "    def __init__(self, window_size=125, step_size=62):\n",
    "        super().__init__()\n",
    "        self.window_size = window_size\n",
    "        self.step_size = step_size\n",
    "\n",
    "    def forward(self, data):\n",
    "        batch_size, signal_len, channels = data.shape\n",
    "        num_windows = (signal_len - self.window_size) // self.step_size + 1\n",
    "\n",
    "        windows = []\n",
    "        for i in range(num_windows):\n",
    "            start = i * self.step_size\n",
    "            end = start + self.window_size\n",
    "            window = data[:, start:end, :]  # shape: (batch_size, window_size, 19)\n",
    "            windows.append(window)\n",
    "\n",
    "        windows = torch.stack(windows, dim=1)  # shape: (batch_size, num_windows, window_size, 19)\n",
    "        return windows.transpose(-2,-1) # shape: (batch_size, num_windows, 19, window_size)\n",
    "\n",
    "class GCNLayer(nn.Module):\n",
    "    def __init__(self, in_channels, hidden_channels=32):\n",
    "        super().__init__()\n",
    "\n",
    "        self.gcn1 = GCNConv(in_channels=in_channels, out_channels=hidden_channels)\n",
    "\n",
    "        self.gcn2 = GCNConv(in_channels=hidden_channels, out_channels=hidden_channels)\n",
    "\n",
    "        self.activation = nn.GELU()\n",
    "        \n",
    "    def forward(self, x, edge_index):\n",
    "        # First GAT layer\n",
    "        x = self.gcn1(x, edge_index)  # shape: (batch_size * num_windows, 19, hidden_channels * num_heads_1)\n",
    "        \n",
    "        x = self.activation(x)\n",
    "\n",
    "        # Second GAT layer with 1 attention head\n",
    "        x = self.gcn2(x, edge_index)  # shape: (batch_size * num_windows, 19, hidden_channels)\n",
    "        \n",
    "        return x\n",
    "    \n",
    "class TemporalAttention(nn.Module):\n",
    "    def __init__(self, hidden_dim, attn_dim):\n",
    "        \"\"\"\n",
    "        Args:\n",
    "            hidden_dim: dimension of BiLSTM output (hidden_size * 2 if BiLSTM)\n",
    "            attn_dim: dimension of intermediate MLP hidden layer\n",
    "        \"\"\"\n",
    "        super().__init__()\n",
    "        self.attention_mlp = nn.Linear(hidden_dim, attn_dim)\n",
    "        self.context_vector = nn.Parameter(torch.randn(attn_dim))\n",
    "\n",
    "    def forward(self, h):\n",
    "        \"\"\"\n",
    "        Args:\n",
    "            h: Tensor of shape (batch_size, seq_len, hidden_dim)\n",
    "        \n",
    "        Returns:\n",
    "            s: Tensor of shape (batch_size, hidden_dim)\n",
    "        \"\"\"\n",
    "        # Step 1: compute ut = tanh(Wh + b)\n",
    "        u = torch.tanh(self.attention_mlp(h))  # (batch_size, seq_len, attn_dim)\n",
    "\n",
    "        # Step 2: compute scores: dot(u_t, u_w)\n",
    "        # context_vector: (attn_dim,)\n",
    "        scores = torch.matmul(u, self.context_vector)  # (batch_size, seq_len)\n",
    "\n",
    "        # Step 3: softmax over time\n",
    "        alpha = F.softmax(scores, dim=1)  # (batch_size, seq_len)\n",
    "\n",
    "        # Step 4: weighted sum of h\n",
    "        s = torch.bmm(alpha.unsqueeze(1), h)  # (batch_size, 1, hidden_dim)\n",
    "        s = s.squeeze(1)  # (batch_size, hidden_dim)\n",
    "\n",
    "        return s\n",
    "\n",
    "class CombinedModel(nn.Module):\n",
    "    def __init__(self, gcn_in_features=64, gcn_out_features=32, output_size=1, window_size=125, step_size=62, lstm_input_size=128, lstm_hidden_size=128, attention_dim=64):\n",
    "        super().__init__()\n",
    "\n",
    "        # Sliding window batch layer\n",
    "        self.sliding_window = SlidingWindowBatch(window_size=window_size, step_size=step_size)\n",
    "\n",
    "        # Projection layer from 125 to 64 features\n",
    "        self.projection = nn.Linear(window_size, gcn_in_features)\n",
    "\n",
    "        # GAT layers\n",
    "        self.gcn = GCNLayer(in_channels=gcn_in_features, hidden_channels=gcn_out_features)\n",
    "\n",
    "        # Flattening the output and passing through a fully connected layer before BiLSTM\n",
    "        self.fc = nn.Linear(19 * gcn_out_features, lstm_input_size)  # 19 nodes * 32 features per node\n",
    "\n",
    "        # BiLSTM\n",
    "        self.bilstm = nn.LSTM(input_size=lstm_input_size, hidden_size=lstm_hidden_size, num_layers=3, batch_first=True, bidirectional=False, dropout=0.5)\n",
    "\n",
    "        # Attention\n",
    "        self.attention = TemporalAttention(lstm_hidden_size, attention_dim)\n",
    "\n",
    "        # Final output layer\n",
    "        self.output_layer = nn.Linear(lstm_hidden_size, output_size)  # *2 because of bidirectional\n",
    "\n",
    "    def forward(self, x, edge_index):\n",
    "        # Apply sliding window on input\n",
    "        windows = self.sliding_window(x)  # shape: (batch_size, num_windows, 19, window_size)\n",
    "\n",
    "        # Projection layer\n",
    "        windows_proj = self.projection(windows)  # shape: (batch_size, num_windows, 19, 64)\n",
    "\n",
    "        # Reshape to (batch_size * num_windows, 19, 64) for GCN\n",
    "        batch_size, num_windows, nodes, features = windows_proj.shape\n",
    "        windows_proj = windows_proj.view(batch_size * num_windows, nodes, features)  # shape: (batch_size * num_windows, 19, 64)\n",
    "        \n",
    "        # Make the tensor contiguous before passing it to GCN\n",
    "        windows_proj = windows_proj.contiguous()\n",
    "\n",
    "        # Apply GCN\n",
    "        gcn_out = self.gcn(windows_proj, edge_index)  # shape: (batch_size * num_windows, 19, 32)\n",
    "\n",
    "        # Reshape back to (batch_size, num_windows, 19, 32)\n",
    "        gcn_out = gcn_out.view(batch_size, num_windows, nodes, -1)  # shape: (batch_size, num_windows, 19, 32)\n",
    "\n",
    "        # Flatten each window and pass through fully connected layer\n",
    "        windows_flat = gcn_out.view(batch_size, num_windows, -1)  # shape: (batch_size, num_windows, 19 * 32)\n",
    "        \n",
    "        # Make the tensor contiguous before passing to FC layer\n",
    "        windows_flat = windows_flat.contiguous()\n",
    "        windows_flat = F.gelu(self.fc(windows_flat))  # shape: (batch_size, num_windows, 128)\n",
    "\n",
    "        # Apply BiLSTM\n",
    "        lstm_out, _ = self.bilstm(windows_flat)  # shape: (batch_size, num_windows, lstm_hidden_size * 2)\n",
    "\n",
    "        # Apply Attention\n",
    "        weighted_attention = self.attention(lstm_out) # shape: (batch_size, lstm_hidden_size * 2)\n",
    "        \n",
    "        # Final output layer\n",
    "        out = self.output_layer(weighted_attention)  # shape: (batch_size, output_size)\n",
    "\n",
    "        return out\n"
   ]
  },
  {
   "cell_type": "code",
   "execution_count": 6,
   "id": "ec90d90e",
   "metadata": {},
   "outputs": [
    {
     "data": {
      "text/plain": [
       "CombinedModel(\n",
       "  (sliding_window): SlidingWindowBatch()\n",
       "  (projection): Linear(in_features=125, out_features=64, bias=True)\n",
       "  (gcn): GCNLayer(\n",
       "    (gcn1): GCNConv(64, 32)\n",
       "    (gcn2): GCNConv(32, 32)\n",
       "    (activation): GELU(approximate='none')\n",
       "  )\n",
       "  (fc): Linear(in_features=608, out_features=128, bias=True)\n",
       "  (bilstm): LSTM(128, 128, num_layers=3, batch_first=True, dropout=0.5)\n",
       "  (attention): TemporalAttention(\n",
       "    (attention_mlp): Linear(in_features=128, out_features=64, bias=True)\n",
       "  )\n",
       "  (output_layer): Linear(in_features=128, out_features=1, bias=True)\n",
       ")"
      ]
     },
     "execution_count": 6,
     "metadata": {},
     "output_type": "execute_result"
    }
   ],
   "source": [
    "device = torch.device('cuda')\n",
    "MAX_DIST = 1\n",
    "NUM_EPOCHS = 100\n",
    "model = CombinedModel(gcn_in_features=64, gcn_out_features=32, output_size=1, window_size=125, step_size=62, lstm_input_size=128, lstm_hidden_size=128, attention_dim=64)\n",
    "model.to(device)"
   ]
  },
  {
   "cell_type": "code",
   "execution_count": 7,
   "id": "254b5b86",
   "metadata": {},
   "outputs": [
    {
     "data": {
      "text/plain": [
       "493889"
      ]
     },
     "execution_count": 7,
     "metadata": {},
     "output_type": "execute_result"
    }
   ],
   "source": [
    "count_parameters(model)"
   ]
  },
  {
   "cell_type": "code",
   "execution_count": 8,
   "id": "71469d6e",
   "metadata": {},
   "outputs": [],
   "source": [
    "# You can change the signal_transform, or remove it completely\n",
    "dataset_tr = EEGDataset(\n",
    "    clips_tr,\n",
    "    signals_root=DATA_ROOT / \"train\",\n",
    "    #signal_transform=normalize_z_score,\n",
    "    prefetch=True,  # If your compute does not allow it, you can use `prefetch=False`\n",
    ")"
   ]
  },
  {
   "cell_type": "code",
   "execution_count": 9,
   "id": "faa3e7b6",
   "metadata": {},
   "outputs": [],
   "source": [
    "device = torch.device('cuda')\n",
    "\n",
    "distance_matrix = torch.tensor(pd.read_csv('distances_3d.csv').pivot(index='from', columns='to', values='distance').to_numpy(),device=device,dtype=torch.float32)\n",
    "adjacency = (distance_matrix <= MAX_DIST).int()# - torch.eye(19).to(device)\n",
    "edge_index = torch.argwhere(adjacency==1).transpose(-1,-2).to(torch.long)\n",
    "\n",
    "#train_set, test_set, val_set = torch.utils.data.random_split(dataset_tr,[0.7,0.2,0.1])\n",
    "train_set, val_set = torch.utils.data.random_split(dataset_tr,[0.9,0.1])\n",
    "\n",
    "#Check worker_init_fn\n",
    "loader_tr = DataLoader(train_set, batch_size=512, shuffle=True, num_workers=0)\n",
    "loader_val = DataLoader(val_set, batch_size=512, shuffle=True, num_workers=0)\n",
    "#loader_ts = DataLoader(test_set, batch_size=512, shuffle=True, num_workers=0)\n",
    "\n",
    "# positives = 0\n",
    "# negatives = 0\n",
    "# for idx, data in enumerate(loader_tr):\n",
    "#     positives += data[1].sum()\n",
    "#     negatives += len(data[1]) - data[1].sum()\n",
    "\n",
    "# pos_weight = negatives / positives\n",
    "# pos_weight_tensor = torch.tensor([pos_weight]).to(torch.float32).to(device)\n",
    "\n",
    "optimizer = optim.Adam(model.parameters(), lr=1e-3, weight_decay=0)\n",
    "\n",
    "# criterion = torch.nn.BCEWithLogitsLoss(pos_weight=pos_weight_tensor)\n",
    "criterion = torch.nn.BCEWithLogitsLoss()"
   ]
  },
  {
   "cell_type": "code",
   "execution_count": 10,
   "id": "059690be",
   "metadata": {},
   "outputs": [
    {
     "name": "stderr",
     "output_type": "stream",
     "text": [
      "Epoch 1: 100%|██████████| 23/23 [00:03<00:00,  6.60it/s]\n",
      "Epoch 2: 100%|██████████| 23/23 [00:02<00:00,  8.07it/s]\n",
      "Epoch 3: 100%|██████████| 23/23 [00:02<00:00,  8.12it/s]\n",
      "Epoch 4: 100%|██████████| 23/23 [00:02<00:00,  8.13it/s]\n"
     ]
    },
    {
     "name": "stdout",
     "output_type": "stream",
     "text": [
      "✅ Best model saved with F1: 0.3404 as models/gcn_lstm/best_model.pt\n"
     ]
    },
    {
     "name": "stderr",
     "output_type": "stream",
     "text": [
      "Epoch 5: 100%|██████████| 23/23 [00:02<00:00,  8.10it/s]\n"
     ]
    },
    {
     "name": "stdout",
     "output_type": "stream",
     "text": [
      "✅ Best model saved with F1: 0.4297 as models/gcn_lstm/best_model.pt\n"
     ]
    },
    {
     "name": "stderr",
     "output_type": "stream",
     "text": [
      "Epoch 6: 100%|██████████| 23/23 [00:02<00:00,  8.13it/s]\n"
     ]
    },
    {
     "name": "stdout",
     "output_type": "stream",
     "text": [
      "✅ Best model saved with F1: 0.5042 as models/gcn_lstm/best_model.pt\n"
     ]
    },
    {
     "name": "stderr",
     "output_type": "stream",
     "text": [
      "Epoch 7: 100%|██████████| 23/23 [00:02<00:00,  8.14it/s]\n"
     ]
    },
    {
     "name": "stdout",
     "output_type": "stream",
     "text": [
      "✅ Best model saved with F1: 0.5136 as models/gcn_lstm/best_model.pt\n"
     ]
    },
    {
     "name": "stderr",
     "output_type": "stream",
     "text": [
      "Epoch 8: 100%|██████████| 23/23 [00:02<00:00,  8.04it/s]\n",
      "Epoch 9: 100%|██████████| 23/23 [00:02<00:00,  8.13it/s]\n"
     ]
    },
    {
     "name": "stdout",
     "output_type": "stream",
     "text": [
      "✅ Best model saved with F1: 0.5409 as models/gcn_lstm/best_model.pt\n"
     ]
    },
    {
     "name": "stderr",
     "output_type": "stream",
     "text": [
      "Epoch 10: 100%|██████████| 23/23 [00:02<00:00,  8.13it/s]\n"
     ]
    },
    {
     "name": "stdout",
     "output_type": "stream",
     "text": [
      "✅ Best model saved with F1: 0.6070 as models/gcn_lstm/best_model.pt\n"
     ]
    },
    {
     "name": "stderr",
     "output_type": "stream",
     "text": [
      "Epoch 11: 100%|██████████| 23/23 [00:02<00:00,  8.14it/s]\n",
      "Epoch 12: 100%|██████████| 23/23 [00:02<00:00,  8.15it/s]\n",
      "Epoch 13: 100%|██████████| 23/23 [00:02<00:00,  8.06it/s]\n"
     ]
    },
    {
     "name": "stdout",
     "output_type": "stream",
     "text": [
      "✅ Best model saved with F1: 0.6115 as models/gcn_lstm/best_model.pt\n"
     ]
    },
    {
     "name": "stderr",
     "output_type": "stream",
     "text": [
      "Epoch 14: 100%|██████████| 23/23 [00:02<00:00,  7.96it/s]\n",
      "Epoch 15: 100%|██████████| 23/23 [00:02<00:00,  8.08it/s]\n"
     ]
    },
    {
     "name": "stdout",
     "output_type": "stream",
     "text": [
      "✅ Best model saved with F1: 0.6221 as models/gcn_lstm/best_model.pt\n"
     ]
    },
    {
     "name": "stderr",
     "output_type": "stream",
     "text": [
      "Epoch 16: 100%|██████████| 23/23 [00:02<00:00,  8.10it/s]\n",
      "Epoch 17: 100%|██████████| 23/23 [00:02<00:00,  8.10it/s]\n"
     ]
    },
    {
     "name": "stdout",
     "output_type": "stream",
     "text": [
      "✅ Best model saved with F1: 0.6343 as models/gcn_lstm/best_model.pt\n"
     ]
    },
    {
     "name": "stderr",
     "output_type": "stream",
     "text": [
      "Epoch 18: 100%|██████████| 23/23 [00:02<00:00,  8.13it/s]\n"
     ]
    },
    {
     "name": "stdout",
     "output_type": "stream",
     "text": [
      "✅ Best model saved with F1: 0.6501 as models/gcn_lstm/best_model.pt\n"
     ]
    },
    {
     "name": "stderr",
     "output_type": "stream",
     "text": [
      "Epoch 19: 100%|██████████| 23/23 [00:02<00:00,  8.11it/s]\n",
      "Epoch 20: 100%|██████████| 23/23 [00:02<00:00,  8.11it/s]\n"
     ]
    },
    {
     "name": "stdout",
     "output_type": "stream",
     "text": [
      "✅ Best model saved with F1: 0.6523 as models/gcn_lstm/best_model.pt\n"
     ]
    },
    {
     "name": "stderr",
     "output_type": "stream",
     "text": [
      "Epoch 21: 100%|██████████| 23/23 [00:02<00:00,  8.12it/s]\n"
     ]
    },
    {
     "name": "stdout",
     "output_type": "stream",
     "text": [
      "✅ Best model saved with F1: 0.6544 as models/gcn_lstm/best_model.pt\n"
     ]
    },
    {
     "name": "stderr",
     "output_type": "stream",
     "text": [
      "Epoch 22: 100%|██████████| 23/23 [00:02<00:00,  8.11it/s]\n"
     ]
    },
    {
     "name": "stdout",
     "output_type": "stream",
     "text": [
      "✅ Best model saved with F1: 0.6620 as models/gcn_lstm/best_model.pt\n"
     ]
    },
    {
     "name": "stderr",
     "output_type": "stream",
     "text": [
      "Epoch 23: 100%|██████████| 23/23 [00:02<00:00,  8.12it/s]\n",
      "Epoch 24: 100%|██████████| 23/23 [00:02<00:00,  8.11it/s]\n",
      "Epoch 25: 100%|██████████| 23/23 [00:02<00:00,  8.11it/s]\n"
     ]
    },
    {
     "name": "stdout",
     "output_type": "stream",
     "text": [
      "✅ Best model saved with F1: 0.6712 as models/gcn_lstm/best_model.pt\n"
     ]
    },
    {
     "name": "stderr",
     "output_type": "stream",
     "text": [
      "Epoch 26: 100%|██████████| 23/23 [00:02<00:00,  8.12it/s]\n"
     ]
    },
    {
     "name": "stdout",
     "output_type": "stream",
     "text": [
      "✅ Best model saved with F1: 0.6846 as models/gcn_lstm/best_model.pt\n"
     ]
    },
    {
     "name": "stderr",
     "output_type": "stream",
     "text": [
      "Epoch 27: 100%|██████████| 23/23 [00:02<00:00,  8.12it/s]\n",
      "Epoch 28: 100%|██████████| 23/23 [00:02<00:00,  8.14it/s]\n",
      "Epoch 29: 100%|██████████| 23/23 [00:02<00:00,  8.12it/s]\n",
      "Epoch 30: 100%|██████████| 23/23 [00:02<00:00,  8.12it/s]\n",
      "Epoch 31: 100%|██████████| 23/23 [00:02<00:00,  8.08it/s]\n",
      "Epoch 32: 100%|██████████| 23/23 [00:02<00:00,  8.14it/s]\n",
      "Epoch 33: 100%|██████████| 23/23 [00:02<00:00,  8.15it/s]\n",
      "Epoch 34: 100%|██████████| 23/23 [00:02<00:00,  8.14it/s]\n",
      "Epoch 35: 100%|██████████| 23/23 [00:02<00:00,  8.13it/s]\n",
      "Epoch 36: 100%|██████████| 23/23 [00:02<00:00,  8.14it/s]\n"
     ]
    },
    {
     "name": "stdout",
     "output_type": "stream",
     "text": [
      "✅ Best model saved with F1: 0.6859 as models/gcn_lstm/best_model.pt\n"
     ]
    },
    {
     "name": "stderr",
     "output_type": "stream",
     "text": [
      "Epoch 37: 100%|██████████| 23/23 [00:02<00:00,  8.12it/s]\n",
      "Epoch 38: 100%|██████████| 23/23 [00:02<00:00,  8.11it/s]\n"
     ]
    },
    {
     "name": "stdout",
     "output_type": "stream",
     "text": [
      "✅ Best model saved with F1: 0.6998 as models/gcn_lstm/best_model.pt\n"
     ]
    },
    {
     "name": "stderr",
     "output_type": "stream",
     "text": [
      "Epoch 39: 100%|██████████| 23/23 [00:02<00:00,  8.10it/s]\n",
      "Epoch 40: 100%|██████████| 23/23 [00:02<00:00,  8.14it/s]\n",
      "Epoch 41: 100%|██████████| 23/23 [00:02<00:00,  8.12it/s]\n",
      "Epoch 42: 100%|██████████| 23/23 [00:02<00:00,  8.12it/s]\n",
      "Epoch 43: 100%|██████████| 23/23 [00:02<00:00,  8.12it/s]\n",
      "Epoch 44: 100%|██████████| 23/23 [00:02<00:00,  8.15it/s]\n",
      "Epoch 45: 100%|██████████| 23/23 [00:02<00:00,  8.16it/s]\n",
      "Epoch 46: 100%|██████████| 23/23 [00:02<00:00,  8.13it/s]\n",
      "Epoch 47: 100%|██████████| 23/23 [00:02<00:00,  8.16it/s]\n",
      "Epoch 48: 100%|██████████| 23/23 [00:02<00:00,  8.13it/s]\n"
     ]
    },
    {
     "name": "stdout",
     "output_type": "stream",
     "text": [
      "✅ Best model saved with F1: 0.7051 as models/gcn_lstm/best_model.pt\n"
     ]
    },
    {
     "name": "stderr",
     "output_type": "stream",
     "text": [
      "Epoch 49: 100%|██████████| 23/23 [00:02<00:00,  8.14it/s]\n",
      "Epoch 50: 100%|██████████| 23/23 [00:02<00:00,  8.00it/s]\n",
      "Epoch 51: 100%|██████████| 23/23 [00:02<00:00,  8.11it/s]\n",
      "Epoch 52: 100%|██████████| 23/23 [00:02<00:00,  8.06it/s]\n",
      "Epoch 53: 100%|██████████| 23/23 [00:02<00:00,  8.14it/s]\n",
      "Epoch 54: 100%|██████████| 23/23 [00:02<00:00,  8.14it/s]\n",
      "Epoch 55: 100%|██████████| 23/23 [00:02<00:00,  8.04it/s]\n",
      "Epoch 56: 100%|██████████| 23/23 [00:02<00:00,  8.14it/s]\n"
     ]
    },
    {
     "name": "stdout",
     "output_type": "stream",
     "text": [
      "✅ Best model saved with F1: 0.7078 as models/gcn_lstm/best_model.pt\n"
     ]
    },
    {
     "name": "stderr",
     "output_type": "stream",
     "text": [
      "Epoch 57: 100%|██████████| 23/23 [00:02<00:00,  8.01it/s]\n",
      "Epoch 58: 100%|██████████| 23/23 [00:02<00:00,  8.13it/s]\n",
      "Epoch 59: 100%|██████████| 23/23 [00:02<00:00,  8.15it/s]\n",
      "Epoch 60: 100%|██████████| 23/23 [00:02<00:00,  8.14it/s]\n",
      "Epoch 61: 100%|██████████| 23/23 [00:02<00:00,  8.13it/s]\n",
      "Epoch 62: 100%|██████████| 23/23 [00:02<00:00,  8.14it/s]\n",
      "Epoch 63: 100%|██████████| 23/23 [00:02<00:00,  8.09it/s]\n",
      "Epoch 64: 100%|██████████| 23/23 [00:02<00:00,  8.15it/s]\n",
      "Epoch 65: 100%|██████████| 23/23 [00:02<00:00,  8.15it/s]\n",
      "Epoch 66: 100%|██████████| 23/23 [00:02<00:00,  8.10it/s]\n",
      "Epoch 67: 100%|██████████| 23/23 [00:02<00:00,  8.15it/s]\n",
      "Epoch 68: 100%|██████████| 23/23 [00:02<00:00,  8.13it/s]\n"
     ]
    },
    {
     "name": "stdout",
     "output_type": "stream",
     "text": [
      "✅ Best model saved with F1: 0.7171 as models/gcn_lstm/best_model.pt\n"
     ]
    },
    {
     "name": "stderr",
     "output_type": "stream",
     "text": [
      "Epoch 69: 100%|██████████| 23/23 [00:02<00:00,  8.13it/s]\n",
      "Epoch 70: 100%|██████████| 23/23 [00:02<00:00,  8.10it/s]\n",
      "Epoch 71: 100%|██████████| 23/23 [00:02<00:00,  8.14it/s]\n"
     ]
    },
    {
     "name": "stdout",
     "output_type": "stream",
     "text": [
      "✅ Best model saved with F1: 0.7210 as models/gcn_lstm/best_model.pt\n"
     ]
    },
    {
     "name": "stderr",
     "output_type": "stream",
     "text": [
      "Epoch 72: 100%|██████████| 23/23 [00:02<00:00,  8.13it/s]\n",
      "Epoch 73: 100%|██████████| 23/23 [00:02<00:00,  8.15it/s]\n",
      "Epoch 74: 100%|██████████| 23/23 [00:02<00:00,  8.13it/s]\n",
      "Epoch 75: 100%|██████████| 23/23 [00:02<00:00,  8.11it/s]\n",
      "Epoch 76: 100%|██████████| 23/23 [00:02<00:00,  8.09it/s]\n",
      "Epoch 77: 100%|██████████| 23/23 [00:02<00:00,  8.12it/s]\n",
      "Epoch 78: 100%|██████████| 23/23 [00:02<00:00,  8.12it/s]\n",
      "Epoch 79: 100%|██████████| 23/23 [00:02<00:00,  8.11it/s]\n",
      "Epoch 80: 100%|██████████| 23/23 [00:02<00:00,  8.05it/s]\n",
      "Epoch 81: 100%|██████████| 23/23 [00:02<00:00,  8.07it/s]\n",
      "Epoch 82: 100%|██████████| 23/23 [00:02<00:00,  8.09it/s]\n",
      "Epoch 83: 100%|██████████| 23/23 [00:02<00:00,  8.13it/s]\n",
      "Epoch 84: 100%|██████████| 23/23 [00:02<00:00,  8.13it/s]\n",
      "Epoch 85: 100%|██████████| 23/23 [00:02<00:00,  8.10it/s]\n",
      "Epoch 86: 100%|██████████| 23/23 [00:02<00:00,  8.07it/s]\n",
      "Epoch 87: 100%|██████████| 23/23 [00:02<00:00,  7.96it/s]\n",
      "Epoch 88: 100%|██████████| 23/23 [00:02<00:00,  8.14it/s]\n",
      "Epoch 89: 100%|██████████| 23/23 [00:02<00:00,  8.13it/s]\n",
      "Epoch 90: 100%|██████████| 23/23 [00:02<00:00,  8.12it/s]\n"
     ]
    },
    {
     "name": "stdout",
     "output_type": "stream",
     "text": [
      "✅ Best model saved with F1: 0.7289 as models/gcn_lstm/best_model.pt\n"
     ]
    },
    {
     "name": "stderr",
     "output_type": "stream",
     "text": [
      "Epoch 91: 100%|██████████| 23/23 [00:02<00:00,  8.12it/s]\n",
      "Epoch 92: 100%|██████████| 23/23 [00:02<00:00,  8.07it/s]\n",
      "Epoch 93: 100%|██████████| 23/23 [00:02<00:00,  8.13it/s]\n",
      "Epoch 94: 100%|██████████| 23/23 [00:02<00:00,  8.13it/s]\n",
      "Epoch 95: 100%|██████████| 23/23 [00:02<00:00,  8.11it/s]\n",
      "Epoch 96: 100%|██████████| 23/23 [00:02<00:00,  8.12it/s]\n",
      "Epoch 97: 100%|██████████| 23/23 [00:02<00:00,  8.14it/s]\n",
      "Epoch 98: 100%|██████████| 23/23 [00:02<00:00,  8.14it/s]\n",
      "Epoch 99: 100%|██████████| 23/23 [00:02<00:00,  8.13it/s]\n",
      "Epoch 100: 100%|██████████| 23/23 [00:02<00:00,  8.09it/s]\n"
     ]
    }
   ],
   "source": [
    "metrics = train(model, NUM_EPOCHS, device, loader_tr, loader_val, optimizer, criterion, \"models/gcn_lstm\", verbose=False, edge_index=edge_index)"
   ]
  },
  {
   "cell_type": "code",
   "execution_count": 11,
   "id": "4fd9783e",
   "metadata": {},
   "outputs": [
    {
     "data": {
      "image/png": "[encoded data removed]",
      "text/plain": [
       "<Figure size 1500x1000 with 3 Axes>"
      ]
     },
     "metadata": {},
     "output_type": "display_data"
    }
   ],
   "source": [
    "display_metrics(NUM_EPOCHS, metrics)"
   ]
  },
  {
   "cell_type": "markdown",
   "id": "c221e36c",
   "metadata": {},
   "source": [
    "# Submission"
   ]
  },
  {
   "cell_type": "code",
   "execution_count": 12,
   "id": "a3540750",
   "metadata": {},
   "outputs": [],
   "source": [
    "# Create test dataset\n",
    "dataset_te = EEGDataset(\n",
    "    clips_te,  # Your test clips variable\n",
    "    signals_root=DATA_ROOT\n",
    "    / \"test\",  # Update this path if your test signals are stored elsewhere\n",
    "    #signal_transform=fft_filtering,  # You can change or remove the signal_transform as needed\n",
    "    prefetch=True,  # Set to False if prefetching causes memory issues on your compute environment\n",
    "    return_id=True,  # Return the id of each sample instead of the label\n",
    ")\n",
    "\n",
    "# Create DataLoader for the test dataset\n",
    "loader_te = DataLoader(dataset_te, batch_size=512, shuffle=False)"
   ]
  },
  {
   "cell_type": "code",
   "execution_count": 13,
   "id": "21088b1e",
   "metadata": {},
   "outputs": [
    {
     "name": "stderr",
     "output_type": "stream",
     "text": [
      "/tmp/ipykernel_1874077/3225168968.py:4: FutureWarning: You are using `torch.load` with `weights_only=False` (the current default value), which uses the default pickle module implicitly. It is possible to construct malicious pickle data which will execute arbitrary code during unpickling (See https://github.com/pytorch/pytorch/blob/main/SECURITY.md#untrusted-models for more details). In a future release, the default value for `weights_only` will be flipped to `True`. This limits the functions that could be executed during unpickling. Arbitrary objects will no longer be allowed to be loaded via this mode unless they are explicitly allowlisted by the user via `torch.serialization.add_safe_globals`. We recommend you start setting `weights_only=True` for any use case where you don't have full control of the loaded file. Please open an issue on GitHub for any issues related to this experimental feature.\n",
      "  model.load_state_dict(torch.load(\"models/gcn_lstm/best_model.pt\"))\n"
     ]
    },
    {
     "name": "stdout",
     "output_type": "stream",
     "text": [
      "Kaggle submission file generated: submission.csv\n"
     ]
    }
   ],
   "source": [
    "# Generate the submission file for Kaggle\n",
    "model = CombinedModel(gcn_in_features=64, gcn_out_features=32, output_size=1, window_size=125, step_size=62, lstm_input_size=128, lstm_hidden_size=128, attention_dim=64)\n",
    "model.to(device)\n",
    "model.load_state_dict(torch.load(\"models/gcn_lstm/best_model.pt\"))\n",
    "# Set the model to evaluation mode\n",
    "model.eval()\n",
    "\n",
    "# Lists to store sample IDs and predictions\n",
    "all_predictions = []\n",
    "all_ids = []\n",
    "\n",
    "# Disable gradient computation for inference\n",
    "with torch.no_grad():\n",
    "    for x, ids in loader_te:\n",
    "        # Assume each batch returns a tuple (x_batch, sample_id)\n",
    "        # If your dataset does not provide IDs, you can generate them based on the batch index.\n",
    "\n",
    "        # Move the input data to the device (GPU or CPU)\n",
    "        x = x.to(torch.float32).to(device)\n",
    "\n",
    "        # Perform the forward pass to get the model's output logits\n",
    "        logits = model(x, edge_index)\n",
    "\n",
    "        # Convert logits to predictions.\n",
    "        # For binary classification, threshold logits at 0 (adjust this if you use softmax or multi-class).\n",
    "        predictions = torch.round(torch.sigmoid(logits)).cpu().numpy()\n",
    "\n",
    "        # Append predictions and corresponding IDs to the lists\n",
    "        all_predictions.extend(predictions.flatten().tolist())\n",
    "        all_ids.extend(list(ids))\n",
    "\n",
    "# Create a DataFrame for Kaggle submission with the required format: \"id,label\"\n",
    "submission_df = pd.DataFrame({\"id\": all_ids, \"label\": all_predictions})\n",
    "# submission_df[\"id\"] = submission_df[\"id\"].apply(lambda x: \"_\".join([txt.replace(\"_\",\"\") for txt in x.split(\"__\")]))\n",
    "submission_df[\"label\"] = submission_df[\"label\"].astype(int)\n",
    "\n",
    "submission_df.to_csv(\"submission_gcn_lstm.csv\", index=False)\n",
    "print(\"Kaggle submission file generated: submission.csv\")"
   ]
  }
 ],
 "metadata": {
  "kernelspec": {
   "display_name": "nml",
   "language": "python",
   "name": "python3"
  },
  "language_info": {
   "codemirror_mode": {
    "name": "ipython",
    "version": 3
   },
   "file_extension": ".py",
   "mimetype": "text/x-python",
   "name": "python",
   "nbconvert_exporter": "python",
   "pygments_lexer": "ipython3",
   "version": "3.12.9"
  }
 },
 "nbformat": 4,
 "nbformat_minor": 5
}
