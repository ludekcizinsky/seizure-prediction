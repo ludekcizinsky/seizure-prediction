{
 "cells": [
  {
   "cell_type": "code",
   "execution_count": 1,
   "metadata": {},
   "outputs": [],
   "source": [
    "%load_ext autoreload\n",
    "%autoreload 2"
   ]
  },
  {
   "cell_type": "code",
   "execution_count": 10,
   "metadata": {},
   "outputs": [],
   "source": [
    "import os\n",
    "import sys\n",
    "sys.path.insert(0, \"..\")\n",
    "\n",
    "\n",
    "import hydra\n",
    "from hydra import compose, initialize\n",
    "\n",
    "from torch.utils.data import DataLoader\n",
    "import pytorch_lightning as pl\n",
    "\n",
    "from helpers.dataset import get_datasets, get_dataloaders\n",
    "from helpers.pl_module import SeizurePredictor"
   ]
  },
  {
   "cell_type": "code",
   "execution_count": 11,
   "metadata": {},
   "outputs": [],
   "source": [
    "cfgs_path = \"../configs\"\n",
    "with initialize(config_path=cfgs_path, version_base=\"1.1\"):\n",
    "    cfg = compose(config_name=\"train.yaml\", overrides=[\"model=patch_tst\", \"username=cizinsky\", \"data.batch_size=32\"])"
   ]
  },
  {
   "cell_type": "code",
   "execution_count": 4,
   "metadata": {},
   "outputs": [
    {
     "name": "stderr",
     "output_type": "stream",
     "text": [
      "Seed set to 42\n"
     ]
    }
   ],
   "source": [
    "pl.seed_everything(cfg.seed);"
   ]
  },
  {
   "cell_type": "markdown",
   "metadata": {},
   "source": [
    "### Batch and LR finder\n",
    "\n",
    "---\n",
    "\n",
    "**Motivation**. We are testing many different models of varying sizes in this project. Further, we are also testing different filtering techniques. These impact the total batch size we can afford to train with assuming a fixed GPU memory (for V100, this is 32GB). And consequently, the corresponding learning rate. Instead of trying to guess these, we can make use of automatic finder techniques provided by pytorch-lightning."
   ]
  },
  {
   "cell_type": "markdown",
   "metadata": {},
   "source": [
    "### Batch size finder"
   ]
  },
  {
   "cell_type": "markdown",
   "metadata": {},
   "source": [
    "🚨 I have tried this method, and it is extremely slow. It starts from batch size 1 and then increases by a factor of 2 until the model runs out of memory. So I would probably just find the batch size manually."
   ]
  },
  {
   "cell_type": "code",
   "execution_count": 5,
   "metadata": {},
   "outputs": [],
   "source": [
    "class LitDataModule(pl.LightningDataModule):\n",
    "    def __init__(self, batch_size):\n",
    "        super().__init__()\n",
    "        self.batch_size = batch_size\n",
    "\n",
    "    def train_dataloader(self):\n",
    "        train_dataset, _ = get_datasets(cfg)\n",
    "        return DataLoader(train_dataset, batch_size=self.batch_size, num_workers=cfg.data.num_workers)\n",
    "    \n",
    "    def val_dataloader(self):\n",
    "        _, val_dataset = get_datasets(cfg)\n",
    "        return DataLoader(val_dataset, batch_size=self.batch_size, num_workers=cfg.data.num_workers)\n",
    "\n",
    "datamodule = LitDataModule(batch_size=cfg.data.batch_size)"
   ]
  },
  {
   "cell_type": "code",
   "execution_count": 6,
   "metadata": {},
   "outputs": [],
   "source": [
    "model = hydra.utils.instantiate(cfg.model.module)\n",
    "pl_module = SeizurePredictor(cfg, model)"
   ]
  },
  {
   "cell_type": "code",
   "execution_count": null,
   "metadata": {},
   "outputs": [],
   "source": [
    "trainer = pl.Trainer(\n",
    "    default_root_dir=cfg.output_dir,\n",
    "    max_epochs=cfg.trainer.max_epochs,\n",
    "    accelerator=cfg.trainer.accelerator,\n",
    "    devices=cfg.trainer.devices,\n",
    "    deterministic=True,\n",
    "    precision=cfg.trainer.precision,\n",
    "    enable_progress_bar=False,\n",
    "    check_val_every_n_epoch=cfg.trainer.check_val_every_n_epoch,\n",
    ")"
   ]
  },
  {
   "cell_type": "code",
   "execution_count": null,
   "metadata": {},
   "outputs": [],
   "source": [
    "tuner = pl.tuner.tuning.Tuner(trainer)\n",
    "tuner.scale_batch_size(pl_module, datamodule=datamodule, mode=\"power\")"
   ]
  },
  {
   "cell_type": "markdown",
   "metadata": {},
   "source": [
    "### LR finder"
   ]
  },
  {
   "cell_type": "code",
   "execution_count": 12,
   "metadata": {},
   "outputs": [
    {
     "name": "stderr",
     "output_type": "stream",
     "text": [
      "/home/cizinsky/venvs/netml/lib/python3.10/site-packages/lightning_fabric/plugins/environments/slurm.py:204: The `srun` command is available on your system but is not used. HINT: If your intention is to run Lightning on SLURM, prepend your python command with `srun` like so: srun python3 /home/cizinsky/venvs/netml/lib/python3.10/site-pack ...\n",
      "Using default `ModelCheckpoint`. Consider installing `litmodels` package to enable `LitModelCheckpoint` for automatic upload to the Lightning model registry.\n",
      "GPU available: True (cuda), used: True\n",
      "TPU available: False, using: 0 TPU cores\n",
      "HPU available: False, using: 0 HPUs\n"
     ]
    }
   ],
   "source": [
    "\n",
    "trn_dataloader, val_dataloader = get_dataloaders(cfg)\n",
    "model = hydra.utils.instantiate(cfg.model.module)\n",
    "pl_module = SeizurePredictor(cfg, model)\n",
    "\n",
    "trainer = pl.Trainer(\n",
    "    default_root_dir=cfg.output_dir,\n",
    "    max_epochs=cfg.trainer.max_epochs,\n",
    "    accelerator=cfg.trainer.accelerator,\n",
    "    devices=cfg.trainer.devices,\n",
    "    deterministic=True,\n",
    "    precision=cfg.trainer.precision,\n",
    "    enable_progress_bar=False,\n",
    "    check_val_every_n_epoch=None\n",
    ")\n",
    "\n",
    "tuner = pl.tuner.tuning.Tuner(trainer)"
   ]
  },
  {
   "cell_type": "code",
   "execution_count": 13,
   "metadata": {},
   "outputs": [
    {
     "name": "stderr",
     "output_type": "stream",
     "text": [
      "/home/cizinsky/venvs/netml/lib/python3.10/site-packages/pytorch_lightning/trainer/configuration_validator.py:70: You defined a `validation_step` but have no `val_dataloader`. Skipping val loop.\n",
      "LOCAL_RANK: 0 - CUDA_VISIBLE_DEVICES: [0]\n"
     ]
    },
    {
     "data": {
      "application/vnd.jupyter.widget-view+json": {
       "model_id": "37cc513914f0498180b5b5ed5194b1b1",
       "version_major": 2,
       "version_minor": 0
      },
      "text/plain": [
       "Finding best initial lr:   0%|          | 0/100 [00:00<?, ?it/s]"
      ]
     },
     "metadata": {},
     "output_type": "display_data"
    },
    {
     "name": "stderr",
     "output_type": "stream",
     "text": [
      "`Trainer.fit` stopped: `max_steps=100` reached.\n",
      "Restoring states from the checkpoint path at /scratch/izar/cizinsky/netml/outputs/.lr_find_26bc6bbd-2f3f-4238-bd5b-3cd98852d09f.ckpt\n",
      "Restored all states from the checkpoint at /scratch/izar/cizinsky/netml/outputs/.lr_find_26bc6bbd-2f3f-4238-bd5b-3cd98852d09f.ckpt\n"
     ]
    }
   ],
   "source": [
    "# Run learning rate finder\n",
    "lr_finder = tuner.lr_find(pl_module, trn_dataloader, min_lr=1e-6, max_lr=1e-2, num_training=100, update_attr=False)\n",
    "# Results can be found in\n",
    "# lr_finder.results"
   ]
  },
  {
   "cell_type": "code",
   "execution_count": 14,
   "metadata": {},
   "outputs": [
    {
     "name": "stdout",
     "output_type": "stream",
     "text": [
      "Suggested LR: 1.58e-03\n"
     ]
    },
    {
     "data": {
      "image/png": "[encoded data removed]",
      "text/plain": [
       "<Figure size 640x480 with 1 Axes>"
      ]
     },
     "metadata": {},
     "output_type": "display_data"
    }
   ],
   "source": [
    "# Pick point based on plot, or get suggestion\n",
    "new_suggested_lr = lr_finder.suggestion()\n",
    "\n",
    "# Print the suggested LR using scientific notation\n",
    "print(f\"Suggested LR: {new_suggested_lr:.2e}\")\n",
    "\n",
    "fig = lr_finder.plot(suggest=True)\n",
    "fig.show()"
   ]
  },
  {
   "cell_type": "code",
   "execution_count": null,
   "metadata": {},
   "outputs": [],
   "source": []
  }
 ],
 "metadata": {
  "language_info": {
   "name": "python"
  }
 },
 "nbformat": 4,
 "nbformat_minor": 2
}
